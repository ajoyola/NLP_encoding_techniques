{
  "nbformat": 4,
  "nbformat_minor": 0,
  "metadata": {
    "colab": {
      "name": "Oyola_Assignment_2.ipynb",
      "provenance": [],
      "collapsed_sections": [],
      "toc_visible": true
    },
    "kernelspec": {
      "name": "python3",
      "display_name": "Python 3"
    }
  },
  "cells": [
    {
      "cell_type": "markdown",
      "metadata": {
        "id": "gWw2cPzcovZz"
      },
      "source": [
        "# Assignment 2\n",
        "\n",
        "**Due to**: 9th November, 2020\n",
        "\n",
        "**Credits**: Andrea Galassi, Federico Ruggeri, Paolo Torroni\n",
        "\n",
        "**Summary**: Word embeddings, from sparse to dense representations"
      ]
    },
    {
      "cell_type": "markdown",
      "metadata": {
        "id": "1xgH0v9hdTKa"
      },
      "source": [
        "# Intro\n",
        "\n",
        "In this assignment we will explore text encoding techniques, spanning from sparse representations, such as bag-of-words, to dense representations.\n",
        "\n",
        "In particular, we will see:\n",
        "\n",
        "*   Building a vocabulary\n",
        "*   Building a word-word co-occurrence matrix\n",
        "*   Defining a similarity metric: cosine similarity\n",
        "*   Embedding visualization and analysis of their semantic properties\n",
        "*   Better sparse representations via PPMI weighting\n",
        "*   Loading pre-trained dense word embeddings (Word2Vec, GloVe)\n",
        "*   Checking out-of-vocabulary (OOV) terms\n",
        "*   Handling OOV terms\n",
        "\n"
      ]
    },
    {
      "cell_type": "markdown",
      "metadata": {
        "id": "uUQAeC3gqKhJ"
      },
      "source": [
        "# Initial Setup\n",
        "\n",
        "First of all, we need to import some useful packages that we will use during this hands-on session."
      ]
    },
    {
      "cell_type": "code",
      "metadata": {
        "id": "7_zjgza4qZYE"
      },
      "source": [
        "# system packages\n",
        "import os\n",
        "import shutil\n",
        "import sys\n",
        "\n",
        "# data and numerical management packages\n",
        "import pandas as pd\n",
        "import numpy as np\n",
        "\n",
        "# useful during debugging (progress bars)\n",
        "from tqdm import tqdm"
      ],
      "execution_count": 2,
      "outputs": []
    },
    {
      "cell_type": "markdown",
      "metadata": {
        "id": "rI_8CixDqhcm"
      },
      "source": [
        "# [Part I] Sparse embeddings\n",
        "\n",
        "As you know, working with text inherently requires a conversion step, formally known as embedding, that simply allows us to pass from string-like text to corresponding numerical representation. \n",
        "\n",
        "One of the most notable embedding method is the bag-of-words one (BoW). We simply count the occurrence of each word in the given corpus so as to build some useful data structures (matrices) that may give us some general idea of how the dataset is organized. For example, we can check where a particular word appears or, in a reversed perspective, identify the most common terms in each given document.\n",
        "\n",
        "This type of reasoning is directly related to how meaning is assigned to words. In particular, it is the environment itself, enclosing a word, that gives a specific meaning to it. Thus, we look for numerical encoding methods that reflect such point of view.\n",
        "\n",
        "Before diving into embedding analysis, we need to prepare a dataset and, most importantly, extract a vocabulary!"
      ]
    },
    {
      "cell_type": "markdown",
      "metadata": {
        "id": "3MmTNaGpv6L_"
      },
      "source": [
        "## Prepare a dataset for experiments\n",
        "\n",
        "We will use the IMDB dataset of previous assignment. As you already know, it is a dataset of 50k sentences used for sentiment analysis. In particular, half of them (25k) is labelled as containing positive sentiment, whereas the remaining half are sentences of negative polarity.\n",
        "\n",
        "Contrarily to first assignment, we will ignore sentiment labels and we will focus only on learning a proper word embedding representation."
      ]
    },
    {
      "cell_type": "markdown",
      "metadata": {
        "id": "mWWAMPeTzfSh"
      },
      "source": [
        "### Download and extraction\n",
        "\n",
        "We start by downloading the dataset and extract it to a folder."
      ]
    },
    {
      "cell_type": "code",
      "metadata": {
        "id": "6VphzaMCxZps",
        "outputId": "eb146bd3-b74e-434a-e794-6e0ef715a237",
        "colab": {
          "base_uri": "https://localhost:8080/"
        }
      },
      "source": [
        "from urllib import request\n",
        "import tarfile\n",
        "\n",
        "# Config\n",
        "print(\"Current work directory: {}\".format(os.getcwd()))\n",
        "\n",
        "dataset_folder = os.path.join(os.getcwd(), \"Datasets\")\n",
        "\n",
        "if not os.path.exists(dataset_folder):\n",
        "    os.makedirs(dataset_folder)\n",
        "\n",
        "url = \"http://ai.stanford.edu/~amaas/data/sentiment/aclImdb_v1.tar.gz\"\n",
        "\n",
        "dataset_path = os.path.join(dataset_folder, \"Movies.tar.gz\")\n",
        "\n",
        "print(dataset_path)\n",
        "\n",
        "def download_dataset(download_path, url):\n",
        "    if not os.path.exists(download_path):\n",
        "        print(\"Downloading dataset...\")\n",
        "        request.urlretrieve(url, download_path)\n",
        "        print(\"Download complete!\")\n",
        "\n",
        "def extract_dataset(download_path, extract_path):\n",
        "    print(\"Extracting dataset... (it may take a while...)\")\n",
        "    with tarfile.open(download_path) as loaded_tar:\n",
        "        loaded_tar.extractall(extract_path)\n",
        "    print(\"Extraction completed!\")\n",
        "\n",
        "# Download\n",
        "download_dataset(dataset_path, url)\n",
        "\n",
        "# Extraction\n",
        "extract_dataset(dataset_path, dataset_folder)\n"
      ],
      "execution_count": 3,
      "outputs": [
        {
          "output_type": "stream",
          "text": [
            "Current work directory: /content\n",
            "/content/Datasets/Movies.tar.gz\n",
            "Extracting dataset... (it may take a while...)\n",
            "Extraction completed!\n"
          ],
          "name": "stdout"
        }
      ]
    },
    {
      "cell_type": "markdown",
      "metadata": {
        "id": "Naaatxml3idO"
      },
      "source": [
        "Feel free to check the dataset folder content. Usually, the README file is a good starting point (if it exists and its well done, which is not so common!).\n",
        "\n",
        "Just like in the first assignment, we need a high level view of the dataset that is helpful to our needs. Thus, we will encode the dataset into a [pandas DataFrame](https://pandas.pydata.org/pandas-docs/stable/reference/api/pandas.DataFrame.html)."
      ]
    },
    {
      "cell_type": "code",
      "metadata": {
        "id": "WvPbnTfOSvbT",
        "outputId": "06473133-c033-40c4-898c-9ed0094eaafb",
        "colab": {
          "base_uri": "https://localhost:8080/"
        }
      },
      "source": [
        "\n",
        "# Config\n",
        "dataset_name = \"aclImdb\"\n",
        "debug = True\n",
        "\n",
        "def encode_dataset(dataset_name, debug=True):\n",
        "    dataframe_rows = []\n",
        "\n",
        "    for split in tqdm(['train', 'test']):\n",
        "        for sentiment in ['pos', 'neg']:\n",
        "            folder = os.path.join(os.getcwd(), \"Datasets\", dataset_name, split, sentiment)\n",
        "            for filename in os.listdir(folder):\n",
        "                file_path = os.path.join(folder, filename)\n",
        "                try:\n",
        "                    if os.path.isfile(file_path):\n",
        "                        # open the file\n",
        "                        with open(file_path, mode='r', encoding='utf-8') as text_file:\n",
        "                            # read it and extract informations\n",
        "                            text = text_file.read()\n",
        "                            score = filename.split(\"_\")[1].split(\".\")[0]\n",
        "                            file_id = filename.split(\"_\")[0]\n",
        "\n",
        "                            num_sentiment = -1\n",
        "\n",
        "                            if sentiment == \"pos\" : num_sentiment = 1\n",
        "                            elif sentiment == \"neg\" : num_sentiment = 0\n",
        "\n",
        "                            # create single dataframe row\n",
        "                            dataframe_row = {\n",
        "                                \"file_id\": file_id,\n",
        "                                \"score\": score,\n",
        "                                \"sentiment\": num_sentiment,\n",
        "                                \"split\": split,\n",
        "                                \"text\": text\n",
        "                            }\n",
        "\n",
        "                            # print detailed info for the first file\n",
        "                            if debug:\n",
        "                                print(file_path)\n",
        "                                print(filename)\n",
        "                                print(file_id)\n",
        "                                print(text)\n",
        "                                print(score)\n",
        "                                print(sentiment)\n",
        "                                print(split)\n",
        "                                print(dataframe_row)\n",
        "                                debug = False\n",
        "                            dataframe_rows.append(dataframe_row)\n",
        "\n",
        "                except Exception as e:\n",
        "                    print('Failed to process %s. Reason: %s' % (file_path, e))\n",
        "                    sys.exit(0)\n",
        "\n",
        "    folder = os.path.join(os.getcwd(), \"Datasets\", \"Dataframes\", dataset_name)\n",
        "    if not os.path.exists(folder):\n",
        "        os.makedirs(folder)\n",
        "\n",
        "    # transform the list of rows in a proper dataframe\n",
        "    df = pd.DataFrame(dataframe_rows)\n",
        "    df = df[[\"file_id\",\n",
        "                        \"score\",\n",
        "                        \"sentiment\",\n",
        "                        \"split\",\n",
        "                        \"text\"]]\n",
        "    dataframe_path = os.path.join(folder, dataset_name + \".pkl\")\n",
        "    df.to_pickle(dataframe_path)\n",
        "\n",
        "    return df\n",
        "\n",
        "\n",
        "# Encoding\n",
        "print(\"Encoding dataset...\")\n",
        "df = encode_dataset(dataset_name, debug)\n",
        "print(\"Encoding completed!\")"
      ],
      "execution_count": 4,
      "outputs": [
        {
          "output_type": "stream",
          "text": [
            "\r  0%|          | 0/2 [00:00<?, ?it/s]"
          ],
          "name": "stderr"
        },
        {
          "output_type": "stream",
          "text": [
            "Encoding dataset...\n",
            "/content/Datasets/aclImdb/train/pos/3463_7.txt\n",
            "3463_7.txt\n",
            "3463\n",
            "I am a big Beatles fan. My favorite Beatle is Paul and my least favorite is John. I already knew quite a bit about the Beatles music and the truth behind the breakup, as well as things like John Lennon's family and Paul's band Wings. I was curious to see how this movie would handle the relationship between John and Paul so many years after the breakup.<br /><br />I was not disappointed by this movie. Although the story itself is fiction, many of the references that the two musicians used were very accurate. These included how Yoko Ono would always be with John wherever he went, the Wings song \"Silly Love Songs\" being the number one hit that year and the concert on the roof of Apple Studios playing music from the album \"Let It Be.\"<br /><br />The actors did a very good job in playing John and Paul. The accents could had used maybe a bit more work, but they seemed to act a lot like I've read the two former-Beatles used to act like. I also liked the dialogue between them, which was basically what the entire movie was.<br /><br />The ending at first disappointed me, but the more you think about it the more you will appreciate it, especially since this was how it really went in real life. They also show the fantastic skit from \"Saturday Night Live\" in which the Beatles are offered $3,000 to perform on the show. (as compared to the $220 million others were offering them) Overall, I was not disappointed with this movie. It does really give you more of a feel for why the Beatles broke up and why they never got back together.\n",
            "7\n",
            "pos\n",
            "train\n",
            "{'file_id': '3463', 'score': '7', 'sentiment': 1, 'split': 'train', 'text': 'I am a big Beatles fan. My favorite Beatle is Paul and my least favorite is John. I already knew quite a bit about the Beatles music and the truth behind the breakup, as well as things like John Lennon\\'s family and Paul\\'s band Wings. I was curious to see how this movie would handle the relationship between John and Paul so many years after the breakup.<br /><br />I was not disappointed by this movie. Although the story itself is fiction, many of the references that the two musicians used were very accurate. These included how Yoko Ono would always be with John wherever he went, the Wings song \"Silly Love Songs\" being the number one hit that year and the concert on the roof of Apple Studios playing music from the album \"Let It Be.\"<br /><br />The actors did a very good job in playing John and Paul. The accents could had used maybe a bit more work, but they seemed to act a lot like I\\'ve read the two former-Beatles used to act like. I also liked the dialogue between them, which was basically what the entire movie was.<br /><br />The ending at first disappointed me, but the more you think about it the more you will appreciate it, especially since this was how it really went in real life. They also show the fantastic skit from \"Saturday Night Live\" in which the Beatles are offered $3,000 to perform on the show. (as compared to the $220 million others were offering them) Overall, I was not disappointed with this movie. It does really give you more of a feel for why the Beatles broke up and why they never got back together.'}\n"
          ],
          "name": "stdout"
        },
        {
          "output_type": "stream",
          "text": [
            "100%|██████████| 2/2 [00:01<00:00,  1.06it/s]\n"
          ],
          "name": "stderr"
        },
        {
          "output_type": "stream",
          "text": [
            "Encoding completed!\n"
          ],
          "name": "stdout"
        }
      ]
    },
    {
      "cell_type": "markdown",
      "metadata": {
        "id": "eHCroMaDdQdB"
      },
      "source": [
        "### Loading and Visualization\n",
        "\n",
        "The next step is to load the dataset and inspect some of its elements in order to have an idea of the general content. We will use **pandas** library for dataset loading as follows."
      ]
    },
    {
      "cell_type": "code",
      "metadata": {
        "id": "9itQUTUA3e_C",
        "outputId": "c383fe16-2d43-43c7-c87f-e532cb8a3124",
        "colab": {
          "base_uri": "https://localhost:8080/"
        }
      },
      "source": [
        "# Inspection\n",
        "\n",
        "print(\"Dataset size: {}\".format(df.shape)) # (50000, 5)\n",
        "print(\"Dataset columns: {}\".format(df.columns.values)) # ['file_id', 'score', 'sentiment', 'split', 'text]\n",
        "\n",
        "print(\"Classes distribution:\\n{}\".format(df.sentiment.value_counts())) # [0: 25000, 1: 25000]\n",
        "\n",
        "print(\"Some examples: {}\".format(df.iloc[:5]))"
      ],
      "execution_count": null,
      "outputs": [
        {
          "output_type": "stream",
          "text": [
            "Dataset size: (50000, 5)\n",
            "Dataset columns: ['file_id' 'score' 'sentiment' 'split' 'text']\n",
            "Classes distribution:\n",
            "1    25000\n",
            "0    25000\n",
            "Name: sentiment, dtype: int64\n",
            "Some examples:   file_id score  ...  split                                               text\n",
            "0    3463     7  ...  train  I am a big Beatles fan. My favorite Beatle is ...\n",
            "1    6958     7  ...  train  Of those comments here before mine, I mostly a...\n",
            "2   11188    10  ...  train  I am a big fan of Stephen King's work, and thi...\n",
            "3    5038    10  ...  train  What a real treat and quite unexpected. This i...\n",
            "4    8880     8  ...  train  Of life in (some) colleges. Of course there we...\n",
            "\n",
            "[5 rows x 5 columns]\n"
          ],
          "name": "stdout"
        }
      ]
    },
    {
      "cell_type": "markdown",
      "metadata": {
        "id": "QuuACGZs5fLS"
      },
      "source": [
        "Feel free to inspect the dataset as you wish in the following code space!"
      ]
    },
    {
      "cell_type": "code",
      "metadata": {
        "id": "svU6BZUf5jCH",
        "outputId": "220e5047-5107-488e-d2d1-f41c1a725183",
        "colab": {
          "base_uri": "https://localhost:8080/",
          "height": 612
        }
      },
      "source": [
        "\"\"\" YOUR CODE HERE \"\"\"\n",
        "print(\"A short description of the scores: {}\\n\".format(df['score'].describe()))\n",
        "print(\"Distribution of the scores: {}\\n\".format(df.score.value_counts()))\n",
        "print(\"Distribution of data based on Sentiment: {}\\n\".format(df['split'].hist()))\n",
        "print(\"Distribution of data based on Reviews: {}\\n\".format(df['score'].hist()))"
      ],
      "execution_count": null,
      "outputs": [
        {
          "output_type": "stream",
          "text": [
            "A short description of the scores: count     50000\n",
            "unique        8\n",
            "top           1\n",
            "freq      10122\n",
            "Name: score, dtype: object\n",
            "\n",
            "Distribution of the scores: 1     10122\n",
            "10     9731\n",
            "8      5859\n",
            "4      5331\n",
            "3      4961\n",
            "7      4803\n",
            "9      4607\n",
            "2      4586\n",
            "Name: score, dtype: int64\n",
            "\n",
            "Distribution of data based on Sentiment: AxesSubplot(0.125,0.125;0.775x0.755)\n",
            "\n",
            "Distribution of data based on Reviews: AxesSubplot(0.125,0.125;0.775x0.755)\n",
            "\n"
          ],
          "name": "stdout"
        },
        {
          "output_type": "display_data",
          "data": {
            "image/png": "[encoded data removed]",
            "text/plain": [
              "<Figure size 432x288 with 1 Axes>"
            ]
          },
          "metadata": {
            "tags": [],
            "needs_background": "light"
          }
        }
      ]
    },
    {
      "cell_type": "markdown",
      "metadata": {
        "id": "wTYo05YVeu7e"
      },
      "source": [
        "### [Optional] A quick simplification\n",
        "\n",
        "Since the dataset is quite large, the embedding related methods, such as co-occurrence matrix construction, may take a while or may require ad hoc solutions. For instance, if we consider the whole dataset (50k sentences) the vocabulary should be around 160k terms and we don't have sufficient memory to load a (160k, 160k) co-occurrence matrix.\n",
        "\n",
        "For the purpose of this assignment, we can rely on a small slice of the dataset.\n",
        "In this way, we can get results in small amount of time. Nonetheless, feel free\n",
        "to work with the whole dataset! Suggestions on how to handle this scenario are\n",
        "given below when required.\n",
        "\n",
        "Select the amount of dataset samples you want to keep and re-define the dataset as follows."
      ]
    },
    {
      "cell_type": "code",
      "metadata": {
        "id": "AyghmotufcFe",
        "outputId": "21ddf8ce-fd73-418a-fd71-2668689f2bfa",
        "colab": {
          "base_uri": "https://localhost:8080/"
        }
      },
      "source": [
        "samples_amount = 500\n",
        "\n",
        "# This type of slicing is not mandatory,\n",
        "# but it is sufficient to our purposes\n",
        "np.random.seed(42)\n",
        "random_indexes = np.random.choice(np.arange(df.shape[0]),\n",
        "                                  size=samples_amount,\n",
        "                                  replace=False)\n",
        "df = df.iloc[random_indexes]\n",
        "\n",
        "print('New dataset size: ', df.shape)"
      ],
      "execution_count": 5,
      "outputs": [
        {
          "output_type": "stream",
          "text": [
            "New dataset size:  (500, 5)\n"
          ],
          "name": "stdout"
        }
      ]
    },
    {
      "cell_type": "markdown",
      "metadata": {
        "id": "ohww_Fda5wR-"
      },
      "source": [
        "## Building the Vocabulary\n",
        "\n",
        "At this point we can build the word vocabulary of our dataset. This information is the first step of any word embedding method: we need to know the set of atomic entities that build up our corpus.\n",
        "\n",
        "**Definition**: a vocabulary is a collection of words occurring in a given dataset. More precisely, each word is recognized and assigned an index.\n",
        "\n",
        "**Example**: Suppose you have the given toy corpus $D$: { \"the cat is on the table\" }\n",
        "\n",
        "As you notice, the dataset is comprised of only one sentence: \"the cat is on the table\". The corresponding vocabulary (a possible one) will be:\n",
        "\n",
        "V = {0: 'the', 1: 'cat', 2: 'is', 3: 'on', 4: 'table'}\n",
        "\n",
        "In this case, indexing follows word order, but it is not mandatory!\n",
        "\n",
        "**Important**: The most important thing to remember is that the vocabulary should always be the same one. Thus, make sure that the vocabulary creation routine always returns the same result!\n",
        "\n"
      ]
    },
    {
      "cell_type": "markdown",
      "metadata": {
        "id": "VYOu4FV067O_"
      },
      "source": [
        "### Some Cleaning\n",
        "\n",
        "Before vocabulary creation, we have to do a little bit of text pre-processing so as to avoid spurious data.\n",
        "\n",
        "Pre-processing is always an important step in any machine learning based task, since data quality is one of the crucial factors that lead to better performance. Models, even state-of-the-art ones, hardly achieve satisfying results if the dataset is very noisy.\n",
        "\n",
        "**Types of pre-processing**: there are a lot of pre-processing steps that we can consider, either general or quite task- specific. Here we will rely on very standard and simple methods.\n",
        "\n",
        "*    **Text to lower**: casing usually doesn't affect our task, but in some scenarios, such as part-of-speech tagging, might even be crucial.\n",
        "\n",
        "*    **Replace special characters**: special characters are usually employed as variants of a single character like the spacing symbol ' '. \n",
        "In other cases (dates, etc..) special characters might have a specific meaning and should not be replaced.\n",
        "\n",
        "*    **Text stripping**: it is important to filter out extra spaces to avoid unwanted distinctions between identical words, such as 'apple' and ' apple '.\n",
        "\n",
        "There are a lot of pre-processing techniques, such as number replacing, lemmatization, stemming, spell correction, acronyms merge and so on. If you are interested you can check [here](https://medium.com/swlh/text-normalization-7ecc8e084e31) and [here](https://www.kdnuggets.com/2019/04/text-preprocessing-nlp-machine-learning.html) some good blogs about the topic.\n",
        "\n",
        "**NOTE**: If you feel like there should be some additional pre-processing, feel free to modify this section as you please! Please, remember to provide additional comments to motivate your changes."
      ]
    },
    {
      "cell_type": "code",
      "metadata": {
        "id": "2TLTu0-2JQwi",
        "outputId": "3395151f-7902-4ea4-cea1-896ab709f392",
        "colab": {
          "base_uri": "https://localhost:8080/"
        }
      },
      "source": [
        "import re\n",
        "from functools import reduce\n",
        "import nltk\n",
        "from nltk.corpus import stopwords\n",
        "\n",
        "# Config\n",
        "\n",
        "REPLACE_BY_SPACE_RE = re.compile('[/(){}\\[\\]\\|@,;]')\n",
        "GOOD_SYMBOLS_RE = re.compile('[^0-9a-z #+_]')\n",
        "try:\n",
        "    STOPWORDS = set(stopwords.words('english'))\n",
        "except LookupError:\n",
        "    nltk.download('stopwords')\n",
        "    STOPWORDS = set(stopwords.words('english'))\n",
        "\n",
        "def lower(text):\n",
        "    \"\"\"\n",
        "    Transforms given text to lower case.\n",
        "    Example:\n",
        "    Input: 'I really like New York city'\n",
        "    Output: 'i really like new your city'\n",
        "    \"\"\"\n",
        "\n",
        "    return text.lower()\n",
        "\n",
        "def replace_special_characters(text):\n",
        "    \"\"\"\n",
        "    Replaces special characters, such as paranthesis,\n",
        "    with spacing character\n",
        "    \"\"\"\n",
        "\n",
        "    return REPLACE_BY_SPACE_RE.sub(' ', text)\n",
        "\n",
        "def filter_out_uncommon_symbols(text):\n",
        "    \"\"\"\n",
        "    Removes any special character that is not in the\n",
        "    good symbols list (check regular expression)\n",
        "    \"\"\"\n",
        "\n",
        "    return GOOD_SYMBOLS_RE.sub('', text)\n",
        "\n",
        "def remove_stopwords(text):\n",
        "    return ' '.join([x for x in text.split() if x and x not in STOPWORDS])\n",
        "\n",
        "\n",
        "def strip_text(text):\n",
        "    \"\"\"\n",
        "    Removes any left or right spacing (including carriage return) from text.\n",
        "    Example:\n",
        "    Input: '  This assignment is cool\\n'\n",
        "    Output: 'This assignment is cool'\n",
        "    \"\"\"\n",
        "\n",
        "    return text.strip()\n",
        "\n",
        "PREPROCESSING_PIPELINE = [\n",
        "                          lower,\n",
        "                          replace_special_characters,\n",
        "                          filter_out_uncommon_symbols,\n",
        "                          remove_stopwords,\n",
        "                          strip_text\n",
        "                          ]\n",
        "\n",
        "# Anchor method\n",
        "\n",
        "def text_prepare(text, filter_methods=None):\n",
        "    \"\"\"\n",
        "    Applies a list of pre-processing functions in sequence (reduce).\n",
        "    Note that the order is important here!\n",
        "    \"\"\"\n",
        "\n",
        "    filter_methods = filter_methods if filter_methods is not None else PREPROCESSING_PIPELINE\n",
        "\n",
        "    return reduce(lambda txt, f: f(txt), filter_methods, text)\n",
        "\n",
        "# Pre-processing\n",
        "\n",
        "print('Pre-processing text...')\n",
        "\n",
        "print()\n",
        "print('[Debug] Before:\\n{}'.format(df.text[:3]))\n",
        "print()\n",
        "\n",
        "# Replace each sentence with its pre-processed version\n",
        "df['text'] = df['text'].apply(lambda txt: text_prepare(txt))\n",
        "\n",
        "print('[Debug] After:\\n{}'.format(df.text[:3]))\n",
        "print()\n",
        "\n",
        "print(\"Pre-processing completed!\")"
      ],
      "execution_count": 6,
      "outputs": [
        {
          "output_type": "stream",
          "text": [
            "Pre-processing text...\n",
            "\n",
            "[Debug] Before:\n",
            "33553    <br /><br />eXistenZ is simply David Cronenber...\n",
            "9427     A true classic. Beautifully filmed and acted. ...\n",
            "199      Low budget Brit pop melodrama focuses on a gir...\n",
            "Name: text, dtype: object\n",
            "\n",
            "[Debug] After:\n",
            "33553    br br existenz simply david cronenbergs best m...\n",
            "9427     true classic beautifully filmed acted reveals ...\n",
            "199      low budget brit pop melodrama focuses girl wan...\n",
            "Name: text, dtype: object\n",
            "\n",
            "Pre-processing completed!\n"
          ],
          "name": "stdout"
        }
      ]
    },
    {
      "cell_type": "markdown",
      "metadata": {
        "id": "YphBz_iaMRm0"
      },
      "source": [
        "### **Vocabulary Creation**\n",
        "\n",
        "We are now ready to create the vocabulary! This task is up to you! Complete the below function and remember to follow mentioned requirements.\n",
        "\n",
        "FYI, since the text has been pre-processed, space splitting should work correctly. \n",
        "\n",
        "Bare in mind that some packages offers tools for automatic vocabulary creation, such as Keras (check [keras.preprocessing.text.Tokenizer](https://www.tensorflow.org/api_docs/python/tf/keras/preprocessing/text/Tokenizer)). \n",
        "\n",
        "**NOTE**: It is not mandatory to use the keras Tokenizer, we mention it so that you know there exist tools specific for this step.\n",
        "\n",
        "**NOTE**: In this case, the vocabulary will start from index equal to 1, since the 0 slot is reserved to padding token. In order to pass vocabulary evaluation, you have to re-scale the vocabulary such that the first index is 0.\n",
        "\n",
        "**NOTE**: If you are using the keras Tokenizer, remember to use its method <code> texts_to_sequences </code> for splitting, otherwise you might find terms that are not in the vocabulary! Please, check also its constructor argument <code> filters </code> since it defines a pre-processing regexp.\n",
        "\n",
        "This easy task is just to let you know that is important to check the built vocabulary just to make sure everything is ok."
      ]
    },
    {
      "cell_type": "code",
      "metadata": {
        "id": "hRs7m-SxMq0n",
        "outputId": "a946d4ac-58ab-48df-b361-7c98d1825188",
        "colab": {
          "base_uri": "https://localhost:8080/"
        }
      },
      "source": [
        "from collections import OrderedDict\n",
        "\n",
        "# Function definition\n",
        "def build_vocabulary(df):\n",
        "    \"\"\"\n",
        "    Given a dataset, builds the corresponding word vocabulary.\n",
        "\n",
        "    :param df: dataset from which we want to build the word vocabulary (pandas.DataFrame)\n",
        "    :return:\n",
        "      - word vocabulary: vocabulary index to word\n",
        "      - inverse word vocabulary: word to vocabulary index\n",
        "      - word listing: set of unique terms that build up the vocabulary\n",
        "    \"\"\"\n",
        "    ### YOUR CODE HERE ###\n",
        "    # Creating the  word vocabulary  \n",
        "    corpus = df['text']\n",
        "    #using findall method of strings to split the text into alphanumeric words\n",
        "    tokenized_words = corpus.str.lower().str.findall(\"\\w+\")\n",
        "    #Set to avoid duplicates\n",
        "    word_vocab = set()\n",
        "    for w in tokenized_words:\n",
        "      word_vocab.update(w)\n",
        "    word_vocab = list(word_vocab)    \n",
        "\n",
        "    # Creating the inverse word vocabulary\n",
        "    values = [* range (0,len(word_vocab))]\n",
        "    inv_word_vocab = dict.fromkeys(list(word_vocab))\n",
        "    inv_word_vocab = dict(zip(inv_word_vocab, values)) \n",
        "\n",
        "    # Some printings\n",
        "    ''' Uncomment to check them\n",
        "    print(\"The vocabulary and inverted lengths are: \\n{}, {}\".format(len(word_vocab), len(inv_word_vocab)))\n",
        "    print(\"The vocabulary is: \\n{}\".format(word_vocab))\n",
        "    print(\"The inverted vocabulary looks like: \\n{}\".format(inv_word_vocab))\n",
        "    '''\n",
        "    return word_vocab, inv_word_vocab, word_vocab\n",
        "\n",
        "\n",
        "# Testing\n",
        "idx_to_word, word_to_idx, word_listing = build_vocabulary(df)\n",
        "\n",
        "print('[Debug] Index -> Word vocabulary size: {}'.format(len(idx_to_word)))\n",
        "print('[Debug] Word -> Index vocabulary size: {}'.format(len(word_to_idx)))\n",
        "\n",
        "print('[Debug] Some words: {}'.format([(idx_to_word[idx], idx) for idx in np.arange(10) + 1]))\n",
        "\n",
        "# Evaluation\n",
        "\n",
        "def evaluate_vocabulary(idx_to_word, word_to_idx, word_listing, df, check_default_size=False):\n",
        "\n",
        "    # Check size\n",
        "    print(\"[Vocabulary Evaluation] Size checking...\")\n",
        "\n",
        "    assert len(idx_to_word) == len(word_to_idx)\n",
        "    assert len(idx_to_word) == len(word_listing)\n",
        "\n",
        "    # Check content\n",
        "    print(\"[Vocabulary Evaluation] Content checking...\")\n",
        "\n",
        "    for i in tqdm(range(0, len(idx_to_word))):\n",
        "        assert idx_to_word[i] in word_to_idx\n",
        "        assert word_to_idx[idx_to_word[i]] == i\n",
        "\n",
        "    # Check consistency\n",
        "    print(\"[Vocabulary Evaluation] Consistency checking...\")\n",
        "\n",
        "    _, _, first_word_listing = build_vocabulary(df)\n",
        "    _, _, second_word_listing = build_vocabulary(df)\n",
        "    assert first_word_listing == second_word_listing\n",
        "\n",
        "    # Check toy example\n",
        "    print(\"[Vocabulary Evaluation] Toy example checking...\")\n",
        "    toy_df = pd.DataFrame.from_dict({\n",
        "        'text': [\"all that glitters is not gold\", \"all in all i like this assignment\"]\n",
        "    })\n",
        "    _, _, toy_word_listing = build_vocabulary(toy_df)\n",
        "    toy_valid_vocabulary = set(' '.join(toy_df.text.values).split())\n",
        "    assert set(toy_word_listing) == toy_valid_vocabulary\n",
        "\n",
        "\n",
        "print(\"Vocabulary evaluation...\")\n",
        "evaluate_vocabulary(idx_to_word, word_to_idx, word_listing, df)\n",
        "print(\"Evaluation completed!\") "
      ],
      "execution_count": 7,
      "outputs": [
        {
          "output_type": "stream",
          "text": [
            "100%|██████████| 13892/13892 [00:00<00:00, 991597.68it/s]"
          ],
          "name": "stderr"
        },
        {
          "output_type": "stream",
          "text": [
            "[Debug] Index -> Word vocabulary size: 13892\n",
            "[Debug] Word -> Index vocabulary size: 13892\n",
            "[Debug] Some words: [('ended', 1), ('airbr', 2), ('harron', 3), ('1940', 4), ('jaw', 5), ('discontentment', 6), ('instrument', 7), ('odds', 8), ('superstitious', 9), ('propel', 10)]\n",
            "Vocabulary evaluation...\n",
            "[Vocabulary Evaluation] Size checking...\n",
            "[Vocabulary Evaluation] Content checking...\n",
            "[Vocabulary Evaluation] Consistency checking...\n",
            "[Vocabulary Evaluation] Toy example checking...\n",
            "Evaluation completed!\n"
          ],
          "name": "stdout"
        },
        {
          "output_type": "stream",
          "text": [
            "\n"
          ],
          "name": "stderr"
        }
      ]
    },
    {
      "cell_type": "markdown",
      "metadata": {
        "id": "VSO2NA5ZYnz_"
      },
      "source": [
        "Feel free to inspect the vocabulary! To this purpose, you can use the following code space."
      ]
    },
    {
      "cell_type": "code",
      "metadata": {
        "id": "wT4oB5PcYyd1",
        "outputId": "6e38b9ac-5168-43f8-f3cb-48a8ae8518de",
        "colab": {
          "base_uri": "https://localhost:8080/"
        }
      },
      "source": [
        "\"\"\" YOUR CODE HERE \"\"\"\n",
        "\n",
        "print(\"The vocabulary and inverted lengths are: \\n{}, {}\".format(len(idx_to_word), len(word_to_idx)))\n",
        "print(\"The vocabulary is: \\n{}\".format(idx_to_word))\n",
        "print(\"The Word to index vocabulary looks like: \\n{}\".format(word_to_idx))"
      ],
      "execution_count": null,
      "outputs": [
        {
          "output_type": "stream",
          "text": [
            "The vocabulary and inverted lengths are: \n",
            "13892, 13892\n",
            "The vocabulary is: \n",
            "['filmsespecially', 'bloody', 'reappears', 'san', 'neglected', 'end', 'accompanying', 'tomboy', 'con', 'smartmouthed', 'parillaud', 'mainland', 'barbaric', 'follows', 'continually', 'stake', 'inspite', 'hinted', 'haze', 'trademark', 'peters', 'oscars', 'eric', 'completely', 'daughters', 'guns', 'mouths', 'naked', 'restoring', 'sugar', 'nutty', 'ready', 'blueeyed', 'little', 'hellfire', 'lumbered', 'wistful', '80something', 'floating', 'reworking', 'attorney', 'kanebr', 'rape', 'fascinating', 'ms', 'awake', 'soon', 'william', 'sniffmus', 'fruitcake', 'weddings', 'framed', 'sliding', 'slightly', 'variation', 'critic', 'modernization', 'easily', 'smaller', 'learned', 'optical', 'acceptance', 'county', 'assembles', 'jimbo', 'guntoting', 'offends', 'dotrices', 'rub', 'gamebr', 'recovery', 'twobr', 'cultural', 'silver', 'sicko', 'listens', 'welllets', 'particularly', 'raymond', 'gun', 'lend', 'impersonators', 'sleeves', 'catches', 'attendant', 'rikers', 'release', 'trite', 'raises', 'penalty', 'benchmark', 'unneeded', 'wishes', 'brocksmith', 'wellproduced', 'streets', 'strokes', 'bathroom', 'manhattan', 'screw', 'season', 'embraces', 'amitabhz', 'edo', 'extraneous', 'balance', 'honest', 'snatched', 'e', 'facially', 'photo', 'patina', 'learnt', 'traces', 'latin', 'mythical', 'italian', 'project', 'sorts', 'unowns', 'sht', 'predates', 'reiterated', 'delves', 'remind', 'hitchcock', 'dreadful', 'fighter', 'gives', 'shijies', 'communication', 'sleazy', 'fanciful', 'diesel', 'yelling', 'accompanied', 'dinners', 'maguire', 'enforce', 'hmmm', 'deconstructing', 'applies', 'masochism', 'platonic', 'partially', 'poolsuddenly', 'guts', 'keith', 'primitiveskillingexploitativewesterners', 'psycho', 'champ', 'victim', 'standout', 'sixth', 'invasion', 'adaptation', 'neck', 'blackcomic', 'opposite', 'mongomerybr', 'usher', 'vacillating', 'showcased', 'ambitious', 'reputation', 'british', 'zucker', 'exploitive', 'trusting', 'seek', 'sifter', 'censor', 'welldrawn', 'watery', 'vanished', 'stripperbr', 'scariest', 'doesnt', 'equally', 'chain', 'brideshead', 'blasted', 'fastmoving', 'besiege', 'ghost', 'melanie', 'funniest', 'antagonism', 'arghh', 'ascertain', 'fetish', 'fluid', 'written', 'taut', 'twist', 'role', 'hurt', 'weakness', 'destroying', 'reader', 'gloomy', 'skill', 'valuesorientated', 'horrors', 'enemies', 'reach', 'focuses', 'love', 'except', 'satirical', 'batouch', 'contemplations', 'hollow', 'sg1', 'swayed', 'bathtub', 'expecting', 'klein', 'remote', 'woodland', 'tubes', 'lack', 'recomend', 'billing', 'adventure', 'killers', 'score', 'hatch', 'seizes', 'bgirl', 'amelie', 'murderous', 'timefilling', 'idiot', 'betrayal', 'whoopi', 'dullest', 'duller', 'vcd', '1904', 'doorman', 'crisis', 'forties', 'encounter', 'hokum', 'offers', 'dc', 'carrel', 'discovery', 'champion', 'darwins', 'albert', 'schwarzeneggers', 'wastedbr', 'path', 'succeed', 'mindbr', 'momentarily', 'midrange', 'dyke', '0', 'later', 'pocket', 'johansson', 'exsoldier', 'inflatable', 'jeremy', 'sex', 'dishonesty', 'watts', 'spelled', 'bondesque', 'photographers', 'monologue', 'morgan', 'nighteyes', 'driver', 'imo', 'davy', 'adds', 'debra', 'youand', 'duh', 'muppet', 'surgeon', 'patrol', 'showdown', 'purposes', 'riverside', 'developers', 'adoption', 'queens', 'moviesbr', 'vintage', 'holden', 'choosing', 'imaginative', 'approaches', 'greasebr', 'apollonia', 'white', 'barrel', 'smallscale', 'overlooked', 'ballistic', 'cheaply', 'gerry', 'didactic', 'rudimentary', 'cattle', 'mcgregor', 'idly', 'morita', 'insane', 'neglect', 'fx', 'warned', 'joe', 'professionally', 'startedbr', 'conditions', 'imaginebr', 'encroaching', 'demand', 'moreau', 'munchausen', 'slighted', 'efforts', 'charges', 'state', 'serves', 'shepard', 'immagrants', 'rising', 'folk', '1994', 'bad', 'mads', 'hurts', 'vicariously', 'us10', 'dismal', 'attire', 'crackpot', 'others', 'coarse', 'tightened', 'extrodinaire', 'neighbouring', 'getgo', 'stoner', 'huck', 'holmes', 'postman', 'fictional', 'supported', 'sentimental', 'shop', 'considerable', 'stunk', 'sole', 'companions', 'enjoyment', 'romps', 'nugent', 'deep', 'dominic', 'mondaybr', 'pilot', 'enthusiast', 'convict', 'watching', 'heading', 'slays', 'portion', 'zero', 'crap', 'certificate', 'fedele', 'triple', 'towards', 'insisting', 'fishy', 'ample', 'physicality', 'assured', 'starkest', 'appealing', 'willes', 'suggested', 'wife', 'acted', 'giantbr', 'main', 'aviation', 'withinbr', 'said', 'raves', 'unimaginablebr', 'attacked', 'kal', 'remembered', 'nonebr', 'bronson', 'bleak', 'students', 'hathaway', 'mystique', 'grainy', 'som', 'exceeds', 'changedbr', 'sean', 'therebr', 'sleaze', 'render', 'harmony', 'francisco', 'tricks', 'gymnasts', 'renditionbr', 'bitterly', 'station', 'linking', 'blatant', 'europeanbut', 'rickman', 'factors', 'hurry', 'heartthrob', 'russians', 'sundown', 'begrudgingly', 'twice', 'ideabr', 'boreanaz', 'sams', 'swallow', 'jordan', 'fashions', 'spare', 'trying', 'flash', 'earthexcept', 'coherent', 'commissioned', 'conveyed', 'horse', 'girlfriends', 'excruciatingly', 'claude', 'donutshaped', 'rush', 'setup', 'murphys', 'popped', 'famous', 'longlegged', 'slave', 'enormously', 'wayanss', 'connotation', 'quit', 'fourth', 'improvement', 'estelle', 'corrupt', 'bloom', 'oedipal', 'struggles', 'bone', 'passivity', 'observation', 'antoine', 'disregard', 'showed', 'f16', 'erupt', 'prepare', 'livelihood', 'popular', 'gruesome', 'stink', 'propelled', 'bandy', 'missouri', 'pristine', 'protection', 'social', 'mitch', 'hidebr', 'determined', 'excite', 'lowpaced', 'townspeople', 'marvelous', 'bizarrebr', 'effecting', 'fecal', 'linesbr', 'oxygen', 'recycled', 'past', 'bbc', 'remove', 'oscarworthy', 'manipulative', 'brilliant', 'proceedings', 'multicharacter', 'ridiculous', 'pressure', 'subplots', 'mock', 'travels', 'castrati', 'heroz', 'multiplex', 'looney', 'tomorrow', 'rwtd', 'turkey', '80s', 'settlers', 'darks', 'puzzle', 'fuel', 'restraint', 'oddsbr', 'cheating', 'munchiebr', 'lighthouse', 'promotional', 'engagingsometimes', 'common', 'frida', 'atheists', 'shields', 'cassidy', 'manson', 'opinion', 'sedgwick', 'jacket', 'eight', 'perversely', 'xxx', 'reopened', 'crappy', 'edition', 'closet', 'notion', 'midwestern', 'conveniently', 'dr', 'faulted', 'hairbr', 'chose', 'gained', 'tito', 'technique', 'axe', 'kurt', 'ended', 'daimlerbr', 'pfetten', 'khan', 'suggestion', 'sources', 'suffers', 'discounted', 'cookies', 'herbert', 'remi', 'rousing', 'stabbed', 'unbeknownst', 'mel', 'selves', 'proam', 'touches', 'moments', 'overacted', 'choicesbr', 'loads', '80ish', 'reward', 'thoughts', 'nightclub', 'locate', 'starving', 'duncan', 'erika', 'peopleso', 'cooler', 'sawa', 'confusion', 'punks', 'granddaughter', 'plotbr', 'vagabond', 'quickly', 'smothering', 'counseling', 'extremist', 'notsogood', 'pos', 'annoying', 'b', 'megan', 'contrast', 'suit', 'cosmic', 'methods', 'kept', 'accuracy', 'touchstone', 'fret', 'pianobr', 'roth', 'nighttime', 'oakland', 'hungama', 'thumb', 'patterson', 'catching', 'yimou', 'handcuffed', 'craving', 'dmitri', 'tommy', 'degrees', 'ridiculously', 'refused', 'annihilation', 'eazy', 'lifted', 'caprios', 'inventivebr', 'thinking', 'threatens', '19th', 'fail', 'let', 'madonna', 'laud', 'queaseinducing', 'coast', 'smoking', 'arnold', 'jackson', 'helpbr', 'oshin', 'senator', '1st', 'generate', 'legion', 'dissection', 'athlete', 'excellant', 'spaghetti', 'bet', 'standards', 'sorrentinos', 'telugu', 'transmitting', 'electric', 'knowing', 'lessquality', 'chic', 'belushi', 'bounces', 'catastrophes', 'halfdecent', 'mishaps', 'approximate', 'doody', 'dolby', 'semblance', 'suspenseful', 'intellectually', '1960s', 'antieye', 'footwork', 'emotive', 'standins', 'dobr', 'houseguest', 'scripted', 'center', 'clearer', 'frequent', 'materials', 'killian', 'plague', 'kinear', 'cute', 'king', 'excited', 'mismatched', 'items', 'father', 'trove', '1974', 'express', 'bruises', 'krug', 'hunts', 'mindspace', 'doom', 'dietrich', 'selfdeclared', 'impressedeverything', 'hunted', 'landmark', 'laughably', 'slimy', 'public', 'austria', 'rushed', 'confession', 'rigg', 'stopmotionbr', 'worry', '120', 'writers', 'accepting', 'seenbr', 'weirdo', 'gb', 'unfocused', 'ripoff', 'classics', 'increase', '1932', 'fairly', 'errors', 'point', 'oconnors', 'instinct', 'goldfinger', 'shepherd', 'roadside', 'fullyfledged', 'nonnormal', 'imaginable', 'evolves', 'sidekick', 'connection', 'letting', 'kyle', 'endangered', 'hearings', 'distinction', 'neon', 'garland', 'detail', 'exwife', 'obtained', 'badge', 'classic', 'antonioni', 'carlsen', 'steps', 'often', 'less', 'wealth', 'lethally', 'lucy', 'introbr', 'architect', 'racism', 'caravan', 'mine', 'threw', 'thick', 'staircase', 'privacy', 'snow', 'feelingsbr', 'putnam', 'fastpaced', 'mcdermott', 'protagonist', 'challenger', 'demme', 'dedicated', 'trends', 'unveiling', 'wwiistyle', 'delicate', 'acquired', 'neurotic', 'inconsistencies', 'nea', 'soundeffected', 'ales', 'satanists', 'sox', 'lined', 'happiness', 'intelligence', 'illustrates', 'broad', 'confronts', 'singlehanders', 'assures', 'deposes', 'caviezel', 'skullnumbing', 'pearl', 'jr', 'thoughboth', 'instilled', 'pollyanna', 'disarray', 'willy', 'scars', 'pregps', 'chivalrous', 'proclamation', 'diana', 'caitlin', 'sultan', 'riding', 'vulnerable', 'shoot', 'sass', 'smashing', 'kurtz', 'sgt', 'stripped', 'industries', 'employer', 'treatmentbr', 'orrys', 'firm', 'munda', 'sombre', 'skeins', 'canned', 'starlight', '2x', 'rita', 'thoughtprovoking', 'thames', 'umi', 'insults', 'infuses', 'housebr', 'inhumane', 'henry', 'solace', 'movieor', 'costners', 'ventures', '1994br', 'actors', 'wallace', 'noirean', 'tongue', 'wang', 'bathrobe', 'paltrow', 'capacities', 'fireplace', 'trespassers', 'shellshocked', 'informative', 'spacey', 'grand', 'probably', 'centurys', 'selfpunishing', 'chaps', 'friendzone', 'liberated', 'practitioner', 'globes', 'glorious', 'clearly', 'positivebr', 'morton', 'enemywhere', 'props', 'bed', 'umbopa', 'tempered', 'muscled', 'couches', 'monologues', 'friggin', 'unsung', 'familial', 'documentarybr', 'nerds', 'sergeant', 'hydewhite', 'denial', 'risqu', 'choi', 'nods', 'dane', 'tagline', 'sergei', 'fantasising', 'um', 'colourful', 'verdict', 'tribal', 'inconvenienced', 'disappointedbr', 'mohanlal', 'unattainable', 'askbr', 'dresser', 'leftist', 'underlying', 'shifting', 'surgery', 'columbo', 'littleknown', 'walken', 'neatly', 'wired', 'distant', 'hines', 'boggles', 'restaraunt', 'jock', 'obwat', 'cablebr', 'trust', 'impenetrable', 'bucket', 'sexual', 'carved', 'narsimha', 'sides', 'survivors', 'program', 'beefcake', 'break', 'intentionally', 'tyra', 'terrorized', 'lotbr', 'downhill', 'strange', 'privka', 'toast', 'carl', 'destroyed', 'beavis', 'finding', 'besides', 'entertainments', 'outdated', 'eager', 'plain', 'pops', 'disjointed', 'liberal', '81', 'exterminator', 'juicier', 'persona', 'texas', 'sixtyish', 'zerosum', 'excuse', 'sewell', 'morality', 'mimicking', 'avoids', 'seldom', 'hooks', 'trish', 'cosgrovehall', 'simons', 'linda', 'terrifically', 'bloodshed', 'predating', 'secrets', 'shooting', 'october', '95', 'carlys', 'belgium', 'syrup', 'iron', 'antonionis', 'possessed', 'gump', 'singleminded', 'escapism', 'baxter', 'prescence', 'film', 'outshined', 'treating', 'taps', 'mercs', 'sachs', 'general', 'manatarms', 'whispering', 'collaborative', 'mediocre', 'unblinking', 'amazement', 'tomei', 'curse', 'drained', 'ron', 'benton', 'mitchum', 'crashes', 'eccentric', 'pro', 'alas', 'plentiful', 'victimhood', 'thieves', 'blackboard', 'lame', 'frank', 'caves', 'fair', 'nationwide', 'redeeming', 'densely', 'backstory', 'alligator', 'fathers', 'unpromising', 'mustsees', 'gwoemul', 'majid', 'newcomer', 'lens', 'selznick', 'bleed', 'boards', 'mattei', 'choreographed', 'swooning', 'beyond', 'bloodlinebr', 'palettes', 'cclock', 'cheddar', '90', 'conviction', 'vietnam', 'mccarthy', 'begun', 'cinematographers', 'donnagios', 'hoffmans', 'distinctive', 'disappointing', 'gregory', 'grandfather', 'marilyn', 'like', 'plan', 'lapbr', 'sherrif', 'mail', '1956', 'wits', '750', 'moitessier', 'culturally', 'captor', 'cheesy', 'stressed', 'seedier', 'momentbr', 'provoking', 'achievement', 'distract', 'foggy', 'oshins', 'bozos', 'penetrating', 'carefullynow', 'story', '40', 'flight', 'timmy', 'hours', 'happening', 'news', 'interrupts', 'conversations', 'overboard', 'jennifer', 'interred', '1945', 'kellys', 'princess', 'dancer', 'pg', 'otherworldly', 'pbs', 'petrifying', 'realistically', 'motorcycle', 'ravishing', 'undetectedbr', 'intrested', 'orbit', 'indiana', 'eleanor', 'seriously', 'charlene', 'wpix', 'received', 'perceive', 'foremost', 'bodies', 'comedies', 'trauma', 'painfulbr', 'leadingman', 'wes', 'drivel', 'eventbr', 'hardhitting', 'reaches', 'hartleys', 'wants', 'crash', '1964', 'trilogy', 'purely', 'guilty', 'confirming', 'humour', 'comes', 'flimsy', 'emmanuelle', 'screwup', 'elfin', 'design', 'size', 'giant', 'sexist', 'falsehood', 'saga', 'laughs', 'scarlet', 'joins', 'variety', 'shattered', 'draw', 'hank', 'abduct', 'combined', 'tragedy', 'beside', 'challenge', 'gripe', 'hospitalised', 'niklas', 'connery', 'wallow', 'overtake', 'leaders', '1942', 'every', 'uncensored', 'pile', 'ludicrousbr', 'registering', 'finished', 'failures', 'detracting', 'material', 'beforebr', 'payment', 'tyzack', 'falco', 'cyborgsrobots', 'wondered', 'base', 'cusack', 'beaten', 'nathan', 'nikolaj', 'definitive', 'lab', 'beg', 'dread', 'girls', 'america', 'diplomat', 'diary', 'ramgopalvarma', 'kimber', 'feminine', 'gasp', 'miss', 'put', 'outlet', 'exposed', 'ad', 'induce', 'cuddly', 'progresses', 'beliefs', 'managed', 'humanoid', 'helen', 'convicted', 'conventional', 'arresting', 'passing', 'effortless', 'lifeforce', 'confines', 'cages', 'larenz', 'asking', 'theodore', 'alternative', 'reinventing', 'inadvertently', 'scope', 'wonderful', 'brats', 'resounding', 'obsessions', 'pio', 'hairy', 'crumplefaced', 'hoped', 'unlocked', 'patty', 'entire', 'obscure', 'member', 'elkanah', 'carethe', 'timebr', 'awesome', 'competition', 'grants', 'creation', 'aroundbr', 'sensitive', 'estevo', 'molinaro', 'eightbr', 'dillinger', 'dvr', 'sammy', 'stored', 'question', 'pointlessness', 'relieved', 'communicate', 'hallucinating', 'evidencebr', 'power', 'closed', 'confessions', 'blebs', 'cuts', 'alibi', 'picker', 'surrogate', 'whatnot', 'kristanna', 'napalm', 'wards', 'mask', 'uplifting', 'fanbase', 'skits', 'wanders', 'cyborg', 'societal', 'choicebr', 'pot', 'groped', 'spirit', 'walcott', 'purebr', 'shined', 'compose', 'chinese', 'haunted', 'arab', 'narration', 'ledger', 'cypher', 'exhibiting', 'stinks', 'alleys', 'athletic', 'bothersome', 'oldsoul', 'twentysomething', 'notes', 'pupil', 'smarttech', 'protestantism', 'aboriginals', 'lofty', 'captivates', 'fist', 'shaking', 'payoff', 'unlikely', 'torch', 'tooth', 'provides', 'fang', 'crystal', 'homosexuality', 'blake', 'orton', 'daybr', 'delivering', 'sheets', 'quest', 'formulaic', 'tube', 'rejects', 'absolutely', 'downs', 'lots', 'exhaust', 'literary', 'jackets', 'experience', 'antony', 'domini', 'firstly', 'stonewashed', 'colorful', 'twoandahalf', 'eats', 'insinuate', 'sounding', 'maier', 'jeanne', 'othersbr', 'cheek', 'daughter', 'howard', 'comparison', 'veins', 'eustache', 'ram', 'almostcomic', 'awol', 'distinguished', 'uneasy', 'representing', 'gas', 'philosophical', 'leak', 'retired', 'restlessness', 'reminds', 'outsidebr', 'thrashing', 'accidentally', 'voiceover', 'alahani', 'sue', 'hook', 'honeymooners', 'bore', 'sicerely', 'liked', 'stallone', 'sooner', 'worthy', 'comparing', 'hotelbr', 'called', 'ham', 'thrashes', 'heartwarming', 'unrealisticbr', 'ladies', 'worst', 'sizebr', 'cringed', 'characteristic', 'entirely', 'somebody', 'laura', 'intimidating', 'antifreeze', 'smugness', 'fluke', 'wallach', 'sawyer', 'macbeth', 'sillier', 'exam', 'harebrained', 'supply', 'tank', 'blessing', 'ineffective', 'deeds', 'henson', 'filmmaking', 'barren', 'france', 'use', 'adapt', 'mcqueen', 'gigli', 'forwards', 'intense', 'yearns', 'exploitation', 'decade', 'understandably', 'savagebr', 'wakes', 'unimportant', 'kong', 'saxophone', 'conquer', 'abolitionists', 'surrealism', 'laing', 'janine', 'nu', 'filthy', 'witness', 'dans', 'displays', 'mania', 'evolve', 'sullies', 'resurrected', 'terrified', 'ecstasy', 'combo', 'tolerance', 'nongershwin', 'whirry', 'ptsd', 'crew', 'chockfull', 'hubristic', 'ware', 'planes', 'nude', 'spoke', 'bears', 'enhanced', 'laughton', 'elton', 'lasting', 'absolute', 'jeeter', 'evidenced', 'outfits', 'religious', 'historicitybr', 'moviemakers', 'prices', 'conceived', 'wink', 'betebr', 'detectives', 'agnew', 'art', 'beast', 'peoples', 'objective', 'strait', 'durantes', 'mustered', 'evita', 'sorta', 'scruffy', 'buxton', 'disdain', 'bankrupt', 'persuasive', 'powerful', 'kronk', 'alonzo', '1936', 'stroll', 'amlia', 'tears', 'scarybr', 'guardian', 'cmon', 'publicizing', 'sculptor', 'quoting', 'exactly', 'dawns', 'dynamite', 'seasickness', 'benefits', 'caitlins', 'matthau', 'goldblum', 'coincidences', 'james', 'stretches', 'crude', 'photographs', 'dump', 'breathless', 'silly', 'fall', 'singles', 'overcoming', 'heroics', 'preachy', 'socialist', 'disney', 'bumps', 'namely', 'whoever', 'cowboy', 'symbol', 'clinton', 'amazon', 'copied', 'nonsense', 'spinster', 'irena', 'wealthy', 'dolls', 'ned', 'conan', 'junior', 'valley', 'untimely', 'expression', 'visit', 'caveat', 'vin', 'confess', 'ethan', 'affects', 'sight', '2007', 'lennon', 'literally', 'legends', 'requesting', 'wih', 'bukowski', 'sense', 'infected', 'shaky', 'pejorative', 'replies', 'christies', 'pillars', 'sings', 'observationbr', 'working', 'lex', 'shootem', 'smiling', 'targeting', 'brains', 'olivabr', 'aimed', 'sitcom', 'flic', 'argument', 'cannon', 'hair', 'academy', 'pulsate', 'largest', 'grounds', 'sunstroke', 'unrelated', 'jhkel', 'cancels', 'dies', 'amens', 'brainwashing', 'celebrities', 'vindication', 'stepford', 'discern', 'daft', '87', '5th', 'aisles', 'snapshot', 'sequencebr', 'kubrick', 'deja', 'dharmendra', 'precode', 'fedmy', 'cowboys', 'whaaa', 'miliuss', 'morejulies', 'resonance', 'early', 'mag', 'vhsquality', 'dating', 'minors', 'outerspace', 'bible', 'potential', 'ritualized', 'coat', 'education', 'sickingly', 'mundane', 'macys', 'bat', 'glossybr', 'frankly', 'ea', 'prepares', 'doses', 'excuses', 'choose', 'also', 'cameras', 'timely', 'photographed', 'puckett', 'forcing', 'comedy', 'emma', 'endear', 'ivan', 'ransom', 'aphrodesiacs', 'metaphysics', 'idiosyncratic', 'burn', 'sacrilegious', 'outbreak', 'pointofview', 'sympathizer', 'connect', 'messing', 'stressing', 'places', 'coming', 'tillys', 'boost', 'hazards', '000', 'inconsistent', 'whistling', 'lemercier', 'airplanebr', 'broader', 'accident', 'raging', 'demille', 'wonder', 'cleverbr', 'scenebr', 'supersecret', 'clown', 'fews', 'tvs', 'realisation', 'gradually', 'oddly', 'stillers', 'grizzly', 'bela', 'prude', 'departments', 'affection', 'increasingly', 'ritualistic', 'glamorized', 'follow', 'reprising', 'offed', 'earnest', 'care', 'barroom', 'sita', 'distrust', 'lena', 'gary', 'patrick', 'unwitting', 'extravagant', 'hari', 'strength', 'laughable', 'digested', 'mccurdy', 'broadcast', 'taiwanese', 'publics', 'utilitarian', 'fox', 'advertisement', 'convinced', 'stevenson', 'ozone', 'trick', 'illegally', 'kindhearted', 'lamented', 'centre', 'tvmovie', 'wouldbe', 'kay', 'atonement', 'hanged', 'rhino', 'jeniffer', 'exclusive', 'begin', 'finishes', 'isolated', 'sport', 'mistakebr', 'ways', 'banter', 'named', 'fortunes', 'firstrate', 'liangs', 'burnt', 'intellectual', 'dynamics', 'appreciable', 'partway', 'marlon', 'proffered', 'warlords', 'zoeys', 'existenz', 'kidnap', 'arirang', 'north', 'predictable', 'storylines', 'pronouns', 'strangest', 'classical', 'messy', 'huntif', 'piece', 'acting', 'last', 'light', 'traps', 'sows', 'titillation', 'greediness', 'truecrime', 'straight', 'newly', 'nevershouldhavemadeit', 'everythingmessrs', 'cupboard', 'alarmingly', 'somebodys', '60s70s', '215', 'tremendously', 'helicopters', 'tautou', 'youll', 'institution', 'pathos', 'bowls', 'might', 'anyway', 'healed', 'changer', 'severed', 'isabel', 'trades', 'could', 'forest', 'dour', 'polluted', 'guyyardleyrees', 'semicheesy', 'extraordinary', 'americana', 'nemesis', 'hitting', 'disgrace', 'impressionism', 'jailed', 'thinksbr', 'afternoon', 'emotion', 'undisneylike', 'bostwick', 'weber', 'technicians', 'smithee', 'troubling', 'sarcastic', 'levene', 'iii', 'rank', 'outpostbr', 'toad', 'composer', 'firsthand', 'grindhouse', 'involving', 'spinning', 'killick', 'householdbr', 'police', 'solved', 'maryjane', 'magnifying', 'add', 'unraveling', 'situationsbr', 'muldaur', 'langdon', 'wooden', 'greco', 'historic', 'asked', '747', 'humanized', 'pokes', 'ritter', 'proudbr', 'parrish', 'localized', 'sarcasm', 'foldes', 'toll', 'unlikeable', 'faces', 'nevsky', 'treads', 'weve', 'hardest', 'heroismbr', 'engrossing', 'barker', 'croft', 'harvey', 'dubbing', 'bumbling', '2000', 'twodimensional', 'mistreated', '65', 'whisked', 'semi', 'wears', 'divers', 'monkeys', 'fishburnes', 'sexually', 'objection', 'godbr', 'icons', 'ghosts', 'prizewinner', 'epps', 'fartjokes', 'fbi', 'brisk', 'kress', 'brimming', 'kaye', 'remotely', 'selected', 'missingbr', 'antithesis', 'es', 'austin', 'believes', 'dutch', 'punishment', 'sketchier', 'vulgarity', 'fulci', 'commit', 'devil', 'walkon', 'crunches', 'fervor', 'quality', 'followed', 'loni', 'talkingboring', 'sized', 'himand', 'junctions', 'short', 'custody', 'depraved', 'himfreakinself', 'beginning', 'compare', 'intrudingscore', 'freed', 'text', 'corporate', 'oldsters', 'adjoining', 'reprise', 'engineer', 'depiction', 'told', 'chump', 'gina', 'loneliness', 'tryst', 'bundy', 'scoffed', 'teen', 'vortexbr', 'saxophonist', 'backdrops', 'melodramaticbr', 'disastrous', 'jean', 'mini', 'circular', 'undeniably', 'doris', 'aikens', 'superstitious', 'lane', 'prominence', 'hill', 'menacing', 'syrupy', 'track', 'basil', 'id', 'technically', 'service', 'certifiably', 'internationally', 'case', 'thisbr', 'overthetop', 'timepasser', 'hesseman', 'constraints', 'resident', 'purple', 'odessa', 'recordings', 'propertys', 'van', 'subtext', 'redemption', '35', 'bull', 'coitus', 'savage', 'moviesso', 'similarities', 'laurence', 'millionaire', 'antics', 'artists', 'got', 'rock', 'christianity', 'br', 'squabbles', 'solo', 'sponge', 'lacy', 'traumatic', 'catherine', 'unscary', 'payne', 'rotten', 'presencebut', 'morrow', 'cranky', 'rescued', 'ramrodder', 'misunderstood', 'philosophers', 'soviet', 'abomination', 'capital', 'rollerboys', 'melodrama', 'woody', 'creations', 'shy', 'arm', 'unlike', 'mature', 'liquidised', 'nineteenthcentury', 'patient', 'disadvantages', 'monthsbr', 'scrolling', 'stab', 'interressting', 'sabotaging', 'melting', 'rid', 'know', 'corey', 'yodelling', 'appelagate', 'terrorist', 'struck', 'atkins', 'seem', 'fast', 'pocasni', 'alongside', 'hated', 'deux', 'matsumura', 'hennesy', 'situation', 'larson', 'research', 'stoned', 'reflections', 'screwball', 'damage', 'church', 'develops', 'speakbr', 'replacing', 'admittedly', 'karen', 'guru', 'city', 'unwilling', 'fights', 'motivic', 'fallen', 'pace', 'wwii', 'personalities', 'ladder', 'planted', 'trio', 'demands', 'bhavtakur', 'snigger', 'explores', 'reminiscence', 'havent', 'act', 'birkin', 'jones', 'jon', 'realize', 'scientific', 'smooth', 'narrow', 'ravaged', 'whereas', 'presented', 'underpinnings', 'changeofpace', 'abusebr', 'ray', 'kickboxing', 'guinnesss', 'pp', 'permanent', 'striking', 'pollution', 'theresa', 'model', 'ghostly', 'career', 'climaxbr', 'accused', 'fool', 'sarandon', 'values', 'codirected', 'principals', 'funky', 'defends', 'showmen', 'cinephile', 'followingbr', 'chicago', 'sloth', 'asiabr', 'youve', 'languagebr', 'naive', 'months', 'respectively', 'careful', 'rivalforhomecomings', 'dealings', 'influencing', 'mankind', 'chiefs', 'astra', 'artful', 'line', 'vs', 'witticisms', 'loftier', 'underpants', 'ryosuke', 'piano', 'serialkiller', 'spectacular', 'additional', 'bursting', 'hulces', 'carboncopy', 'tobe', 'maratonci', 'writingbr', 'understood', 'nudity', 'respects', 'omnipresent', 'beverly', 'drillbr', 'sider', 'precious', 'custard', 'propriety', 'deck', 'boots', 'angrily', 'flashes', 'requirements', 'barriers', 'presumptuous', 'guzman', 'shares', 'dollars', 'accolade', 'greasy', 'sanders', 'psychically', 'carreras', 'jose', 'cartoon', 'belief', 'develop', 'many', 'sporting', 'fifty', 'argue', 'baddie', 'dassin', 'capotes', 'characterizations', 'covers', 'excommungated', 'areas', 'unoffending', 'progressive', 'suzu', 'kid', 'stepfathers', 'mustard', 'scriptbr', 'attending', 'water', 'theater', 'seventh', 'greatness', 'shawshank', 'pleasurable', 'level', 'fullfledged', 'cox', 'kato', 'loops', 'sjholm', 'newspaper', 'etc', 'russo', 'clone', 'reporter', 'nominate', 'essential', 'psychology', 'joy', 'advocates', 'bored', 'appreciate', 'purists', 'unscrupulous', 'sleeping', 'bandits', 'hickson', 'capriciousness', 'deserving', 'rooting', 'heros', 'sufjan', 'bowling', 'utter', 'distance', 'unrestrained', 'recognised', 'clueless', 'brutally', 'familys', 'frat', 'inappreciable', 'compared', 'yankees', 'biopics', 'derek', 'empowerment', 'lazy', 'fever', 'influenced', 'recreations', 'lago', 'scuppered', 'combines', 'h2', 'shown', 'performing', 'anakin', 'voyage', 'door', 'straighttovideo', 'imprisoned', 'fudd', 'fulllength', 'numbersbr', 'dictatorship', 'vantages', 'relaxation', 'relatively', 'watermelons', 'deadpan', 'toobr', 'quickies', 'flesh', 'unwarily', 'mildly', 'quietly', 'race', 'homosexual', 'provocation', 'chiefly', 'low', 'schnook', 'hills', 'output', 'fortiesbr', 'pulled', 'kerala', 'deny', 'ej', 'tin', 'entertainers', 'worried', 'takashi', 'cenobites', 'fighting', 'farwell', 'hating', 'searching', 'title', 'tends', 'infatuation', 'distraught', 'bloodthirsty', 'stalking', 'superfluous', 'hairdo', 'circle', 'ignore', 'awaits', 'klingons', 'upon', 'accuratebr', 'eve', 'spoken', 'chops', 'watereddown', 'glowing', 'satires', 'zombie', 'audience', 'showtime', 'dennis', 'originality', 'marked', 'broadest', 'hillbillies', 'die', 'street', 'meanwhile', 'produces', 'ventriloquist', 'humorless', 'winkwink', 'critique', 'uruguayan', '123', 'meltdown', 'corbett', 'documentaries', 'sniders', 'harp', 'decorations', 'vat', 'reveals', 'chamber', 'strip', 'dragonheart', 'gibson', 'feminism', 'genrehorror', '11stars', 'lastly', 'recorded', 'clichridden', 'softcore', 'implausible', 'nailed', 'dogs', 'offer', 'octogenarian', 'kurasawas', 'african', 'leaving', 'accents', 'hoping', 'blending', 'aficionados', 'nelson', 'neither', 'pedecariss', 'hate', 'stinking', 'weekends', 'baron', 'evolved', 'watchable', 'deviant', 'miragefilled', 'crossfires', 'sigh', 'neighborhood', 'usa', 'aliens', 'reestablished', 'generated', 'chatterer', 'notorious', 'officer', 'destroys', 'pulaski', 'lucky', 'tracking', 'rapidly', 'lbs', 'stopandgo', 'living', 'disconnection', 'attentiongrabbing', 'mcgovern', '93', 'posturing', 'forgive', 'precise', 'regretted', 'accepted', 'amateurishly', 'slowpaced', 'himbr', 'delivers', 'inherent', 'carefully', '1967', 'manufactured', 'ed', 'schmaltz', 'devicebr', 'binoche', 'position', 'uphill', 'death', 'csar', 'divine', 'sniper', 'ten', 'duck', 'olympic', 'burned', 'gailard', 'violence', 'underworld', 'struggled', 'redheaded', 'bombing', 'goodwill', 'glorybr', 'devastating', 'ethel', 'miniature', 'visited', 'haggard', 'resembles', 'gentleman', 'malick', 'appears', 'artwork', 'manipulate', 'humiliated', 'claim', 'foolish', 'rufo', 'prokofiev', 'tobr', 'merry', 'remy', 'appearance', 'quips', 'geoffrey', 'hadbr', 'brendon', 'intentional', 'committedbr', 'chauvinistic', 'balkans', 'brainless', 'duhbr', 'truly', 'watched', 'flare', 'rapaport', 'lacks', 'memorablebr', 'terri', 'hoosiers', 'basement', 'smiths', 'shaping', 'hollywood', '5', 'supersonic', 'disorders', 'manuscripts', 'ive', 'ribaldary', 'cicra', 'shay', 'entertains', 'saved', 'manic', 'jeep', 'tarkovsky', 'paragon', 'siren', 'novels', 'actor', 'embarrassment', 'big', 'thrills', 'studying', 'mediums', 'try', 'kingdom', 'nixed', 'brief', 'chainsaws', 'cousins', 'inadequate', 'weave', 'misa', 'goody', 'lecture', 'witty', 'worksbr', 'wendys', 'spectrum', 'bewildered', 'site', 'molly', 'amount', 'employed', 'exaggerated', 'uncle', 'presently', 'wayans', 'rodential', 'coachs', 'twitches', 'gooks', 'medieval', 'acclaim', 'healing', 'focus', 'rhythm', 'hesitation', 'f4', 'policemanbr', 'stressors', 'rescue', 'admired', 'commentaries', 'glosses', 'contain', 'razzie', 'insure', 'arrangements', 'saying', 'gail', 'laidback', 'array', 'result', 'molder', 'oscarnominated', 'must', 'hospital', 'demonic', 'duty', 'ormondroyd', 'dial', 'tromas', 'relevance', 'poisoned', 'cloth', 'non', 'heartstopping', 'drum', 'curler', 'full', 'faced', 'katie', 'excellently', 'druggy', 'thief', 'casts', 'scottish', 'commentary', 'manned', 'newsman', 'manner', 'guignol', 'beautiful', 'compassion', 'proceeded', 'diving', 'bombastic', 'infallible', 'tarantino', 'boot', 'forming', 'bite', 'chaplin', 'epatha', 'parody', 'perfecti', 'scenery', 'leeched', 'local', 'aidbr', 'sheryl', 'throughbr', 'volume', 'traversing', 'dashiell', 'druglord', 'ideology', 'wymark', 'murphy', 'solve', 'agent', 'incredibly', 'incorporate', 'disastrously', 'kendra', 'kohuts', 'hoover', 'gratuitously', 'berenger', 'dragon', 'writerbr', 'quintessential', 'isolation', 'startling', 'atrocities', 'concentrates', 'sartain', 'rude', 'cat', 'ginnys', 'wardrobe', 'khoda', 'spree', 'memories', 'causality', 'manipulation', 'finish', 'conveys', 'offscreen', 'appropriately', 'thinnes', 'empathize', 'featuring', 'portrayal', 'regency', 'unassuming', 'caricature', 'devastatingly', 'couple', 'heaped', 'penitentiary', 'rendition', 'tracks', 'really', 'buckner', 'dragons', 'itselfbr', 'sanitation', 'corrupted', 'recognizedbr', 'talent', 'helms', 'upbr', 'ramghad', 'bt', 'disguise', 'swirling', 'carey', 'needless', 'aside', 'disneys', 'daffy', 'pipe', 'bono', 'river', 'bearablebr', 'finales', 'airbr', 'forif', 'tims', 'generous', 'shoulder', 'wearing', 'perform', 'song', 'blair', 'accentuated', 'gantry', 'information', 'kathleen', 'reducing', 'jt', 'flaming', 'hiltonbr', 'planets', 'meditation', 'grant', 'stature', 'races', 'ferraris', 'em', 'melodramas', 'segment', 'unpleasant', 'breathtakingly', 'stirred', 'sociologists', 'motel', 'timelist', 'explain', 'turmoil', 'wellpaced', 'greater', 'babbling', 'guests', 'titular', 'homophobic', 'personally', 'belt', 'loves', 'axcepted', 'chase', 'dody', 'opportunity', 'grotesquehighly', 'deserve', 'frankenstein', 'truely', 'honorably', 'purchased', 'costello', 'records', 'crimes', 'space', 'whereby', 'group', 'outputs', 'orangutan', 'harron', 'hash', 'theism', 'button', 'parading', 'fallacious', 'imitated', 'airing', 'stereotypically', 'maude', 'candleshoebr', 'togel', '1991', 'relieving', 'character', 'devious', 'latest', 'specifications', 'adolf', 'stunts', 'facadething', 'cafeteria', 'robber', 'born', 'crazies', 'innovative', 'finger', 'wordsbr', 'quatermain', 'affecting', 'slapstickbr', 'yesterday', 'participating', 'barry', 'digressive', 'doubtfire', 'guiding', 'bondage', 'defending', 'resign', 'overbearing', 'lesser', 'storm', 'alert', 'symbolizes', 'wrestlers', 'madefortv', 'sweetest', 'transcend', '70s', 'mrs', 'kyra', 'edinburgh', 'gearin', 'decisions', 'channing', 'lit', 'blame', 'dramas', 'overwhelming', 'assignment', 'demented', 'danning', 'amok', 'file', 'replete', 'antidote', 'packaged', 'glance', 'elation', 'itim', 'selfhate', 'arouse', 'watchedbr', 'underscore', 'wear', 'giving', 'git', 'arguments', 'bigshot', 'styling', 'ride', 'amaro', 'gacy', 'duff', 'shag', 'repels', 'gutsplittingly', 'teams', 'solves', 'crime', 'jed', 'conflicted', 'newfound', 'whole', 'tennis', 'theatre', 'reallybr', 'game', 'wouldve', 'wastelands', 'fits', 'kline', 'schtick', 'wagon', 'strayed', 'toward', 'curiosity', 'intent', 'tales', 'refurbishing', 'zombies', 'cope', 'sweetness', 'froud', 'previously', 'ultraterrible', 'sadness', 'lightly', 'enjoy', 'private', 'vatican', 'commented', 'vet', 'stainton', 'fuselage', 'arrested', 'clichfest', 'wrestling', 'orthodox', 'joyful', 'differentiate', '250', 'adults', 'ecchhhh', 'dreaded', 'dung', 'jeff', 'heist', 'reveal', 'furthermore', 'originatedbr', 'factorys', 'dammit', 'infant', 'sybil', 'loony', 'stimulate', 'better', 'dazzling', 'childish', 'property', 'communist', 'rarely', 'legs', 'antihero', 'forbidden', 'noire', 'downright', 'standpoint', 'titanic', 'ones', 'eleven', 'assuredly', 'uncovers', 'morbid', 'motionless', 'bash', 'planning', 'match', '19661968', 'shell', 'nasty', 'swear', 'gavin', 'specifically', 'ricochets', 'routine', 'otto', 'forgiving', 'gustafsson', 'bread', 'storyline', 'notablebr', 'cleefs', 'hawkins', 'sisto', 'november', 'childrens', 'mundanity', 'crowhursts', 'key', 'neigh', 'anne', 'outing', 'freely', 'atmospheres', 'share', 'sparrings', 'severely', 'groups', 'bannedbr', 'topped', 'laughed', 'itelf', 'realizing', 'endurebr', 'shiri', 'slaver', 'talents', 'edited', 'journey', 'simon', 'sorkin', 'goodbr', 'devour', 'invaders', 'creek', 'greatbr', 'africa', 'walsh', 'operatic', 'amazingly', 'anymore', 'fleshed', 'sullivanbr', 'happensbr', 'paulin', 'take', 'conditioned', 'themes', 'surein', 'pretentiousness', 'asianstyled', 'clergyman', 'mesmerized', 'liam', 'befriend', 'closeup', 'rating', 'elaborate', 'till', 'topless', 'expressing', 'tiny', 'travolta', 'geysers', 'survivalbr', 'nocould', 'downtown', 'engines', 'distress', 'surprising', 'study', 'influence', 'miiki', 'ejaculated', 'decadebr', 'rate', 'slowly', 'gilbert', 'timers', 'chases', 'browsing', 'collects', 'customer', 'went', 'weeklies', 'radha', 'hacker', 'ralph', 'column', 'eagles', 'villains', 'butz', 'celluloid', 'stewards', 'cheezy', 'chews', 'bea', 'dj', 'prefab', 'tour', 'moffat', 'upper', 'wagners', 'eli', 'spoiler', 'stupid', 'punched', 'invented', 'drudgery', 'satan', 'outlaws', 'shrank', 'pull', 'system', 'couldve', 'user', 'reenforces', 'weighing', 'kleinfeld', 'sister', 'outraged', 'judging', 'realization', 'youngest', 'satanicworshippersrunamok', 'dvd', 'donna', 'instances', 'johnson', 'fateful', 'kohut', 'reaper', 'antagonist', 'context', 'hoyt', 'herbr', 'disciple', 'points', 'executed', 'border', 'response', 'glimpse', 'chances', 'lon', 'generalbr', 'whistle', 'hilt', 'accurately', 'marines', 'handle', 'oftpresent', 'meant', 'source', 'evan', 'minus', 'structured', 'perfect', 'bulgarian', 'taint', 'pottymouthed', 'mirror', 'antartic', 'willard', 'candlelit', 'harmless', 'shelf', 'burr', 'felt', 'experiment', 'hospitals', 'appreciated', 'devoid', 'bills', 'carols', 'fizzle', 'edward', 'alberts', 'figures', 'miriams', 'reflect', 'muslim', 'blurred', 'react', 'euroflicks', 'feathers', 'cleggses', 'awfully', 'opens', 'shortly', 'yes', 'barres', 'impact', 'whinging', 'eliots', 'current', 'dorky', 'heinously', 'waverley', 'dna', 'riddick', 'location', 'continuity', 'contact', 'directing', 'unit', 'beausoleil', 'matched', 'seventiesbr', 'wounderfull', 'straining', 'brigadoon', 'awful', 'coleman', 'ribbon', 'action', 'willing', 'parodies', 'yuck', 'yourselfbr', 'recognized', 'explosion', 'continuebr', 'zoey', 'dancing', 'gauntlet', 'adhere', 'walls', 'visits', 'firing', 'goerge', 'hrs', 'watermelon', 'box', 'frustrations', 'helps', 'germany', 'jhurst', 'thatbr', 'conchita', 'gimmick', 'essentially', 'producerdirector', 'weeksbr', 'berlin', 'structure', 'rohinton', 'banished', 'feverishly', 'roller', 'ollie', 'background', 'middleclass', 'visibly', 'bestlooking', 'directed', 'suppose', 'priyadarshan', 'latches', 'guy', 'dear', 'stains', 'standing', 'tvseries', 'redeemable', 'declaration', 'brite', 'drug', 'howls', 'delmar', 'inform', 'frighteningly', 'practical', 'chalk', 'kruger', 'saddest', 'loyalties', 'streetcar', 'bystanders', 'sends', 'funnybr', 'insufferably', 'arabia', 'evaluation', 'horrified', 'yoman', 'unmistakably', '1963', 'jeepers', 'activities', 'rae', 'altman', 'forms', 'seductress', 'back', 'compromising', 'fullydeveloped', 'attitudes', 'safe', 'pena', 'appreciative', 'examples', 'subplot', 'hilariousbr', 'pickfordbr', 'criticised', 'astonished', 'farfetched', 'peanuts', 'jeanpierre', 'sequelsthis', 'oafish', 'environment', 'shame', 'despising', 'oxenburg', 'goofy', 'gloves', 'terzo', 'filth', 'writes', 'honestly', 'cobbles', 'archaic', 'stress', 'kairo', 'circumstances', 'impression', 'headaches', 'moviein', 'define', 'mystic', 'azaria', 'exploration', 'behaviourbr', 'changesbr', 'needs', 'approach', 'london', 'derision', 'admission', 'svenson', 'awhile', 'audrey', 'puns', 'inadvertent', 'tits', 'overthetopbr', 'remedial', 'message', 'caused', 'cabaret', 'wholeheartedlybr', 'nay', 'burtons', 'businesses', 'jasons', 'coproduction', 'cap', 'tremendouslybr', 'dmytryk', 'dumbed', 'pay', 'dvdbr', 'clair', 'panned', 'knightley', 'straightup', 'escape', 'bulletproof', 'ahead', 'facts', 'swordplay', 'missed', 'roland', 'retarded', 'authority', 'people', 'gaptoothed', 'purchasing', 'unbelievably', 'lives', 'vincent', 'j', 'status', 'johnny', 'frantic', 'suggestions', 'flirtation', 'criminals', 'heads', 'obvious', 'misery', 'beliefsbr', 'gunsmoke', 'excitement', 'mores', 'palpable', 'bars', 'fantasticbr', 'ultralow', 'require', 'graces', 'clowns', 'guetary', 'cb4', 'cold', 'cannibal', 'feminist', 'matching', 'shapes', 'succinct', 'mixed', 'freedombr', 'marketable', 'creatures', 'cantonese', 'huac', 'chanteuse', 'opportunities', 'edgar', 'storms', 'asleep', 'marplebr', 'disappear', 'bemoaning', 'splashes', 'gein', 'grown', 'unstable', 'backwoods', 'julian', 'boring', 'scares', 'andys', 'vogue', 'suitcase', 'hudsucker', 'raye', 'sisters', 'exotic', 'came', 'flashbackbr', 'mentalitybr', 'europe', 'insect', 'furniture', 'romances', 'apart', 'welles', 'apartments', 'stabbing', 'cursing', 'stained', 'raver', 'betsy', 'creepiness', 'squirting', 'seriouslythe', 'hipspeak', 'ghetto', 'return', 'sendup', 'mikael', 'flava', 'petulant', 'government', 'nurtured', 'typically', 'early1980s', 'precipitating', 'outgrown', 'featuredbr', 'sit', 'hands', 'ruggero', 'odysseus', 'electrocutedbr', 'blackbr', 'performance', 'energetic', 'witnesses', 'leonardo', 'immediately', 'conway', 'older', 'miriad', 'pulasky', 'apt', 'getaway', 'wall', 'despite', 'overuse', 'anonymous', 'served', 'growing', 'closer', 'doeswith', 'contained', 'geographic', 'missing', 'imagined', 'identity', 'dated', 'cumming', 'michelangelo', 'movements', 'christine', 'dressed', 'prostitutes', 'toodark', 'breath', 'nickelodeon', 'droplets', 'viewed', 'comfort', 'culp', 'reptile', 'decision', 'progress', 'problem', 'bigotry', 'imprisonment', 'dean', 'suspended', 'scriptless', 'gratification', 'chris', 'heath', 'ira', 'bunniesbr', 'shots', 'finds', 'dull', 'bakers', 'rent', 'sweetens', 'des', 'renting', 'angle', 'beset', 'backlighting', 'dream', 'schachter', 'mormoms', 'featurelong', 'steppin', 'petition', 'technology', 'bridge', 'nazis', 'cashing', 'boxed', 'confessed', 'knightleys', 'idiosyncracies', 'kinds', 'griffiths', 'fiona', 'ida', 'deceit', 'prequel', 'batman', 'ramblings', 'board', 'time', 'awkward', 'finally', 'core', 'penns', 'ityoull', 'angels', 'talky', 'mistrys', 'serialbr', 'mempstead', 'intimate', 'concubine', 'davison', 'convincingly', 'train', 'treat', 'gamble', 'passably', 'nominations', 'stretching', 'produce', 'montgomery', 'paragraph', 'futurebr', 'chaos', 'exceptional', 'present', 'upbeat', 'pivotal', 'houses', 'sesame', 'reddishorange', 'yeah', 'betrothed', 'adaptionbr', 'plane', 'outcomes', 'focusing', 'real', 'sweeney', 'overly', 'outstanding', 'happenedjason', 'thornton', 'significant', 'vance', 'bounds', 'beginnings', 'airhead', 'staggering', 'hawthorne', 'pittsburgh', 'chronology', 'parade', 'finitely', 'everywhere', 'guide', 'market', 'vacuous', 'retro', 'buried', 'buildings', 'ping', 'saw', 'cheri', 'weekdays', 'realise', 'breakfast', 'contributions', 'wtf', 'hynkels', 'walks', 'geniality', 'whatever', 'tours', 'fable', '1970br', 'impressive', 'tremendous', 'jacqueline', 'poked', 'causes', 'eccentricity', 'bo', 'heroism', 'craze', 'valkyries', 'men', 'prolonged', 'hesitate', 'unconventional', 'leroy', 'mummys', 'stock', 'deals', 'definite', 'envelope', 'certainly', 'rainstorm', 'pompousness', 'considering', 'mud', 'emerges', 'punchups', 'mood', 'exit', 'hos', 'dabbing', 'amenalthough', 'sill', 'happens', 'armwaving', 'actually', 'oblivionbr', 'deflated', 'nature', 'thirdly', 'gum', 'push', 'arlon', 'sermonizing', 'parts', 'nyquist', '_absurdism', 'werewolf', 'stowaway', 'storiesbr', 'heroine', 'yards', 'papa', 'environmental', 'cube', 'transsexual', 'cameo', 'halfhour', 'portent', 'perfunctory', 'concentrating', 'authors', 'unease', 'offkilter', 'compensate', 'overwhelms', 'chaplins', 'squad', 'substory', 'pleasures', 'sans', 'brilliantly', 'velvet', 'weakwilled', 'following', 'kaufman', 'ignorance', 'arthur', 'poet', 'definatly', 'likable', 'royally', 'fleshy', 'dealers', 'beamings', 'marvel', 'enjoyable', 'dislike', 'demeaning', 'abbott', 'intercut', 'norman', 'manchester', 'easy', 'allows', 'zinta', 'depressing', 'grahame', 'engaged', 'creates', 'volleyball', 'bookstorebr', 'complications', 'feldman', 'dead', 'gabriel', 'impersonate', 'fluffy', 'bringing', 'laughsespecially', 'setups', 'harm', 'explicit', 'petit', 'kittens', 'terms', 'cronenberg', 'charitable', 'prevent', 'wrongdoers', 'deported', 'cadillacloving', 'amber', 'sutra', 'sensation', 'knack', 'sheesh', 'settings', 'rather', 'everyones', 'keeps', 'dullbr', 'oohsoscary', 'prop', 'treatment', 'stuck', 'unconditional', 'conroy', 'unaware', 'doublecrossing', 'leaves', 'moshing', 'preexisting', 'calling', 'prize', 'crucified', 'high', 'miscast', 'fifties', 'unite', 'scar', 'accumulating', 'berryman', 'selfevident', 'sequelsbr', 'matheson', 'troupe', 'babe', 'ring', 'incomprehensible', 'cuter', 'battalion', 'boyfriend', 'greedy', '30', 'fill', 'setting', 'sum', 'confined', 'sails', 'techniques', 'secondgrader', 'drinking', 'boredom', 'whose', 'comparative', 'statue', 'gemser', 'jump', 'pointless', 'watsons', 'mani', 'entries', 'pit', 'job', 'timed', 'marina', 'avantgarde', 'paradoxes', '8yearold', 'insightsbr', 'cant', 'courses', 'dads', 'guiry', 'comic', 'merritt', 'luxury', 'defenseless', 'profane', 'timing', 'spaceship', 'snowcone', '9', 'including', 'finest', 'patriot', 'dvds', 'desolate', 'mostly', 'aftab', 'theatrics', 'skip', 'writtenmessy', 'normal', 'peggy', 'mafia', 'unfortunately', 'kutchek', 'wildly', 'wonderous', 'fling', 'tackling', 'hipness', 'escalating', 'kerwin', 'samuels', 'ears', 'possibility', 'remakes', 'mullet', 'handicapped', 'renner', 'spouses', 'fosters', 'nonamerican', 'sabbato', 'lisp', 'spiral', 'mo', 'returns', 'relation', 'preoccupation', 'astonishingly', 'potatoes', 'root', 'farce', 'bonnaire', 'nabakovs', 'cried', 'pulls', 'costarring', 'greg', 'coaster', 'ohwhere', 'gretta', 'exclamation', 'issues', 'moods', 'seemed', 'gently', 'splattery', 'spocks', 'hillbilly', 'wishing', 'drank', 'tingling', 'ambiguities', 'marie', 'evrybody', 'cibrian', '2001', 'fudge', 'humanity', 'greece', 'backstories', 'ask', 'scroll', 'errupted', 'cromwell', 'woman', 'catharticbr', 'swiri', 'softhearted', 'fate', 'nord', 'henriksen', 'aforementioned', 'personified', 'bodyguards', 'franchise', 'heartpounding', 'gershwin', 'excon', 'laced', 'splitsecond', 'generations', 'noone', 'contrasting', 'darwin', 'disturbed', '1999', 'spectacularbr', 'stewart', 'throne', 'dragging', 'leslie', 'suffered', 'illness', 'underrated', 'saturn', 'sincerity', 'yelled', 'pan', '40s', 'troll', 'missiles', 'orson', 'mess', 'hong', 'afoot', 'nonrefined', 'morningbut', 'sick', 'cries', 'face', 'semiinteresting', 'driving', 'rca', 'realizes', 'ramblingsbr', 'renowned', 'welcome', 'bigger', 'bank', 'sandal', 'afraid', 'aloofness', 'rejected', 'gorehounds', 'couples', 'erected', 'fix', 'jb', 'anxious', 'jiah', 'lusitania', 'freeze', 'reprehensible', 'protg', 'de', 'electronic', 'pompous', 'robot', 'get', 'everything', 'slaughterhouse', 'chucking', 'par', 'dubious', 'mountain', 'glorified', 'wright', 'butthey', 'morebr', 'cosgrove', 'toxic', 'garbage', 'skills', 'zuber', 'artistrybr', 'filled', 'naturally', 'princes', 'runs', 'fostered', 'analysis', 'impressively', 'answer', 'developments', 'tries', 'impotencebr', 'connoisseurs', 'characterisation', 'evacuation', 'macdonald', 'clairvoyant', 'evolution', 'hideous', 'lionel', 'kidnapping', 'voices', 'giovanni', 'matter', 'gogo', 'emotionbr', 'disguises', 'shoulders', 'travesty', '108', 'leader', 'odd', 'able', 'vaugier', 'hometown', 'complimentary', 'gimmicks', 'willis', 'mains', 'saves', 'laos', 'affair', 'c', 'navigate', 'teeny', 'prudish', 'accomplish', 'moviewe', 'oneofakind', 'method', 'les', 'theni', 'gem', 'mass', 'waiting', 'pete', 'gentlemen', 'roedel', 'corridors', 'sacrificebr', 'chilean', 'questioning', 'storylinebr', 'spike', 'well', 'lions', 'live', 'flower', 'quato', 'ledoyen', 'reuben', 'priests', 'hummer', 'incompatible', '360s', 'healthy', 'fundament', 'topics', 'chill', 'abusive', 'cigarette', 'jungle', 'boardbr', 'fortress', 'boils', 'drew', 'considers', 'editor', 'reaching', 'leg', 'jeffrey', 'somewhat', 'foreverbr', 'dismemberment', 'rambling', 'complaining', 'highly', 'diagnosis', 'thumbsup', 'epic', 'pong', 'centerers', 'jamming', 'apparent', 'dramamine', 'hendrix', 'cheech', 'contains', 'sometime', 'unfavourable', 'margheritis', 'clenched', 'accomplishment', 'embarrassed', 'danger', 'examination', 'thousands', 'repetition', 'bring', 'request', 'involved', 'welldressed', 'oneonone', 'drebin', 'teenager', 'underwater', 'forbr', 'apollo', 'informationan', 'disasters', 'communism', 'indulgent', 'bother', 'article', 'guerrilla', 'emerge', 'arebr', 'torks', 'succeeds', 'lauter', 'everybody', 'thing', 'nicely', '3dimensional', 'cooking', '250000', 'jesus', 'entitled', 'moan', 'brown', 'clara', 'fight', 'achieves', 'barbarians', 'characterbr', 'genious', 'freedom', 'operating', 'illadvised', 'beheaded', 'connelly', 'gommorah', 'comstock', 'topnotch', 'continuing', 'chains', '20ish', 'convincing', 'oscarlevel', 'latter', 'hossein', 'oozing', 'chilling', 'attempted', 'beehive', 'drag', 'concepti', 'residing', 'opener', 'havilland', 'stopmotion', 'sociological', 'materialbr', 'brolin', 'sonofgodish', 'spectacularly', 'franchot', 'atvs', 'eighties', 'murders', 'distasteful', 'x', 'hankies', 'wreck', 'flashback', 'favored', 'countless', 'tracy', 'philo', 'w', 'peculiar', 'started', 'unjustly', 'loser', 'justifiable', 'novaks', 'meeting', 'drives', 'truer', 'window', 'insomniacs', 'spend', 'angles', 'trawling', 'mischief', 'blacks', 'mezrich', 'lesbian', 'nation', 'objectives', 'goodlooking', 'faheys', 'oriented', 'village', 'champagne', 'included', 'rudely', 'sharper', 'patientscorbin', 'clean', 'poetry', 'descend', 'issue', 'phenix', '1943', 'strangelove', 'rebellious', 'declares', 'relish', 'confused', 'grandma', 'arduous', 'oddball', 'servants', 'wasteland', 'oxfordeducated', 'throughout', 'ts', 'againbr', 'dick', 'groin', 'unreadable', 'alonebr', 'carradine', 'sneak', 'pointblank', 'miscommunication', 'indie', 'believably', 'superfluously', 'consistent', 'steak', 'girl', 'categorybr', 'fondas', 'airplanes', 'expose', 'nobles', 'explored', 'suzanna', 'rallying', 'williams', 'great', 'explanations', 'munchie', 'avoided', 'rodney', 'credibility', 'baldwin', 'goose', 'hits', 'knew', 'riddicks', 'handful', 'thugs', 'pretend', 'pollute', 'plays', 'munitions', 'momentsbr', 'shaded', '2003s', 'grinding', 'entranced', 'chair', 'listening', 'compelling', 'contentbr', 'specious', 'racing', 'telepathically', 'risk', 'peel', 'tourists', 'improve', 'buildingbr', 'sultry', 'excitied', 'rolled', 'advance', 'ago', 'hike', 'sandwiched', 'unrefined', 'ravers', 'femme', 'anime', 'twin', 'steaming', 'rifle', 'robbery', 'snap', 'explode', 'caliber', 'framing', 'interactions', 'leaning', 'inviting', 'rouse', 'spent', 'retrospectives', 'narrator', 'carnal', 'rejseholdet', 'ford', 'combination', 'cartman', 'days', 'sheybal', 'industry', 'boyana', 'discontentment', 'cheeky', 'mainstream', 'availability', 'undertow', 'romania', 'bikes', 'grabbed', 'shuo', 'ineptitude', 'veterans', 'abortion', 'debts', 'terrific', 'deputy', 'tunnelvision', 'atop', 'worthwhile', 'buys', 'orlando', 'twisting', 'inward', 'roaring', 'commonplace', 'boldly', 'onto', 'clays', 'whos', 'toland', 'caiman', 'paints', 'bells', 'wolfy', 'chirin', 'funnythe', 'overlong', 'appreciates', 'anl', 'hopeful', 'spite', 'counted', 'fought', 'menace', 'standard', 'poetryasgame', 'segel', 'reservoir', 'mccallister', 'linderby', 'unhappily', 'cgi', 'myths', 'incontrollable', 'parables', 'bright', 'voters', 'feeble', 'slang', 'deliverbr', 'defy', 'cling', 'peoplebr', 'meadow', 'sod', 'unsophisticated', 'cliff', 'greatly', 'cinematic', 'wolfgang', 'imdb', 'eva', 'richard', 'disappointed', 'mateys', 'productions', 'impossibly', 'johansen', 'submitting', 'glad', 'hypnotic', 'legally', 'manga', 'popularity', 'amateurism', 'extras', 'respected', 'idiotically', 'bella', '2004', 'unionbr', 'eyeballs', 'treats', 'elinore', 'unnecessary', 'holding', 'vipers', 'learn', 'irresistible', 'gung', 'remain', 'mckennabr', 'mates', 'squalid', 'schwarzeneggerbr', 'obligation', 'tearsbr', 'passed', 'buying', 'plastic', 'angell', 'jaded', 'marrying', 'wastebr', 'hi', 'males', 'andr', 'seems', 'overt', 'deliverance', 'snuff', 'humanist', 'entered', 'commonly', 'populated', 'witch', 'runny', 'intelligent', 'friedl', 'frantically', 'experiences', 'maura', 'yawn', 'panicky', 'behind', 'cronenbergs', 'awardwinning', 'assassinations', 'club', 'dowager', 'harbored', 'dirty', 'preserve', 'creating', 'approve', 'aptly', 'logicbr', 'symbols', 'childhood', 'rebels', 'wasted', 'interviewed', 'interacting', 'subconscious', 'stereotypical', 'daunting', 'teamed', 'skyscraper', 'casnoff', 'borgnine', 'blowtorch', 'terminal', 'intolerable', 'keaton', 'applesbr', 'failed', 'ian', 'rise', 'blown', 'tolerate', 'jasmin', 'imagery', 'en', 'unsuspectingbr', 'brings', 'give', 'revenge', 'captivate', 'sorceress', 'york', 'first', 'homeland', 'awareness', 'six', 'refrain', 'writer', 'reubens', 'laurel', 'ideashmmmm', 'brussel', 'primarily', 'uneven', 'cliched', 'allegorically', 'wwe', 'swarm', 'comparisonand', 'rebecca', 'myselfbr', 'eastbr', 'fixture', 'arrives', 'postmen', 'presence', 'painted', 'downonhisluck', 'brian', 'moral', 'transplant', 'embodied', 'decoy', 'sort', 'commits', 'loving', 'hard', 'exceptionally', 'fakebr', 'dunno', 'investigation', 'trainspotting', 'envy', 'summary', 'adding', 'pact', 'bloodline', 'developed', 'grew', 'cecil', 'bronx', 'disappointment', 'starred', 'fatalistic', 'aggressive', 'crush', 'cloying', 'quaked', 'shirley', 'ground', 'miikes', 'gathering', 'spew', 'firehouse', 'species', 'concepts', 'thelma', 'traditionally', 'world', 'fabric', 'rapes', 'saloon', 'darling', 'toronto', 'commander', 'botched', 'betterment', 'ruined', 'whipping', 'broadcaster', 'ignoring', 'comember', 'csi', 'servillo', 'yemi', 'uttering', 'marquee', 'justified', 'identify', 'unreal', 'needed', 'wine', 'male', 'agreement', 'texture', 'songwriters', 'stopper', 'broke', 'talkies', 'range', 'clipping', 'masterwork', 'performers', 'kendis', 'begonebr', 'lived', 'exgi', 'genrebr', 'stole', 'hughes', 'conclusion', 'considered', 'pretends', 'tables', 'teds', 'rider', 'bang', 'escapes', 'potato', 'completist', 'joes', 'knocks', 'lovebr', 'fi', 'le', 'salsa', 'taught', 'spoon', 'widow', 'help', 'omar', 'spectators', 'collettebr', 'truebr', 'newspapers', 'associated', 'bloodless', 'wwiibr', 'hegedus', 'seat', 'crass', 'suitable', 'dadbr', 'jack', 'farcicalbr', 'circa', 'noon', 'cricket', 'joad', 'fingernails', 'marcus', 'reed', 'meshing', 'alter', 'filmmuseum', 'candlelitgothichousescene', 'poster', 'opening', 'saviour', 'around', 'consist', 'maiden', 'kennedy', 'complacency', 'sensitivity', 'ordered', 'mercifully', 'considerably', 'husband', 'class', 'annoyed', 'respectbr', 'carving', 'turbo', 'implications', 'arse', 'authentic', 'elegant', 'phones', 'intake', 'beard', 'overacting', 'theaters', 'sanity', 'therefore', 'changes', 'soul', 'concludes', 'geek', 'filmbr', 'housing', 'zhang', 'precisely', 'ricca', 'scathingly', 'usually', 'impromptu', 'sat', 'conniver', 'gabrielle', 'lawrence', 'breaksbr', 'remainders', 'homing', 'bogart', 'sail', 'revisited', 'online', 'successfully', 'prebabs', 'astronaut', 'hynkel', 'topshape', 'envelop', 'crain', 'linesan', 'hanekes', 'tangent', 'saint', 'feelings', 'derogatory', 'callow', 'exchanges', 'cave', 'boyce', 'cut', 'refering', 'souls', 'seconds', 'speculative', 'junky', 'untalented', 'visuals', 'regretting', 'dramatic', 'impart', 'invited', 'solomon', 'best', 'moreso', 'operator', 'flynn', 'graveyard', 'highlights', 'consequences', 'half', 'canyons', 'cinema', 'coffee', 'withdrawal', 'leads', 'painter', 'powers', 'appeal', 'montage', 'garner', 'failurebr', 'mistah', 'isnt', 'spits', 'downward', 'businessmen', 'yearning', 'frequently', 'amateurish', 'unrealistic', 'wore', 'credit', 'indian', 'las', 'crunching', 'fame', 'predictably', 'dru', 'gummere', 'graphics', 'k', 'gabriella', 'swelled', 'marlene', 'australian', 'samanthabut', 'stewing', 'abolitionist', 'pervasive', 'hr', 'merrkensen', 'hitchcockian', 'lazarus', 'ashamed', 'idea', 'comments', 'sack', 'achieving', 'swayze', 'genuine', 'wrecked', 'bestsellerists', 'subsequently', 'gab', 'drugs', 'blockbuster', 'uneventful', 'nudie', 'nag', 'boxers', 'initially', 'isabelle', 'barkers', 'killed', 'difficulty', 'festival', 'wiry', 'potentially', 'courtyard', 'execute', 'narratives', 'partners', 'snooty', 'canal', 'tickles', 'recognise', 'tipping', 'mid70s', 'fiefdom', 'maybe', 'assembled', 'gentlelooking', 'book', 'adorably', 'cobweb', 'neve', 'decorating', 'overrated', 'owner', 'practicable', '1973', 'daryl', 'accomplicebr', 'rocky', 'hug', 'expunker', 'francoise', 'numbers', 'charley', 'keene', 'movietoo', 'function', 'instrument', 'berber', 'reciting', 'beheading', 'massacring', 'traditional', 'inspiringplus', 'dirge', 'carelessbr', 'vinci', 'philippines', 'submitted', 'patternsbr', 'michael', 'cops', 'fond', 'weapons', 'harder', 'onei', 'jacuzzibr', 'waynes', 'detonation', 'began', 'fidani', 'reins', 'stairsbr', 'funnier', 'muthamittal', 'madcap', 'scratching', 'mishmash', 'mackeson', 'dumber', 'extra', 'reasons', 'impetus', 'beautifully', 'nameless', 'valuebr', 'cutesy', 'siutung', 'storybr', 'theyve', 'unsatisfactory', 'established', 'objections', 'trolley', 'carmen', 'surefire', 'pretending', 'rhythms', 'unimaginative', 'mistreatment', 'exciting', 'admire', 'scale', 'beneath', 'respectable', 'loud', 'seen', 'traded', 'ages', 'nonsensical', 'ailing', 'bangs', 'assistantbr', 'evokes', 'practically', 'wrapped', 'hg', 'qui', 'miserably', 'grasp', 'lewbert', 'eventual', 'adventureoh', 'stylish', 'streams', 'draws', 'polish', 'surviving', 'ripping', 'closest', 'held', 'previewsbr', 'interviews', 'violent', 'mule', '13th', 'enlistbr', 'surprised', 'err', 'sequences', 'borrows', 'dares', 'ton', 'maze', 'gregg', 'ustinov', 'lloyd', 'educational', 'duality', 'contaminate', 'greatgrandmothers', 'founding', 'obsession', 'vetted', 'moviemake', 'persistent', '3s', 'fully', 'lounging', 'tree', 'jonathan', 'aloft', 'quarters', 'weighed', 'fysicaly', 'forsythe', 'dishwater', 'embarrassing', 'much', '1996', 'juliette', 'lipps', 'drove', 'elevating', 'grateful', 'dolenz', 'crybr', 'ross', 'repeatedly', 'slapstick', 'ok', 'kuriyami', 'fabulous', 'moved', 'unacceptable', 'glass', 'solar', 'hires', 'mere', 'puling', 'clips', 'abrupt', 'reborn', 'crisi', 'curdling', 'hal', 'yokels', 'babs', 'aniston', 'theme', 'corruption', 'liquefying', 'success', 'jaja', 'childbr', 'systembr', 'glaad', 'relief', 'alden', 'color', 'appearing', 'hallgren', 'racks', 'professional', 'inexperienced', 'justin', 'void', 'wildeyed', 'dressing', 'spends', 'bags', 'heartbreaking', 'crafty', 'hellraiser', 'marchs', 'peaked', 'limp', 'gdon', 'prospect', 'rural', 'unnerving', 'angst', 'alma', 'defininitive', 'dysfunctional', 'expensive', 'ceiling', 'despicable', 'romantically', 'crisscross', 'murray', '60s', 'theyre', 'hat', 'deol', 'nam', 'realistic', 'alibis', 'decapitated', 'waning', 'condition', 'bury', 'introduces', 'maggie', 'hand', 'longest', 'hocken', 'dialect', 'helpful', 'autobiography', 'daness', 'barnyard', 'glc', 'grows', 'royston', 'ryans', 'recording', 'twitchfest', 'pleases', 'interviewing', 'candles', 'interests', 'histrionics', 'conclusions', 'pat', 'mst3k', 'dumps', 'raids', 'vasilyev', 'holed', 'onslow', 'anticipation', 'miranda', 'borrow', 'unconvincing', 'frombr', 'writings', 'bete', 'easygoing', 'tail', 'desperation', 'united', 'paint', 'portrayed', 'admires', 'invent', 'aluminum', 'hollywoods', 'dank', 'anywaybr', 'shut', 'ambition', 'surfing', 'customary', '2hour', 'bit', 'firebreather', 'exemplary', 'locksmith', 'shenanigans', 'du', 'elmer', 'possibilities', 'miles', 'gets', 'neat', 'dimly', 'pleased', 'loyal', 'remembers', 'sensational', 'craftsmanship', 'authenticating', 'griefand', 'thingll', 'judged', 'alcoholic', 'outside', 'onyulo', 'circus', 'sheer', 'skit', 'hardy', 'peacemaker', 'maybury', 'nobody', 'berets', 'committed', 'horses', 'using', 'psychoanalytic', 'attractive', 'duo', 'varod', 'fades', 'gunning', 'dawber', 'fleischer', 'universe', 'jewel', 'lookedbr', 'kumar', 'decisive', 'disco', 'slew', 'trash', 'hawke', 'brunos', 'selfish', 'gaps', 'blush', '10', 'middle', 'combat', 'justifying', 'sounds', 'highpitch', 'gustafssonrole', 'charles', 'airline', 'cautious', 'mom', 'northam', 'whereabouts', 'matt', 'sellers', 'russellbr', 'hotels', 'turn', 'forgivable', 'lumps', 'vocabulary', 'conquest', 'debut', 'quaid', 'emery', 'trade', 'babies', 'spotlessly', 'wonderawful', 'rung', 'jacobi', 'pitiable', 'finishbr', 'itz', 'jerky', 'halfcaste', 'woken', 'problems', 'btw', 'renders', 'edge2', 'expect', 'delve', 'norm', 'squirrel', 'alyn', 'music', 'tropes', 'kempers', 'ticket', 'sexuality', 'everybodys', 'underwhelmed', 'unknown', 'sorcererbr', 'remarkably', 'layer', 'reminding', 'expense', 'rats', 'dove', 'sleep', 'overnight', 'beating', 'butter', 'sells', 'endno', 'prurient', 'approval', 'rubber', 'orchestrating', 'logan', 'unsubtle', 'americabr', 'unexpected', 'expressionless', 'decent', 'coats', 'savouredbr', 'land', 'flirts', 'mission', 'tudgemen', 'creators', 'combine', 'schell', 'sims', 'kurosawa', 'demises', 'restaurant', 'impaled', 'favourite', 'porno', 'drawn', 'gale', 'bahamas', 'flow', 'hark', 'chevy', 'subsequent', 'advantage', 'prevalent', 'conveniences', 'battles', 'starting', 'mental', 'realising', 'certain', 'endure', 'nietzsche', 'accentuates', 'reeks', 'torture', 'upstairs', 'rea', 'personality', 'scripting', 'needles', 'chick', 'constantly', 'steamy', 'fierce', 'dussel', 'ways1', 'indicate', 'unartsybr', 'roped', 'adams', 'wannabe', 'nostril', 'stacy', 'ki', 'pizza', 'hunt', 'captivated', 'mischievous', 'lapse', 'either', 'wellshe', 'soapdish', 'moronic', 'gorgeous', 'bogey', 'semiserious', 'abruptly', 'illogical', 'garib', 'chivalry', 'conny', 'cummings', 'dictator', 'scalpel', 'lapd', 'wisdom', 'multileveled', 'reckoned', 'derangement', 'sullivan', 'tiresome', 'messages', 'favorites', 'passengers', 'rightbr', '21', 'spazzboy', 'trailer', 'perps', 'imaginary', 'alan', 'humans', 'pioneer', 'clanks', 'harshness', 'wellwritten', 'difficult', 'saturday', 'skellington', 'clock', 'another', 'atmosphere', 'effectbr', 'mentality', 'dealt', 'carlito', 'sjberg', 'da', 'buy', 'crooked', 'sooo', 'customers', 'shelves', 'molten', 'worlds', '70', 'minimum', 'rappers', 'streaks', 'curtain', 'landing', 'unfunnybr', 'raspberries', 'fetty', 'quantrill', 'im', 'vitelli', 'red', 'hardcore', 'grin', 'spanish', 'admitting', 'suffer', 'nearby', 'illustrations', 'directors', 'registers', 'wendy', 'literature', 'extricating', 'conspiracy', 'opportunist', 'feelbr', 'pursue', 'ishimoto', 'perfectly', 'incomparable', 'barcrawling', 'brodie', 'clouds', 'filmmaker', 'stockard', 'uninteresting', '1925', 'genius', 'sadlyanonymous', 'rectified', 'gay', 'marx', 'churn', 'foxhole', 'levinsons', 'impetuous', 'kicks', 'army', 'bullock', 'bachelors', 'dhupia', 'flavoured', 'soft', 'injustise', 'demon', 'interestingbr', 'misadventures', 'philip', 'organically', 'christie', 'interestingly', 'doubting', 'brush', 'nba', 'repeating', 'simplicity', 'grace', 'cw', 'okay', 'notable', 'genuinely', 'promote', 'vessels', 'motions', 'purposeful', 'conveyor', 'melancholy', 'thoughtfully', 'forth', 'kindly', 'trapped', 'diet', 'incidents', 'ipod', 'laptop', 'stephanois', 'ironies', 'fifteen', 'absolutey', 'mariana', 'fitness', 'sorrow', 'pushed', 'whacky', 'towers', 'famed', 'food', 'tame', 'mentally', 'mcboy', 'selection', 'serve', 'girlnextdoor', 'commanding', 'reloaded', 'underdeveloped', 'helped', 'office', 'come', 'strangler', 'l', 'chip', 'landlady', 'electrifying', 'underwent', 'evolvedi', 'authorities', 'tonight', 'doodle', 'sadly', 'sacrifice', 'dealing', 'additionally', 'survival', 'fugitive', 'electricity', 'jailbr', 'select', 'cable', 'allbr', 'entrance', 'rabbit', 'seattle', 'telegraphed', '399br', 'goodies', 'rests', 'reflects', 'cremating', 'mebr', 'banderas', 'cast', 'sixties', 'stomping', 'brimstone', 'demographic', 'batfan', 'cyberspacebr', 'gabriellas', 'vibrant', 'holder', 'doting', 'lovely', 'clues', '8th', 'triedandtested', 'natural', 'quantitybr', 'vain', 'bottled', 'bgrade', 'plans', 'blunt', 'examplepeter', 'reference', 'shamelessly', 'purgers', 'mustache', 'teeth', 'aleksandrov', 'curiositymake', 'honey', 'copsbr', 'goodness', 'lom', 'longer', 'skeleton', 'consumptive', 'johns', 'revolutionary', 'leading', 'questions', 'pure', 'eugene', 'dozen', 'terry', 'await', 'strong', 'teats', 'indeed', 'pflug', 'machine', 'millie', 'familiar', 'minnelli', 'lulu', 'cetera', 'coe', 'spooky', 'clavier', 'hopeless', 'distinctly', 'mothers', 'conceive', 'insecurity', 'tend', 'virus', 'straightbr', 'griffith', 'flop', 'basics', 'smith', 'feeling', 'behavior', 'reacting', 'thoughbr', 'homecoming', 'burning', 'youtube', 'asshole', 'promised', 'boll', 'hassling', 'scheduling', 'challenged', 'depicted', 'redeems', 'ethics', 'estranged', 'adam', 'outbr', 'immediate', 'kazuo', 'impeded', 'suburban', 'election', 'purveyors', 'scams', 'theoretical', 'contorted', 'ho', 'stern', 'ambiance', '15', 'lorre', 'nymphomaniac', 'healey', 'filter', 'mists', 'wizard', 'dollar', 'teambr', 'thrown', 'mixing', 'queen', 'tackled', 'braveheart', 'bruno', 'japanese', 'heed', 'identifying', 'good', 'stewardship', 'geishasbr', 'overreaction', 'walbash', 'agrees', 'bainter', 'paperthin', 'amazingbr', 'warbr', 'heartfelt', 'reissued', 'asner', 'douglas', 'bashed', 'useless', 'rage', 'fare', 'degrading', 'sobering', '109', 'nearly', 'vanishing', 'coproducer', 'tautlywritten', 'lyrics', 'interconnected', 'problembr', 'cushing', 'editing', 'dumb', 'fifth', 'promises', 'flaubert', 'interweaving', 'inserts', 'scenario', 'deeply', 'brute', 'repeat', 'alone', 'similarity', 'foul', '23rd', 'themselvesbr', 'osborne', 'nsa', 'cuba', 'omnipotent', 'showstopper', 'editorial', 'hitchcocks', 'ammunition', 'erle', 'henchmen', 'mitchells', 'classify', 'hoffman', 'unfairly', 'shallow', 'typical', 'brass', 'writing', 'punishable', 'antonio', 'celebration', 'green', 'subculture', 'nevermind', 'controversially', 'invest', 'semidecent', 'introducing', 'contend', 'roasts', 'headbr', 'mariachilevel', 'letdown', 'reluctance', 'literal', 'positively', 'reminisced', 'typcial', 'mice', 'revolution', 'sober', 'internecine', 'rewarding', 'alive', 'speaks', 'dispatched', 'strongly', 'cruddy', 'sketchstyle', 'singlehandedly', 'mike', 'recognizes', 'yimous', 'importantly', 'gone', 'farrell', 'moderately', 'geer', 'demonstrates', 'deliciously', 'painful', 'predecessor', 'sublimated', 'philosopher', 'firmly', 'firstever', 'normally', 'lightweight', 'omission', 'credence', 'gangsterism', 'thwart', 'pinpoints', 'blatantly', 'termed', 'roundtree', 'inconsistency', 'ironically', 'alesandr', 'toni', 'legality', 'scratch', 'hasselhoff', 'cia', 'caper', 'crocodile', 'mute', '4th', 'parasite', 'post', 'minimal', 'fetishes', 'pointed', 'kermit', 'cats', 'verne', 'radical', 'session', 'drummer', 'gabbarbr', 'attaching', 'bureaus', 'intersections', 'tralala', 'actorsthey', 'enjoyablebr', 'twain', 'stands', 'feinstone', 'thats', 'chess', 'rain', 'jo', 'pumpkins', 'sandy', 'memorable', 'trend', 'espionage', 'weathered', 'sleazefest', 'hutton', 'bands', 'moron', 'trainbr', 'equivalent', 'florence', 'assumed', 'peeping', 'steven', 'wholebr', 'hackneyed', 'mysterious', 'villain', 'summer', 'convoluted', 'football', 'displayed', 'guinness', 'minor', 'rushes', 'wager', 'wrongheaded', 'waste', 'valentina', 'hour', 'loring', 'handsome', 'tate', 'calls', 'versa', 'depict', 'questionable', 'harmonious', 'lavish', 'palusky', 'paxton', 'hart', 'aides', 'homework', 'manipulating', 'symbolism', 'cellar', 'brad', 'feel', 'rollbr', 'clients', 'indeedbr', 'impeccable', 'uncomfortable', 'technicolour', 'beak', 'defend', 'een', '1977s', 'lot', 'genres', 'uniform', 'observe', 'horrific', 'crawl', 'schildkraut', 'exploitationcinema', 'lmerchant', 'harbor', 'vibrato', 'directions', 'charade', 'division', 'tingwei', 'smithereens', 'settlement', 'jeans', 'banal', 'sorrier', 'simultaneous', 'borges', 'mystery', 'ultimately', 'sikh', 'nevsy', 'edwards', 'armed', 'snotty', 'seeing', 'outrageous', 'contribute', 'wherever', 'recount', 'donovan', 'manhole', 'seuss', 'everyday', 'limbless', 'abundance', 'masami', 'bear', 'graphic', 'mcallister', 'rescues', 'beauty', 'deception', 'layout', 'resembling', 'placing', 'weary', 'separate', 'camcorders', 'glimpses', 'doll', 'enhances', 'beery', 'plight', 'sodastained', 'scott', 'weaponsbr', 'ensues', 'carell', 'manifest', 'packing', 'compiled', 'halt', 'coppola', 'wolf', 'adjectives', 'kentucky', 'meryl', 'steals', 'rarity', 'bout', 'shed', 'directs', 'bobby', 'pages', 'complaint', 'copying', 'graduate', 'unfolds', 'hanzo', 'advertising', 'replaced', 'beckinsale', 'keenly', 'prostitute', 'shabana', 'jimmie', 'gordo', 'tendency', 'humorous', 'mighty', 'anesthesia', 'suitablebr', 'silliness', 'mistaken', 'grandparents', 'fansbr', 'shot', 'troop', 'demise', 'searchers', 'psychedelic', 'spawned', 'temperament', 'envious', 'occasionally', 'solemn', 'jail', 'wa', 'final', 'bitterness', 'vida', 'rule', 'runner', 'whimper', 'ambler', 'familiarone', 'consists', 'phoning', 'shes', 'dreyfus', 'stewarts', 'presents', 'mallik', 'nightingale', 'candidate', 'effort', 'seventiesdrag', 'partbr', 'warfel', 'inflected', 'council', 'cambridge', 'tcm', 'depth', 'sylvia', 'wow', 'weed', 'depictions', 'vision', 'dictionary', 'thesiger', 'mettle', 'contribution', 'crushed', 'handled', 'hbomb', 'kicked', 'patients', 'learning', 'industrialist', 'thinkers', 'maintaining', 'cheryl', 'archer', 'afterbr', 'osterlich', '1863', 'movingly', 'two', 'subject', 'insecurities', 'hanlons', 'cheney', 'categories', 'unthreatening', 'dose', 'leontine', 'prove', '1984', 'batmanbr', 'confrontation', 'ultimate', 'cheers', 'programming', 'emotional', 'grady', 'immigrants', 'taxiing', 'rhysmeyers', 'protect', 'ks', 'realises', 'gape', 'unity', 'holt', 'tedious', 'vetoed', 'inane', 'doorways', '13', 'villager', 'block', 'charlies', 'drain', 'antiwar', 'das', 'ideal', 'threeway', 'tight', 'cheese', 'official', 'knef', 'cross', 'dunking', 'astounds', 'bloodiest', 'howd', 'quasislave', 'strained', 'round', 'ocean', 'barely', 'gawd', 'neil', 'ultrasound', 'benson', 'murdering', 'phenomenally', 'flicks', 'neighbor', 'mindlessly', 'poorlydirected', 'bmovie', 'spotted', 'brat', 'boringbr', 'democracybr', 'length', 'crafted', 'psychologically', 'metropolis', 'aint', 'punishing', 'eclectic', 'encourage', 'represents', 'mtv', 'caf', 'tess', 'dreams', 'tunes', 'begins', 'womans', 'snowballs', 'wouldt', 'heavyhanded', 'nitwits', 'continuation', 'chapmanbr', 'clerk', 'midnight', 'grahames', 'privilege', 'announcer', 'whala', 'misplaced', 'slick', 'quirk', 'incidentally', 'kelly', 'bully', 'naivity', 'degenerates', 'poorest', 'bald', 'ii', 'rituals', 'secrecy', 'tune', 'ballet', 'gandolfini', 'stop', 'hippies', 'invitation', 'unified', 'wouldnt', 'honour', 'yearnot', 'inconsequential', 'favor', 'cook', 'facial', 'logically', 'cooperate', 'patricyoure', 'lands', 'masatoshi', 'gateway', 'djinn', 'civil', 'hao', 'cicely', 'anonymously', 'addresses', 'teaching', 'important', 'worse', 'category', 'bevy', 'anthem', 'jellinek', 'ta', 'racismbr', 'committing', 'barrier', 'decapitating', 'terror', 'cara', 'want', 'goof', 'dropped', 'album', 'winters', 'allow', 'feud', 'dee', 'breathing', 'passively', 'justify', 'sculpture', 'morning', 'streeps', 'motivation', 'possession', 'conversation', 'prejudice', 'uncharted', 'virtues', 'visitor', 'sandbr', 'china', 'needle', 'shakespeare', 'seller', 'foreboding', 'homage', 'joystick', 'shirts', 'camera', 'tarantinos', 'formula', 'warners', 'interaction', 'picture', 'stan', 'surgical', 'strangle', 'patricidebr', 'undertake', 'negotiates', 'evoke', 'meld', 'indulge', 'kidneys', 'pool', 'tormented', 'bill', 'surprises', 'dildos', 'prestigious', 'callous', 'casper', 'invites', 'tread', 'snowcones', '2nd', 'kidding', 'nutjob', 'h3', 'convenience', 'resembled', 'various', 'malfunctions', 'correlation', 'serge', 'adequate', 'seedy', 'incoherent', 'shouldve', 'stayed', 'jacking', 'quasidramatizations', 'viewing', 'martyr', 'include', 'eyecatchers', 'video', 'greatest', 'embracing', 'discontent', 'tense', 'notation', 'admit', 'selective', 'ambassador', 'boneand', 'opera', 'discussing', 'pride', '1995s', 'irrational', 'wittgenstein', 'conflict', 'oneline', '92', 'smoothly', 'soap', 'timler', 'marine', 'peking', 'marc', 'lee', 'ruby', 'dame', 'timeless', 'ar', 'buster', 'directorial', 'lent', 'never', 'mix', 'popping', 'barn', 'openers', 'neverending', 'played', 'filtering', 'fatigue', 'brave', 'sweet', 'deceptively', 'tarnished', 'lowell', 'horace', 'hopefully', 'nights', 'inflicting', 'brashnessbr', 'dumbest', 'summit', 'frankensteins', 'recognize', 'orgiesbr', 'solution', 'rendered', 'greatgrandmother', 'stuff', 'odious', 'reasonsthese', 'abound', 'inevitably', 'works', 'sports', 'negotiator', 'still', 'devoy', 'quick', 'offered', 'hatton', 'carrots', 'conservativeminded', 'military', 'sand', 'chiles', 'harriet', 'fantasies', 'citizens', 'holes', 'obtaining', 'ball', 'wilderness', 'passion', 'pasting', 'wayne', 'unspeakably', 'garment', 'pakistan', 'specialistbr', 'hardly', 'expert', 'milk', 'evening', 'paganism', '20s', 'lake', 'thomerson', 'resistible', 'assemblage', 'mozart', 'eccleston', 'reckon', 'standardissue', 'proof', 'forgettable', 'headed', 'baffle', 'izzard', 'servers', 'tracked', 'lighthearted', 'brilliance', 'hybrid', 'policemen', 'stringent', 'foreshadowing', 'upsidedown', 'amoral', 'planet', 'matured', 'chest', 'elderly', 'python', 'abu', 'flatliners', 'weakest', 'sequence', 'himmelen', 'moreno', 'bugs', 'medic', 'garnered', 'reincarnation', 'explore', 'executive', 'glued', 'ninebr', 'candy', 'tab', 'jessica', 'guessed', 'wellmeaning', 'snakes', 'trumped', 'lessons', 'coke', 'vivienne', 'expectations', 'exercises', 'stories', 'garys', 'route', 'perpetrated', 'transformation', 'tastes', 'poetic', 'stroke', 'price', 'perverts', 'busta', 'letter', 'eventually', 'obsessively', 'prefect', 'caribbean', 'wet', 'gamer', 'questionably', 'redfield', 'eat', 'directori', 'volition', 'akshay', 'liston', 'fianc', 'content', 'ranks', 'underused', 'confirm', 'instead', 'remade', 'nukes', 'oberon', 'artifacts', 'mendez', 'dreamworld', 'expected', 'suitably', 'hartley', 'respect', 'components', 'diologue', 'triumphs', 'xrating', 'landings', 'interesting', 'hereim', 'smiley', 'mikes', 'matthews', 'welcomed', 'contention', 'kilgore', 'halfhearted', 'whines', 'seinfeld', 'burden', 'confronting', 'calm', 'annoy', 'kidnappers', 'fantasymonsters', 'hogan', 'rental', 'americas', 'upset', 'deathbattleship', 'maria', 'conglomeration', 'dunkbr', 'shouldnt', 'shoots', 'macy', 'unless', 'icarly', 'involves', 'chunk', 'timeline', 'deserved', 'onedimensionality', 'analogy', 'fatebr', 'scared', 'iek', 'cashin', 'enterprise', 'moores', 'brokendown', 'stalin', 'global', 'persuasively', 'word', 'andy', 'distributor', 'value', 'exploited', 'courts', 'wild', 'modest', 'mccalman', 'staring', 'criminally', 'bewitching', 'slowmoving', 'pintsized', 'relied', 'kids', 'messiah', 'costellos', 'dwellings', 'ha', 'beautifulbr', 'includes', 'glaring', 'modernized', 'ruthlessnes', 'tens', 'ackroyds', 'heavy', 'tragediesbr', 'switch', 'motives', 'gypsy', 'blows', 'daily', 'muchmaligned', 'morally', 'weeks', 'pipesmoking', 'hurtbr', 'retelling', 'danny', 'territory', 't101', 'depravity', 'involve', 'insists', 'tinge', 'promos', 'trance', 'dingy', 'moscow', 'cautionary', '63', 'battlespace', 'upsetting', 'thrillermasterpiece', 'charge', 'kindergarten', 'trashy', 'mgm', 'coverup', 'yummmmmbr', 'comical', 'claire', 'cracked', 'nonpal', 'westerns', '101', 'pinup', 'earth', 'kubricks', 'noticing', 'durga', 'occur', 'terence', 'schism', 'overwrought', 'credited', 'developmentunderscored', 'pancakes', 'testament', 'monk', 'downbr', 'nephew', 'tom', 'sugarcoat', 'nonexistent', 'dances', 'dammes', 'warns', 'radio', 'dylan', '90s', 'outdoors', 'producer', 'knuckle', 'countries', 'stroud', 'beat', 'forddirected', 'allies', 'belittles', 'reignite', 'chaste', '1949', 'era', 'humble', 'martin', 'paraphrase', 'limit', 'minded', 'vault', 'billy', 'portraying', 'unintelligiblebr', 'rose', 'utterly', 'tracie', 'smouldering', 'specially', 'consistency', 'fairy', 'correct', 'virginitybr', 'ribisis', 'simplifying', 'caladan', 'industrial', 'sentences', 'rewritten', 'receiving', 'turned', 'celaschi', 'pukes', 'fishburn', 'julia', 'receipe', 'martinez', 'backgroundbr', 'christianled', 'clarkson', 'liberties', 'miracle', 'hint', 'saddled', 'producerand', '64square', 'workday', 'widens', 'levels', 'stitches', 'destiny', 'made', 'superb', 'basis', 'slot', 'laying', 'september', 'extremebr', 'slaps', 'fly', 'warsetting', 'serum', 'goal', 'loo', 'comedic', 'clothes', 'loudly', 'churchs', 'bovary', 'agony', 'situations', 'alike', 'suspend', 'currently', 'miami', 'showcase', 'phases', 'lovable', 'bullying', 'teenage', 'hues', 'stowe', 'annie', 'ingenious', 'bashevis', 'sawing', 'skinheads', 'wrath', 'recoup', 'signal', 'devils', 'koji', 'prey', 'anything', 'drop', 'cosmetic', 'liu', 'sympathy', 'friday', 'magots', 'possibly', 'closing', 'horrible', 'oldschool', 'tons', 'initial', 'kei', 'references', 'nonchalance', 'someones', 'guessing', 'reaffirm', 'mocks', 'inserting', 'resurrect', 'canary', 'nathans', 'scoots', 'bared', 'lampoon', 'liberation', 'welldone', 'edgebr', 'tiedye', 'lite', 'basedits', 'amputated', 'ransacked', '1972', 'adetokumboh', 'whats', 'pals', 'fonda', 'sfx', 'pianist', 'horribly', '45', 'amid', 'majesty', 'punk', 'lengthy', 'antipathetic', 'walt', 'capt', 'f18', 'jet', 'kikuno', 'morals', 'ginny', 'scare', 'yearold', 'veronica', 'jawdroppingly', 'planche', 'generating', '51', 'lanes', 'ricci', 'tow', 'etcyou', 'correction', 'violenceasentertainment', 'auld', 'germans', 'manages', 'transported', 'sample', 'landscape', 'keep', 'letisha', 'horrendous', 'biography', 'years', 'greene', 'crams', 'aimee', 'frail', 'regularly', 'kneejerk', 'witnessed', 'tim', '2', 'fingers', 'nostalgia', 'related', 'eyesfinal', 'consulting', 'reviews', 'friendsbr', 'jolie', 'venture', 'stopbr', 'intrigue', 'god', 'onbr', 'unknowns', 'widely', 'satisfaction', 'racebr', 'impotent', 'saintly', 'guidance', 'stoners', 'woolnough', 'grieving', 'woefully', 'court', 'trap', 'cowl', 'object', 'running', 'starfleet', 'attend', 'nifty', 'judy', 'earlier', 'actress', 'sacramentos', 'chenli', 'afterwards', 'faster', 'poisoning', 'measure', 'nowit', 'assisting', 'harold', 'sunny', 'missionary', 'motifs', 'connected', 'dehavillands', 'que', 'oceans', 'tension', 'fade', 'absent', 'lowrie', 'bottom', 'compost', 'maldive', 'elisha', 'hints', 'rightwing', 'restricted', 'interviewsbr', 'incredulous', 'fan', 'western', 'pudgy', 'disneylike', 'malik', 'artifice', 'converting', 'intercuts', 'vitro', 'husbands', 'acquaintances', 'stronger', 'doubts', 'thrilled', 'possible', 'krige', 'stranglehold', 'fay', 'blob', 'gibberish', 'twins', 'accounts', 'bud', 'untrue', 'hokey', 'tipoff', 'grownup', 'artifact', 'gaelic', 'wirework', 'please', 'filmed', 'suspects', 'blackmailing', 'shoe', 'slackjawed', 'store', 'grinch', 'unto', 'loken', 'focused', 'barbs', 'flickbr', 'external', 'playbr', 'youre', 'inevitable', 'worldweariness', 'joyces', 'weak', 'pointing', 'pa', 'bermensch', 'keen', 'boxing', 'purporting', 'viewings', 'chow', 'apocryphal', 'effeminate', 'conductor', 'mightve', 'choir', 'ensemble', 'spared', 'alien', 'mindnumbing', 'granduncle', 'former', 'relate', 'supports', 'heap', 'tirade', 'undeveloped', 'anticipated', 'layerbr', 'mormon', 'clear', 'instability', 'bosworth', 'soppy', 'bought', 'jokes', 'awfuland', 'dip', 'pictures', 'adolescence', 'inergy', 'dirtmaster', 'locked', 'sexmad', 'abrasive', 'seeming', 'ship', 'sermon', 'packed', 'jackie', 'production', 'reconsidered', 'feared', 'speed', 'beef', 'spring', 'therere', 'earn', 'paced', 'guilt', 'comparisons', 'cubes', 'simple', 'clumsiness', 'culled', 'garden', 'roses', 'blade', 'elisabeth', 'plank', 'drugaddicted', 'palace', 'hildegard', 'pierce', 'amphitheater', 'craven', 'historians', 'stoic', 'angus', 'sunlight', 'hed', 'trotted', 'unaccustomed', 'bittersweetness', 'devoted', 'pop', 'goer', 'prior', 'fracture', 'tie', 'trample', 'revealed', 'reincarnated', 'committee', 'insipidbut', 'sica', 'kronos', 'plant', 'interestbr', 'forgetting', 'budgets', 'amused', 'dangled', 'states', 'quits', 'josephine', 'madre', 'contest', 'boppers', 'dialogues', 'turtle', 'company', 'f', 'pathetically', 'reviewer', 'siv', 'superior', 'mic', 'alternate', 'shlitz', 'batcave', 'quirky', 'absence', 'concerned', 'pointbr', 'simplistic', 'clip', 'chills', 'professionbr', 'handling', 'teens', 'promise', 'carlitos', 'sngbr', 'community', 'drunkard', 'hail', 'versus', 'hasnt', 'duchovny', 'architects', 'toss', 'antifascist', 'arise', 'curtiz', 'ie', 'save', 'auto', 'technical', 'stomachs', 'ominously', 'goodgirl', 'mechanism', 'filling', 'dental', 'novel', 'panache', 'immersed', 'paris', 'dgrade', 'frying', 'slated', 'funding', 'ponder', 'grave', 'cleef', 'elevate', 'owners', 'shiver', 'human', 'apologist', 'styles', 'maneuvers', 'timothy', 'pretext', 'repenting', 'outrage', 'rat', 'slovenian', 'holly', 'moviesthis', 'destroy', 'marketing', 'walking', 'pants', 'wellif', 'merchant', 'creator', 'wyler', 'soldat', 'battle', 'heavily', 'trembling', 'fistful', 'itll', 'turner', 'lets', 'passenger', 'tribe', 'internal', 'belong', 'ruin', 'reflected', 'dawn', 'combustible', 'atmospheric', 'studies', 'exist', 'choice', 'succeeded', 'liang', 'bag', 'traders', 'decidedly', 'deists', 'pronounce', 'hotel', 'miteita', 'forty', 'earned', 'damning', 'hastily', 'suspicion', 'exercise', 'drama', '100', 'bickering', 'precodes', 'smile', 'lonesome', 'gimmickladen', 'yep', 'active', 'takes', 'sugarhigh', 'noirs', 'sharif', 'commercialism', 'mans', 'primitive', 'jakes', 'separated', 'sucks', 'bunnydaffy', 'divisions', 'jobs', 'tussle', 'centers', 'saccharine', 'redundancy', '1990sbr', 'devastated', 'brandos', 'governments', 'psychiatric', 'malamuds', 'jinx', 'trimmed', 'subway', 'pj', 'charm', 'dossiers', 'actions', 'frost', 'legal', 'grow', 'abused', 'matrixbr', 'stopping', 'painting', 'applaud', 'sequels', 'swirled', 'gestures', 'harry', 'murali', 'unintentional', '21st', 'wellalong', 'requires', 'stones', 'see14', 'pregnant', 'night', 'awara', 'turbulent', 'eating', 'inky', 'rapierlike', 'causing', '199', 'stephen', 'wilkinson', 'talking', 'comfortable', 'training', 'perry', 'secret', 'intimately', 'notoriety', 'basically', 'occasional', 'worries', 'metal', 'arms', 'eyebrows', 'lies', 'leaking', 'craft', 'tr', 'utilizing', 'mouse', 'corpses', 'ballesta', 'unwanted', 'stonefaced', 'sacastic', 'sharply', 'capturing', 'hallmark', 'bettany', 'letters', 'difference', 'ginas', 'touched', 'teacher', 'unseen', 'killer', 'devotion', 'protagonists', 'chemicals', 'slow', 'smacks', 'proposals', 'monster', 'ado', 'whatbr', 'masters', 'guard', 'chopsocky', 'happeningbr', 'latex', 'von', 'outcome', 'climax', 'sensationalism', 'puppets', 'soderbergh', 'sidesbr', 'layers', 'transvestite', 'murder', 'issueoftheweek', 'succumbs', 'dutifully', 'cowriter', 'barkin', 'independently', 'slice', 'saboteur', 'eyepatch', 'situationbr', 'guild', 'mad', 'hobart', '2003', 'violencebr', 'strengthening', 'nastily', 'requisite', 'devon', 'intoxicated', 'medium', 'carolinas', 'offended', 'wellbr', 'developing', 'wordy', 'hides', 'bigscreen', 'ofbr', 'schumacher', 'budgetbr', 'razor', 'derisively', 'unpredictable', 'eons', 'sitting', 'field', 'demanding', 'caricatures', 'seasons', 'cameos', 'ventura', 'suns', 'figured', 'midteens', 'nyqvist', 'condemnationbr', 'kumai', 'psychological', 'freemans', 'holocaust', 'boogers', 'shawn', 'industrybr', 'construction', 'whorebr', '37', 'angel', 'mitchellbr', 'paulo', 'slipped', 'budget', 'slept', 'emmas', 'formed', 'stunt', 'gathered', 'angela', 'easier', 'networks', 'chief', 'rewatch', 'otherwise', 'sexhumor', 'astonishing', 'troisbr', 'stages', 'raped', 'formbr', 'disrespectful', 'notionally', 'abovementioned', 'informs', 'westerners', 'collage', 'giallo', 'dorkness', 'clash', 'caring', 'ps', 'beasts', 'shunned', 'fellows', 'benefit', 'promisingly', 'nwh', 'bernard', 'conventionalism', 'players', 'fiasco', 'impossible', 'oftquoted', 'faith', 'presumption', 'control', 'ramon', 'centered', 'tribute', 'movement', 'whacking', 'curly', 'furry', 'todd', 'jerry', 'timberlake', 'contributed', 'alain', 'busey', 'magazines', 'directionbr', 'rififialmostbr', 'marios', 'tasks', 'victimized', 'bothers', 'glaringly', 'deployment', 'self', 'crewneed', 'scientist', 'millions', 'quote', 'anticlimactic', 'lie', 'servais', 'hexagon', 'endearing', 'zany', 'understand', 'louder', 'classed', 'singer', 'regards', 'poignantly', 'hazardous', 'lynch', 'maneuver', 'dave', 'posey', 'propel', 'hip', 'kinnears', 'left', 'skintight', 'notatallwhatitsoundslike', 'haunts', 'unspecified', 'bergen', 'fertilization', 'overprotective', 'cribbed', 'voted', 'springboard', 'encouraged', 'banjo', 'helping', 'actedbr', 'tearjerker', 'truck', 'czech', 'inspector', 'standby', 'musicals', 'aldo', 'slum', 'patience', 'fake', 'sidede', 'meaningless', 'baretorsoed', 'dare', 'distracted', 'charities', 'penetrate', 'clearbr', 'earful', 'searches', 'surrounded', 'rhyme', 'moneysaving', 'hanzos', 'mothersonduo', 'avoid', 'somehow', 'vapid', 'facing', 'shifts', 'leetle', 'marshall', 'whim', 'falls', 'strangebr', 'contrasts', 'miike', 'jungles', 'highfives', 'fiction', 'kim', 'cure', 'faceless', 'lying', 'continue', 'matsumuras', 'sorry', 'degree', 'fishburne', 'clichs', 'course', 'mansion', 'corringa', 'used', 'televisions', 'premise', 'tingle', 'ultraslimy', 'daring', 'join', 'presencebr', 'millers', 'outback', 'sees', 'rampage', 'cavalry', 'row', 'prophetic', 'offending', 'brunojust', 'revealing', 'condoned', 'ukraine', 'grisly', 'jekyll', 'overtones', 'nowhere', 'commercials', 'second', 'cleverly', 'belligerent', 'bolin', 'moralities', 'coveted', 'sever', 'roy', 'obers', 'herebr', 'schneider', 'wwwhorroryearbookcom', 'natasha', 'renbourn', 'selfreference', 'rewarded', 'dropping', 'driven', 'butchers', 'randomly', 'answerbr', 'deedsbr', 'pauses', 'treatbr', 'piper', 'peeks', 'forbes', 'cindy', 'natalia', 'motionbr', 'wicked', 'formal', 'cherkasov', 'clutch', 'henchwoman', 'hotly', 'nice', 'socially', 'llosa', 'prime', 'veldon', 'catastrophe', 'clothilde', 'highlight', 'jake', 'dealer', 'idealistic', 'fullblown', 'nagiko', 'storys', 'juvenile', 'barber', 'exonerate', 'paynes', 'warp', 'air', 'promo', 'fightbr', 'stevie', 'footage', 'rhode', 'astray', 'sent', 'occasions', 'fanny', 'attendanthe', 'youbr', 'establish', 'onedimensional', 'sickened', '19381981', 'amusingly', 'climbing', 'nebbishy', 'budgeting', 'leather', 'aware', 'porn', 'freshman', 'sure', 'geisha', 'teorema', 'stumbling', 'unfamiliar', 'cartwright', 'portrays', 'overdone', '64', 'wedding', 'escaped', 'drews', 'copies', 'haightashbury', 'buffoon', 'enlightenment', 'drawl', 'ratings', 'lifetime', 'fiedels', 'criticisms', 'credible', 'dvrs', 'thereby', 'stepped', 'fascinated', 'seriousness', 'fixated', 'giancaspro', 'eastern', 'already', 'notoriously', 'overbr', 'mata', 'chore', 'couldnt', 'fighters', 'sea', 'feature', 'contradiction', 'caught', 'hayden', 'debased', 'reading', 'dared', 'page', 'incantation', 'took', 'unsuccessfully', 'taste', 'cyborgs', 'resurrection', 'technicolor', 'reliably', 'lively', 'filing', 'foil', 'virginbr', 'younger', 'solely', 'wend', 'jbs', 'cream', 'yarrr', 'bruce', 'cued', 'frustrated', 'anguishing', 'seahunt', 'believablebr', 'zenlike', 'decay', 'marsha', 'rich', 'irritates', 'petes', 'shahrukh', 'climaxing', 'vacations', 'coproducing', 'responsibility', 'sorvino', 'cleanest', 'capture', 'fresh', 'faired', 'behalf', 'budsand', 'translated', 'gentle', 'sharp', 'underground', 'intelligently', 'label', 'failing', 'troubled', 'outsourced', 'goriest', 'darkness', 'boisterous', 'episode', 'perverse', 'dune', 'films', 'lemmon', 'criminal', 'gorefests', 'okulthe', 'move', 'tautly', 'effects', 'write', 'brutal', 'menit', 'hackers', 'rainbow', 'search', 'connects', 'shaw', 'robin', 'corn', 'tortured', 'cavalierbr', 'goldberg', 'paging', 'shaken', 'militarybusiness', 'ponytail', 'premiere', 'ted', 'recognition', 'wellintentioned', 'intended', 'shouting', 'examined', 'inbr', 'chestnut', 'giggle', 'reassurance', 'etcbr', 'cultivated', 'provide', 'contemporary', 'wit', 'sustained', 'mid', 'involvement', 'visions', 'benevolent', 'darrell', 'enthusast', 'beings', 'jim', 'locations', 'organising', 'fbistyle', 'housewife', 'grazes', 'heroines', 'malpractice', 'crated', 'evident', 'someday', 'battleground', 'stomach', 'precede', 'bruise', 'pseudooccult', 'portrayals', 'entertain', 'sunday', 'ramsay', 'castles', 'wisecracks', 'onset', 'press', 'gradef', 'transfer', 'number', 'veracity', 'trails', 'womanhood', 'elevatorbr', 'victoria', 'perkins', 'times', 'floor', 'hitman', 'union', 'type', 'drafts', 'jaw', 'shen', 'contacts', 'carnivorous', 'rot', 'reputable', 'cowrote', 'cam', 'pretense', 'credits', 'roots', 'labels', 'nauseating', 'collect', 'discord', 'finn', 'picked', 'tanner', 'transcended', 'detailsbr', 'results', 'randy', 'cumulative', 'workers', 'arrived', 'bandbr', 'conceivable', 'pilots', 'wins', 'castoffs', 'alexander', 'noir', 'interiors', 'outright', 'samantha', 'fallbr', 'prudent', 'yearbr', 'phipps', 'insist', 'longwinded', 'concrete', 'fivetime', '11', 'secretary', 'ohsoout', 'weird', 'greats', 'etienne', 'shilohs', 'reminiscent', 'controversy', 'accept', 'kenneth', 'hatas', 'wait', 'vhs', 'anytownusa', 'ulrich', 'unintentionally', 'everyone', 'cover', 'kikou', 'always', 'modebr', 'subtitles', 'senses', 'college', 'godcomplex', 'sidelines', 'ameragosa', 'obligatory', 'thru', 'exude', 'businessman', 'frightened', 'daringeven', 'gettin', 'physical', '31', 'wu', 'plains', 'vacationers', 'obnoxious', 'outlets', 'dylans', 'largely', 'slovik', 'declared', 'since', 'gainsbourg', 'security', 'independent', 'proxy', 'stylized', 'psyche', 'perversion', 'strutted', 'ends', 'version', 'delved', 'amping', 'readers', 'aircraft', 'bucks', 'safety', 'salma', 'chilled', 'angerbr', 'hardboiled', 'radios', 'aired', 'remastered', 'criticizing', 'virgil', 'ripe', 'willaim', 'scenelike', 'kill', 'sumptuous', 'european', 'ignoramus', 'rainbeaux', 'movies', 'actorsbr', 'mcbeth', 'subzero', 'travails', 'inc', 'adamantly', 'undoes', 'spanishamerican', 'intercourse', 'hurley', 'wiserbr', 'aura', 'rope', 'irvin', 'nits', 'spy', 'pieces', 'delight', 'explained', 'horror', 'stooges', 'keeley', 'deranged', 'provost', 'fatherfigure', 'minutesbr', 'shocked', 'tops', 'skinned', 'kannathil', 'loft', 'thin', 'checking', 'showing', 'direct', 'episodes', 'moviegoer', 'shocker', 'boil', 'recommend', 'embarrassingly', 'mexico', 'individual', '1870s', 'infamous', 'susan', 'toughest', 'classmates', 'interference', 'sho', 'midget', 'dozens', 'coach', 'lucking', 'nixon', 'stockholm', 'gangsters', 'techno', 'advantages', 'images', 'worth', 'policewomans', 'bonny', 'rips', 'morty', 'meg', 'innocent', 'pouring', 'daniel', 'speech', 'funbr', 'sticks', 'tourdeforce', 'hilarious', 'team', 'anthony', 'reverts', 'videos', 'establishing', 'takesoff', 'oneliners', 'grint', 'department', 'elder', 'gore', 'mind', 'qualification', 'adolescent', 'insights', 'emboldened', 'gackt', 'spawns', 'writerdirector', 'disfunction', 'seduced', '1951', 'say', 'uniting', 'counterparts', 'nudgenudge', 'cg', 'jacques', 'massiveconked', 'kurosawas', 'bordered', 'competing', 'bruckbuster', 'throats', 'shannon', 'day', 'weld', 'staff', 'equipment', 'biscuitbr', 'deadly', 'fails', 'pedecarises', 'qualities', 'call', 'wound', 'killingbr', 'rest', 'tamed', 'gags', 'thanks', 'jewish', 'repair', 'sparkling', 'valedictorian', 'seven', 'notably', 'propagandistic', 'senseless', 'dreamed', 'supposed', 'kansas', 'colored', 'make', 'budapest', 'profit', 'goreovision', 'tearful', 'somewhere', 'backpack', 'reduced', 'prototypical', 'gypsys', 'endeavor', 'tanya', 'thisand', 'basketball', 'imagination', 'huston', 'columnist', 'discreet', 'outrageously', 'grandpa', 'madness', 'sacramento', 'micheal', 'cocaine', 'sad', 'kitchen', 'judge', 'tunnel', 'fortunately', 'speak', 'sheen', 'rated', 'examplea', 'diviner', 'lauren', 'martians', 'gunman', 'orders', 'families', 'eloquently', 'flynns', 'fictionalizedbr', 'animal', 'biggest', 'breaks', 'soundtrackbr', 'mcnabb', 'perversions', 'sacrifices', 'happenedbr', 'outline', 'coco', 'boleslowski', 'classicera', 'among', 'caron', 'period', 'sets', 'homes', 'carries', 'doors', 'threads', 'miriam', 'richards', 'patriarch', 'tells', 'touching', 'pirate', 'politically', 'skipping', 'marketplace', 'miller', 'minions', 'ambitions', 'promising', 'casual', 'shirt', 'hellbound', 'speculated', 'pervert', 'djvu', 'turturro', 'evolutionary', 'dogme', 'jellineks', 'spaces', 'accordion', 'ashanti', 'mutating', 'caine', 'warner', 'vibe', 'frolic', 'testify', 'account', 'la', 'vera', 'antique', 'pervaded', 'hendry', 'review', 'gadgets', 'wellknown', 'produced', 'layering', 'illustrate', 'inseparable', 'bullied', 'pedecaris', 'fulbright', 'stefanie', 'glows', 'juan', 'shockthroughnameselection', 'definately', 'existing', 'maledominated', 'knock', 'gems', 'glory', 'hideousness', 'bigots', 'holdouts', 'partner', 'qualitybr', 'disappointmentbr', 'lion', 'trickery', 'cinephilia', 'passes', 'invisible', 'q', 'region', 'lasted', 'doctor', 'lethal', 'peripheral', 'yiddish', 'gallery', 'youthful', 'shootout', 'runway', 'wasting', 'refuses', 'cambodia', 'annals', 'orwell', 'obstruct', 'werent', 'lawrenece', 'ancient', 'niche', 'fiendish', 'affect', 'crumbs', 'uninitiated', 'naturalism', 'exploits', 'recall', 'glances', 'uhh', 'parallels', 'reads', 'dark', 'overkillbr', '8', 'expectation', 'roeg', 'warfare', 'majors', 'birds', 'sidney', 'lose', 'consisted', 'diabolical', 'debenning', 'fortunate', 'funny', 'represented', 'ethereal', 'yarr', 'hyde', 'nikolai', 'commended', 'plotyeah', 'humiliating', 'poem', 'lifestyle', 'paper', 'luckily', 'creature', 'merely', 'mayan', 'serious', 'set', 'warped', 'flaws', 'croc', 'attempting', 'camerawork', 'pleasing', 'vienna', 'drifting', 'unamerican', 'tsang', 'recently', 'accumulated', 'calvin', 'talks', 'discussionbr', 'insult', 'smack', 'lawsuits', 'mentioning', 'win', 'alcohol', 'noroi', 'azarias', 'daysbr', 'task', 'clyde', 'pelham', 'prehistoric', 'producing', 'nunn', 'madge', 'faithful', 'promptly', 'importantbr', 'messagebr', 'underscored', 'doug', 'understated', 'elicit', 'belongs', 'tommys', 'completed', 'spur', 'horrorvision', 'metoo', 'banned', 'raimis', 'listen', 'sterilepeople', 'cbs', 'bethlehems', '58', 'delivery', 'upgrade', 'stunning', 'dissolve', 'services', 'sublime', 'assassin', 'titled', 'gates', 'glib', 'pleasure', 'overpowering', 'survives', 'fked', 'censors', 'weepy', 'objectbr', 'discover', 'refreshed', 'lol', 'neckties', 'cluster', 'smoke', 'benjamin', 'ebano', 'behaviour', 'forces', 'awards', 'stick', 'criticize', 'labour', 'featurebr', 'origin', 'terrestrial', 'advancement', 'herthen', 'largo', 'screamed', 'debt', 'dashing', 'slit', 'darkest', 'shrink', 'dreamer', 'bebr', 'cartoons', 'directtovideo', 'idiots', 'alabama', 'postmodernist', 'masterpiece', 'jason', 'away', 'pleasant', 'ultraheroic', 'australia', 'scanty', 'paddy', 'nothing', 'simulated', 'responsible', 'conscious', 'colors', 'wakamatsus', 'participate', 'repairman', 'lighting', 'ridge', 'reportedly', 'recommended', 'italys', 'enjoyed', 'sci', 'consumed', 'rupert', 'mistake', 'became', 'sorrowfulbr', 'bonds', 'costume', 'noite', 'bitch', 'filming', 'butchering', 'bayhater', 'hey', '76', 'loop', 'gonna', 'arbitrary', 'neeson', 'revelation', 'aussies', 'canoodling', 'plenty', 'ronnie', 'sickening', 'resolution', 'cutest', 'tanked', 'goblin', 'washed', 'liebman', 'alec', 'children', 'pollak', 'existential', 'riot', 'outwitted', 'walton', 'terminate', 'occasion', 'middleaged', 'rings', 'drake', 'charactersbr', 'effect', 'azmi', 'basking', 'madison', 'takeoff', 'hunters', 'photography', 'grip', 'sided', 'favebr', 'profits', 'ben', 'cardboard', 'mj', 'concern', 'pretty', 'werewolves', 'codebr', 'artisticbr', 'illegal', 'immature', 'bernie', 'disparaging', 'marchand', 'fascist', 'annoyingbr', 'biggies', 'cowardice', 'dynamic', 'warranted', 'neighboring', 'rooming', 'meby', 'masses', 'homophobia', 'pair', 'blakely', 'known', 'onanyway', 'fearand', 'torrid', 'menbr', 'loses', 'believed', 'fest', 'excessive', 'joanne', 'moff', 'optically', 'hooked', 'regiments', '56', 'luck', 'palmer', 'hitandrun', 'profound', 'eko', 'roll', 'soda', 'madebr', 'frames', 'cage', 'clarksville', 'emotionless', 'week', 'uwe', 'tempt', 'incongruent', 'youth', 'spending', 'cart', 'nursing', 'think', 'raisulis', 'apparently', 'boobs', 'zooming', 'understanding', 'tagalong', 'west', 'treasurebr', 'siodmak', 'lower', 'troops', 'filmsbr', '1', 'documentary', 'hungry', 'controller', 'married', 'retained', 'patroni', 'collection', 'vertigo', 'traffic', 'flames', 'veteran', 'horny', 'uninspired', 'term', 'sparse', 'fu', 'mug', 'cringe', 'criticism', 'daylight', 'satire', 'scriptwriter', 'nominated', 'freeman', 'quentin', 'cum', 'believe', 'tool', 'makers', 'distinguish', 'household', 'traveling', 'emanuelle', 'purchase', 'enter', 'oozin', 'enthusiasts', 'whitebred', 'hosts', 'seemingly', 'dismissing', 'endings', 'squads', 'olivia', 'grape', 'worstsince', 'nicolas', 'oscarwinner', 'rooney', 'unforgettable', 'cillian', 'flashforward', 'recorder', 'passesbr', 'nowbr', 'shaggy', 'chong', 'kinda', 'hamming', 'camp', 'mitchums', 'championship', 'referenced', 'undescribableonimdb', 'monstrosities', 'penned', 'protest', 'placeespecially', 'persuades', 'clay', 'hired', 'chemistry', 'uniquely', 'quarry', 'interplay', 'unfold', 'rachel', 'dumbfounded', 'everdulling', 'disappears', 'anyones', 'allen', 'immortal', 'charisma', 'kardashian', 'elephant', 'yamamoto', 'campus', 'infinitely', 'sir', 'befriending', 'wildernessbr', 'picturesque', 'geez', 'ugly', 'belching', 'suddenly', 'legendary', 'howards', 'olsson', 'premier', '0f', 'toys', 'classicbr', 'infection', 'rocksolid', 'eroticism', 'absurdbr', 'martell', 'concept', 'lycanthropy', 'jorja', 'exists', 'plugged', 'welltodo', '18th', 'substitute', 'craziness', 'darker', 'toy', 'buzzard', 'ripped', 'appear', 'colony', 'statement', 'topical', '2006', 'cheap', 'gigolo', 'yells', 'brolinbr', 'maintained', 'michaelangelos', 'regret', 'nightmares', 'unbelievablebr', 'glossed', 'represenative', 'gremlins', 'targetshooting', 'disease', 'boys', 'kirstie', 'disasterbr', 'delay', 'split', 'inspired', 'expressive', 'sensibilities', 'multidimensional', 'exception', 'physically', 'wrongly', 'panics', 'kindred', 'shadowplay', 'punch', 'nina', 'repression', 'grueling', 'leap', 'shadow', 'padding', 'farmer', 'disturbing', 'misdemeanorsanother', 'faithfulness', 'butch', 'parkor', 'timelessness', 'barbarian', 'shimizu', 'eggs', 'fish', 'deliberately', 'fort', 'rex', 'villagers', 'marivaux', 'heather', 'caste', 'rammed', 'fondling', 'vice', 'creepsthe', 'punctuated', 'custer', 'none', 'tourettes', 'lengths', 'margheriti', 'poir', 'murderer', 'hostess', 'claims', 'surgically', 'turns', 'barnes', 'survived', '54th', 'dude', 'threedimensional', 'kluznick', 'ratnam', 'goodthe', 'coven', 'irene', 'heir', 'cyclebr', 'asteroid', 'seebr', 'basic', '1947', 'shotsbr', 'boorman', 'allison', 'cusak', 'equals', 'sky', 'transfers', 'increased', 'rob', 'methis', 'chatting', 'manoeuvres', 'saywould', 'moody', 'inability', 'coogan', 'performer', 'waysbr', 'rawal', 'cubbyhouse', 'aide', 'pitch', 'ghunguroo', 'horrifically', 'television', 'policeman', 'decide', 'uruguay', 'voodooinspired', 'controversial', 'grays', 'eden', 'plate', 'internetbr', 'virgins', 'generally', 'anonymity', 'bikumatre', 'mean', 'metaphor', 'operative', 'scheme', 'cookie', 'fray', 'muchcelebrated', 'histrionic', 'priesthood', 'implies', 'hatred', 'wrought', 'cockpit', 'fears', 'installment', 'monetarily', 'director', 'blythe', 'superman', 'pinpoint', 'element', 'pseudosatanic', 'steal', 'anyhow', 'drivers', 'idle', 'convertible', 'starved', 'bizarre', 'onboard', 'jesse', 'shiloh', 'building', 'zane', 'penn', 'cliffhanger', 'mary', 'according', 'wanna', 'resumes', 'worldwide', 'notwithstanding', 'oliver', 'parent', 'calf', 'weather', 'phoenix', 'winger', 'stalkers', 'skirmishes', 'loyalist', 'spoiling', 'wee', 'cruelfaced', 'wardrobes', 'pans', 'satisfactorily', 'dialogue', 'sinks', 'realized', 'stuntman', 'illustration', 'sloppy', 'oh', 'incapable', 'creepers', 'recurring', 'merchandise', 'chandler', 'farewell', 'marish', 'dying', 'partying', 'beaker', 'namesbr', 'extentions', 'bachelor', 'medallion', 'bronze', 'outer', 'remake', 'throw', 'frustrating', 'disregarding', 'retrospective', 'theatresbr', 'scots', 'adept', 'honesty', 'folks', 'presumably', 'backs', 'country', 'actresses', 'videogameplaying', 'reluctant', 'irritating', 'facilities', 'nuns', 'gloria', 'spurred', 'pythons', 'buildup', 'obsessive', 'taped', 'praise', 'rolewise', 'archdeacon', 'willful', 'next', 'satisfactory', 'heroes', 'warriors', 'boxingbr', 'glanced', 'ximenes', 'digger', 'mid80s', 'performances', 'contracts', 'aid', 'suits', '20', 'throws', 'sentimentality', 'altmanthe', 'branch', 'versions', 'falwell', 'confederate', 'hazard', 'pleasantly', 'artistry', 'wives', 'unconscionable', 'rookie', 'distraction', 'intriguing', 'arc', 'gushing', 'z', 'irreverence', 'capabilitybr', 'adversaries', 'expressed', 'myth', 'lowery', 'futuristic', 'scifi', 'refusal', 'talbots', '1950', 'flavored', 'compilation', 'filmmakers', 'mountainous', 'close', 'wideshots', 'hollis', 'abhors', 'shape', 'wannabee', 'goodbad', 'aheadbr', 'magic', 'vying', 'emerging', 'releases', 'powell', 'vehicles', 'awe', 'gilberto', 'unfriendly', 'h', 'trees', 'sharking', 'presenting', 'nwa', 'radhas', 'carrasco', 'hates', 'nazi', 'updated', 'historically', 'swept', 'riveting', 'ramond', 'jane', 'beiser', 'betterbr', 'supplied', 'waters', 'fantasizebr', 'financing', 'redeemed', 'viewpoints', 'kikuos', '1986', '24', 'tori', '1940s', 'rome', 'gleefully', 'females', 'screens', 'schubert', 'player', 'knights', 'gopal', 'artist', 'built', 'zschering', 'narrative', 'cruel', 'fascination', 'corner', 'peace', 'rio', 'costner', 'spoilers', 'roberts', 'opinionsome', 'sopranos', 'vast', 'twisted', 'challenges', 'bombs', 'collar', 'bits', '399', 'xlondon', 'unsuccessful', 'association', 'drops', 'pussycat', 'persons', 'scorethe', 'extremely', 'calliber', 'classified', 'giggling', 'crispin', 'nevksy', 'instincts', 'seamlessly', 'rowland', 'mugged', 'hearted', '1979', 'rupture', 'noise', 'fathom', 'jettisoned', 'docu', 'nielsen', 'yugoslavia', 'deaths', 'eurotrip', 'chopper', 'enlists', 'riddler', 'cots', 'robertson', 'accompanies', 'flashy', 'alongbr', 'bullets', 'copout', 'tv', 'wagner', 'neutral', 'fatherbr', 'eliminating', 'indelible', 'demotion', 'web', 'shall', 'gifts', 'syndrome', 'bodycount', 'injury', 'shaolin', 'fulfilled', 'culmination', 'francis', '12a', 'yankee', 'valerie', 'screened', 'shatnerism', 'sobiesky', 'carrying', 'unspeakable', 'parents', 'spot', 'chicks', 'cuisinart', 'descriptive', 'angeles', 'albumbr', 'ruth', 'effortbr', 'grandmothers', 'objectively', 'dawson', 'fourbr', 'vcrs', 'russian', 'simonella', 'influences', 'sacrilege', 'huntwe', 'fashion', 'run', 'applied', 'audio', 'agi', 'competent', 'aunty', 'subtly', 'samoan', 'aerial', 'disappeared', 'carnage', 'significance', 'recent', 'soldier', 'campy', 'marple', 'jolly', 'fortune', 'suited', 'witchery', '3000', 'discrete', 'pushing', 'druggie', 'prayer', 'pharaohs', 'borrowed', 'german', 'inherits', 'lyricism', 'swiping', 'order', 'undermine', 'aging', 'blondes', 'symbolic', 'doableand', 'ruins', 'sake', 'connoisseurship', 'lovecraftian', 'nowadays', 'lengthen', 'bob', 'insidiously', 'separating', 'maestro', 'deter', 'stay', '68', 'screams', 'send', 'mysteriesbr', 'mst', 'gripped', 'mandy', 'boyle', 'linc', 'conventionally', 'hunchback', 'mention', 'robotic', 'spain', 'strangely', 'thingsbr', 'formerparticularly', 'crawling', 'clue', 'emmys', 'titlebr', 'list', 'trce', 'qualifies', 'david', 'bomber', 'pun', 'deciding', 'shocks', 'hoodlums', 'inventive', 'stalins', 'pursued', 'postapocalyptic', 'wreckvoiced', 'pros', 'victimsbr', 'peta', 'noticed', 'mediaeval', 'triumphant', 'archive', 'motif', 'lady', 'combinedbr', 'cop', 'nobel', 'president', 'women', 'idyllic', 'ear', 'pampered', 'blink', 'kissing', 'foray', 'sinister', 'believablethere', 'medical', 'parker', 'bent', 'sam', 'chewing', 'speeches', 'uncredited', 'development', 'northern', 'burst', 'sugarcoated', 'becker', 'politics', 'travis', 'blond', 'institutions', 'phillips', 'skeet', 'moreover', 'machines', 'affiliations', 'sampled', 'ironic', 'nonendings', 'exile', 'musical', 'hit', 'airwavesbr', 'seduces', 'explains', 'nieces', 'lambs', 'traits', 'ambling', 'kane', 'unsmiling', 'mastery', 'complicity', 'hide', 'reminded', 'enfilden', 'reiner', 'trip', 'speechless', 'johnsons', 'repeated', 'discuss', 'aag', 'dinosaur', 'jay', 'balls', 'disorder', 'kinnear', 'religiously', 'tarzan', 'mutt', 'discoveries', 'scrabble', 'esther', 'onebr', 'fell', 'steeling', 'hood', 'middleman', 'fitting', 'subtleties', 'treasure', 'silence', 'tono', 'carrey', 'woodhouse', 'starters', 'bowl', 'becoming', 'tired', 'culprits', 'blahwhen', 'rightful', 'backgrounds', 'biblical', 'scrambling', 'telling', 'weirdest', 'amanda', 'longterm', 'ingredients', 'congratulations', 'reinedin', 'decayhe', 'crazily', 'punches', 'futility', 'mormom', 'romantics', 'bach', 'visually', 'psychoanalyst', 'animates', 'however', 'beginningbr', 'vicious', 'shift', 'georgia', 'twinkie', 'damningly', 'depardieu', 'thought', 'hags', 'revolved', 'pursuers', 'strangers', 'youd', 'supposes', 'english', 'engagement', 'sophie', 'sponsor', 'bernanos', 'student', 'limbs', 'outdoor', 'attempts', 'dry', 'conception', 'eliminate', 'delicious', 'meet', 'becomes', 'ninja', 'specialty', 'rides', 'mainly', 'ole', 'brabomb', 'lowpace', 'thembr', 'crumpled', 'relevant', 'per', 'alex', '11br', 'strangeness', 'madbr', 'nonchalant', 'unwatched', 'incident', 'puncturing', 'dolores', 'opened', 'charismatic', 'emergence', 'gen', 'shrek', 'hayward', 'sting', 'throughoutbr', 'compromised', 'shudder', 'thirdbr', 'songs', 'coherence', 'notice', 'assistant', 'assistance', 'trouble', 'war', 'awkwardly', 'dragged', 'contrived', 'judd', 'connections', 'interwoven', 'et', 'dada', 'parks', 'cherry', 'fullscreen', 'workaholics', 'visiteurs', 'reno', 'bestiality', 'evils', 'sec', 'damme', 'sockmonkey', 'excellentbr', 'mailed', '42', 'steer', 'joan', 'albeit', 'capers', 'trophies', 'smoggy', 'rules', 'conclude', 'debate', 'devastation', 'vivid', 'potemkin', 'narrates', 'ideologies', 'shelley', 'doorway', 'ambiguous', 'attacks', 'john', 'nonetoobright', 'itching', 'dollops', 'snoozer', 'nail', 'mountains', 'repellent', 'attraction', 'bisexual', 'loss', 'phase', 'laser', 'farscape', 'tastebr', 'unfunny', 'corbetts', 'gothicflavoured', 'truman', 'damato', 'incredible', 'somersaults', 'higher', 'quirks', 'getting', 'wholesome', 'prelude', 'swamp', 'catholics', 'trusted', '2009', 'paradise', 'creepy', 'durante', 'sadistic', 'cocktail', 'raised', 'disciplined', 'reserve', 'bestknown', 'joel', 'enthusiastically', 'diplomacy', 'fiennes', 'submit', 'ella', 'forgotten', 'smitheebr', 'stamp', 'rene', 'digs', 'maximum', 'latent', 'twists', 'brawl', 'wars', 'watchit', 'gain', 'branaghs', 'justifiablebr', 'landscapes', 'hammer', 'sale', 'removed', 'agency', 'errol', 'turkeys', 'mccormack', 'worldas', 'itjason', 'lowbudget', 'tale', 'surrender', 'homicide', 'unbalanced', 'knowbr', 'japan', 'entity', 'hunter', 'expertly', 'jolt', 'kenton', 'delightful', 'spine', 'nightmare', 'stanley', 'acknowledged', 'jts', 'beheadings', 'wandering', 'harpo', 'treacly', '135', 'fastest', 'unpalatable', 'bushes', 'december', 'display', 'victory', 'emphasize', 'cheerfully', 'thatll', 'section', 'debbie', 'erstwhile', 'horn', 'cracking', 'pathologist', 'behold', 'timbers', 'eyes', 'distracting', 'terriblebr', 'exposition', 'jacobs', 'audiences', 'disbanded', 'elp', 'virtual', 'rubberneck', 'iowa', 'damon', 'nausea', 'compositions', 'tackle', 'moves', 'digital', 'powerfully', 'bunch', 'canbr', 'features', 'lobotomized', 'marks', 'concerning', 'slouch', 'vortex', 'gosh', 'wander', 'gargantuan', 'loathed', 'ideals', 'choices', 'handtohand', 'oblique', 'africanamericans', 'stereotyped', 'outbursts', 'throat', 'documents', 'magically', 'pounds', 'work', 'declare', 'blindfolded', 'filler', 'cheats', 'trashes', 'angelique', 'sacrificed', 'product', 'tortuous', 'inhuman', 'stuffed', 'frame', 'evershattering', 'beer', 'atomic', 'washington', 'ethical', 'corny', 'portray', 'roosevelts', 'campbell', 'remaining', 'liebermans', 'mayburys', 'inserted', 'girly', 'billionaire', 'survivesbr', 'pleasureseven', 'unveiled', 'propaganda', 'physician', 'ism', 'freezes', 'paranoia', 'positve', 'record', 'died', 'easybaking', 'russel', 'infidelity', 'dense', 'curitz', 'delon', 'nuisance', 'creativity', 'condies', 'colleagues', 'yet', 'ernest', 'sights', 'residence', '1924', 'echoing', 'wobble', 'stalebr', 'virtually', 'communicating', 'cameron', 'bathosfilled', 'investigates', 'simpson', 'accompany', 'slickest', 'cassavetes', 'fees', 'torn', 'rolebr', 'phone', 'animatrix', 'communists', 'cagney', 'string', 'deus', 'seriouslyits', 'recital', 'anisio', 'writbr', 'total', 'grim', 'nonsenses', 'improved', 'emote', 'car', 'across', 'opinions', 'lead', 'olga', 'cliquebr', 'candlestick', 'pretentious', 'pinhead', '12', 'fahey', 'happen', 'tovarish', 'nostalgic', 'solitary', 'burly', 'subliminal', 'lips', 'sensesbr', 'legend', 'taunting', 'poignant', 'forwarded', 'assuming', 'exconvict', 'offive', 'divorce', 'single', 'together', 'homosexuals', 'inspect', 'missile', 'stirring', 'bats', 'vacation', 'gutted', 'widescreen', 'wholeheartedly', 'mortal', 'porch', 'whih', 'relatives', 'execution', 'lines', 'reasonbr', 'revisionist', 'ryan', 'costumes', 'hickock', 'confederacy', 'bar', 'devotes', 'pie', 'muriel', 'vampire', 'worked', 'moving', 'pounding', 'brothers', 'costagavras', 'mansfield', 'vampira', 'warning', 'dentist', '70sbr', 'improvised', 'stranglerbr', 'mustve', 'consent', 'praying', 'unthinkable', 'stray', 'fuss', 'hang', '112', 'tupamaros', 'pirates', 'cary', 'mustsee', 'lost', 'terrifying', 'tugging', 'dialogbr', 'overzealous', 'colleague', 'cohost', 'chico', 'towns', 'yawnbr', 'outdo', 'struggle', 'hale', 'exploding', 'sprites', 'constipated', 'tramp', 'streisands', 'secondsbr', 'cabinet', 'infects', 'adjani', 'satanism', 'young', 'euro', 'voicesbr', 'vasquezfigueroa', 'shoes', 'translate', 'regardlessbr', 'hae', 'taosbr', 'stella', 'sandler', 'entertaining', 'tenuous', 'paul', 'subdued', 'blended', 'rizzo', 'col', 'unjustified', 'furnace', 'funds', 'tuesday', 'striped', 'rathbone', 'pulsating', 'ark', 'newman', 'passages', 'laughter', 'robert', '265', 'tall', 'crow', 'cinemas', 'contract', 'joining', 'paz', 'silverhaired', 'artsy', 'screen', 'definitely', '1910', 'nishabd', 'waybr', 'lara', 'stops', 'flaw', 'financially', 'complex', 'soundtrack', 'kings', 'vigilante', 'acuteness', 'gross', 'excelled', 'elizabeth', 'theres', 'cry', 'goings', 'allens', 'authoritiesbr', 'madefor', 'thirty', 'renunciation', 'armybr', 'observes', 'become', 'armstrong', 'mickey', 'alba', 'hilariously', 'satisfied', 'fumbling', 'inferred', 'crossword', 'bowers', 'animated', 'subjectbr', 'sutherland', 'droning', 'endingbr', 'designed', 'boogeyman', 'phantom', 'find', 'arne', 'judges', 'keyboard', 'psychic', 'endedbr', 'whining', 'hauser', 'abuses', 'drive', 'backbr', 'notionbr', 'referencing', 'unexplained', '1962', 'crazy', 'receives', 'hatebr', 'stand', 'experiencedbr', 'bonnie', 'servant', 'tailored', 'edythe', 'extensive', 'guaranteed', 'munchies', 'evil', 'forward', 'easybr', 'created', 'salt', 'cryptic', 'document', 'lowgrade', 'steady', 'amuses', 'daytime', 'blind', 'frontal', 'perking', 'manipulated', 'talentless', 'tbr', 'originally', 'malevolent', 'hitech', 'see', 'jarring', 'yamamotos', 'tunerberniewith', 'brangelina', 'temples', 'jury', 'harriosn', 'language', 'endbr', 'lifetimelike', 'sewn', 'augustus', 'disagree', 'synchronization', 'serial', 'novarro', 'interpretations', 'immortality', 'diatribes', 'computers', 'p', 'isaac', 'landed', 'inclusion', 'virginia', 'rod', 'suppressed', 'freaked', 'recentlybr', 'makeyoulaugh', 'boat', 'handrails', 'departed', 'tranquil', 'alltime', 'xylophone', 'darken', 'tyranny', 'raoul', 'lackluster', 'heroo', 'novelist', 'baker', 'today', 'reluctantly', 'deceased', 'least', 'insulting', 'baldy', 'silent', 'buffs', 'dweezil', 'kirk', 'patric', 'finesse', 'stated', 'bifff', 'embraceable', 'stumbles', 'satanic', 'grapes', 'conrads', 'implied', 'backbone', 'faithfully', 'liquor', 'freedoms', 'dialog', 'episodic', 'kellin', 'swarms', 'haim', 'bladder', 'pass', 'purest', 'closes', 'blew', 'lain', 'jfk', 'nancy', 'misdeeds', 'occurrence', 'tar', 'icescape', 'cambell', 'update', 'chows', 'ineligible', 'slavery', 'investors', 'bodybuilding', 'rafiel', 'scenesbr', 'reviewbr', 'repetitive', 'linear', 'moggy', 'independence', 'cares', 'fortyfive', 'clichd', 'massacre', 'future', 'u', 'raid', 'sobr', 'feed', 'anderson', 'true', 'imminent', 'counter', 'perspective', 'mins', 'censorship', 'answers', 'critical', 'cactuses', 'stone', '20th', 'chandlers', 'vacuum', 'nutcases', 'coviewer', 'documented', 'sullen', 'necessary', 'thati', 'serving', 'odyssey', 'merit', 'corrodes', 'macmahon', 'hamilton', 'march', 'breaking', 'hangs', 'maniac', 'particular', 'rivers', 'lately', 'nevertheless', 'detective', 'thingbr', 'describes', 'chalkboard', 'americans', 'basehart', 'shopbr', 'bennetts', 'undercover', 'noble', 'bushwhackers', 'miklos', 'kingsley', 'alldredge', 'wellyou', 'go', 'pity', 'policewoman', 'clubbr', 'poison', 'marriedbr', 'loved', 'blockbusters', 'pays', 'playalso', 'monsters', 'fluff', 'sideswiped', '10br', 'proud', 'fedora', 'pacific', 'subjects', 'adopted', 'trunk', 'addict', 'one', 'allyson', 'koreans', 'machina', 'celtica', 'stolen', 'switches', 'quotes', 'dreary', 'cultured', 'critically', 'stereotype', 'super', 'radiation', 'pressing', 'mowing', 'practice', 'hysterical', 'highspeed', 'wasbr', 'brenda', 'melodies', 'suicidal', 'allegedly', 'safecracker', 'soapopera', 'cars', 'tediously', 'geniuses', 'handbag', 'blast', 'wool', 'lamest', 'welding', 'protecting', 'island', 'policy', 'venemous', 'clark', 'bond', 'goingson', 'mars', 'similarbr', 'glossy', 'generic', 'straightforward', 'regardless', 'brooding', 'road', 'huge', 'galley', 'details', 'spiderman', 'marginally', 'jurassic', 'detours', 'shades', 'thoughafter', 'sissilyhandsome', 'pursuit', 'reviewers', 'experimental', 'saturdays', 'swanson', 'descendant', 'coffin', 'satisfying', 'hypocrisy', 'populate', 'scotlandfar', 'choreography', 'discussed', 'horsetraders', 'command', 'runofthemill', 'gothic', 'overseas', 'tribesmenbr', 'keanu', 'marriage', 'vocally', 'mouthbr', 'houswives', 'sleazeinexplicably', 'survive', 'scarlett', 'readings', 'generalizations', 'reason', 'moore', 'uma', 'bogus', 'innermost', 'katzman', 'barbara', 'prominent', 'channels', 'minnieapolis', 'reenact', 'bending', 'pianiste', 'jailhouse', 'apache', 'reciprocate', 'recommendation', 'notveryfunny', 'slackbr', 'marginal', 'consider', 'norris', 'haunting', 'trader', 'loosely', 'designs', 'reprogrammes', 'sybilla', 'unison', 'hacks', 'venus', 'achieve', 'goddess', 'enjoyably', 'edit', 'stranger', 'grigori', 'friend', 'stagnant', 'fairness', 'revengecrazed', 'holnists', 'timelinethe', 'decided', 'similarly', '16', 'wasnt', 'wisconsin', 'latrine', 'larger', 'bomb', 'hara', 'computer', 'reaction', 'scarce', 'underwhelming', 'rehash', 'noname', 'aged', 'skirts', 'crimebr', 'recite', 'sweaty', 'pursuer', 'defect', 'borders', 'conceptionless', 'redundant', 'til', 'smattering', 'unleashing', 'transmuted', 'filmfan', 'brigitte', 'geishas', '1978s', 'saintjohn', 'deliberation', 'snider', 'pork', 'thematic', 'harper', 'peg', 'albums', '50', 'aids', 'hindi', 'dan', 'duration', 'establishment', 'jew', 'hanging', 'fun', 'secondarybr', 'halfday', 'onceuponatime', 'claiming', 'bush', 'freak', 'insanity', 'deal', 'district', 'bhai', 'tacky', 'ahhemmoving', 'comprehend', 'near', 'bradford', 'recovered', 'warrior', 'positives', 'aspire', '48', 'thalluri', 'hustons', 'hawaiian', 'england', 'characters', 'terrorism', 'vigilantes', 'flood', 'iq', 'brain', 'saybr', 'unforgiving', 'magical', 'examplesbr', 'imdbs', 'overcome', 'influencebr', 'austens', 'britain', 'imposes', 'glamorous', 'doo', 'pad', 'picturesbr', 'reflecting', 'snoop', 'ratchets', 'spook', 'unwatchable', 'fires', 'bankable', 'principle', 'atrocious', 'reception', 'soggy', 'twinbrothers', 'membership', 'soso', 'swordfish', 'ghostbusters', 'unapologetic', 'readingbr', 'yokais', 'figuratively', 'jrs', 'quotations', 'deftly', 'fantastically', 'cheapened', 'resolved', 'immense', 'losing', 'captivating', 'blah', 'tough', 'depend', 'commercial', 'rogers', 'motorbikes', 'kep', 'unanswerable', 'contemplate', 'obviousbr', 'aussie', 'bulgaria', 'departure', 'sorking', 'flares', 'elements', 'reimburse', '110', 'isbr', 'dialogs', 'shorted', 'dungs', 'financed', 'shocking', 'okul', 'bubbleheaded', 'immensely', 'breakneck', 'thus', 'bloodred', 'awfulness', 'slight', 'venturing', 'instantly', 'karate', 'thankful', 'star', 'tucson', 'eerie', 'laid', 'crashed', 'torturers', 'boy', 'anybodys', 'leadership', 'gather', 'motto', 'hostage', 'virgilia', 'dangers', 'thoughtbr', 'errant', 'recommendedthe', 'captures', 'explanation', 'crazed', 'wrong', 'capable', 'allowed', 'need', 'appease', 'backyard', 'quiet', 'performace', 'comforting', 'covering', 'cutting', 'alist', 'bettors', 'spotty', 'profile', 'blist', 'cuervo', 'ban', 'proves', 'walter', 'hairdresser', 'gamed', 'prioritized', '1937', 'occurred', 'guys', 'thespian', 'practiced', '3strip', 'introduction', 'undetected', 'discount', 'columbia', 'godfather', 'windsor', 'limb', 'fat', 'willies', 'furious', 'entities', 'enters', 'governmental', 'nondescript', 'strongest', 'depicts', 'watered', 'cyberstalking', 'elaborately', 'shorty', 'madonnas', 'fact', 'forced', 'pov', 'gillies', 'nomolos', 'mark', 'historybr', 'balllike', 'views', 'minds', 'kass', 'adenoid', 'sought', '1978', 'unsuspecting', 'sorely', 'obviously', 'feisty', 'vocal', 'tween', 'touch', 'maitland', 'anachronistic', 'favourites', 'deaf', 'hugo', 'talked', 'boyer', 'arts', 'suck', 'concur', 'phoniness', 'tromaville', 'samurai', 'withit', 'adapter', 'underage', 'previous', 'nonkosher', 'american', 'lacking', 'shortchanged', 'featuresthat', 'finlay', 'shotgun', 'mcclure', '1840s', 'parrot', 'successes', 'canadian', 'viewers', 'entertainment', 'tractors', 'futher', 'miserable', 'sartains', 'pointlessly', 'kathy', 'watchover', 'renamed', 'max', 'vanessa', 'proficiency', 'conspiring', 'buzz', 'mob', 'strung', 'required', 'targeted', 'manage', 'surrenders', 'pickford', 'timesbr', 'incisive', 'hot', 'woodsbr', 'riley', 'whenever', 'helpless', 'heard', 'incompetence', 'mills', 'golf', 'attract', 'introduced', 'natives', 'glenn', 'apes', 'puerile', 'tenyearold', 'four', 'extent', 'poop', 'reformed', 'murderbr', 'kris', 'feet', 'voyeur', 'leave', 'locke', 'unmanipulated', 'dance', 'kuriyamibr', 'enumerate', 'citizen', 'leopard', 'tape', 'eyebrowraising', 'keis', 'glorify', 'ww2', '11related', 'wagons', 'fleetwood', 'pettigrew', 'mccrudy', 'flawless', 'midler', 'ohanlon', 'affected', 'smell', 'wales', 'filmit', 'peep', 'done', 'uncut', 'entei', 'illicit', 'culver', 'dashed', 'justice', 'slasher', 'business', 'goods', 'thirst', 'pokemon', 'trappings', 'trek', 'ealing', 'trespass', 'walked', 'segregated', 'inappropriate', 'secondfiddle', 'urbaniak', 'prompts', 'chiaki', 'careers', 'lookin', 'deserted', 'pal', 'tryingbr', 'homages', 'exaggerate', 'steward', 'mona', 'embrace', 'clever', 'shotbr', '19771981', 'arrival', 'mill', 'lostbr', 'antagonists', 'bon', 'unique', 'hedgehog', 'preparation', 'bravura', 'reactions', 'selfabsorbed', 'togetherbr', 'needing', 'cell', 'accent', 'goth', 'stale', 'compelled', 'dien', 'hammett', 'pours', 'screenbr', 'societys', 'baby', 'overstay', 'pallette', 'regard', 'terse', 'buono', 'ranking', 'provocative', 'predecessors', 'hillary', 'unwillingly', 'spam', 'stance', 'outstandingwe', 'eye', 'mindless', 'veered', 'continues', 'allstar', 'happier', 'muddled', 'thrillers', 'goons', 'demofilo', 'society', 'pope', 'rewatching', 'disaster', 'undiscovered', '164', 'selfcontained', 'fart', 'soulless', 'trampbr', 'horns', 'ropes', 'jagger', 'gametheres', 'gin', 'roths', 'elsewhere', 'frustration', 'expenses', 'bay', 'lovers', 'immune', 'mimi', 'teenagers', 'lyrical', 'chapters', 'demons', 'conventions', 'gunfighters', 'kristofferson', 'photographer', 'pitt', 'hau', 'devices', 'tone', 'compromise', 'wondering', 'sticksbr', 'snapped', 'aux', 'vale', 'sholay', 'retirement', 'noshame', 'duct', 'damned', 'dint', 'redshirts', 'patton', 'greenwood', 'serene', 'ashes', 'squander', 'crudity', 'university', 'safer', 'usual', 'kp', 'campers', 'moneybr', 'ranch', 'surreal', 'console', 'rickety', 'danish', 'desires', 'russia', 'event', 'lincoln', 'strikes', 'corpse', 'wellcrafted', 'exploit', 'myron', 'distinct', 'analyzing', 'flowers', 'tongueincheek', 'afterward', 'viennas', 'sutton', 'puke', 'disbelief', 'vampiresbr', 'elevator', 'bethlehem', 'bombards', 'incoherence', 'schwartzman', 'sherlock', 'drawnout', 'figure', 'priest', 'sarah', 'bryant', 'anybody', 'sopisticated', 'thanx', 'rife', 'askew', 'caiden', 'lays', 'intensity', 'folksbr', 'wrist', 'meaningful', 'slowbr', 'specifics', 'meat', 'ancestor', 'uk', 'hearts', 'threeminute', 'coping', 'gritty', 'defeated', 'sambrell', 'stain', 'blacklisted', 'dominated', 'jonathon', 'pins', 'fulcis', 'uproariously', 'originals', 'inthe', 'actings', 'old', 'rentals', 'says', 'imagine', 'middleton', 'metaphors', 'house', 'spoofing', 'machts', 'taking', 'sheeba', 'smokes', 'amazing', 'hordes', 'yetbr', 'unedited', 'asks', 'slam', 'cases', 'snowman', 'visual', 'anger', 'strengths', 'duchovney', 'adjust', 'understandable', 'matthew', 'risky', 'answered', 'whelan', 'logged', 'holiday', 'staged', 'relentlessly', 'compartments', 'manor', 'moment', 'plummeting', 'chasing', 'history', 'jennette', 'predicting', 'michele', 'warningbr', 'prototype', 'clothing', 'dracula', 'enclosure', 'girlish', 'clanking', 'bourgeois', 'discovered', 'something', 'crouching', 'discovers', 'mitchell', 'watch', 'agebr', 'hamlet', 'purposeless', 'willingness', 'reconstructed', 'overwhelmingly', 'salvage', 'intercept', 'asininity', 'voodoo', 'mistakes', 'uncover', 'sensebr', 'bold', 'preferred', 'wakamatsu', 'questionbr', 'ups', 'brooke', 'likewise', 'wish', 'series', 'clinical', 'organized', 'huppert', 'janus', 'attitude', 'sith', 'spouse', 'ethically', 'loaded', 'glover', 'efficiency', 'spells', 'yokai', 'drink', 'late', '80', 'speculate', 'rough', 'surface', 'afford', 'means', 'wickedness', 'plants', 'globe', '132', 'catholicism', 'thirties', 'hogans', 'co', 'grabs', 'miserables', 'cosmo', 'cowards', 'bucheler', 'scandal', 'nonmoving', 'unrealistically', 'andrew', 'compliment', 'dirtyminded', 'relies', 'boom', 'fog', 'thumbs', 'victimize', 'hopkins', 'shamebr', 'synthesizer', 'neill', 'opposed', 'psychiatrist', 'mentioned', 'flows', 'appropriate', 'kidnaps', 'voyeuristic', 'hadnt', 'mississippi', 'crooks', 'humongous', 'irony', 'emily', 'rant', 'windows', 'based', 'beds', 'subtle', 'investor', 'snickerbr', 'classification', 'signature', 'rebar', 'videotaped', 'homeless', 'valid', 'edits', 'chosen', 'kalifornia', 'swinging', 'rivette', 'searched', 'surrell', 'turkeyzero', 'schoolgirl', 'aok', 'kanaly', '1959', 'psychotic', 'assessing', 'pornografic', 'unsuitable', 'sparseness', 'viscous', 'eistensteins', 'gerald', 'patriotic', 'lift', 'atrocity', 'weasely', 'shijie', 'planned', 'romeros', 'direction', 'facade', 'snots', 'punt', 'mixture', 'gift', 'offering', 'subpar', 'ol', 'expects', 'prompting', 'highest', 'mummybr', 'knots', 'unabashedly', 'predictability', 'nuclear', 'infrequent', 'del', 'muzak', 'child', 'lieberman', 'wave', 'moodiness', 'caines', 'sons', 'pearce', 'waited', 'finlays', 'radius', 'likely', 'signbr', 'aspects', 'creative', 'armendariz', 'secondly', 'fouryearsold', 'build', 'rifs', 'farm', 'reasonings', 'bashaws', 'telly', 'tragic', 'ought', 'sufficient', 'rubbishbr', 'fewer', 'boosts', 'archetypes', 'holds', 'imitations', 'bus', 'cinemabr', 'prefer', 'wheres', 'nurse', 'cities', 'nicer', 'julias', 'maintains', 'amtrak', 'icon', 'clive', 'tights', 'nadim', 'plaguerism', 'wind', 'pulp', 'cuss', 'barbershop', 'black', 'bureau', 'gotta', '15ft', 'clarke', 'smarter', 'classes', 'convenient', 'tightly', 'personifies', 'cravens', 'theory', 'allergic', 'tower', 'miyazaki', 'supposedly', 'guitar', 'roof', 'test', 'magnificently', 'startupcom', 'restaurants', 'lawlessness', 'tentative', 'superhot', 'professionals', 'linked', 'shouts', 'anytime', 'caspar', 'maleskewed', 'woods', 'monkees', 'may', 'marching', 'grates', 'injured', 'decides', 'terribly', 'carney', 'joo', 'stations', 'convey', 'stinkbomb', 'wellmapped', 'filmography', 'drunken', 'hustler', 'emotions', 'crammed', 'dig', 'intensely', 'heavyhandedness', 'dramatically', 'clinic', 'town', 'insipid', 'slim', 'houghton', 'successive', 'heavens', 'longtime', 'view', 'samuel', 'preserves', 'interest', 'pitted', 'electrified', 'todays', '1940', 'seasoning', 'moodbr', 'ellen', 'historical', 'steinbecks', 'voyeurism', 'place', 'dunk', 'differs', 'psychotherapy', 'christensen', 'femininity', 'audiencebr', 'aice', 'diamond', 'making', 'sincerely', 'seeking', 'shadows', 'honor', 'critics', 'ballstothewall', 'bones', 'tech', 'soldiers', 'prep', 'wells', 'controls', 'seriouslybr', 'deprive', 'transfusion', 'room', 'gifted', 'oldfashioned', 'rawer', 'casestudy', 'carreys', 'heterosexual', 'trinity', 'ouspenskaya', 'lacked', 'cites', 'itoh', 'ugh', 'repo', 'personification', 'effective', 'encounters', 'walters', 'condie', 'neighbors', 'heighten', 'islands', 'harmed', 'vinnie', 'portrait', 'underplays', 'five', 'constant', 'slackers', 'unconscious', 'rhysdavies', 'voting', 'overkill', 'garber', 'controlled', 'vargas', 'extreme', 'lowest', 'ripps', 'spoof', 'massive', 'innaccurate', 'area', 'sculptures', 'realities', 'awarded', 'coroner', 'monty', 'governors', '911', 'badass', 'forwarding', 'libbybr', 'towering', 'pain', 'linneys', 'ludicrous', 'snippets', 'performed', 'worn', 'party', 'looks', 'mikkelsen', 'provided', 'marsbr', 'kleenex', 'poorly', 'evasive', 'lineage', 'described', 'hollowbr', 'busy', 'madeup', 'website', 'fairies', 'sahsa', 'rightangled', 'airplane', 'nightly', 'nearlyaudible', 'unnoticed', 'invaded', 'xiaolan', 'sunk', 'offensive', 'lurking', 'transition', 'cazalet', 'scattered', 'starring', 'count', 'dahmer', 'virgin', 'depp', 'feeds', 'ahbut', 'offspring', 'nonstop', 'national', 'arid', 'stephan', '1982', 'disc', 'within', 'catnaps', 'perilous', 'rare', 'random', 'adolescents', 'step', 'numerous', 'yarn', 'chocolat', 'mcduff', 'matrix', 'accessible', 'fraction', 'grossly', 'worthless', 'kiss', 'hanks', 'walker', 'bust', 'deleted', 'ensemblebr', 'lisa', 'captain', 'front', 'several', 'briggs', 'mild', 'louis', 'monks', 'hardnosed', 'hbos', 'wrote', 'scripts', 'rooms', 'shameful', 'firefighters', 'chieftan', 'brittany', 'kagutaba', 'learns', 'lanterns', 'marry', 'thighs', 'uncertainty', 'international', 'gossiper', 'wipe', 'telecine', 'blurt', 'overshadowed', 'protects', 'spots', 'anywhere', 'torturing', 'slamdunk', 'rosemary', 'open', 'knife', 'gilliam', 'editingbr', 'relativehoping', 'lifestyles', 'tactics', 'vegas', 'grewup', 'commendable', 'tho', 'longs', 'ramble', 'fled', 'nations', 'lance', 'mingling', 'carpenter', 'elsebr', 'free', 'heres', 'skimpy', 'projectbr', 'journalist', 'academies', 'tennessee', 'strawberry', 'george', 'exact', 'illiterate', 'carsons', 'harris', 'raines', 'puts', 'mediabr', 'itches', 'invoked', 'mumbling', 'joyfully', 'spoonfed', 'generates', 'feels', 'reg', 'masse', 'vengeance', 'pattersons', 'siegfried', 'africanamerican', 'capsule', 'camps', 'theatres', 'satiricon', 'bonesbr', 'karaoke', 'jumps', 'pakistani', 'storyeverything', 'moviebr', 'erb', 'visiting', 'wished', 'capitalize', 'hilton', 'christ', 'steve', 'proper', 'yanking', 'support', 'onlike', 'caustic', 'harsh', 'secretly', 'ranger', 'tourist', 'engineered', 'racist', 'pee', 'rightfully', 'sugarplums', 'diner', 'attempt', 'pacing', 'encourages', '50s', 'intrinsic', 'expansive', 'gimli', 'puppet', 'affleck', 'victims', 'convince', 'engine', 'schematic', 'friendship', 'chooses', 'privates', 'digitally', 'soak', 'dimensions', 'demonstrated', '1975', 'complain', 'hunting', 'regarded', 'instruments', 'linguistic', 'tbs', 'castbr', 'transform', 'tony', 'scratches', 'cronenbergbr', 'operation', 'eduardo', 'wargames', 'taskbr', 'teleflick', 'form', 'outfit', 'usage', 'sometimes', 'referred', 'chairman', 'springs', 'consideration', 'liar', 'resume', 'bmovies', 'aboard', 'firesign', '1868', 'dad', 'internet', 'tanaka', 'livesbr', 'perspectives', '1990s', 'coppolas', 'nomination', 'crossfire', 'elmes', 'motivations', 'lawyer', 'carly', 'descent', 'audition', 'siva', 'person', 'captioned', 'poorlittlewhite', 'fahrenheit', 'dessertion', 'willie', 'unusual', '24year', 'hoops', 'booksbr', 'weeds', 'aiken', 'bigot', 'achieved', 'irreproachable', 'gabbar', '60', 'elfriede', 'stiller', 'gozu', 'minisub', 'insight', 'describing', 'grandmama', 'remains', 'calcifying', 'hung', 'sections', 'ichi', 'upbringing', 'birthday', 'table', 'jolting', 'assassinated', 'definetely', 'bombed', 'screenplay', 'hero', 'btk', 'along', 'body', '1948', 'ill', 'danes', 'stargate', 'vignettes', 'betty', 'succeedsbr', 'dinklepuss', 'released', 'resource', '25', 'reports', 'models', 'civiliansand', 'hoppers', 'management', 'sociopath', 'endart', 'members', 'ave', 'wordsas', 'calculating', 'age', 'bilal', 'believer', 'mercy', '18yr', 'unmourned', 'ragneks', 'patterns', 'scary', 'zappa', 'deemed', 'drinks', 'okuhara', 'fantasy', 'agreebr', 'beack', 'falk', 'existence', 'side', 'slavoj', 'agis', 'terrorists', 'uncomfortableas', 'mother', 'assumption', 'eddie', 'clich', 'cracks', 'bestseller', 'suprise', 'cartoonlike', 'ee03128', 'strict', 'clooney', 'masquerades', 'comediesbr', 'gallows', 'oncefabulous', 'ribisi', 'platinumblonde', 'stopped', 'catch', 'doomed', 'vicki', 'naudet', 'bursts', 'phony', 'selling', 'misdirects', 'looking', 'popculture', 'filmthere', 'turning', 'carriers', 'strike', 'terrierbr', 'kindness', 'deserves', 'stars', 'psychopath', 'whether', 'sexy', 'barbra', 'frederick', '1970s', 'deniz', 'wrap', 'guybr', 'symbolizing', 'abandoned', 'shake', 'enjoythe', 'forrest', 'porpoise', 'budgeted', 'amc', 'sing', 'laker', 'divided', 'evidently', 'garrulous', 'mechanical', 'coconspirator', 'abomb', 'masturbatory', 'refreshing', 'lifebr', 'settled', 'jules', 'alfred', 'mounted', 'infantryman', 'peaks', 'aline', 'ttsloeb', 'tested', 'gordon', 'mei', 'spoilersbr', '05', 'token', 'constitutes', 'concerns', 'rififibr', 'led', 'gayer', 'life', 'silhouette', 'merman', 'adapted', 'priscilla', 'jerome', 'polishing', '500', 'machetewielding', 'paagal', 'celebrity', 'barcelona', 'weaken', 'courtbr', 'yearn', 'dismissed', 'untalkative', 'selfishness', 'matinee', 'importance', 'subspecies', 'abby', 'ang', 'demographics', 'deities', 'roar', 'polished', 'sonny', 'deeper', 'truths', 'superbly', 'casino', 'firebreathing', 'liking', 'fried', 'los', 'taos', 'anthology', 'lowerbudget', 'experiments', 'brady', 'dollop', 'maternity', 'rap', 'lord', 'christina', 'foster', 'man', 'embedded', 'nosed', 'pc', 'morningbr', 'treaty', 'shortcoming', 'hundred', 'gungho', 'drugged', 'seachd', 'comrades', 'impressed', 'notch', 'culture', 'eoes', 'reenergize', 'drilling', 'anansa', 'mode', 'hickland', 'attendants', 'varma', 'intuitions', 'lizzie', 'mens', 'embodiment', 'suspense', 'builds', 'criticized', 'daniely', 'offcourse', 'murpy', 'reunion', 'crucifixion', 'programmed', 'whatsoever', 'ego', 'murderers', 'interruptus', 'sales', 'spymovie', 'objectified', 'husky', 'unflattering', 'license', 'books', 'altogether', 'pertinent', 'excellent', 'concorde', 'marathon', 'catbr', 'shone', 'madchen', 'downplay', 'reeked', 'cartoony', 'finney', 'raes', 'marvelously', 'efficiently', 'currie', 'tycoon', 'ingela', 'cynical', 'barney', 'straw', 'gate', 'keatons', 'downbeat', 'obsessed', 'cord', 'carribean', 'confront', 'kung', 'foley', 'montages', 'stepmother', 'skye', 'haneke', 'flitted', 'cooper', 'continued', 'actual', 'linden', 'chteaubr', 'similar', 'pleasebr', 'businesscouple', 'unexciting', '1901', 'sf', 'alamos', 'kind', 'assigned', 'devolvement', 'chocolate', 'tnt', '499', 'werebr', 'substance', 'varied', 'fatale', 'suicide', 'distribution', 'onlybr', 'hes', 'flair', 'accustomed', 'trivialise', 'suffice', 'spouting', 'bless', 'oz', 'dummyrobotavenger', 'sensibility', 'prominently', 'kevin', 'weaknesses', '1980s', 'secondary', 'topic', 'burns', 'uncivil', 'callan', 'spin', 'subjected', 'castaway', 'ching', 'startbr', 'odds', 'ponderous', 'delayed', 'placebo', 'remainder', 'doomsday', 'ice', 'kerrigans', 'chaevsky', 'amaze', 'nose', 'crewmates', 'hyperrealistic', 'sequelbr', 'hundreds', 'nobr', 'prepared', 'majority', 'decades', 'engaging', 'iwalkedinduringthemiddleofaboringconversation', 'ada', 'frozen', 'dicebr', 'tokyos', 'interested', 'ending', 'suppress', 'headlines', 'drawings', 'doctors', 'occurs', 'badbr', 'muppets', 'naf', 'fantastic', 'alltacticsoftoiletseat', 'activity', 'warm', 'blustering', '75', 'directly', 'nominates', 'morris', 'packs', 'trail', 'bachchan', 'aftereffects', 'luna', 'even', 'martial', 'raving', 'expatriate', 'losers', 'glenda', 'entertained', 'stereo', 'forgone', 'freaks', 'new', 'wholly', '1842br', 'jamie', 'losch', 'scotsman', 'biographies', 'heartbreak', 'legacy', 'captured', 'appeared', 'grade', 'overlook', 'daydream', 'fastforwardslow', 'silouhettes', 'create', 'existentialist', 'ah', 'cozy', 'slide', 'axed', 'frolicking', 'pearls', 'newton', 'harbinger', 'scarfs', 'noel', 'dummy', 'ann', 'science', 'hurting', 'beijing', 'agents', 'noah', 'andrews', 'freddies', 'leers', 'selfloathing', 'overstuffed', 'conflicts', 'excused', 'loan', 'slashers', 'polarization', 'amitabh', 'intends', 'meanest', 'shuddery', 'exyugoslavia', 'screwy', 'flashbacks', 'nuts', 'reached', '23', 'positions', 'kate', 'gentlemanly', 'travellers', 'disgusted', 'manicure', 'skin', 'disclose', 'enhance', 'dungeons', 'resnais', 'lary', 'holnistsbr', 'christmas', 'wise', 'wing', 'ferry', 'games', 'nandita', 'el', 'ilva', 'hearing', 'collectors', 'closeups', 'persuaded', 'citybr', 'coups', 'correctly', 'queirs', 'guided', 'woodwork', 'graves', 'crying', 'olivier', 'specific', 'hacktor', 'retailer', 'expressions', 'bythebook', 'koreanamerican', 'lowpoint', 'friendly', 'permitted', 'underneath', 'temperatures', 'byron', 'bigoted', 'innocence', 'titles', 'bobs', 'kitamuras', 'receive', 'whodunit', 'chelsea', 'stores', 'probability', 'stretched', 'jerks', 'overacts', 'heartbr', 'meanings', 'situational', 'anguish', 'gang', 'dutchess', 'pick', 'reliefbr', 'heaven', 'grandfathers', 'feedback', 'south', 'roles', 'lonely', 'spark', 'labor', 'clarify', 'keeping', 'bonuses', 'amateur', 'videostore', 'hay', 'health', 'things', 'identified', 'lesson', 'wonderfully', 'properly', 'photograph', 'print', '2010', 'molester', 'morphs', 'tricky', 'thoroughly', 'via', 'floyd', 'hopes', 'buyer', 'preserving', 'mnage', 'style', 'spedup', 'outburst', 'rip', 'dentisthe', 'talented', 'favorite', 'oooh', 'discourse', 'retract', 'seats', 'uncomfortably', 'simply', 'tailspin', 'hoot', 'agree', 'pointofviewbr', 'deem', 'byington', 'dandy', 'sins', 'alexandre', 'commonality', 'pare', 'didia', 'supportive', 'loyalty', 'insulted', 'stalker', 'chapter', 'scruples', 'loach', 'cheering', 'airport', 'evidence', 'quaint', 'rocker', 'behaves', 'overused', 'atoll', 'webb', 'commend', 'crosseyed', 'consolation', 'booth', 'schumachers', 'uncanny', 'gregor', 'dictators', 'larry', 'careless', 'disconnected', 'brownie', 'scene', 'smart', 'courageous', 'godards', 'change', 'bombedout', 'battleship', 'adventures', 'paramount', 'fisher', 'creep', 'accurate', 'overrided', 'friedhofer', 'brooks', 'hushed', 'stage', 'casting', 'remember', 'postwar', 'check', 'eaten', 'broken', 'milliondegree', 'prine', 'beresford', 'horroryearbook', 'intentions', 'mimic', 'ravesthat', 'pulling', 'stare', 'popcornchewing', 'bernsen', 'sign', 'oklahoma', 'disappearing', 'philosophy', 'theyu', 'typhoon', 'report', 'underestimated', 'enough', 'pushes', 'blend', 'bodices', 'rights', 'deadon', 'todaybr', 'vase', 'dumbeddown', 'sound', 'wide', 'hobbled', 'desperate', 'honeymoon', 'minutes', 'static', 'mervyn', 'dirt', 'multiple', 'everythingbr', 'humanbr', 'june', 'confusing', 'sux', 'capote', 'hick', 'stunkbr', 'romance', 'cult', 'colonel', 'hugh', 'wyoming', 'georges', 'carried', 'commenting', '6', 'pseudointellectual', 'boss', 'heidi', 'tyson', 'heart', 'dispiriting', 'maintain', 'musicians', 'jodie', 'rebel', 'helicopter', 'denies', 'rififi', 'due', 'dripping', 'gold', 'polly', 'lavventura', 'crucifix', 'tender', 'updates', 'entails', 'visible', 'roosevelt', '4', 'plot', 'collided', 'absorb', 'foibles', 'ruffalo', 'perhaps', 'tammy', '1952', 'ravine', 'incompetent', 'relationships', 'rahm', 'blamed', 'shawl', 'taboo', 'income', 'madame', 'forge', 'hallucinatory', 'ourselvesbr', 'stool', 'madman', 'square', 'fad', 'jimi', 'granted', 'balaguer', 'bostwicks', 'heapbr', '1961', 'romantic', 'snog', 'revel', '19', 'vladek', 'ambiguity', 'debuted', 'slash', 'original', 'magazine', 'minute', 'adrenalinepumping', 'befriends', 'cruelty', 'daisy', 'pleasuring', 'different', 'joseph', 'agreed', 'thrived', 'hold', 'amazed', 'levant', 'happily', 'olde', 'nearest', 'casesbr', 'memory', 'holmfrid', 'treated', 'manufacturer', 'itthe', '3rd', 'playedthe', '14', 'edmund', 'curtiss', 'raiders', 'reviewing', 'negative', 'promoted', 'auric', 'cheesiness', 'pack', 'coincidental', 'pigs', 'bestbr', 'third', 'charity', 'redeem', 'shea', 'brazil', 'collaboration', 'ya', 'kristen', 'rhymes', 'apocalyptic', 'thrilling', 'joking', 'awesomebr', 'itv', 'goffen', 'bradley', 'setbr', 'truthful', 'intact', 'hera', 'diversity', 'jennettes', 'swift', 'amusing', 'coyote', 'porsche', 'brando', 'akin', 'adult', 'caesar', 'thespians', 'right', 'sequelworse', 'absurd', 'lamp', 'lynne', 'ounce', 'phrase', 'plots', 'attack', 'playboy', 'lovingly', 'fasinating', 'sandra', 'interacted', 'lookout', 'bashaw', 'garter', 'continentwide', '30s', 'pub', 'northerners', 'dehavilland', 'identical', 'singletons', 'believable', 'korean', 'bottle', 'emotionally', 'ineffectively', 'speaking', 'broadly', 'respectful', 'markbr', 'akira', 'colleen', 'copy', 'appalling', 'pray', 'completists', 'shamelesslyvillainous', 'spahn', 'mistress', 'stunned', 'aboriginal', 'rapist', '60yr', 'koontz', 'shitted', 'catholic', 'dog', 'ballads', 'belly', 'hitchhiking', 'competitive', 'undoubtedly', 'lurch', 'genteel', 'swimming', 'spoiled', 'repulsive', 'aiming', 'didnt', 'martian', 'deborah', '216', 'jealous', 'attacking', 'assign', 'suggest', 'isabella', 'suspicious', 'uncontaminated', 'discovering', 'alterego', 'withbr', 'fetched', 'lf', '3', 'butthead', 'antisemitism', 'darwell', 'purpose', 'documentarystyle', 'masks', 'picks', 'ala', 'channel', 'sis', 'murdered', 'mcguire', 'multilayered', 'clunkerbr', 'july', 'kidnapped', 'somethings', 'conventionality', 'di', 'looked', 'failure', 'changed', 'carry', 'kudos', 'abilities', 'mansalva', 'initiated', 'author', 'scaring', 'fench', 'societybr', 'hayek', 'sargeant', 'chased', 'copilot', 'frances', 'joke', 'cliche', 'given', 'objects', 'picking', 'foreign', 'jamaican', 'tossed', 'comment', 'aka', 'pause', 'inner', 'relatedbr', 'quarter', 'eighty', 'ploy', 'sequel', 'barbie', 'sums', 'playingbr', 'faded', 'antideath', 'nonlinear', 'lacans', 'thinks', 'larkin', 'desertsbr', 'talkamericanet', '69', 'emphasis', 'shugoro', 'remained', 'east', 'describei', 'dreamy', 'advice', 'doubt', 'teamwork', 'musically', 'ass', 'scientists', 'phenomenon', 'apocalypse', 'stig', 'predator', 'furdion', 'tad', 'openminded', 'cost', 'conquered', 'fords', 'betters', 'splashy', 'southern', 'bandit', 'traci', 'cycles', 'gloriously', 'unimpressive', 'buddy', 'hauntingly', 'palatial', 'rif', 'tranceinducing', 'redgrave', 'hole', 'hosted', 'briefly', 'balanced', 'code', 'driverless', 'depicting', 'sheila', 'haskell', 'optimistic', 'teachers', 'supermodel', 'billbr', 'blackmail', 'betray', 'timesthe', 'sketch', 'roasted', 'plus', 'nonetheless', 'otherbr', 'groove', 'empty', 'sink', '1968', 'kasdan', 'gymnasium', 'karma', 'dignified', 'sheenbr', 'lousy', 'carlsons', 'curve', 'nearing', 'lkhubble2', 'eyesbr', 'peddler', 'shrill', 'macabre', 'cinematography', 'mira', 'testing', 'ramgopal', 'dangerous', 'limited', 'practicality', 'laundry', 'sentence', 'halfpeeled', 'nicholson', 'wasps', 'register', 'recognizable', 'boiled', 'published', 'appearthats', 'mayfields', 'although', 'viet', 'majidi', 'responds', '1950s', 'pithy', 'notwhen', 'girlfriend', 'weight', 'unfortunate', 'synopsis', 'warming', 'school', 'ghastly', 'false', 'reign', 'mccaid', 'phocion', 'exiled', 'arguing', 'etcs', 'lifes', 'complicated', 'greed', 'snuck', 'renegade', 'name', 'artistic', 'jimmy', 'matches', 'halloween', 'studied', 'fooled', 'enriching', 'operates', 'leprosy', 'forever', 'ashs', 'dazed', 'snipers', 'relaxed', 'wiser', 'jenson', 'pheri', 'relative', 'way', 'hbo', 'haims', 'melody', 'taxi', 'sinking', 'hawk', 'interrupted', 'mouthing', 'chuck', 'brit', 'freire', 'depreciation', 'itbr', 'toilets', 'foot', 'serials', 'staying', 'plaything', 'inspiring', 'height', 'thriller', 'drippy', 'articulate', 'agenda', 'necessarily', 'varsity', 'tied', 'tierney', 'stretch', 'disassociate', 'double', 'wake', 'aladdin', 'sidesplitting', 'differences', 'unnamed', 'posthumously', 'doubtful', 'adorable', 'wrongdoer', 'oversexed', 'customs', 'latimer', 'vaction', 'cow', 'conceiving', 'fk', 'eg', 'stepping', 'grotesque', 'bizarreso', 'ruff', 'matters', 'monstrous', 'hype', 'contrivance', 'prosecuting', 'flav', 't3', 'vampires', 'meplease', 'magnificent', 'lover', 'puffy', 'unappealing', 'tats', 'spock', 'top', 'revived', 'theyll', 'herman', 'realism', 'parcel', 'giggled', 'fringe', 'moralizing', 'cabin', 'gray', 'marisa', 'swansong', 'ignorant', 'cash', 'uniformly', 'spandex', 'parkey', 'fasterbr', 'ankh', 'option', 'tell', 'noirbr', 'canyon', 'lycanthrope', 'notebook', 'nod', 'melodramatic', 'map', 'orphan', 'earths', 'exclusion', 'temps', 'metamorphosis', 'brick', 'goliath', 'entry', 'painfully', 'item', 'laurie', 'nichols', 'surname', 'singing', 'facets', 'undergoes', 'mannerisms', 'powells', 'kayle', 'enforcement', 'media', 'constructive', 'gotten', 'mariesa', 'allegory', 'flying', 'preface', 'obispo', 'dubbed', 'al', 'giants', 'plunged', 'goes', 'brandy', 'stalked', 'award', 'cool', 'setpieces', 'girardot', 'elliott', 'lifeless', 'spikyhaired', 'carson', 'rafelson', 'stairs', 'debs', 'afoul', '2inch', 'charmless', 'myspacecom', 'idiotic', 'curtis', 'breakdown', 'funk', 'messbr', 'horsemanship', 'synchronized', 'stratton', 'coolness', 'anl3', 'comprehending', 'bennett', 'instance', 'calamitybr', 'partake', 'inger', 'happened', 'replace', 'filmschool', 'lineal', 'researching', 'thunders', 'listened', 'ewan', 'blunders', 'trailers', 'nowadaysbr', 'frown', 'deodato', 'unsightly', 'robbins', 'mid40s', 'dreamlike', 'gershwins', 'revolve', 'faults', 'watches', 'nephews', 'spellbinding', 'talbot', 'matamoros', 'streisand', 'banks', 'astronauts', 'adventurer', 'generaleffortless', 'empathy', 'strapped', 'makes', 'vilify', 'wilfred', 'boxer', 'contestants', 'desired', 'gwyneth', 'inch', 'dust', 'birth', 'religion', 'refuges', 'force', 'ditched', 'whoa', 'pathetic', 'baffled', 'reality', 'pioneers', 'raw', 'conflicting', 'loveda', 'kearn', 'tying', 'clarence', 'alright', 'simultaneously', 'intending', 'picturing', 'immediacy', 'blasphemouslittlegirlwhotakesashinetotheheroes', 'delibr', 'spears', 'erotic', 'shorts', 'harrison', '18', 'duly', 'rhetoric', 'superpower', 'demornay', 'rhys', 'unoriginal', 'colossal', 'cinematographer', 'breast', 'averagely', 'duvall', 'everywherebr', 'endless', 'quite', 'blow', 'overbright', 'stereotypes', 'royal', 'political', 'dublin', 'swigging', 'shortened', 'large', 'chairs', 'mcraney', 'bobbys', 'truth', 'scream', 'confuses', 'characteristics', 'intervention', 'century', 'gaybashing', 'fangirls', 'sally', 'bridges', 'flitters', 'traditions', 'gag', 'soccer', 'friendships', 'significantly', 'primary', 'cameraman', 'badly', 'revolutionized', 'enemy', 'filtered', 'aspect', 'alberto', 'clubs', 'fleming', 'travelling', 'dripped', 'intertwining', 'grimm', 'flat', 'bashing', 'bikers', 'composed', 'waynot', 'wed', 'krause', 'gave', 'simplicities', 'sweden', 'vivian', 'herzog', '7', 'cleaning', 'fundamental', 'pinchots', 'month', 'echoes', 'destruction', 'allot', 'anglesbr', 'doc', 'profanity', 'jeffries', 'california', 'petty', 'starsbr', 'indians', 'impaling', 'analyse', 'taken', 'stays', 'unconsummated', 'paid', 'depressed', 'announcement', 'lange', 'employment', 'luis', 'ran', 'accidental', 'reckless', 'irked', 'junk', 'blonde', 'damn', 'jealousy', 'presentation', 'monitored', 'supervisor', 'cons', 'politicalphilosophyspouting', 'crowhurst', 'proved', 'passionate', 'akkaya', 'ox', '11th', 'bewlidered', 'starter', 'tilly', 'abetted', 'mustering', 'acts', 'wont', 'saving', 'atreides', 'weapon', 'begs', 'newest', 'subgenres', 'allowing', 'daniels', 'parting', 'factor', 'cared', 'thankfully', 'factory', 'seriesbr', '180degree', 'davis', 'restless', 'links', 'kick', 'network', 'halfway', 'plodding', 'kristy', 'managing', 'lizard', 'gory', 'thunder', 'janette', 'huh', 'sodom', 'approached', 'cursed', 'vances', 'frontier', 'movie', 'intention', 'grossbr', 'jews', 'searing', 'antrax', 'emerged', 'mechanic', 'gangster', 'brother', 'throwing', 'buddies', 'fuller', 'terrible', 'walshs', 'fruit', 'weekend', 'sierra', 'horrendously', 'animation', 'julie', 'cpl', 'irving', 'thiswellwow', 'rubbish', 'wacky', 'tore', 'repressed', 'domestic', 'studios', 'groucho', '1992', 'prince', 'park', 'martha', 'nine', 'central', 'bette', 'rewatched', 'centerpiece', 'investigate', 'deewana', 'steamboat', 'stuart', 'actorand', 'outnumbered', 'twaddlebr', 'wanting', 'starbr', 'letterboxed', 'videobr', 'rolls', 'cockroaches', 'intersect', 'ceremonial', 'arrest', 'placebr', 'returned', 'defeat', 'sheens', 'malaise', 'bare', 'abcd', 'librarians', 'mum', 'sara', 'wider', 'thug', 'keira', 'impressionists', 'beastly', 'servicemen', 'resemblance', 'dorn', 'veiled', 'mysteries', 'pale', 'proposal', 'biker', 'disgusting', 'agatha', 'charming', 'terrorizer', 'libby', 'steam', 'sartre', 'suspected', 'batmans', 'filmi', 'thurston', 'cows', 'darus', 'surely', 'documentation', 'abusing', 'putting', 'attached', 'hope', 'deer', 'framework', 'unforgivablebr', 'traveled', 'avoiding', 'female', 'vote', 'meaning', 'dreaming', 'read', 'boeing', 'scouted', 'lingering', 'fine', 'superficial', 'lesleyanne', 'freddie', 'describe', 'scores', 'forgiven', 'faintest', 'vehicleinspired', 'stupidly', 'schlocky', 'transporter', 'spies', 'farnsworth', 'attracted', 'goals', 'freudian', 'survivor', 'surprise', 'deviates', 'buff', 'junkie', 'coworker', 'sharman', 'respective', 'effervescent', 'deschanel', 'splendid', 'curiously', 'dwells', 'neha', 'scoobydoo', 'calms', 'valleri', 'secretive', 'inside', 'amick', 'crucial', 'aristocats', 'granting', 'stark', 'prudes', 'lovell', 'costs', 'epoch', 'law', 'oregon', 'sienna', 'elaine', 'truthfully', 'myc', 'victor', 'demeanor', 'clancy', 'top5', 'target', 'twelfth', 'mentallychallenged', 'min', 'million', 'unusually', 'cheerleader', 'added', 'aunt', 'precarious', 'remembering', 'donor', 'marooned', 'note', 'year', 'regulars', 'sexsarved', 'ex', 'actsbr', 'suleiman', 'convaluted', 'barbary', 'hangar', 'vega', 'perils', 'barrons', 'attention', 'family', 'relations', 'austen', 'blood', 'beatty', 'mcgraw', 'ignored', 'voice', 'jen', 'decorate', 'blandick', 'sympathetic', 'screening', 'prostituting', 'horrid', 'persecuted', 'diver', 'blank', 'yellow', 'arrogant', 'believability', 'lerner', 'nightcap', 'reflective', 'studio', 'tenney', 'oaf', 'conquering', 'grutter', 'rubin', 'cole', 'mid1980s', '1997', 'delightfully', 'weekly', 'possess', 'variant', 'imbue', 'gooding', 'focal', 'magnani', 'average', 'believing', 'dreamteam', 'aesthetic', 'hunger', 'airliners', 'tics', 'fascism', 'arizona', 'diamonds', 'meanstreak', 'mr', 'sell', 'paresh', 'thomas', 'claimed', 'seaboard', 'muslims', 'pioneering', 'antisemitismbr', 'smashed', 'positive', 'stevens', 'constitute', 'data', 'shaft', 'tools', 'especially', 'bryan', 'likes', 'beams', 'continuously', 'home', 'witches', 'regular', 'mick', 'sunshine', 'wrecking', 'irrelevant', 'rented', 'casebr', 'thrill', 'removing', 'sucked', 'enlisted', 'spencer', 'anesthesiologist', 'raybert', 'storytelling', 'sounded', 'lebrock', 'gentlemans', 'originated', 'lennart', 'sewer', 'providing', 'tempting', 'stealing', 'magnetic', 'ticks', 'rants', 'professor', 'eggnog', 'languidly', 'unconditionally', 'predominates', 'daze', 'kerry', 'sleeper', 'christopher', 'gawk', 'flip', 'overall', 'nazism', 'diminishing', 'oldest', 'almost', 'comedian', 'portugal', 'format', 'graveyards', 'fictionalized', 'dryers', 'sappy', 'tiger', 'exgirlfriend', 'cannot', 'inadequacies', 'whilst', 'regarding', 'prideful', 'snakesbr', 'churches', 'finale', 'axes', 'presenters', 'dried', 'travel', 'spoil', 'unwed', 'sword', 'fit', 'equal', 'shock', 'fearless', 'starts', 'abr', 'temple', 'colorbr', 'explaining', 'apple', 'nouvelle', 'chewed', 'feller', 'factorybr', 'heroin', 'ooh', 'son', 'lifeboat', 'depression', 'chance', 'would', 'abraham', 'address', 'script', 'pickup', 'protested', 'rapid', 'revolves', 'events', 'daan', 'indicates', 'laughing', 'runbr', 'indescribable', 'stood', 'mindbender', '1987', 'tire', 'hear', 'marchthe', 'prom', 'manners', 'cd', 'homesteads', 'caress', 'cells', 'weekyou', 'affectionately', 'conversing', 'relating', 'merged', 'unfaltering', 'hefty', 'terribleinitially', 'st', 'dictatorshipsbr', 'bothered', 'freakhaving', 'sanctimonious', 'meets', 'loose', 'interior', 'covered', 'diesbr', 'liberty', 'grated', 'rationality', 'cause', 'nagase', 'though', 'returning', 'fizzing', 'requiring', 'owns', 'er', 'complexities', 'homestead', 'mouth', 'offense', 'identifies', 'nookie', 'resentment', 'nomercy', 'comeback', 'grating', 'unborn', 'papiermache', 'conservative', 'enjoys', 'rolling', 'warriorsbr', 'walkenlike', 'textile', 'assists', 'screenings', 'snake', 'device', 'brand', 'secondtime', 'exteriors', 'mondo', 'manbr', 'without', 'producers', 'dime', 'intensify', 'motivating', 'revelations', 'french', 'youngsters', 'desire', 'closely', 'biased', 'crosssection', 'joint', 'energy', 'knowledge', 'ash', 'reasonable', 'underscores', 'show', 'targets', 'master', 'ideological', 'paraso', 'malle', 'investigative', 'webber', 'thank', 'humane', 'bcomedy', 'chou', 'miraculously', 'thinkbr', 'moon', 'start', 'capitalizes', 'sprawling', 'communities', 'cringeworthy', 'rue', 'package', 'hindu', 'joss', 'petrons', 'bossbr', 'unwatchably', 'fays', 'aimbr', 'lights', 'cockeyed', 'vocals', 'smiled', 'unable', 'smug', 'materialistic', 'forgot', 'flick', 'anxietybr', 'bland', 'foreshadows', 'link', 'psdespite', 'grammar', 'access', 'money', 'major', 'kumars', 'damaging', 'laugh', 'desperately', 'podium', 'admirable', 'falling', 'hidden', 'yentl', 'sustain', 'unbelievable', 'behave', 'stocky', 'dictated', 'caution', 'twenty', 'experienced', 'suburbs', 'plottwists', 'condone', 'ward', 'girlbr', 'twinkling', 'phillip', 'teach', 'native', 'nerves', 'wordless', 'spit', 'tweed', 'sued', 'essence', 'worldclass', 'mayberry', 'homesteading', 'peter', 'workings', 'butt', 'meltbr', 'playing', 'vinyl', 'movingbr', 'socks', 'spontaneous', 'dancers', 'pontificating', 'fruitiest', 'candice', 'hulchul', 'logic', 'raisuli', 'irish', 'inept', 'lugosi', 'popcorn', 'holnist', 'viewer', 'almighty', 'bookbr', 'brought', 'band', 'meek', 'maker', 'hiding', 'usses', 'exterior', 'amit', 'aubrey', 'scenes', 'looping', 'assume', 'wellmade', 'mccalmans', 'followbr', 'pretentiousbr', 'successful', 'happy', 'grab', 'somethingbr', 'summed', 'humphrey', 'intruded', 'trannies', 'maronna', 'caffeine', 'cowrestler', 'hammy', 'sadism', 'someone', 'leiveva', 'tobey', 'kilt', 'autobiographical', 'authentically', 'zombi', 'assailant', 'suffering', 'osiris', 'morphosynthesis', 'reorient', 'manos', 'plausible', 'ideas', 'imagebr', 'demornays', 'part', '79', 'pet', 'featured', 'pitiful', 'loretta', 'itputting', 'masterful', 'confident', 'threat', 'angry', 'pap', 'resulting', 'slowmotion', 'prison', 'contender', 'found', 'basterds', 'prc', 'preserved', 'specialbr', 'thrust', 'fertility', 'backdrop', 'enchanting', 'omen', 'generation', 'thump', 'judgments', 'rhetorically', 'blue', 'combs', 'everbr', 'lisle', 'warn', 'sneaks', 'totally', 'hacienda', 'commitment', 'makeup', 'sacrificing', 'climactic', 'alley', 'host', 'announce', 'miniseries', 'combomoves', 'hardesty', 'dismay', 'anatomically', 'genresbr', 'exorcist', 'cottonmouthed', 'weaselly', 'tribesmen', 'voter', 'net', 'zone', 'bloodsucking', 'seas', 'aided', 'losses', 'cultures', 'wilson', 'spurs', 'chronicles', 'exasperating', 'overtly', 'winner', 'offerings', 'indulging', 'distributed', 'intro', 'unexpectedly', 'mining', 'fault', 'trained', 'wood', 'delinquents', 'league', 'babban', 'kadar', 'broadway', 'androgynous', 'regional', 'vince', 'motion', 'introduce', 'transformations', 'maturity', 'lunch', 'yearsbr', 'seti', 'seymour', 'madsen', 'r', 'actuality', 'interpretation', 'hammiest', 'fans', 'purposely', 'pam', 'paycheck', 'brutality', 'carol', 'arent', 'genre', 'sits', 'clayton', 'youngs', 'trainor', 'campaign', 'pinheadbr', 'redux', 'koko', 'seasoned', 'rick', 'ordinary', 'factorbr', 'edge', 'fatalism', 'morocco', 'scooby', 'zebras', '1930s', 'changing', 'dupe', 'reinterpretation', 'rundown', 'whiny', 'viceversabr', 'met', 'crackle', 'weaving', 'parentchild', 'resort', 'effectively', 'look', 'walk', 'watchbr', 'kills', 'marco', 'listed', 'stereotyping', 'alexis', 'jill', 'josh', 'authoritarian', 'special', 'oblivious', 'economy', 'womens', 'humor', 'delete', 'tonys', 'whove', 'dorothy', 'killedbr', 'hodge', 'severing', 'underactingbr', 'corral', 'play', 'example', 'frightening', 'vague', 'exorcism', 'displaying', 'far', 'centsbr', 'date', 'anna', 'deliberate', 'slope', 'israel', 'ever', 'chen', 'appearances', 'impostor', 'perception', 'necks', 'quip', 'gratitous', 'arkin', 'recognises', 'prevents', 'forget', 'bravo', 'raj', 'moviei', 'bulk', 'impose', 'mayhem', 'lsdtinged', 'heck', 'koop', 'killing', 'fire', 'dive', 'dreadlocks', 'kiddies', 'lords', 'volumes', 'names', 'margarita', 'squeeze', 'hoff', 'notbr', 'cohesive', 'unfortunatly', 'turkish', 'mod', 'praised', 'taylor', 'nervous', 'poor', 'infamy', 'plausibility', 'shining', 'paths', 'bird', 'mandatory', 'disemboweled', 'shutting', 'fellow', 'words', 'stereotypicallyits', 'betraying', 'represent', 'head', 'carrier', 'humming', 'sob', 'buttons', 'dealbr', 'mired', 'interrelated', 'jewboy', 'stanton', 'poppy', 'long', 'grounded', 'confrontations', 'villages', 'coin', 'masterpieces', 'countrybr', 'ieks', 'bafoonery', 'notre', 'lynn', 'abjectly', 'gripping', 'sailing', 'raise', 'justboringand', 'enervating', 'sweat', 'eulogized', 'supporting', 'hurls', 'dutchroll', 'looker', 'overcomplicated', 'catch22', 'donald', 'pining', 'resist', 'levieva', 'nowicki', 'exited', 'frieda', 'se', 'winning', 'emperor', 'toilet', 'principal', 'stinker', 'sichuan', 'nia', 'annoysbr', 'narsisistic', 'parallel', 'embarking', 'realisticbr', 'calculated', 'knows', 'longeri', 'swearing', 'margaret', 'bonnet', 'heroic', 'retellings', 'machismobr', 'gene', 'ww', 'pacino', 'preposterous', 'rollercoaster', 'smallest', 'anyone', 'macon', 'lesserknown', 'freakish', 'vaguely', 'founder', 'siddons', 'hammered', 'continuous', 'eisenstein', 'batches', 'lucille', 'hadntbr', 'helo', 'remarkable', 'rainss', 'panic', 'honesttogoodness', 'listing', 'pinchot', 'cherish', 'bores', 'acquit', 'going', 'ruthless', 'india', 'mummy', 'bedroom', 'collapses', 'amounts', 'ability', 'waltz', 'lunk', 'else', 'hoopers', 'qt', 'sold', 'fireplaces', 'sequal', 'distributing', 'estate', 'wicca', 'surgeries', 'romanticist', 'carlin', 'aaron', 'crowd', 'checked', 'hillsborough', 'tacked', 'golden', '1800s', 'againi', 'enjoying', 'beats', 'talk', 'modern', 'badbadmovies', 'collapsing', 'bates', 'merging', 'bettie', 'chickens', 'heffner', '1980', 'mediocrity', 'parties', 'sexslave', 'mentor', 'snorefest', 'image', 'dailyif', 'thoughtful', 'concert', 'personal', 'rounded', 'elam', 'predators', 'underdog', 'boarder', 'orry', 'popeilbr', 'rainy', 'available', 'wanted', 'drunk', 'vehicle', '1985', 'shows', 'oscar', 'sincere', 'suspect', 'process', 'stuffbut', 'preaching', 'raising', 'small', 'makersbr', 'guess', 'warmth', 'vasey', 'dont', 'complete', 'placed', '25th', 'forbids', 'hell', 'prisoner', 'braindead', 'flies', 'butler', 'detailed', 'pains', 'friends', 'premature', '130', 'breathtaking', 'disappoint', 'supernatural', 'cathy', 'types', 'purse', 'rahman', 'demolition', 'madeleine', 'fools', 'hence', 'noted', 'lewis', 'deed', 'robbbins', 'insignificant', 'veras', 'ing', 'intently', 'acceptable', 'jip', 'insurmountable', 'remaking', '2008', 'bradbury', 'strains', 'tasty', 'tradition', 'dmytryks', 'earns', 'probation', 'jennifers', 'internalized', 'designer', 'us', 'braddock', 'commanded', 'emergency', 'bivouacked', 'relationship', 'sciencefiction', 'perfectthe', 'poker', 'arrangers', 'defensive', 'cliches', 'venessa', 'herr', 'unnerved', 'reinforce', 'rosselini', 'counsell', 'surprisingly', 'uses', 'heat', 'dominis', 'kicker', 'bertrams', 'sub', 'foch', 'wanderer', 'apartment', 'tub', 'viewpoint', 'abuse', 'animals', 'universal', 'sun', 'deliveries', 'motherhood', 'chicken', 'implants', 'tomanian', 'hose', 'commissioner', 'tried', 'goeshuman', 'platoon', 'deliver', 'guest', 'explicitly', 'drill', 'utility', 'alice', 'dontwatch', 'hitler', 'solid', 'fear', 'subcharacters', 'desert', 'notches', 'utah', 'refrigerator', 'pairing', 'neighbours', 'wart', 'unbearable', 'strictest', 'three', 'quinn', 'lumet', 'dress', 'breakout', 'wash', 'extended', 'codes', 'welletched', 'ease', 'manure', 'existed', 'numbingly', 'aimlessly', 'throatbr', 'reel', 'breakdownbr', 'bin', 'fry', 'lexington', 'sawalha']\n",
            "The Word to index vocabulary looks like: \n",
            "{'filmsespecially': 0, 'bloody': 1, 'reappears': 2, 'san': 3, 'neglected': 4, 'end': 5, 'accompanying': 6, 'tomboy': 7, 'con': 8, 'smartmouthed': 9, 'parillaud': 10, 'mainland': 11, 'barbaric': 12, 'follows': 13, 'continually': 14, 'stake': 15, 'inspite': 16, 'hinted': 17, 'haze': 18, 'trademark': 19, 'peters': 20, 'oscars': 21, 'eric': 22, 'completely': 23, 'daughters': 24, 'guns': 25, 'mouths': 26, 'naked': 27, 'restoring': 28, 'sugar': 29, 'nutty': 30, 'ready': 31, 'blueeyed': 32, 'little': 33, 'hellfire': 34, 'lumbered': 35, 'wistful': 36, '80something': 37, 'floating': 38, 'reworking': 39, 'attorney': 40, 'kanebr': 41, 'rape': 42, 'fascinating': 43, 'ms': 44, 'awake': 45, 'soon': 46, 'william': 47, 'sniffmus': 48, 'fruitcake': 49, 'weddings': 50, 'framed': 51, 'sliding': 52, 'slightly': 53, 'variation': 54, 'critic': 55, 'modernization': 56, 'easily': 57, 'smaller': 58, 'learned': 59, 'optical': 60, 'acceptance': 61, 'county': 62, 'assembles': 63, 'jimbo': 64, 'guntoting': 65, 'offends': 66, 'dotrices': 67, 'rub': 68, 'gamebr': 69, 'recovery': 70, 'twobr': 71, 'cultural': 72, 'silver': 73, 'sicko': 74, 'listens': 75, 'welllets': 76, 'particularly': 77, 'raymond': 78, 'gun': 79, 'lend': 80, 'impersonators': 81, 'sleeves': 82, 'catches': 83, 'attendant': 84, 'rikers': 85, 'release': 86, 'trite': 87, 'raises': 88, 'penalty': 89, 'benchmark': 90, 'unneeded': 91, 'wishes': 92, 'brocksmith': 93, 'wellproduced': 94, 'streets': 95, 'strokes': 96, 'bathroom': 97, 'manhattan': 98, 'screw': 99, 'season': 100, 'embraces': 101, 'amitabhz': 102, 'edo': 103, 'extraneous': 104, 'balance': 105, 'honest': 106, 'snatched': 107, 'e': 108, 'facially': 109, 'photo': 110, 'patina': 111, 'learnt': 112, 'traces': 113, 'latin': 114, 'mythical': 115, 'italian': 116, 'project': 117, 'sorts': 118, 'unowns': 119, 'sht': 120, 'predates': 121, 'reiterated': 122, 'delves': 123, 'remind': 124, 'hitchcock': 125, 'dreadful': 126, 'fighter': 127, 'gives': 128, 'shijies': 129, 'communication': 130, 'sleazy': 131, 'fanciful': 132, 'diesel': 133, 'yelling': 134, 'accompanied': 135, 'dinners': 136, 'maguire': 137, 'enforce': 138, 'hmmm': 139, 'deconstructing': 140, 'applies': 141, 'masochism': 142, 'platonic': 143, 'partially': 144, 'poolsuddenly': 145, 'guts': 146, 'keith': 147, 'primitiveskillingexploitativewesterners': 148, 'psycho': 149, 'champ': 150, 'victim': 151, 'standout': 152, 'sixth': 153, 'invasion': 154, 'adaptation': 155, 'neck': 156, 'blackcomic': 157, 'opposite': 158, 'mongomerybr': 159, 'usher': 160, 'vacillating': 161, 'showcased': 162, 'ambitious': 163, 'reputation': 164, 'british': 165, 'zucker': 166, 'exploitive': 167, 'trusting': 168, 'seek': 169, 'sifter': 170, 'censor': 171, 'welldrawn': 172, 'watery': 173, 'vanished': 174, 'stripperbr': 175, 'scariest': 176, 'doesnt': 177, 'equally': 178, 'chain': 179, 'brideshead': 180, 'blasted': 181, 'fastmoving': 182, 'besiege': 183, 'ghost': 184, 'melanie': 185, 'funniest': 186, 'antagonism': 187, 'arghh': 188, 'ascertain': 189, 'fetish': 190, 'fluid': 191, 'written': 192, 'taut': 193, 'twist': 194, 'role': 195, 'hurt': 196, 'weakness': 197, 'destroying': 198, 'reader': 199, 'gloomy': 200, 'skill': 201, 'valuesorientated': 202, 'horrors': 203, 'enemies': 204, 'reach': 205, 'focuses': 206, 'love': 207, 'except': 208, 'satirical': 209, 'batouch': 210, 'contemplations': 211, 'hollow': 212, 'sg1': 213, 'swayed': 214, 'bathtub': 215, 'expecting': 216, 'klein': 217, 'remote': 218, 'woodland': 219, 'tubes': 220, 'lack': 221, 'recomend': 222, 'billing': 223, 'adventure': 224, 'killers': 225, 'score': 226, 'hatch': 227, 'seizes': 228, 'bgirl': 229, 'amelie': 230, 'murderous': 231, 'timefilling': 232, 'idiot': 233, 'betrayal': 234, 'whoopi': 235, 'dullest': 236, 'duller': 237, 'vcd': 238, '1904': 239, 'doorman': 240, 'crisis': 241, 'forties': 242, 'encounter': 243, 'hokum': 244, 'offers': 245, 'dc': 246, 'carrel': 247, 'discovery': 248, 'champion': 249, 'darwins': 250, 'albert': 251, 'schwarzeneggers': 252, 'wastedbr': 253, 'path': 254, 'succeed': 255, 'mindbr': 256, 'momentarily': 257, 'midrange': 258, 'dyke': 259, '0': 260, 'later': 261, 'pocket': 262, 'johansson': 263, 'exsoldier': 264, 'inflatable': 265, 'jeremy': 266, 'sex': 267, 'dishonesty': 268, 'watts': 269, 'spelled': 270, 'bondesque': 271, 'photographers': 272, 'monologue': 273, 'morgan': 274, 'nighteyes': 275, 'driver': 276, 'imo': 277, 'davy': 278, 'adds': 279, 'debra': 280, 'youand': 281, 'duh': 282, 'muppet': 283, 'surgeon': 284, 'patrol': 285, 'showdown': 286, 'purposes': 287, 'riverside': 288, 'developers': 289, 'adoption': 290, 'queens': 291, 'moviesbr': 292, 'vintage': 293, 'holden': 294, 'choosing': 295, 'imaginative': 296, 'approaches': 297, 'greasebr': 298, 'apollonia': 299, 'white': 300, 'barrel': 301, 'smallscale': 302, 'overlooked': 303, 'ballistic': 304, 'cheaply': 305, 'gerry': 306, 'didactic': 307, 'rudimentary': 308, 'cattle': 309, 'mcgregor': 310, 'idly': 311, 'morita': 312, 'insane': 313, 'neglect': 314, 'fx': 315, 'warned': 316, 'joe': 317, 'professionally': 318, 'startedbr': 319, 'conditions': 320, 'imaginebr': 321, 'encroaching': 322, 'demand': 323, 'moreau': 324, 'munchausen': 325, 'slighted': 326, 'efforts': 327, 'charges': 328, 'state': 329, 'serves': 330, 'shepard': 331, 'immagrants': 332, 'rising': 333, 'folk': 334, '1994': 335, 'bad': 336, 'mads': 337, 'hurts': 338, 'vicariously': 339, 'us10': 340, 'dismal': 341, 'attire': 342, 'crackpot': 343, 'others': 344, 'coarse': 345, 'tightened': 346, 'extrodinaire': 347, 'neighbouring': 348, 'getgo': 349, 'stoner': 350, 'huck': 351, 'holmes': 352, 'postman': 353, 'fictional': 354, 'supported': 355, 'sentimental': 356, 'shop': 357, 'considerable': 358, 'stunk': 359, 'sole': 360, 'companions': 361, 'enjoyment': 362, 'romps': 363, 'nugent': 364, 'deep': 365, 'dominic': 366, 'mondaybr': 367, 'pilot': 368, 'enthusiast': 369, 'convict': 370, 'watching': 371, 'heading': 372, 'slays': 373, 'portion': 374, 'zero': 375, 'crap': 376, 'certificate': 377, 'fedele': 378, 'triple': 379, 'towards': 380, 'insisting': 381, 'fishy': 382, 'ample': 383, 'physicality': 384, 'assured': 385, 'starkest': 386, 'appealing': 387, 'willes': 388, 'suggested': 389, 'wife': 390, 'acted': 391, 'giantbr': 392, 'main': 393, 'aviation': 394, 'withinbr': 395, 'said': 396, 'raves': 397, 'unimaginablebr': 398, 'attacked': 399, 'kal': 400, 'remembered': 401, 'nonebr': 402, 'bronson': 403, 'bleak': 404, 'students': 405, 'hathaway': 406, 'mystique': 407, 'grainy': 408, 'som': 409, 'exceeds': 410, 'changedbr': 411, 'sean': 412, 'therebr': 413, 'sleaze': 414, 'render': 415, 'harmony': 416, 'francisco': 417, 'tricks': 418, 'gymnasts': 419, 'renditionbr': 420, 'bitterly': 421, 'station': 422, 'linking': 423, 'blatant': 424, 'europeanbut': 425, 'rickman': 426, 'factors': 427, 'hurry': 428, 'heartthrob': 429, 'russians': 430, 'sundown': 431, 'begrudgingly': 432, 'twice': 433, 'ideabr': 434, 'boreanaz': 435, 'sams': 436, 'swallow': 437, 'jordan': 438, 'fashions': 439, 'spare': 440, 'trying': 441, 'flash': 442, 'earthexcept': 443, 'coherent': 444, 'commissioned': 445, 'conveyed': 446, 'horse': 447, 'girlfriends': 448, 'excruciatingly': 449, 'claude': 450, 'donutshaped': 451, 'rush': 452, 'setup': 453, 'murphys': 454, 'popped': 455, 'famous': 456, 'longlegged': 457, 'slave': 458, 'enormously': 459, 'wayanss': 460, 'connotation': 461, 'quit': 462, 'fourth': 463, 'improvement': 464, 'estelle': 465, 'corrupt': 466, 'bloom': 467, 'oedipal': 468, 'struggles': 469, 'bone': 470, 'passivity': 471, 'observation': 472, 'antoine': 473, 'disregard': 474, 'showed': 475, 'f16': 476, 'erupt': 477, 'prepare': 478, 'livelihood': 479, 'popular': 480, 'gruesome': 481, 'stink': 482, 'propelled': 483, 'bandy': 484, 'missouri': 485, 'pristine': 486, 'protection': 487, 'social': 488, 'mitch': 489, 'hidebr': 490, 'determined': 491, 'excite': 492, 'lowpaced': 493, 'townspeople': 494, 'marvelous': 495, 'bizarrebr': 496, 'effecting': 497, 'fecal': 498, 'linesbr': 499, 'oxygen': 500, 'recycled': 501, 'past': 502, 'bbc': 503, 'remove': 504, 'oscarworthy': 505, 'manipulative': 506, 'brilliant': 507, 'proceedings': 508, 'multicharacter': 509, 'ridiculous': 510, 'pressure': 511, 'subplots': 512, 'mock': 513, 'travels': 514, 'castrati': 515, 'heroz': 516, 'multiplex': 517, 'looney': 518, 'tomorrow': 519, 'rwtd': 520, 'turkey': 521, '80s': 522, 'settlers': 523, 'darks': 524, 'puzzle': 525, 'fuel': 526, 'restraint': 527, 'oddsbr': 528, 'cheating': 529, 'munchiebr': 530, 'lighthouse': 531, 'promotional': 532, 'engagingsometimes': 533, 'common': 534, 'frida': 535, 'atheists': 536, 'shields': 537, 'cassidy': 538, 'manson': 539, 'opinion': 540, 'sedgwick': 541, 'jacket': 542, 'eight': 543, 'perversely': 544, 'xxx': 545, 'reopened': 546, 'crappy': 547, 'edition': 548, 'closet': 549, 'notion': 550, 'midwestern': 551, 'conveniently': 552, 'dr': 553, 'faulted': 554, 'hairbr': 555, 'chose': 556, 'gained': 557, 'tito': 558, 'technique': 559, 'axe': 560, 'kurt': 561, 'ended': 562, 'daimlerbr': 563, 'pfetten': 564, 'khan': 565, 'suggestion': 566, 'sources': 567, 'suffers': 568, 'discounted': 569, 'cookies': 570, 'herbert': 571, 'remi': 572, 'rousing': 573, 'stabbed': 574, 'unbeknownst': 575, 'mel': 576, 'selves': 577, 'proam': 578, 'touches': 579, 'moments': 580, 'overacted': 581, 'choicesbr': 582, 'loads': 583, '80ish': 584, 'reward': 585, 'thoughts': 586, 'nightclub': 587, 'locate': 588, 'starving': 589, 'duncan': 590, 'erika': 591, 'peopleso': 592, 'cooler': 593, 'sawa': 594, 'confusion': 595, 'punks': 596, 'granddaughter': 597, 'plotbr': 598, 'vagabond': 599, 'quickly': 600, 'smothering': 601, 'counseling': 602, 'extremist': 603, 'notsogood': 604, 'pos': 605, 'annoying': 606, 'b': 607, 'megan': 608, 'contrast': 609, 'suit': 610, 'cosmic': 611, 'methods': 612, 'kept': 613, 'accuracy': 614, 'touchstone': 615, 'fret': 616, 'pianobr': 617, 'roth': 618, 'nighttime': 619, 'oakland': 620, 'hungama': 621, 'thumb': 622, 'patterson': 623, 'catching': 624, 'yimou': 625, 'handcuffed': 626, 'craving': 627, 'dmitri': 628, 'tommy': 629, 'degrees': 630, 'ridiculously': 631, 'refused': 632, 'annihilation': 633, 'eazy': 634, 'lifted': 635, 'caprios': 636, 'inventivebr': 637, 'thinking': 638, 'threatens': 639, '19th': 640, 'fail': 641, 'let': 642, 'madonna': 643, 'laud': 644, 'queaseinducing': 645, 'coast': 646, 'smoking': 647, 'arnold': 648, 'jackson': 649, 'helpbr': 650, 'oshin': 651, 'senator': 652, '1st': 653, 'generate': 654, 'legion': 655, 'dissection': 656, 'athlete': 657, 'excellant': 658, 'spaghetti': 659, 'bet': 660, 'standards': 661, 'sorrentinos': 662, 'telugu': 663, 'transmitting': 664, 'electric': 665, 'knowing': 666, 'lessquality': 667, 'chic': 668, 'belushi': 669, 'bounces': 670, 'catastrophes': 671, 'halfdecent': 672, 'mishaps': 673, 'approximate': 674, 'doody': 675, 'dolby': 676, 'semblance': 677, 'suspenseful': 678, 'intellectually': 679, '1960s': 680, 'antieye': 681, 'footwork': 682, 'emotive': 683, 'standins': 684, 'dobr': 685, 'houseguest': 686, 'scripted': 687, 'center': 688, 'clearer': 689, 'frequent': 690, 'materials': 691, 'killian': 692, 'plague': 693, 'kinear': 694, 'cute': 695, 'king': 696, 'excited': 697, 'mismatched': 698, 'items': 699, 'father': 700, 'trove': 701, '1974': 702, 'express': 703, 'bruises': 704, 'krug': 705, 'hunts': 706, 'mindspace': 707, 'doom': 708, 'dietrich': 709, 'selfdeclared': 710, 'impressedeverything': 711, 'hunted': 712, 'landmark': 713, 'laughably': 714, 'slimy': 715, 'public': 716, 'austria': 717, 'rushed': 718, 'confession': 719, 'rigg': 720, 'stopmotionbr': 721, 'worry': 722, '120': 723, 'writers': 724, 'accepting': 725, 'seenbr': 726, 'weirdo': 727, 'gb': 728, 'unfocused': 729, 'ripoff': 730, 'classics': 731, 'increase': 732, '1932': 733, 'fairly': 734, 'errors': 735, 'point': 736, 'oconnors': 737, 'instinct': 738, 'goldfinger': 739, 'shepherd': 740, 'roadside': 741, 'fullyfledged': 742, 'nonnormal': 743, 'imaginable': 744, 'evolves': 745, 'sidekick': 746, 'connection': 747, 'letting': 748, 'kyle': 749, 'endangered': 750, 'hearings': 751, 'distinction': 752, 'neon': 753, 'garland': 754, 'detail': 755, 'exwife': 756, 'obtained': 757, 'badge': 758, 'classic': 759, 'antonioni': 760, 'carlsen': 761, 'steps': 762, 'often': 763, 'less': 764, 'wealth': 765, 'lethally': 766, 'lucy': 767, 'introbr': 768, 'architect': 769, 'racism': 770, 'caravan': 771, 'mine': 772, 'threw': 773, 'thick': 774, 'staircase': 775, 'privacy': 776, 'snow': 777, 'feelingsbr': 778, 'putnam': 779, 'fastpaced': 780, 'mcdermott': 781, 'protagonist': 782, 'challenger': 783, 'demme': 784, 'dedicated': 785, 'trends': 786, 'unveiling': 787, 'wwiistyle': 788, 'delicate': 789, 'acquired': 790, 'neurotic': 791, 'inconsistencies': 792, 'nea': 793, 'soundeffected': 794, 'ales': 795, 'satanists': 796, 'sox': 797, 'lined': 798, 'happiness': 799, 'intelligence': 800, 'illustrates': 801, 'broad': 802, 'confronts': 803, 'singlehanders': 804, 'assures': 805, 'deposes': 806, 'caviezel': 807, 'skullnumbing': 808, 'pearl': 809, 'jr': 810, 'thoughboth': 811, 'instilled': 812, 'pollyanna': 813, 'disarray': 814, 'willy': 815, 'scars': 816, 'pregps': 817, 'chivalrous': 818, 'proclamation': 819, 'diana': 820, 'caitlin': 821, 'sultan': 822, 'riding': 823, 'vulnerable': 824, 'shoot': 825, 'sass': 826, 'smashing': 827, 'kurtz': 828, 'sgt': 829, 'stripped': 830, 'industries': 831, 'employer': 832, 'treatmentbr': 833, 'orrys': 834, 'firm': 835, 'munda': 836, 'sombre': 837, 'skeins': 838, 'canned': 839, 'starlight': 840, '2x': 841, 'rita': 842, 'thoughtprovoking': 843, 'thames': 844, 'umi': 845, 'insults': 846, 'infuses': 847, 'housebr': 848, 'inhumane': 849, 'henry': 850, 'solace': 851, 'movieor': 852, 'costners': 853, 'ventures': 854, '1994br': 855, 'actors': 856, 'wallace': 857, 'noirean': 858, 'tongue': 859, 'wang': 860, 'bathrobe': 861, 'paltrow': 862, 'capacities': 863, 'fireplace': 864, 'trespassers': 865, 'shellshocked': 866, 'informative': 867, 'spacey': 868, 'grand': 869, 'probably': 870, 'centurys': 871, 'selfpunishing': 872, 'chaps': 873, 'friendzone': 874, 'liberated': 875, 'practitioner': 876, 'globes': 877, 'glorious': 878, 'clearly': 879, 'positivebr': 880, 'morton': 881, 'enemywhere': 882, 'props': 883, 'bed': 884, 'umbopa': 885, 'tempered': 886, 'muscled': 887, 'couches': 888, 'monologues': 889, 'friggin': 890, 'unsung': 891, 'familial': 892, 'documentarybr': 893, 'nerds': 894, 'sergeant': 895, 'hydewhite': 896, 'denial': 897, 'risqu': 898, 'choi': 899, 'nods': 900, 'dane': 901, 'tagline': 902, 'sergei': 903, 'fantasising': 904, 'um': 905, 'colourful': 906, 'verdict': 907, 'tribal': 908, 'inconvenienced': 909, 'disappointedbr': 910, 'mohanlal': 911, 'unattainable': 912, 'askbr': 913, 'dresser': 914, 'leftist': 915, 'underlying': 916, 'shifting': 917, 'surgery': 918, 'columbo': 919, 'littleknown': 920, 'walken': 921, 'neatly': 922, 'wired': 923, 'distant': 924, 'hines': 925, 'boggles': 926, 'restaraunt': 927, 'jock': 928, 'obwat': 929, 'cablebr': 930, 'trust': 931, 'impenetrable': 932, 'bucket': 933, 'sexual': 934, 'carved': 935, 'narsimha': 936, 'sides': 937, 'survivors': 938, 'program': 939, 'beefcake': 940, 'break': 941, 'intentionally': 942, 'tyra': 943, 'terrorized': 944, 'lotbr': 945, 'downhill': 946, 'strange': 947, 'privka': 948, 'toast': 949, 'carl': 950, 'destroyed': 951, 'beavis': 952, 'finding': 953, 'besides': 954, 'entertainments': 955, 'outdated': 956, 'eager': 957, 'plain': 958, 'pops': 959, 'disjointed': 960, 'liberal': 961, '81': 962, 'exterminator': 963, 'juicier': 964, 'persona': 965, 'texas': 966, 'sixtyish': 967, 'zerosum': 968, 'excuse': 969, 'sewell': 970, 'morality': 971, 'mimicking': 972, 'avoids': 973, 'seldom': 974, 'hooks': 975, 'trish': 976, 'cosgrovehall': 977, 'simons': 978, 'linda': 979, 'terrifically': 980, 'bloodshed': 981, 'predating': 982, 'secrets': 983, 'shooting': 984, 'october': 985, '95': 986, 'carlys': 987, 'belgium': 988, 'syrup': 989, 'iron': 990, 'antonionis': 991, 'possessed': 992, 'gump': 993, 'singleminded': 994, 'escapism': 995, 'baxter': 996, 'prescence': 997, 'film': 998, 'outshined': 999, 'treating': 1000, 'taps': 1001, 'mercs': 1002, 'sachs': 1003, 'general': 1004, 'manatarms': 1005, 'whispering': 1006, 'collaborative': 1007, 'mediocre': 1008, 'unblinking': 1009, 'amazement': 1010, 'tomei': 1011, 'curse': 1012, 'drained': 1013, 'ron': 1014, 'benton': 1015, 'mitchum': 1016, 'crashes': 1017, 'eccentric': 1018, 'pro': 1019, 'alas': 1020, 'plentiful': 1021, 'victimhood': 1022, 'thieves': 1023, 'blackboard': 1024, 'lame': 1025, 'frank': 1026, 'caves': 1027, 'fair': 1028, 'nationwide': 1029, 'redeeming': 1030, 'densely': 1031, 'backstory': 1032, 'alligator': 1033, 'fathers': 1034, 'unpromising': 1035, 'mustsees': 1036, 'gwoemul': 1037, 'majid': 1038, 'newcomer': 1039, 'lens': 1040, 'selznick': 1041, 'bleed': 1042, 'boards': 1043, 'mattei': 1044, 'choreographed': 1045, 'swooning': 1046, 'beyond': 1047, 'bloodlinebr': 1048, 'palettes': 1049, 'cclock': 1050, 'cheddar': 1051, '90': 1052, 'conviction': 1053, 'vietnam': 1054, 'mccarthy': 1055, 'begun': 1056, 'cinematographers': 1057, 'donnagios': 1058, 'hoffmans': 1059, 'distinctive': 1060, 'disappointing': 1061, 'gregory': 1062, 'grandfather': 1063, 'marilyn': 1064, 'like': 1065, 'plan': 1066, 'lapbr': 1067, 'sherrif': 1068, 'mail': 1069, '1956': 1070, 'wits': 1071, '750': 1072, 'moitessier': 1073, 'culturally': 1074, 'captor': 1075, 'cheesy': 1076, 'stressed': 1077, 'seedier': 1078, 'momentbr': 1079, 'provoking': 1080, 'achievement': 1081, 'distract': 1082, 'foggy': 1083, 'oshins': 1084, 'bozos': 1085, 'penetrating': 1086, 'carefullynow': 1087, 'story': 1088, '40': 1089, 'flight': 1090, 'timmy': 1091, 'hours': 1092, 'happening': 1093, 'news': 1094, 'interrupts': 1095, 'conversations': 1096, 'overboard': 1097, 'jennifer': 1098, 'interred': 1099, '1945': 1100, 'kellys': 1101, 'princess': 1102, 'dancer': 1103, 'pg': 1104, 'otherworldly': 1105, 'pbs': 1106, 'petrifying': 1107, 'realistically': 1108, 'motorcycle': 1109, 'ravishing': 1110, 'undetectedbr': 1111, 'intrested': 1112, 'orbit': 1113, 'indiana': 1114, 'eleanor': 1115, 'seriously': 1116, 'charlene': 1117, 'wpix': 1118, 'received': 1119, 'perceive': 1120, 'foremost': 1121, 'bodies': 1122, 'comedies': 1123, 'trauma': 1124, 'painfulbr': 1125, 'leadingman': 1126, 'wes': 1127, 'drivel': 1128, 'eventbr': 1129, 'hardhitting': 1130, 'reaches': 1131, 'hartleys': 1132, 'wants': 1133, 'crash': 1134, '1964': 1135, 'trilogy': 1136, 'purely': 1137, 'guilty': 1138, 'confirming': 1139, 'humour': 1140, 'comes': 1141, 'flimsy': 1142, 'emmanuelle': 1143, 'screwup': 1144, 'elfin': 1145, 'design': 1146, 'size': 1147, 'giant': 1148, 'sexist': 1149, 'falsehood': 1150, 'saga': 1151, 'laughs': 1152, 'scarlet': 1153, 'joins': 1154, 'variety': 1155, 'shattered': 1156, 'draw': 1157, 'hank': 1158, 'abduct': 1159, 'combined': 1160, 'tragedy': 1161, 'beside': 1162, 'challenge': 1163, 'gripe': 1164, 'hospitalised': 1165, 'niklas': 1166, 'connery': 1167, 'wallow': 1168, 'overtake': 1169, 'leaders': 1170, '1942': 1171, 'every': 1172, 'uncensored': 1173, 'pile': 1174, 'ludicrousbr': 1175, 'registering': 1176, 'finished': 1177, 'failures': 1178, 'detracting': 1179, 'material': 1180, 'beforebr': 1181, 'payment': 1182, 'tyzack': 1183, 'falco': 1184, 'cyborgsrobots': 1185, 'wondered': 1186, 'base': 1187, 'cusack': 1188, 'beaten': 1189, 'nathan': 1190, 'nikolaj': 1191, 'definitive': 1192, 'lab': 1193, 'beg': 1194, 'dread': 1195, 'girls': 1196, 'america': 1197, 'diplomat': 1198, 'diary': 1199, 'ramgopalvarma': 1200, 'kimber': 1201, 'feminine': 1202, 'gasp': 1203, 'miss': 1204, 'put': 1205, 'outlet': 1206, 'exposed': 1207, 'ad': 1208, 'induce': 1209, 'cuddly': 1210, 'progresses': 1211, 'beliefs': 1212, 'managed': 1213, 'humanoid': 1214, 'helen': 1215, 'convicted': 1216, 'conventional': 1217, 'arresting': 1218, 'passing': 1219, 'effortless': 1220, 'lifeforce': 1221, 'confines': 1222, 'cages': 1223, 'larenz': 1224, 'asking': 1225, 'theodore': 1226, 'alternative': 1227, 'reinventing': 1228, 'inadvertently': 1229, 'scope': 1230, 'wonderful': 1231, 'brats': 1232, 'resounding': 1233, 'obsessions': 1234, 'pio': 1235, 'hairy': 1236, 'crumplefaced': 1237, 'hoped': 1238, 'unlocked': 1239, 'patty': 1240, 'entire': 1241, 'obscure': 1242, 'member': 1243, 'elkanah': 1244, 'carethe': 1245, 'timebr': 1246, 'awesome': 1247, 'competition': 1248, 'grants': 1249, 'creation': 1250, 'aroundbr': 1251, 'sensitive': 1252, 'estevo': 1253, 'molinaro': 1254, 'eightbr': 1255, 'dillinger': 1256, 'dvr': 1257, 'sammy': 1258, 'stored': 1259, 'question': 1260, 'pointlessness': 1261, 'relieved': 1262, 'communicate': 1263, 'hallucinating': 1264, 'evidencebr': 1265, 'power': 1266, 'closed': 1267, 'confessions': 1268, 'blebs': 1269, 'cuts': 1270, 'alibi': 1271, 'picker': 1272, 'surrogate': 1273, 'whatnot': 1274, 'kristanna': 1275, 'napalm': 1276, 'wards': 1277, 'mask': 1278, 'uplifting': 1279, 'fanbase': 1280, 'skits': 1281, 'wanders': 1282, 'cyborg': 1283, 'societal': 1284, 'choicebr': 1285, 'pot': 1286, 'groped': 1287, 'spirit': 1288, 'walcott': 1289, 'purebr': 1290, 'shined': 1291, 'compose': 1292, 'chinese': 1293, 'haunted': 1294, 'arab': 1295, 'narration': 1296, 'ledger': 1297, 'cypher': 1298, 'exhibiting': 1299, 'stinks': 1300, 'alleys': 1301, 'athletic': 1302, 'bothersome': 1303, 'oldsoul': 1304, 'twentysomething': 1305, 'notes': 1306, 'pupil': 1307, 'smarttech': 1308, 'protestantism': 1309, 'aboriginals': 1310, 'lofty': 1311, 'captivates': 1312, 'fist': 1313, 'shaking': 1314, 'payoff': 1315, 'unlikely': 1316, 'torch': 1317, 'tooth': 1318, 'provides': 1319, 'fang': 1320, 'crystal': 1321, 'homosexuality': 1322, 'blake': 1323, 'orton': 1324, 'daybr': 1325, 'delivering': 1326, 'sheets': 1327, 'quest': 1328, 'formulaic': 1329, 'tube': 1330, 'rejects': 1331, 'absolutely': 1332, 'downs': 1333, 'lots': 1334, 'exhaust': 1335, 'literary': 1336, 'jackets': 1337, 'experience': 1338, 'antony': 1339, 'domini': 1340, 'firstly': 1341, 'stonewashed': 1342, 'colorful': 1343, 'twoandahalf': 1344, 'eats': 1345, 'insinuate': 1346, 'sounding': 1347, 'maier': 1348, 'jeanne': 1349, 'othersbr': 1350, 'cheek': 1351, 'daughter': 1352, 'howard': 1353, 'comparison': 1354, 'veins': 1355, 'eustache': 1356, 'ram': 1357, 'almostcomic': 1358, 'awol': 1359, 'distinguished': 1360, 'uneasy': 1361, 'representing': 1362, 'gas': 1363, 'philosophical': 1364, 'leak': 1365, 'retired': 1366, 'restlessness': 1367, 'reminds': 1368, 'outsidebr': 1369, 'thrashing': 1370, 'accidentally': 1371, 'voiceover': 1372, 'alahani': 1373, 'sue': 1374, 'hook': 1375, 'honeymooners': 1376, 'bore': 1377, 'sicerely': 1378, 'liked': 1379, 'stallone': 1380, 'sooner': 1381, 'worthy': 1382, 'comparing': 1383, 'hotelbr': 1384, 'called': 1385, 'ham': 1386, 'thrashes': 1387, 'heartwarming': 1388, 'unrealisticbr': 1389, 'ladies': 1390, 'worst': 1391, 'sizebr': 1392, 'cringed': 1393, 'characteristic': 1394, 'entirely': 1395, 'somebody': 1396, 'laura': 1397, 'intimidating': 1398, 'antifreeze': 1399, 'smugness': 1400, 'fluke': 1401, 'wallach': 1402, 'sawyer': 1403, 'macbeth': 1404, 'sillier': 1405, 'exam': 1406, 'harebrained': 1407, 'supply': 1408, 'tank': 1409, 'blessing': 1410, 'ineffective': 1411, 'deeds': 1412, 'henson': 1413, 'filmmaking': 1414, 'barren': 1415, 'france': 1416, 'use': 1417, 'adapt': 1418, 'mcqueen': 1419, 'gigli': 1420, 'forwards': 1421, 'intense': 1422, 'yearns': 1423, 'exploitation': 1424, 'decade': 1425, 'understandably': 1426, 'savagebr': 1427, 'wakes': 1428, 'unimportant': 1429, 'kong': 1430, 'saxophone': 1431, 'conquer': 1432, 'abolitionists': 1433, 'surrealism': 1434, 'laing': 1435, 'janine': 1436, 'nu': 1437, 'filthy': 1438, 'witness': 1439, 'dans': 1440, 'displays': 1441, 'mania': 1442, 'evolve': 1443, 'sullies': 1444, 'resurrected': 1445, 'terrified': 1446, 'ecstasy': 1447, 'combo': 1448, 'tolerance': 1449, 'nongershwin': 1450, 'whirry': 1451, 'ptsd': 1452, 'crew': 1453, 'chockfull': 1454, 'hubristic': 1455, 'ware': 1456, 'planes': 1457, 'nude': 1458, 'spoke': 1459, 'bears': 1460, 'enhanced': 1461, 'laughton': 1462, 'elton': 1463, 'lasting': 1464, 'absolute': 1465, 'jeeter': 1466, 'evidenced': 1467, 'outfits': 1468, 'religious': 1469, 'historicitybr': 1470, 'moviemakers': 1471, 'prices': 1472, 'conceived': 1473, 'wink': 1474, 'betebr': 1475, 'detectives': 1476, 'agnew': 1477, 'art': 1478, 'beast': 1479, 'peoples': 1480, 'objective': 1481, 'strait': 1482, 'durantes': 1483, 'mustered': 1484, 'evita': 1485, 'sorta': 1486, 'scruffy': 1487, 'buxton': 1488, 'disdain': 1489, 'bankrupt': 1490, 'persuasive': 1491, 'powerful': 1492, 'kronk': 1493, 'alonzo': 1494, '1936': 1495, 'stroll': 1496, 'amlia': 1497, 'tears': 1498, 'scarybr': 1499, 'guardian': 1500, 'cmon': 1501, 'publicizing': 1502, 'sculptor': 1503, 'quoting': 1504, 'exactly': 1505, 'dawns': 1506, 'dynamite': 1507, 'seasickness': 1508, 'benefits': 1509, 'caitlins': 1510, 'matthau': 1511, 'goldblum': 1512, 'coincidences': 1513, 'james': 1514, 'stretches': 1515, 'crude': 1516, 'photographs': 1517, 'dump': 1518, 'breathless': 1519, 'silly': 1520, 'fall': 1521, 'singles': 1522, 'overcoming': 1523, 'heroics': 1524, 'preachy': 1525, 'socialist': 1526, 'disney': 1527, 'bumps': 1528, 'namely': 1529, 'whoever': 1530, 'cowboy': 1531, 'symbol': 1532, 'clinton': 1533, 'amazon': 1534, 'copied': 1535, 'nonsense': 1536, 'spinster': 1537, 'irena': 1538, 'wealthy': 1539, 'dolls': 1540, 'ned': 1541, 'conan': 1542, 'junior': 1543, 'valley': 1544, 'untimely': 1545, 'expression': 1546, 'visit': 1547, 'caveat': 1548, 'vin': 1549, 'confess': 1550, 'ethan': 1551, 'affects': 1552, 'sight': 1553, '2007': 1554, 'lennon': 1555, 'literally': 1556, 'legends': 1557, 'requesting': 1558, 'wih': 1559, 'bukowski': 1560, 'sense': 1561, 'infected': 1562, 'shaky': 1563, 'pejorative': 1564, 'replies': 1565, 'christies': 1566, 'pillars': 1567, 'sings': 1568, 'observationbr': 1569, 'working': 1570, 'lex': 1571, 'shootem': 1572, 'smiling': 1573, 'targeting': 1574, 'brains': 1575, 'olivabr': 1576, 'aimed': 1577, 'sitcom': 1578, 'flic': 1579, 'argument': 1580, 'cannon': 1581, 'hair': 1582, 'academy': 1583, 'pulsate': 1584, 'largest': 1585, 'grounds': 1586, 'sunstroke': 1587, 'unrelated': 1588, 'jhkel': 1589, 'cancels': 1590, 'dies': 1591, 'amens': 1592, 'brainwashing': 1593, 'celebrities': 1594, 'vindication': 1595, 'stepford': 1596, 'discern': 1597, 'daft': 1598, '87': 1599, '5th': 1600, 'aisles': 1601, 'snapshot': 1602, 'sequencebr': 1603, 'kubrick': 1604, 'deja': 1605, 'dharmendra': 1606, 'precode': 1607, 'fedmy': 1608, 'cowboys': 1609, 'whaaa': 1610, 'miliuss': 1611, 'morejulies': 1612, 'resonance': 1613, 'early': 1614, 'mag': 1615, 'vhsquality': 1616, 'dating': 1617, 'minors': 1618, 'outerspace': 1619, 'bible': 1620, 'potential': 1621, 'ritualized': 1622, 'coat': 1623, 'education': 1624, 'sickingly': 1625, 'mundane': 1626, 'macys': 1627, 'bat': 1628, 'glossybr': 1629, 'frankly': 1630, 'ea': 1631, 'prepares': 1632, 'doses': 1633, 'excuses': 1634, 'choose': 1635, 'also': 1636, 'cameras': 1637, 'timely': 1638, 'photographed': 1639, 'puckett': 1640, 'forcing': 1641, 'comedy': 1642, 'emma': 1643, 'endear': 1644, 'ivan': 1645, 'ransom': 1646, 'aphrodesiacs': 1647, 'metaphysics': 1648, 'idiosyncratic': 1649, 'burn': 1650, 'sacrilegious': 1651, 'outbreak': 1652, 'pointofview': 1653, 'sympathizer': 1654, 'connect': 1655, 'messing': 1656, 'stressing': 1657, 'places': 1658, 'coming': 1659, 'tillys': 1660, 'boost': 1661, 'hazards': 1662, '000': 1663, 'inconsistent': 1664, 'whistling': 1665, 'lemercier': 1666, 'airplanebr': 1667, 'broader': 1668, 'accident': 1669, 'raging': 1670, 'demille': 1671, 'wonder': 1672, 'cleverbr': 1673, 'scenebr': 1674, 'supersecret': 1675, 'clown': 1676, 'fews': 1677, 'tvs': 1678, 'realisation': 1679, 'gradually': 1680, 'oddly': 1681, 'stillers': 1682, 'grizzly': 1683, 'bela': 1684, 'prude': 1685, 'departments': 1686, 'affection': 1687, 'increasingly': 1688, 'ritualistic': 1689, 'glamorized': 1690, 'follow': 1691, 'reprising': 1692, 'offed': 1693, 'earnest': 1694, 'care': 1695, 'barroom': 1696, 'sita': 1697, 'distrust': 1698, 'lena': 1699, 'gary': 1700, 'patrick': 1701, 'unwitting': 1702, 'extravagant': 1703, 'hari': 1704, 'strength': 1705, 'laughable': 1706, 'digested': 1707, 'mccurdy': 1708, 'broadcast': 1709, 'taiwanese': 1710, 'publics': 1711, 'utilitarian': 1712, 'fox': 1713, 'advertisement': 1714, 'convinced': 1715, 'stevenson': 1716, 'ozone': 1717, 'trick': 1718, 'illegally': 1719, 'kindhearted': 1720, 'lamented': 1721, 'centre': 1722, 'tvmovie': 1723, 'wouldbe': 1724, 'kay': 1725, 'atonement': 1726, 'hanged': 1727, 'rhino': 1728, 'jeniffer': 1729, 'exclusive': 1730, 'begin': 1731, 'finishes': 1732, 'isolated': 1733, 'sport': 1734, 'mistakebr': 1735, 'ways': 1736, 'banter': 1737, 'named': 1738, 'fortunes': 1739, 'firstrate': 1740, 'liangs': 1741, 'burnt': 1742, 'intellectual': 1743, 'dynamics': 1744, 'appreciable': 1745, 'partway': 1746, 'marlon': 1747, 'proffered': 1748, 'warlords': 1749, 'zoeys': 1750, 'existenz': 1751, 'kidnap': 1752, 'arirang': 1753, 'north': 1754, 'predictable': 1755, 'storylines': 1756, 'pronouns': 1757, 'strangest': 1758, 'classical': 1759, 'messy': 1760, 'huntif': 1761, 'piece': 1762, 'acting': 1763, 'last': 1764, 'light': 1765, 'traps': 1766, 'sows': 1767, 'titillation': 1768, 'greediness': 1769, 'truecrime': 1770, 'straight': 1771, 'newly': 1772, 'nevershouldhavemadeit': 1773, 'everythingmessrs': 1774, 'cupboard': 1775, 'alarmingly': 1776, 'somebodys': 1777, '60s70s': 1778, '215': 1779, 'tremendously': 1780, 'helicopters': 1781, 'tautou': 1782, 'youll': 1783, 'institution': 1784, 'pathos': 1785, 'bowls': 1786, 'might': 1787, 'anyway': 1788, 'healed': 1789, 'changer': 1790, 'severed': 1791, 'isabel': 1792, 'trades': 1793, 'could': 1794, 'forest': 1795, 'dour': 1796, 'polluted': 1797, 'guyyardleyrees': 1798, 'semicheesy': 1799, 'extraordinary': 1800, 'americana': 1801, 'nemesis': 1802, 'hitting': 1803, 'disgrace': 1804, 'impressionism': 1805, 'jailed': 1806, 'thinksbr': 1807, 'afternoon': 1808, 'emotion': 1809, 'undisneylike': 1810, 'bostwick': 1811, 'weber': 1812, 'technicians': 1813, 'smithee': 1814, 'troubling': 1815, 'sarcastic': 1816, 'levene': 1817, 'iii': 1818, 'rank': 1819, 'outpostbr': 1820, 'toad': 1821, 'composer': 1822, 'firsthand': 1823, 'grindhouse': 1824, 'involving': 1825, 'spinning': 1826, 'killick': 1827, 'householdbr': 1828, 'police': 1829, 'solved': 1830, 'maryjane': 1831, 'magnifying': 1832, 'add': 1833, 'unraveling': 1834, 'situationsbr': 1835, 'muldaur': 1836, 'langdon': 1837, 'wooden': 1838, 'greco': 1839, 'historic': 1840, 'asked': 1841, '747': 1842, 'humanized': 1843, 'pokes': 1844, 'ritter': 1845, 'proudbr': 1846, 'parrish': 1847, 'localized': 1848, 'sarcasm': 1849, 'foldes': 1850, 'toll': 1851, 'unlikeable': 1852, 'faces': 1853, 'nevsky': 1854, 'treads': 1855, 'weve': 1856, 'hardest': 1857, 'heroismbr': 1858, 'engrossing': 1859, 'barker': 1860, 'croft': 1861, 'harvey': 1862, 'dubbing': 1863, 'bumbling': 1864, '2000': 1865, 'twodimensional': 1866, 'mistreated': 1867, '65': 1868, 'whisked': 1869, 'semi': 1870, 'wears': 1871, 'divers': 1872, 'monkeys': 1873, 'fishburnes': 1874, 'sexually': 1875, 'objection': 1876, 'godbr': 1877, 'icons': 1878, 'ghosts': 1879, 'prizewinner': 1880, 'epps': 1881, 'fartjokes': 1882, 'fbi': 1883, 'brisk': 1884, 'kress': 1885, 'brimming': 1886, 'kaye': 1887, 'remotely': 1888, 'selected': 1889, 'missingbr': 1890, 'antithesis': 1891, 'es': 1892, 'austin': 1893, 'believes': 1894, 'dutch': 1895, 'punishment': 1896, 'sketchier': 1897, 'vulgarity': 1898, 'fulci': 1899, 'commit': 1900, 'devil': 1901, 'walkon': 1902, 'crunches': 1903, 'fervor': 1904, 'quality': 1905, 'followed': 1906, 'loni': 1907, 'talkingboring': 1908, 'sized': 1909, 'himand': 1910, 'junctions': 1911, 'short': 1912, 'custody': 1913, 'depraved': 1914, 'himfreakinself': 1915, 'beginning': 1916, 'compare': 1917, 'intrudingscore': 1918, 'freed': 1919, 'text': 1920, 'corporate': 1921, 'oldsters': 1922, 'adjoining': 1923, 'reprise': 1924, 'engineer': 1925, 'depiction': 1926, 'told': 1927, 'chump': 1928, 'gina': 1929, 'loneliness': 1930, 'tryst': 1931, 'bundy': 1932, 'scoffed': 1933, 'teen': 1934, 'vortexbr': 1935, 'saxophonist': 1936, 'backdrops': 1937, 'melodramaticbr': 1938, 'disastrous': 1939, 'jean': 1940, 'mini': 1941, 'circular': 1942, 'undeniably': 1943, 'doris': 1944, 'aikens': 1945, 'superstitious': 1946, 'lane': 1947, 'prominence': 1948, 'hill': 1949, 'menacing': 1950, 'syrupy': 1951, 'track': 1952, 'basil': 1953, 'id': 1954, 'technically': 1955, 'service': 1956, 'certifiably': 1957, 'internationally': 1958, 'case': 1959, 'thisbr': 1960, 'overthetop': 1961, 'timepasser': 1962, 'hesseman': 1963, 'constraints': 1964, 'resident': 1965, 'purple': 1966, 'odessa': 1967, 'recordings': 1968, 'propertys': 1969, 'van': 1970, 'subtext': 1971, 'redemption': 1972, '35': 1973, 'bull': 1974, 'coitus': 1975, 'savage': 1976, 'moviesso': 1977, 'similarities': 1978, 'laurence': 1979, 'millionaire': 1980, 'antics': 1981, 'artists': 1982, 'got': 1983, 'rock': 1984, 'christianity': 1985, 'br': 1986, 'squabbles': 1987, 'solo': 1988, 'sponge': 1989, 'lacy': 1990, 'traumatic': 1991, 'catherine': 1992, 'unscary': 1993, 'payne': 1994, 'rotten': 1995, 'presencebut': 1996, 'morrow': 1997, 'cranky': 1998, 'rescued': 1999, 'ramrodder': 2000, 'misunderstood': 2001, 'philosophers': 2002, 'soviet': 2003, 'abomination': 2004, 'capital': 2005, 'rollerboys': 2006, 'melodrama': 2007, 'woody': 2008, 'creations': 2009, 'shy': 2010, 'arm': 2011, 'unlike': 2012, 'mature': 2013, 'liquidised': 2014, 'nineteenthcentury': 2015, 'patient': 2016, 'disadvantages': 2017, 'monthsbr': 2018, 'scrolling': 2019, 'stab': 2020, 'interressting': 2021, 'sabotaging': 2022, 'melting': 2023, 'rid': 2024, 'know': 2025, 'corey': 2026, 'yodelling': 2027, 'appelagate': 2028, 'terrorist': 2029, 'struck': 2030, 'atkins': 2031, 'seem': 2032, 'fast': 2033, 'pocasni': 2034, 'alongside': 2035, 'hated': 2036, 'deux': 2037, 'matsumura': 2038, 'hennesy': 2039, 'situation': 2040, 'larson': 2041, 'research': 2042, 'stoned': 2043, 'reflections': 2044, 'screwball': 2045, 'damage': 2046, 'church': 2047, 'develops': 2048, 'speakbr': 2049, 'replacing': 2050, 'admittedly': 2051, 'karen': 2052, 'guru': 2053, 'city': 2054, 'unwilling': 2055, 'fights': 2056, 'motivic': 2057, 'fallen': 2058, 'pace': 2059, 'wwii': 2060, 'personalities': 2061, 'ladder': 2062, 'planted': 2063, 'trio': 2064, 'demands': 2065, 'bhavtakur': 2066, 'snigger': 2067, 'explores': 2068, 'reminiscence': 2069, 'havent': 2070, 'act': 2071, 'birkin': 2072, 'jones': 2073, 'jon': 2074, 'realize': 2075, 'scientific': 2076, 'smooth': 2077, 'narrow': 2078, 'ravaged': 2079, 'whereas': 2080, 'presented': 2081, 'underpinnings': 2082, 'changeofpace': 2083, 'abusebr': 2084, 'ray': 2085, 'kickboxing': 2086, 'guinnesss': 2087, 'pp': 2088, 'permanent': 2089, 'striking': 2090, 'pollution': 2091, 'theresa': 2092, 'model': 2093, 'ghostly': 2094, 'career': 2095, 'climaxbr': 2096, 'accused': 2097, 'fool': 2098, 'sarandon': 2099, 'values': 2100, 'codirected': 2101, 'principals': 2102, 'funky': 2103, 'defends': 2104, 'showmen': 2105, 'cinephile': 2106, 'followingbr': 2107, 'chicago': 2108, 'sloth': 2109, 'asiabr': 2110, 'youve': 2111, 'languagebr': 2112, 'naive': 2113, 'months': 2114, 'respectively': 2115, 'careful': 2116, 'rivalforhomecomings': 2117, 'dealings': 2118, 'influencing': 2119, 'mankind': 2120, 'chiefs': 2121, 'astra': 2122, 'artful': 2123, 'line': 2124, 'vs': 2125, 'witticisms': 2126, 'loftier': 2127, 'underpants': 2128, 'ryosuke': 2129, 'piano': 2130, 'serialkiller': 2131, 'spectacular': 2132, 'additional': 2133, 'bursting': 2134, 'hulces': 2135, 'carboncopy': 2136, 'tobe': 2137, 'maratonci': 2138, 'writingbr': 2139, 'understood': 2140, 'nudity': 2141, 'respects': 2142, 'omnipresent': 2143, 'beverly': 2144, 'drillbr': 2145, 'sider': 2146, 'precious': 2147, 'custard': 2148, 'propriety': 2149, 'deck': 2150, 'boots': 2151, 'angrily': 2152, 'flashes': 2153, 'requirements': 2154, 'barriers': 2155, 'presumptuous': 2156, 'guzman': 2157, 'shares': 2158, 'dollars': 2159, 'accolade': 2160, 'greasy': 2161, 'sanders': 2162, 'psychically': 2163, 'carreras': 2164, 'jose': 2165, 'cartoon': 2166, 'belief': 2167, 'develop': 2168, 'many': 2169, 'sporting': 2170, 'fifty': 2171, 'argue': 2172, 'baddie': 2173, 'dassin': 2174, 'capotes': 2175, 'characterizations': 2176, 'covers': 2177, 'excommungated': 2178, 'areas': 2179, 'unoffending': 2180, 'progressive': 2181, 'suzu': 2182, 'kid': 2183, 'stepfathers': 2184, 'mustard': 2185, 'scriptbr': 2186, 'attending': 2187, 'water': 2188, 'theater': 2189, 'seventh': 2190, 'greatness': 2191, 'shawshank': 2192, 'pleasurable': 2193, 'level': 2194, 'fullfledged': 2195, 'cox': 2196, 'kato': 2197, 'loops': 2198, 'sjholm': 2199, 'newspaper': 2200, 'etc': 2201, 'russo': 2202, 'clone': 2203, 'reporter': 2204, 'nominate': 2205, 'essential': 2206, 'psychology': 2207, 'joy': 2208, 'advocates': 2209, 'bored': 2210, 'appreciate': 2211, 'purists': 2212, 'unscrupulous': 2213, 'sleeping': 2214, 'bandits': 2215, 'hickson': 2216, 'capriciousness': 2217, 'deserving': 2218, 'rooting': 2219, 'heros': 2220, 'sufjan': 2221, 'bowling': 2222, 'utter': 2223, 'distance': 2224, 'unrestrained': 2225, 'recognised': 2226, 'clueless': 2227, 'brutally': 2228, 'familys': 2229, 'frat': 2230, 'inappreciable': 2231, 'compared': 2232, 'yankees': 2233, 'biopics': 2234, 'derek': 2235, 'empowerment': 2236, 'lazy': 2237, 'fever': 2238, 'influenced': 2239, 'recreations': 2240, 'lago': 2241, 'scuppered': 2242, 'combines': 2243, 'h2': 2244, 'shown': 2245, 'performing': 2246, 'anakin': 2247, 'voyage': 2248, 'door': 2249, 'straighttovideo': 2250, 'imprisoned': 2251, 'fudd': 2252, 'fulllength': 2253, 'numbersbr': 2254, 'dictatorship': 2255, 'vantages': 2256, 'relaxation': 2257, 'relatively': 2258, 'watermelons': 2259, 'deadpan': 2260, 'toobr': 2261, 'quickies': 2262, 'flesh': 2263, 'unwarily': 2264, 'mildly': 2265, 'quietly': 2266, 'race': 2267, 'homosexual': 2268, 'provocation': 2269, 'chiefly': 2270, 'low': 2271, 'schnook': 2272, 'hills': 2273, 'output': 2274, 'fortiesbr': 2275, 'pulled': 2276, 'kerala': 2277, 'deny': 2278, 'ej': 2279, 'tin': 2280, 'entertainers': 2281, 'worried': 2282, 'takashi': 2283, 'cenobites': 2284, 'fighting': 2285, 'farwell': 2286, 'hating': 2287, 'searching': 2288, 'title': 2289, 'tends': 2290, 'infatuation': 2291, 'distraught': 2292, 'bloodthirsty': 2293, 'stalking': 2294, 'superfluous': 2295, 'hairdo': 2296, 'circle': 2297, 'ignore': 2298, 'awaits': 2299, 'klingons': 2300, 'upon': 2301, 'accuratebr': 2302, 'eve': 2303, 'spoken': 2304, 'chops': 2305, 'watereddown': 2306, 'glowing': 2307, 'satires': 2308, 'zombie': 2309, 'audience': 2310, 'showtime': 2311, 'dennis': 2312, 'originality': 2313, 'marked': 2314, 'broadest': 2315, 'hillbillies': 2316, 'die': 2317, 'street': 2318, 'meanwhile': 2319, 'produces': 2320, 'ventriloquist': 2321, 'humorless': 2322, 'winkwink': 2323, 'critique': 2324, 'uruguayan': 2325, '123': 2326, 'meltdown': 2327, 'corbett': 2328, 'documentaries': 2329, 'sniders': 2330, 'harp': 2331, 'decorations': 2332, 'vat': 2333, 'reveals': 2334, 'chamber': 2335, 'strip': 2336, 'dragonheart': 2337, 'gibson': 2338, 'feminism': 2339, 'genrehorror': 2340, '11stars': 2341, 'lastly': 2342, 'recorded': 2343, 'clichridden': 2344, 'softcore': 2345, 'implausible': 2346, 'nailed': 2347, 'dogs': 2348, 'offer': 2349, 'octogenarian': 2350, 'kurasawas': 2351, 'african': 2352, 'leaving': 2353, 'accents': 2354, 'hoping': 2355, 'blending': 2356, 'aficionados': 2357, 'nelson': 2358, 'neither': 2359, 'pedecariss': 2360, 'hate': 2361, 'stinking': 2362, 'weekends': 2363, 'baron': 2364, 'evolved': 2365, 'watchable': 2366, 'deviant': 2367, 'miragefilled': 2368, 'crossfires': 2369, 'sigh': 2370, 'neighborhood': 2371, 'usa': 2372, 'aliens': 2373, 'reestablished': 2374, 'generated': 2375, 'chatterer': 2376, 'notorious': 2377, 'officer': 2378, 'destroys': 2379, 'pulaski': 2380, 'lucky': 2381, 'tracking': 2382, 'rapidly': 2383, 'lbs': 2384, 'stopandgo': 2385, 'living': 2386, 'disconnection': 2387, 'attentiongrabbing': 2388, 'mcgovern': 2389, '93': 2390, 'posturing': 2391, 'forgive': 2392, 'precise': 2393, 'regretted': 2394, 'accepted': 2395, 'amateurishly': 2396, 'slowpaced': 2397, 'himbr': 2398, 'delivers': 2399, 'inherent': 2400, 'carefully': 2401, '1967': 2402, 'manufactured': 2403, 'ed': 2404, 'schmaltz': 2405, 'devicebr': 2406, 'binoche': 2407, 'position': 2408, 'uphill': 2409, 'death': 2410, 'csar': 2411, 'divine': 2412, 'sniper': 2413, 'ten': 2414, 'duck': 2415, 'olympic': 2416, 'burned': 2417, 'gailard': 2418, 'violence': 2419, 'underworld': 2420, 'struggled': 2421, 'redheaded': 2422, 'bombing': 2423, 'goodwill': 2424, 'glorybr': 2425, 'devastating': 2426, 'ethel': 2427, 'miniature': 2428, 'visited': 2429, 'haggard': 2430, 'resembles': 2431, 'gentleman': 2432, 'malick': 2433, 'appears': 2434, 'artwork': 2435, 'manipulate': 2436, 'humiliated': 2437, 'claim': 2438, 'foolish': 2439, 'rufo': 2440, 'prokofiev': 2441, 'tobr': 2442, 'merry': 2443, 'remy': 2444, 'appearance': 2445, 'quips': 2446, 'geoffrey': 2447, 'hadbr': 2448, 'brendon': 2449, 'intentional': 2450, 'committedbr': 2451, 'chauvinistic': 2452, 'balkans': 2453, 'brainless': 2454, 'duhbr': 2455, 'truly': 2456, 'watched': 2457, 'flare': 2458, 'rapaport': 2459, 'lacks': 2460, 'memorablebr': 2461, 'terri': 2462, 'hoosiers': 2463, 'basement': 2464, 'smiths': 2465, 'shaping': 2466, 'hollywood': 2467, '5': 2468, 'supersonic': 2469, 'disorders': 2470, 'manuscripts': 2471, 'ive': 2472, 'ribaldary': 2473, 'cicra': 2474, 'shay': 2475, 'entertains': 2476, 'saved': 2477, 'manic': 2478, 'jeep': 2479, 'tarkovsky': 2480, 'paragon': 2481, 'siren': 2482, 'novels': 2483, 'actor': 2484, 'embarrassment': 2485, 'big': 2486, 'thrills': 2487, 'studying': 2488, 'mediums': 2489, 'try': 2490, 'kingdom': 2491, 'nixed': 2492, 'brief': 2493, 'chainsaws': 2494, 'cousins': 2495, 'inadequate': 2496, 'weave': 2497, 'misa': 2498, 'goody': 2499, 'lecture': 2500, 'witty': 2501, 'worksbr': 2502, 'wendys': 2503, 'spectrum': 2504, 'bewildered': 2505, 'site': 2506, 'molly': 2507, 'amount': 2508, 'employed': 2509, 'exaggerated': 2510, 'uncle': 2511, 'presently': 2512, 'wayans': 2513, 'rodential': 2514, 'coachs': 2515, 'twitches': 2516, 'gooks': 2517, 'medieval': 2518, 'acclaim': 2519, 'healing': 2520, 'focus': 2521, 'rhythm': 2522, 'hesitation': 2523, 'f4': 2524, 'policemanbr': 2525, 'stressors': 2526, 'rescue': 2527, 'admired': 2528, 'commentaries': 2529, 'glosses': 2530, 'contain': 2531, 'razzie': 2532, 'insure': 2533, 'arrangements': 2534, 'saying': 2535, 'gail': 2536, 'laidback': 2537, 'array': 2538, 'result': 2539, 'molder': 2540, 'oscarnominated': 2541, 'must': 2542, 'hospital': 2543, 'demonic': 2544, 'duty': 2545, 'ormondroyd': 2546, 'dial': 2547, 'tromas': 2548, 'relevance': 2549, 'poisoned': 2550, 'cloth': 2551, 'non': 2552, 'heartstopping': 2553, 'drum': 2554, 'curler': 2555, 'full': 2556, 'faced': 2557, 'katie': 2558, 'excellently': 2559, 'druggy': 2560, 'thief': 2561, 'casts': 2562, 'scottish': 2563, 'commentary': 2564, 'manned': 2565, 'newsman': 2566, 'manner': 2567, 'guignol': 2568, 'beautiful': 2569, 'compassion': 2570, 'proceeded': 2571, 'diving': 2572, 'bombastic': 2573, 'infallible': 2574, 'tarantino': 2575, 'boot': 2576, 'forming': 2577, 'bite': 2578, 'chaplin': 2579, 'epatha': 2580, 'parody': 2581, 'perfecti': 2582, 'scenery': 2583, 'leeched': 2584, 'local': 2585, 'aidbr': 2586, 'sheryl': 2587, 'throughbr': 2588, 'volume': 2589, 'traversing': 2590, 'dashiell': 2591, 'druglord': 2592, 'ideology': 2593, 'wymark': 2594, 'murphy': 2595, 'solve': 2596, 'agent': 2597, 'incredibly': 2598, 'incorporate': 2599, 'disastrously': 2600, 'kendra': 2601, 'kohuts': 2602, 'hoover': 2603, 'gratuitously': 2604, 'berenger': 2605, 'dragon': 2606, 'writerbr': 2607, 'quintessential': 2608, 'isolation': 2609, 'startling': 2610, 'atrocities': 2611, 'concentrates': 2612, 'sartain': 2613, 'rude': 2614, 'cat': 2615, 'ginnys': 2616, 'wardrobe': 2617, 'khoda': 2618, 'spree': 2619, 'memories': 2620, 'causality': 2621, 'manipulation': 2622, 'finish': 2623, 'conveys': 2624, 'offscreen': 2625, 'appropriately': 2626, 'thinnes': 2627, 'empathize': 2628, 'featuring': 2629, 'portrayal': 2630, 'regency': 2631, 'unassuming': 2632, 'caricature': 2633, 'devastatingly': 2634, 'couple': 2635, 'heaped': 2636, 'penitentiary': 2637, 'rendition': 2638, 'tracks': 2639, 'really': 2640, 'buckner': 2641, 'dragons': 2642, 'itselfbr': 2643, 'sanitation': 2644, 'corrupted': 2645, 'recognizedbr': 2646, 'talent': 2647, 'helms': 2648, 'upbr': 2649, 'ramghad': 2650, 'bt': 2651, 'disguise': 2652, 'swirling': 2653, 'carey': 2654, 'needless': 2655, 'aside': 2656, 'disneys': 2657, 'daffy': 2658, 'pipe': 2659, 'bono': 2660, 'river': 2661, 'bearablebr': 2662, 'finales': 2663, 'airbr': 2664, 'forif': 2665, 'tims': 2666, 'generous': 2667, 'shoulder': 2668, 'wearing': 2669, 'perform': 2670, 'song': 2671, 'blair': 2672, 'accentuated': 2673, 'gantry': 2674, 'information': 2675, 'kathleen': 2676, 'reducing': 2677, 'jt': 2678, 'flaming': 2679, 'hiltonbr': 2680, 'planets': 2681, 'meditation': 2682, 'grant': 2683, 'stature': 2684, 'races': 2685, 'ferraris': 2686, 'em': 2687, 'melodramas': 2688, 'segment': 2689, 'unpleasant': 2690, 'breathtakingly': 2691, 'stirred': 2692, 'sociologists': 2693, 'motel': 2694, 'timelist': 2695, 'explain': 2696, 'turmoil': 2697, 'wellpaced': 2698, 'greater': 2699, 'babbling': 2700, 'guests': 2701, 'titular': 2702, 'homophobic': 2703, 'personally': 2704, 'belt': 2705, 'loves': 2706, 'axcepted': 2707, 'chase': 2708, 'dody': 2709, 'opportunity': 2710, 'grotesquehighly': 2711, 'deserve': 2712, 'frankenstein': 2713, 'truely': 2714, 'honorably': 2715, 'purchased': 2716, 'costello': 2717, 'records': 2718, 'crimes': 2719, 'space': 2720, 'whereby': 2721, 'group': 2722, 'outputs': 2723, 'orangutan': 2724, 'harron': 2725, 'hash': 2726, 'theism': 2727, 'button': 2728, 'parading': 2729, 'fallacious': 2730, 'imitated': 2731, 'airing': 2732, 'stereotypically': 2733, 'maude': 2734, 'candleshoebr': 2735, 'togel': 2736, '1991': 2737, 'relieving': 2738, 'character': 2739, 'devious': 2740, 'latest': 2741, 'specifications': 2742, 'adolf': 2743, 'stunts': 2744, 'facadething': 2745, 'cafeteria': 2746, 'robber': 2747, 'born': 2748, 'crazies': 2749, 'innovative': 2750, 'finger': 2751, 'wordsbr': 2752, 'quatermain': 2753, 'affecting': 2754, 'slapstickbr': 2755, 'yesterday': 2756, 'participating': 2757, 'barry': 2758, 'digressive': 2759, 'doubtfire': 2760, 'guiding': 2761, 'bondage': 2762, 'defending': 2763, 'resign': 2764, 'overbearing': 2765, 'lesser': 2766, 'storm': 2767, 'alert': 2768, 'symbolizes': 2769, 'wrestlers': 2770, 'madefortv': 2771, 'sweetest': 2772, 'transcend': 2773, '70s': 2774, 'mrs': 2775, 'kyra': 2776, 'edinburgh': 2777, 'gearin': 2778, 'decisions': 2779, 'channing': 2780, 'lit': 2781, 'blame': 2782, 'dramas': 2783, 'overwhelming': 2784, 'assignment': 2785, 'demented': 2786, 'danning': 2787, 'amok': 2788, 'file': 2789, 'replete': 2790, 'antidote': 2791, 'packaged': 2792, 'glance': 2793, 'elation': 2794, 'itim': 2795, 'selfhate': 2796, 'arouse': 2797, 'watchedbr': 2798, 'underscore': 2799, 'wear': 2800, 'giving': 2801, 'git': 2802, 'arguments': 2803, 'bigshot': 2804, 'styling': 2805, 'ride': 2806, 'amaro': 2807, 'gacy': 2808, 'duff': 2809, 'shag': 2810, 'repels': 2811, 'gutsplittingly': 2812, 'teams': 2813, 'solves': 2814, 'crime': 2815, 'jed': 2816, 'conflicted': 2817, 'newfound': 2818, 'whole': 2819, 'tennis': 2820, 'theatre': 2821, 'reallybr': 2822, 'game': 2823, 'wouldve': 2824, 'wastelands': 2825, 'fits': 2826, 'kline': 2827, 'schtick': 2828, 'wagon': 2829, 'strayed': 2830, 'toward': 2831, 'curiosity': 2832, 'intent': 2833, 'tales': 2834, 'refurbishing': 2835, 'zombies': 2836, 'cope': 2837, 'sweetness': 2838, 'froud': 2839, 'previously': 2840, 'ultraterrible': 2841, 'sadness': 2842, 'lightly': 2843, 'enjoy': 2844, 'private': 2845, 'vatican': 2846, 'commented': 2847, 'vet': 2848, 'stainton': 2849, 'fuselage': 2850, 'arrested': 2851, 'clichfest': 2852, 'wrestling': 2853, 'orthodox': 2854, 'joyful': 2855, 'differentiate': 2856, '250': 2857, 'adults': 2858, 'ecchhhh': 2859, 'dreaded': 2860, 'dung': 2861, 'jeff': 2862, 'heist': 2863, 'reveal': 2864, 'furthermore': 2865, 'originatedbr': 2866, 'factorys': 2867, 'dammit': 2868, 'infant': 2869, 'sybil': 2870, 'loony': 2871, 'stimulate': 2872, 'better': 2873, 'dazzling': 2874, 'childish': 2875, 'property': 2876, 'communist': 2877, 'rarely': 2878, 'legs': 2879, 'antihero': 2880, 'forbidden': 2881, 'noire': 2882, 'downright': 2883, 'standpoint': 2884, 'titanic': 2885, 'ones': 2886, 'eleven': 2887, 'assuredly': 2888, 'uncovers': 2889, 'morbid': 2890, 'motionless': 2891, 'bash': 2892, 'planning': 2893, 'match': 2894, '19661968': 2895, 'shell': 2896, 'nasty': 2897, 'swear': 2898, 'gavin': 2899, 'specifically': 2900, 'ricochets': 2901, 'routine': 2902, 'otto': 2903, 'forgiving': 2904, 'gustafsson': 2905, 'bread': 2906, 'storyline': 2907, 'notablebr': 2908, 'cleefs': 2909, 'hawkins': 2910, 'sisto': 2911, 'november': 2912, 'childrens': 2913, 'mundanity': 2914, 'crowhursts': 2915, 'key': 2916, 'neigh': 2917, 'anne': 2918, 'outing': 2919, 'freely': 2920, 'atmospheres': 2921, 'share': 2922, 'sparrings': 2923, 'severely': 2924, 'groups': 2925, 'bannedbr': 2926, 'topped': 2927, 'laughed': 2928, 'itelf': 2929, 'realizing': 2930, 'endurebr': 2931, 'shiri': 2932, 'slaver': 2933, 'talents': 2934, 'edited': 2935, 'journey': 2936, 'simon': 2937, 'sorkin': 2938, 'goodbr': 2939, 'devour': 2940, 'invaders': 2941, 'creek': 2942, 'greatbr': 2943, 'africa': 2944, 'walsh': 2945, 'operatic': 2946, 'amazingly': 2947, 'anymore': 2948, 'fleshed': 2949, 'sullivanbr': 2950, 'happensbr': 2951, 'paulin': 2952, 'take': 2953, 'conditioned': 2954, 'themes': 2955, 'surein': 2956, 'pretentiousness': 2957, 'asianstyled': 2958, 'clergyman': 2959, 'mesmerized': 2960, 'liam': 2961, 'befriend': 2962, 'closeup': 2963, 'rating': 2964, 'elaborate': 2965, 'till': 2966, 'topless': 2967, 'expressing': 2968, 'tiny': 2969, 'travolta': 2970, 'geysers': 2971, 'survivalbr': 2972, 'nocould': 2973, 'downtown': 2974, 'engines': 2975, 'distress': 2976, 'surprising': 2977, 'study': 2978, 'influence': 2979, 'miiki': 2980, 'ejaculated': 2981, 'decadebr': 2982, 'rate': 2983, 'slowly': 2984, 'gilbert': 2985, 'timers': 2986, 'chases': 2987, 'browsing': 2988, 'collects': 2989, 'customer': 2990, 'went': 2991, 'weeklies': 2992, 'radha': 2993, 'hacker': 2994, 'ralph': 2995, 'column': 2996, 'eagles': 2997, 'villains': 2998, 'butz': 2999, 'celluloid': 3000, 'stewards': 3001, 'cheezy': 3002, 'chews': 3003, 'bea': 3004, 'dj': 3005, 'prefab': 3006, 'tour': 3007, 'moffat': 3008, 'upper': 3009, 'wagners': 3010, 'eli': 3011, 'spoiler': 3012, 'stupid': 3013, 'punched': 3014, 'invented': 3015, 'drudgery': 3016, 'satan': 3017, 'outlaws': 3018, 'shrank': 3019, 'pull': 3020, 'system': 3021, 'couldve': 3022, 'user': 3023, 'reenforces': 3024, 'weighing': 3025, 'kleinfeld': 3026, 'sister': 3027, 'outraged': 3028, 'judging': 3029, 'realization': 3030, 'youngest': 3031, 'satanicworshippersrunamok': 3032, 'dvd': 3033, 'donna': 3034, 'instances': 3035, 'johnson': 3036, 'fateful': 3037, 'kohut': 3038, 'reaper': 3039, 'antagonist': 3040, 'context': 3041, 'hoyt': 3042, 'herbr': 3043, 'disciple': 3044, 'points': 3045, 'executed': 3046, 'border': 3047, 'response': 3048, 'glimpse': 3049, 'chances': 3050, 'lon': 3051, 'generalbr': 3052, 'whistle': 3053, 'hilt': 3054, 'accurately': 3055, 'marines': 3056, 'handle': 3057, 'oftpresent': 3058, 'meant': 3059, 'source': 3060, 'evan': 3061, 'minus': 3062, 'structured': 3063, 'perfect': 3064, 'bulgarian': 3065, 'taint': 3066, 'pottymouthed': 3067, 'mirror': 3068, 'antartic': 3069, 'willard': 3070, 'candlelit': 3071, 'harmless': 3072, 'shelf': 3073, 'burr': 3074, 'felt': 3075, 'experiment': 3076, 'hospitals': 3077, 'appreciated': 3078, 'devoid': 3079, 'bills': 3080, 'carols': 3081, 'fizzle': 3082, 'edward': 3083, 'alberts': 3084, 'figures': 3085, 'miriams': 3086, 'reflect': 3087, 'muslim': 3088, 'blurred': 3089, 'react': 3090, 'euroflicks': 3091, 'feathers': 3092, 'cleggses': 3093, 'awfully': 3094, 'opens': 3095, 'shortly': 3096, 'yes': 3097, 'barres': 3098, 'impact': 3099, 'whinging': 3100, 'eliots': 3101, 'current': 3102, 'dorky': 3103, 'heinously': 3104, 'waverley': 3105, 'dna': 3106, 'riddick': 3107, 'location': 3108, 'continuity': 3109, 'contact': 3110, 'directing': 3111, 'unit': 3112, 'beausoleil': 3113, 'matched': 3114, 'seventiesbr': 3115, 'wounderfull': 3116, 'straining': 3117, 'brigadoon': 3118, 'awful': 3119, 'coleman': 3120, 'ribbon': 3121, 'action': 3122, 'willing': 3123, 'parodies': 3124, 'yuck': 3125, 'yourselfbr': 3126, 'recognized': 3127, 'explosion': 3128, 'continuebr': 3129, 'zoey': 3130, 'dancing': 3131, 'gauntlet': 3132, 'adhere': 3133, 'walls': 3134, 'visits': 3135, 'firing': 3136, 'goerge': 3137, 'hrs': 3138, 'watermelon': 3139, 'box': 3140, 'frustrations': 3141, 'helps': 3142, 'germany': 3143, 'jhurst': 3144, 'thatbr': 3145, 'conchita': 3146, 'gimmick': 3147, 'essentially': 3148, 'producerdirector': 3149, 'weeksbr': 3150, 'berlin': 3151, 'structure': 3152, 'rohinton': 3153, 'banished': 3154, 'feverishly': 3155, 'roller': 3156, 'ollie': 3157, 'background': 3158, 'middleclass': 3159, 'visibly': 3160, 'bestlooking': 3161, 'directed': 3162, 'suppose': 3163, 'priyadarshan': 3164, 'latches': 3165, 'guy': 3166, 'dear': 3167, 'stains': 3168, 'standing': 3169, 'tvseries': 3170, 'redeemable': 3171, 'declaration': 3172, 'brite': 3173, 'drug': 3174, 'howls': 3175, 'delmar': 3176, 'inform': 3177, 'frighteningly': 3178, 'practical': 3179, 'chalk': 3180, 'kruger': 3181, 'saddest': 3182, 'loyalties': 3183, 'streetcar': 3184, 'bystanders': 3185, 'sends': 3186, 'funnybr': 3187, 'insufferably': 3188, 'arabia': 3189, 'evaluation': 3190, 'horrified': 3191, 'yoman': 3192, 'unmistakably': 3193, '1963': 3194, 'jeepers': 3195, 'activities': 3196, 'rae': 3197, 'altman': 3198, 'forms': 3199, 'seductress': 3200, 'back': 3201, 'compromising': 3202, 'fullydeveloped': 3203, 'attitudes': 3204, 'safe': 3205, 'pena': 3206, 'appreciative': 3207, 'examples': 3208, 'subplot': 3209, 'hilariousbr': 3210, 'pickfordbr': 3211, 'criticised': 3212, 'astonished': 3213, 'farfetched': 3214, 'peanuts': 3215, 'jeanpierre': 3216, 'sequelsthis': 3217, 'oafish': 3218, 'environment': 3219, 'shame': 3220, 'despising': 3221, 'oxenburg': 3222, 'goofy': 3223, 'gloves': 3224, 'terzo': 3225, 'filth': 3226, 'writes': 3227, 'honestly': 3228, 'cobbles': 3229, 'archaic': 3230, 'stress': 3231, 'kairo': 3232, 'circumstances': 3233, 'impression': 3234, 'headaches': 3235, 'moviein': 3236, 'define': 3237, 'mystic': 3238, 'azaria': 3239, 'exploration': 3240, 'behaviourbr': 3241, 'changesbr': 3242, 'needs': 3243, 'approach': 3244, 'london': 3245, 'derision': 3246, 'admission': 3247, 'svenson': 3248, 'awhile': 3249, 'audrey': 3250, 'puns': 3251, 'inadvertent': 3252, 'tits': 3253, 'overthetopbr': 3254, 'remedial': 3255, 'message': 3256, 'caused': 3257, 'cabaret': 3258, 'wholeheartedlybr': 3259, 'nay': 3260, 'burtons': 3261, 'businesses': 3262, 'jasons': 3263, 'coproduction': 3264, 'cap': 3265, 'tremendouslybr': 3266, 'dmytryk': 3267, 'dumbed': 3268, 'pay': 3269, 'dvdbr': 3270, 'clair': 3271, 'panned': 3272, 'knightley': 3273, 'straightup': 3274, 'escape': 3275, 'bulletproof': 3276, 'ahead': 3277, 'facts': 3278, 'swordplay': 3279, 'missed': 3280, 'roland': 3281, 'retarded': 3282, 'authority': 3283, 'people': 3284, 'gaptoothed': 3285, 'purchasing': 3286, 'unbelievably': 3287, 'lives': 3288, 'vincent': 3289, 'j': 3290, 'status': 3291, 'johnny': 3292, 'frantic': 3293, 'suggestions': 3294, 'flirtation': 3295, 'criminals': 3296, 'heads': 3297, 'obvious': 3298, 'misery': 3299, 'beliefsbr': 3300, 'gunsmoke': 3301, 'excitement': 3302, 'mores': 3303, 'palpable': 3304, 'bars': 3305, 'fantasticbr': 3306, 'ultralow': 3307, 'require': 3308, 'graces': 3309, 'clowns': 3310, 'guetary': 3311, 'cb4': 3312, 'cold': 3313, 'cannibal': 3314, 'feminist': 3315, 'matching': 3316, 'shapes': 3317, 'succinct': 3318, 'mixed': 3319, 'freedombr': 3320, 'marketable': 3321, 'creatures': 3322, 'cantonese': 3323, 'huac': 3324, 'chanteuse': 3325, 'opportunities': 3326, 'edgar': 3327, 'storms': 3328, 'asleep': 3329, 'marplebr': 3330, 'disappear': 3331, 'bemoaning': 3332, 'splashes': 3333, 'gein': 3334, 'grown': 3335, 'unstable': 3336, 'backwoods': 3337, 'julian': 3338, 'boring': 3339, 'scares': 3340, 'andys': 3341, 'vogue': 3342, 'suitcase': 3343, 'hudsucker': 3344, 'raye': 3345, 'sisters': 3346, 'exotic': 3347, 'came': 3348, 'flashbackbr': 3349, 'mentalitybr': 3350, 'europe': 3351, 'insect': 3352, 'furniture': 3353, 'romances': 3354, 'apart': 3355, 'welles': 3356, 'apartments': 3357, 'stabbing': 3358, 'cursing': 3359, 'stained': 3360, 'raver': 3361, 'betsy': 3362, 'creepiness': 3363, 'squirting': 3364, 'seriouslythe': 3365, 'hipspeak': 3366, 'ghetto': 3367, 'return': 3368, 'sendup': 3369, 'mikael': 3370, 'flava': 3371, 'petulant': 3372, 'government': 3373, 'nurtured': 3374, 'typically': 3375, 'early1980s': 3376, 'precipitating': 3377, 'outgrown': 3378, 'featuredbr': 3379, 'sit': 3380, 'hands': 3381, 'ruggero': 3382, 'odysseus': 3383, 'electrocutedbr': 3384, 'blackbr': 3385, 'performance': 3386, 'energetic': 3387, 'witnesses': 3388, 'leonardo': 3389, 'immediately': 3390, 'conway': 3391, 'older': 3392, 'miriad': 3393, 'pulasky': 3394, 'apt': 3395, 'getaway': 3396, 'wall': 3397, 'despite': 3398, 'overuse': 3399, 'anonymous': 3400, 'served': 3401, 'growing': 3402, 'closer': 3403, 'doeswith': 3404, 'contained': 3405, 'geographic': 3406, 'missing': 3407, 'imagined': 3408, 'identity': 3409, 'dated': 3410, 'cumming': 3411, 'michelangelo': 3412, 'movements': 3413, 'christine': 3414, 'dressed': 3415, 'prostitutes': 3416, 'toodark': 3417, 'breath': 3418, 'nickelodeon': 3419, 'droplets': 3420, 'viewed': 3421, 'comfort': 3422, 'culp': 3423, 'reptile': 3424, 'decision': 3425, 'progress': 3426, 'problem': 3427, 'bigotry': 3428, 'imprisonment': 3429, 'dean': 3430, 'suspended': 3431, 'scriptless': 3432, 'gratification': 3433, 'chris': 3434, 'heath': 3435, 'ira': 3436, 'bunniesbr': 3437, 'shots': 3438, 'finds': 3439, 'dull': 3440, 'bakers': 3441, 'rent': 3442, 'sweetens': 3443, 'des': 3444, 'renting': 3445, 'angle': 3446, 'beset': 3447, 'backlighting': 3448, 'dream': 3449, 'schachter': 3450, 'mormoms': 3451, 'featurelong': 3452, 'steppin': 3453, 'petition': 3454, 'technology': 3455, 'bridge': 3456, 'nazis': 3457, 'cashing': 3458, 'boxed': 3459, 'confessed': 3460, 'knightleys': 3461, 'idiosyncracies': 3462, 'kinds': 3463, 'griffiths': 3464, 'fiona': 3465, 'ida': 3466, 'deceit': 3467, 'prequel': 3468, 'batman': 3469, 'ramblings': 3470, 'board': 3471, 'time': 3472, 'awkward': 3473, 'finally': 3474, 'core': 3475, 'penns': 3476, 'ityoull': 3477, 'angels': 3478, 'talky': 3479, 'mistrys': 3480, 'serialbr': 3481, 'mempstead': 3482, 'intimate': 3483, 'concubine': 3484, 'davison': 3485, 'convincingly': 3486, 'train': 3487, 'treat': 3488, 'gamble': 3489, 'passably': 3490, 'nominations': 3491, 'stretching': 3492, 'produce': 3493, 'montgomery': 3494, 'paragraph': 3495, 'futurebr': 3496, 'chaos': 3497, 'exceptional': 3498, 'present': 3499, 'upbeat': 3500, 'pivotal': 3501, 'houses': 3502, 'sesame': 3503, 'reddishorange': 3504, 'yeah': 3505, 'betrothed': 3506, 'adaptionbr': 3507, 'plane': 3508, 'outcomes': 3509, 'focusing': 3510, 'real': 3511, 'sweeney': 3512, 'overly': 3513, 'outstanding': 3514, 'happenedjason': 3515, 'thornton': 3516, 'significant': 3517, 'vance': 3518, 'bounds': 3519, 'beginnings': 3520, 'airhead': 3521, 'staggering': 3522, 'hawthorne': 3523, 'pittsburgh': 3524, 'chronology': 3525, 'parade': 3526, 'finitely': 3527, 'everywhere': 3528, 'guide': 3529, 'market': 3530, 'vacuous': 3531, 'retro': 3532, 'buried': 3533, 'buildings': 3534, 'ping': 3535, 'saw': 3536, 'cheri': 3537, 'weekdays': 3538, 'realise': 3539, 'breakfast': 3540, 'contributions': 3541, 'wtf': 3542, 'hynkels': 3543, 'walks': 3544, 'geniality': 3545, 'whatever': 3546, 'tours': 3547, 'fable': 3548, '1970br': 3549, 'impressive': 3550, 'tremendous': 3551, 'jacqueline': 3552, 'poked': 3553, 'causes': 3554, 'eccentricity': 3555, 'bo': 3556, 'heroism': 3557, 'craze': 3558, 'valkyries': 3559, 'men': 3560, 'prolonged': 3561, 'hesitate': 3562, 'unconventional': 3563, 'leroy': 3564, 'mummys': 3565, 'stock': 3566, 'deals': 3567, 'definite': 3568, 'envelope': 3569, 'certainly': 3570, 'rainstorm': 3571, 'pompousness': 3572, 'considering': 3573, 'mud': 3574, 'emerges': 3575, 'punchups': 3576, 'mood': 3577, 'exit': 3578, 'hos': 3579, 'dabbing': 3580, 'amenalthough': 3581, 'sill': 3582, 'happens': 3583, 'armwaving': 3584, 'actually': 3585, 'oblivionbr': 3586, 'deflated': 3587, 'nature': 3588, 'thirdly': 3589, 'gum': 3590, 'push': 3591, 'arlon': 3592, 'sermonizing': 3593, 'parts': 3594, 'nyquist': 3595, '_absurdism': 3596, 'werewolf': 3597, 'stowaway': 3598, 'storiesbr': 3599, 'heroine': 3600, 'yards': 3601, 'papa': 3602, 'environmental': 3603, 'cube': 3604, 'transsexual': 3605, 'cameo': 3606, 'halfhour': 3607, 'portent': 3608, 'perfunctory': 3609, 'concentrating': 3610, 'authors': 3611, 'unease': 3612, 'offkilter': 3613, 'compensate': 3614, 'overwhelms': 3615, 'chaplins': 3616, 'squad': 3617, 'substory': 3618, 'pleasures': 3619, 'sans': 3620, 'brilliantly': 3621, 'velvet': 3622, 'weakwilled': 3623, 'following': 3624, 'kaufman': 3625, 'ignorance': 3626, 'arthur': 3627, 'poet': 3628, 'definatly': 3629, 'likable': 3630, 'royally': 3631, 'fleshy': 3632, 'dealers': 3633, 'beamings': 3634, 'marvel': 3635, 'enjoyable': 3636, 'dislike': 3637, 'demeaning': 3638, 'abbott': 3639, 'intercut': 3640, 'norman': 3641, 'manchester': 3642, 'easy': 3643, 'allows': 3644, 'zinta': 3645, 'depressing': 3646, 'grahame': 3647, 'engaged': 3648, 'creates': 3649, 'volleyball': 3650, 'bookstorebr': 3651, 'complications': 3652, 'feldman': 3653, 'dead': 3654, 'gabriel': 3655, 'impersonate': 3656, 'fluffy': 3657, 'bringing': 3658, 'laughsespecially': 3659, 'setups': 3660, 'harm': 3661, 'explicit': 3662, 'petit': 3663, 'kittens': 3664, 'terms': 3665, 'cronenberg': 3666, 'charitable': 3667, 'prevent': 3668, 'wrongdoers': 3669, 'deported': 3670, 'cadillacloving': 3671, 'amber': 3672, 'sutra': 3673, 'sensation': 3674, 'knack': 3675, 'sheesh': 3676, 'settings': 3677, 'rather': 3678, 'everyones': 3679, 'keeps': 3680, 'dullbr': 3681, 'oohsoscary': 3682, 'prop': 3683, 'treatment': 3684, 'stuck': 3685, 'unconditional': 3686, 'conroy': 3687, 'unaware': 3688, 'doublecrossing': 3689, 'leaves': 3690, 'moshing': 3691, 'preexisting': 3692, 'calling': 3693, 'prize': 3694, 'crucified': 3695, 'high': 3696, 'miscast': 3697, 'fifties': 3698, 'unite': 3699, 'scar': 3700, 'accumulating': 3701, 'berryman': 3702, 'selfevident': 3703, 'sequelsbr': 3704, 'matheson': 3705, 'troupe': 3706, 'babe': 3707, 'ring': 3708, 'incomprehensible': 3709, 'cuter': 3710, 'battalion': 3711, 'boyfriend': 3712, 'greedy': 3713, '30': 3714, 'fill': 3715, 'setting': 3716, 'sum': 3717, 'confined': 3718, 'sails': 3719, 'techniques': 3720, 'secondgrader': 3721, 'drinking': 3722, 'boredom': 3723, 'whose': 3724, 'comparative': 3725, 'statue': 3726, 'gemser': 3727, 'jump': 3728, 'pointless': 3729, 'watsons': 3730, 'mani': 3731, 'entries': 3732, 'pit': 3733, 'job': 3734, 'timed': 3735, 'marina': 3736, 'avantgarde': 3737, 'paradoxes': 3738, '8yearold': 3739, 'insightsbr': 3740, 'cant': 3741, 'courses': 3742, 'dads': 3743, 'guiry': 3744, 'comic': 3745, 'merritt': 3746, 'luxury': 3747, 'defenseless': 3748, 'profane': 3749, 'timing': 3750, 'spaceship': 3751, 'snowcone': 3752, '9': 3753, 'including': 3754, 'finest': 3755, 'patriot': 3756, 'dvds': 3757, 'desolate': 3758, 'mostly': 3759, 'aftab': 3760, 'theatrics': 3761, 'skip': 3762, 'writtenmessy': 3763, 'normal': 3764, 'peggy': 3765, 'mafia': 3766, 'unfortunately': 3767, 'kutchek': 3768, 'wildly': 3769, 'wonderous': 3770, 'fling': 3771, 'tackling': 3772, 'hipness': 3773, 'escalating': 3774, 'kerwin': 3775, 'samuels': 3776, 'ears': 3777, 'possibility': 3778, 'remakes': 3779, 'mullet': 3780, 'handicapped': 3781, 'renner': 3782, 'spouses': 3783, 'fosters': 3784, 'nonamerican': 3785, 'sabbato': 3786, 'lisp': 3787, 'spiral': 3788, 'mo': 3789, 'returns': 3790, 'relation': 3791, 'preoccupation': 3792, 'astonishingly': 3793, 'potatoes': 3794, 'root': 3795, 'farce': 3796, 'bonnaire': 3797, 'nabakovs': 3798, 'cried': 3799, 'pulls': 3800, 'costarring': 3801, 'greg': 3802, 'coaster': 3803, 'ohwhere': 3804, 'gretta': 3805, 'exclamation': 3806, 'issues': 3807, 'moods': 3808, 'seemed': 3809, 'gently': 3810, 'splattery': 3811, 'spocks': 3812, 'hillbilly': 3813, 'wishing': 3814, 'drank': 3815, 'tingling': 3816, 'ambiguities': 3817, 'marie': 3818, 'evrybody': 3819, 'cibrian': 3820, '2001': 3821, 'fudge': 3822, 'humanity': 3823, 'greece': 3824, 'backstories': 3825, 'ask': 3826, 'scroll': 3827, 'errupted': 3828, 'cromwell': 3829, 'woman': 3830, 'catharticbr': 3831, 'swiri': 3832, 'softhearted': 3833, 'fate': 3834, 'nord': 3835, 'henriksen': 3836, 'aforementioned': 3837, 'personified': 3838, 'bodyguards': 3839, 'franchise': 3840, 'heartpounding': 3841, 'gershwin': 3842, 'excon': 3843, 'laced': 3844, 'splitsecond': 3845, 'generations': 3846, 'noone': 3847, 'contrasting': 3848, 'darwin': 3849, 'disturbed': 3850, '1999': 3851, 'spectacularbr': 3852, 'stewart': 3853, 'throne': 3854, 'dragging': 3855, 'leslie': 3856, 'suffered': 3857, 'illness': 3858, 'underrated': 3859, 'saturn': 3860, 'sincerity': 3861, 'yelled': 3862, 'pan': 3863, '40s': 3864, 'troll': 3865, 'missiles': 3866, 'orson': 3867, 'mess': 3868, 'hong': 3869, 'afoot': 3870, 'nonrefined': 3871, 'morningbut': 3872, 'sick': 3873, 'cries': 3874, 'face': 3875, 'semiinteresting': 3876, 'driving': 3877, 'rca': 3878, 'realizes': 3879, 'ramblingsbr': 3880, 'renowned': 3881, 'welcome': 3882, 'bigger': 3883, 'bank': 3884, 'sandal': 3885, 'afraid': 3886, 'aloofness': 3887, 'rejected': 3888, 'gorehounds': 3889, 'couples': 3890, 'erected': 3891, 'fix': 3892, 'jb': 3893, 'anxious': 3894, 'jiah': 3895, 'lusitania': 3896, 'freeze': 3897, 'reprehensible': 3898, 'protg': 3899, 'de': 3900, 'electronic': 3901, 'pompous': 3902, 'robot': 3903, 'get': 3904, 'everything': 3905, 'slaughterhouse': 3906, 'chucking': 3907, 'par': 3908, 'dubious': 3909, 'mountain': 3910, 'glorified': 3911, 'wright': 3912, 'butthey': 3913, 'morebr': 3914, 'cosgrove': 3915, 'toxic': 3916, 'garbage': 3917, 'skills': 3918, 'zuber': 3919, 'artistrybr': 3920, 'filled': 3921, 'naturally': 3922, 'princes': 3923, 'runs': 3924, 'fostered': 3925, 'analysis': 3926, 'impressively': 3927, 'answer': 3928, 'developments': 3929, 'tries': 3930, 'impotencebr': 3931, 'connoisseurs': 3932, 'characterisation': 3933, 'evacuation': 3934, 'macdonald': 3935, 'clairvoyant': 3936, 'evolution': 3937, 'hideous': 3938, 'lionel': 3939, 'kidnapping': 3940, 'voices': 3941, 'giovanni': 3942, 'matter': 3943, 'gogo': 3944, 'emotionbr': 3945, 'disguises': 3946, 'shoulders': 3947, 'travesty': 3948, '108': 3949, 'leader': 3950, 'odd': 3951, 'able': 3952, 'vaugier': 3953, 'hometown': 3954, 'complimentary': 3955, 'gimmicks': 3956, 'willis': 3957, 'mains': 3958, 'saves': 3959, 'laos': 3960, 'affair': 3961, 'c': 3962, 'navigate': 3963, 'teeny': 3964, 'prudish': 3965, 'accomplish': 3966, 'moviewe': 3967, 'oneofakind': 3968, 'method': 3969, 'les': 3970, 'theni': 3971, 'gem': 3972, 'mass': 3973, 'waiting': 3974, 'pete': 3975, 'gentlemen': 3976, 'roedel': 3977, 'corridors': 3978, 'sacrificebr': 3979, 'chilean': 3980, 'questioning': 3981, 'storylinebr': 3982, 'spike': 3983, 'well': 3984, 'lions': 3985, 'live': 3986, 'flower': 3987, 'quato': 3988, 'ledoyen': 3989, 'reuben': 3990, 'priests': 3991, 'hummer': 3992, 'incompatible': 3993, '360s': 3994, 'healthy': 3995, 'fundament': 3996, 'topics': 3997, 'chill': 3998, 'abusive': 3999, 'cigarette': 4000, 'jungle': 4001, 'boardbr': 4002, 'fortress': 4003, 'boils': 4004, 'drew': 4005, 'considers': 4006, 'editor': 4007, 'reaching': 4008, 'leg': 4009, 'jeffrey': 4010, 'somewhat': 4011, 'foreverbr': 4012, 'dismemberment': 4013, 'rambling': 4014, 'complaining': 4015, 'highly': 4016, 'diagnosis': 4017, 'thumbsup': 4018, 'epic': 4019, 'pong': 4020, 'centerers': 4021, 'jamming': 4022, 'apparent': 4023, 'dramamine': 4024, 'hendrix': 4025, 'cheech': 4026, 'contains': 4027, 'sometime': 4028, 'unfavourable': 4029, 'margheritis': 4030, 'clenched': 4031, 'accomplishment': 4032, 'embarrassed': 4033, 'danger': 4034, 'examination': 4035, 'thousands': 4036, 'repetition': 4037, 'bring': 4038, 'request': 4039, 'involved': 4040, 'welldressed': 4041, 'oneonone': 4042, 'drebin': 4043, 'teenager': 4044, 'underwater': 4045, 'forbr': 4046, 'apollo': 4047, 'informationan': 4048, 'disasters': 4049, 'communism': 4050, 'indulgent': 4051, 'bother': 4052, 'article': 4053, 'guerrilla': 4054, 'emerge': 4055, 'arebr': 4056, 'torks': 4057, 'succeeds': 4058, 'lauter': 4059, 'everybody': 4060, 'thing': 4061, 'nicely': 4062, '3dimensional': 4063, 'cooking': 4064, '250000': 4065, 'jesus': 4066, 'entitled': 4067, 'moan': 4068, 'brown': 4069, 'clara': 4070, 'fight': 4071, 'achieves': 4072, 'barbarians': 4073, 'characterbr': 4074, 'genious': 4075, 'freedom': 4076, 'operating': 4077, 'illadvised': 4078, 'beheaded': 4079, 'connelly': 4080, 'gommorah': 4081, 'comstock': 4082, 'topnotch': 4083, 'continuing': 4084, 'chains': 4085, '20ish': 4086, 'convincing': 4087, 'oscarlevel': 4088, 'latter': 4089, 'hossein': 4090, 'oozing': 4091, 'chilling': 4092, 'attempted': 4093, 'beehive': 4094, 'drag': 4095, 'concepti': 4096, 'residing': 4097, 'opener': 4098, 'havilland': 4099, 'stopmotion': 4100, 'sociological': 4101, 'materialbr': 4102, 'brolin': 4103, 'sonofgodish': 4104, 'spectacularly': 4105, 'franchot': 4106, 'atvs': 4107, 'eighties': 4108, 'murders': 4109, 'distasteful': 4110, 'x': 4111, 'hankies': 4112, 'wreck': 4113, 'flashback': 4114, 'favored': 4115, 'countless': 4116, 'tracy': 4117, 'philo': 4118, 'w': 4119, 'peculiar': 4120, 'started': 4121, 'unjustly': 4122, 'loser': 4123, 'justifiable': 4124, 'novaks': 4125, 'meeting': 4126, 'drives': 4127, 'truer': 4128, 'window': 4129, 'insomniacs': 4130, 'spend': 4131, 'angles': 4132, 'trawling': 4133, 'mischief': 4134, 'blacks': 4135, 'mezrich': 4136, 'lesbian': 4137, 'nation': 4138, 'objectives': 4139, 'goodlooking': 4140, 'faheys': 4141, 'oriented': 4142, 'village': 4143, 'champagne': 4144, 'included': 4145, 'rudely': 4146, 'sharper': 4147, 'patientscorbin': 4148, 'clean': 4149, 'poetry': 4150, 'descend': 4151, 'issue': 4152, 'phenix': 4153, '1943': 4154, 'strangelove': 4155, 'rebellious': 4156, 'declares': 4157, 'relish': 4158, 'confused': 4159, 'grandma': 4160, 'arduous': 4161, 'oddball': 4162, 'servants': 4163, 'wasteland': 4164, 'oxfordeducated': 4165, 'throughout': 4166, 'ts': 4167, 'againbr': 4168, 'dick': 4169, 'groin': 4170, 'unreadable': 4171, 'alonebr': 4172, 'carradine': 4173, 'sneak': 4174, 'pointblank': 4175, 'miscommunication': 4176, 'indie': 4177, 'believably': 4178, 'superfluously': 4179, 'consistent': 4180, 'steak': 4181, 'girl': 4182, 'categorybr': 4183, 'fondas': 4184, 'airplanes': 4185, 'expose': 4186, 'nobles': 4187, 'explored': 4188, 'suzanna': 4189, 'rallying': 4190, 'williams': 4191, 'great': 4192, 'explanations': 4193, 'munchie': 4194, 'avoided': 4195, 'rodney': 4196, 'credibility': 4197, 'baldwin': 4198, 'goose': 4199, 'hits': 4200, 'knew': 4201, 'riddicks': 4202, 'handful': 4203, 'thugs': 4204, 'pretend': 4205, 'pollute': 4206, 'plays': 4207, 'munitions': 4208, 'momentsbr': 4209, 'shaded': 4210, '2003s': 4211, 'grinding': 4212, 'entranced': 4213, 'chair': 4214, 'listening': 4215, 'compelling': 4216, 'contentbr': 4217, 'specious': 4218, 'racing': 4219, 'telepathically': 4220, 'risk': 4221, 'peel': 4222, 'tourists': 4223, 'improve': 4224, 'buildingbr': 4225, 'sultry': 4226, 'excitied': 4227, 'rolled': 4228, 'advance': 4229, 'ago': 4230, 'hike': 4231, 'sandwiched': 4232, 'unrefined': 4233, 'ravers': 4234, 'femme': 4235, 'anime': 4236, 'twin': 4237, 'steaming': 4238, 'rifle': 4239, 'robbery': 4240, 'snap': 4241, 'explode': 4242, 'caliber': 4243, 'framing': 4244, 'interactions': 4245, 'leaning': 4246, 'inviting': 4247, 'rouse': 4248, 'spent': 4249, 'retrospectives': 4250, 'narrator': 4251, 'carnal': 4252, 'rejseholdet': 4253, 'ford': 4254, 'combination': 4255, 'cartman': 4256, 'days': 4257, 'sheybal': 4258, 'industry': 4259, 'boyana': 4260, 'discontentment': 4261, 'cheeky': 4262, 'mainstream': 4263, 'availability': 4264, 'undertow': 4265, 'romania': 4266, 'bikes': 4267, 'grabbed': 4268, 'shuo': 4269, 'ineptitude': 4270, 'veterans': 4271, 'abortion': 4272, 'debts': 4273, 'terrific': 4274, 'deputy': 4275, 'tunnelvision': 4276, 'atop': 4277, 'worthwhile': 4278, 'buys': 4279, 'orlando': 4280, 'twisting': 4281, 'inward': 4282, 'roaring': 4283, 'commonplace': 4284, 'boldly': 4285, 'onto': 4286, 'clays': 4287, 'whos': 4288, 'toland': 4289, 'caiman': 4290, 'paints': 4291, 'bells': 4292, 'wolfy': 4293, 'chirin': 4294, 'funnythe': 4295, 'overlong': 4296, 'appreciates': 4297, 'anl': 4298, 'hopeful': 4299, 'spite': 4300, 'counted': 4301, 'fought': 4302, 'menace': 4303, 'standard': 4304, 'poetryasgame': 4305, 'segel': 4306, 'reservoir': 4307, 'mccallister': 4308, 'linderby': 4309, 'unhappily': 4310, 'cgi': 4311, 'myths': 4312, 'incontrollable': 4313, 'parables': 4314, 'bright': 4315, 'voters': 4316, 'feeble': 4317, 'slang': 4318, 'deliverbr': 4319, 'defy': 4320, 'cling': 4321, 'peoplebr': 4322, 'meadow': 4323, 'sod': 4324, 'unsophisticated': 4325, 'cliff': 4326, 'greatly': 4327, 'cinematic': 4328, 'wolfgang': 4329, 'imdb': 4330, 'eva': 4331, 'richard': 4332, 'disappointed': 4333, 'mateys': 4334, 'productions': 4335, 'impossibly': 4336, 'johansen': 4337, 'submitting': 4338, 'glad': 4339, 'hypnotic': 4340, 'legally': 4341, 'manga': 4342, 'popularity': 4343, 'amateurism': 4344, 'extras': 4345, 'respected': 4346, 'idiotically': 4347, 'bella': 4348, '2004': 4349, 'unionbr': 4350, 'eyeballs': 4351, 'treats': 4352, 'elinore': 4353, 'unnecessary': 4354, 'holding': 4355, 'vipers': 4356, 'learn': 4357, 'irresistible': 4358, 'gung': 4359, 'remain': 4360, 'mckennabr': 4361, 'mates': 4362, 'squalid': 4363, 'schwarzeneggerbr': 4364, 'obligation': 4365, 'tearsbr': 4366, 'passed': 4367, 'buying': 4368, 'plastic': 4369, 'angell': 4370, 'jaded': 4371, 'marrying': 4372, 'wastebr': 4373, 'hi': 4374, 'males': 4375, 'andr': 4376, 'seems': 4377, 'overt': 4378, 'deliverance': 4379, 'snuff': 4380, 'humanist': 4381, 'entered': 4382, 'commonly': 4383, 'populated': 4384, 'witch': 4385, 'runny': 4386, 'intelligent': 4387, 'friedl': 4388, 'frantically': 4389, 'experiences': 4390, 'maura': 4391, 'yawn': 4392, 'panicky': 4393, 'behind': 4394, 'cronenbergs': 4395, 'awardwinning': 4396, 'assassinations': 4397, 'club': 4398, 'dowager': 4399, 'harbored': 4400, 'dirty': 4401, 'preserve': 4402, 'creating': 4403, 'approve': 4404, 'aptly': 4405, 'logicbr': 4406, 'symbols': 4407, 'childhood': 4408, 'rebels': 4409, 'wasted': 4410, 'interviewed': 4411, 'interacting': 4412, 'subconscious': 4413, 'stereotypical': 4414, 'daunting': 4415, 'teamed': 4416, 'skyscraper': 4417, 'casnoff': 4418, 'borgnine': 4419, 'blowtorch': 4420, 'terminal': 4421, 'intolerable': 4422, 'keaton': 4423, 'applesbr': 4424, 'failed': 4425, 'ian': 4426, 'rise': 4427, 'blown': 4428, 'tolerate': 4429, 'jasmin': 4430, 'imagery': 4431, 'en': 4432, 'unsuspectingbr': 4433, 'brings': 4434, 'give': 4435, 'revenge': 4436, 'captivate': 4437, 'sorceress': 4438, 'york': 4439, 'first': 4440, 'homeland': 4441, 'awareness': 4442, 'six': 4443, 'refrain': 4444, 'writer': 4445, 'reubens': 4446, 'laurel': 4447, 'ideashmmmm': 4448, 'brussel': 4449, 'primarily': 4450, 'uneven': 4451, 'cliched': 4452, 'allegorically': 4453, 'wwe': 4454, 'swarm': 4455, 'comparisonand': 4456, 'rebecca': 4457, 'myselfbr': 4458, 'eastbr': 4459, 'fixture': 4460, 'arrives': 4461, 'postmen': 4462, 'presence': 4463, 'painted': 4464, 'downonhisluck': 4465, 'brian': 4466, 'moral': 4467, 'transplant': 4468, 'embodied': 4469, 'decoy': 4470, 'sort': 4471, 'commits': 4472, 'loving': 4473, 'hard': 4474, 'exceptionally': 4475, 'fakebr': 4476, 'dunno': 4477, 'investigation': 4478, 'trainspotting': 4479, 'envy': 4480, 'summary': 4481, 'adding': 4482, 'pact': 4483, 'bloodline': 4484, 'developed': 4485, 'grew': 4486, 'cecil': 4487, 'bronx': 4488, 'disappointment': 4489, 'starred': 4490, 'fatalistic': 4491, 'aggressive': 4492, 'crush': 4493, 'cloying': 4494, 'quaked': 4495, 'shirley': 4496, 'ground': 4497, 'miikes': 4498, 'gathering': 4499, 'spew': 4500, 'firehouse': 4501, 'species': 4502, 'concepts': 4503, 'thelma': 4504, 'traditionally': 4505, 'world': 4506, 'fabric': 4507, 'rapes': 4508, 'saloon': 4509, 'darling': 4510, 'toronto': 4511, 'commander': 4512, 'botched': 4513, 'betterment': 4514, 'ruined': 4515, 'whipping': 4516, 'broadcaster': 4517, 'ignoring': 4518, 'comember': 4519, 'csi': 4520, 'servillo': 4521, 'yemi': 4522, 'uttering': 4523, 'marquee': 4524, 'justified': 4525, 'identify': 4526, 'unreal': 4527, 'needed': 4528, 'wine': 4529, 'male': 4530, 'agreement': 4531, 'texture': 4532, 'songwriters': 4533, 'stopper': 4534, 'broke': 4535, 'talkies': 4536, 'range': 4537, 'clipping': 4538, 'masterwork': 4539, 'performers': 4540, 'kendis': 4541, 'begonebr': 4542, 'lived': 4543, 'exgi': 4544, 'genrebr': 4545, 'stole': 4546, 'hughes': 4547, 'conclusion': 4548, 'considered': 4549, 'pretends': 4550, 'tables': 4551, 'teds': 4552, 'rider': 4553, 'bang': 4554, 'escapes': 4555, 'potato': 4556, 'completist': 4557, 'joes': 4558, 'knocks': 4559, 'lovebr': 4560, 'fi': 4561, 'le': 4562, 'salsa': 4563, 'taught': 4564, 'spoon': 4565, 'widow': 4566, 'help': 4567, 'omar': 4568, 'spectators': 4569, 'collettebr': 4570, 'truebr': 4571, 'newspapers': 4572, 'associated': 4573, 'bloodless': 4574, 'wwiibr': 4575, 'hegedus': 4576, 'seat': 4577, 'crass': 4578, 'suitable': 4579, 'dadbr': 4580, 'jack': 4581, 'farcicalbr': 4582, 'circa': 4583, 'noon': 4584, 'cricket': 4585, 'joad': 4586, 'fingernails': 4587, 'marcus': 4588, 'reed': 4589, 'meshing': 4590, 'alter': 4591, 'filmmuseum': 4592, 'candlelitgothichousescene': 4593, 'poster': 4594, 'opening': 4595, 'saviour': 4596, 'around': 4597, 'consist': 4598, 'maiden': 4599, 'kennedy': 4600, 'complacency': 4601, 'sensitivity': 4602, 'ordered': 4603, 'mercifully': 4604, 'considerably': 4605, 'husband': 4606, 'class': 4607, 'annoyed': 4608, 'respectbr': 4609, 'carving': 4610, 'turbo': 4611, 'implications': 4612, 'arse': 4613, 'authentic': 4614, 'elegant': 4615, 'phones': 4616, 'intake': 4617, 'beard': 4618, 'overacting': 4619, 'theaters': 4620, 'sanity': 4621, 'therefore': 4622, 'changes': 4623, 'soul': 4624, 'concludes': 4625, 'geek': 4626, 'filmbr': 4627, 'housing': 4628, 'zhang': 4629, 'precisely': 4630, 'ricca': 4631, 'scathingly': 4632, 'usually': 4633, 'impromptu': 4634, 'sat': 4635, 'conniver': 4636, 'gabrielle': 4637, 'lawrence': 4638, 'breaksbr': 4639, 'remainders': 4640, 'homing': 4641, 'bogart': 4642, 'sail': 4643, 'revisited': 4644, 'online': 4645, 'successfully': 4646, 'prebabs': 4647, 'astronaut': 4648, 'hynkel': 4649, 'topshape': 4650, 'envelop': 4651, 'crain': 4652, 'linesan': 4653, 'hanekes': 4654, 'tangent': 4655, 'saint': 4656, 'feelings': 4657, 'derogatory': 4658, 'callow': 4659, 'exchanges': 4660, 'cave': 4661, 'boyce': 4662, 'cut': 4663, 'refering': 4664, 'souls': 4665, 'seconds': 4666, 'speculative': 4667, 'junky': 4668, 'untalented': 4669, 'visuals': 4670, 'regretting': 4671, 'dramatic': 4672, 'impart': 4673, 'invited': 4674, 'solomon': 4675, 'best': 4676, 'moreso': 4677, 'operator': 4678, 'flynn': 4679, 'graveyard': 4680, 'highlights': 4681, 'consequences': 4682, 'half': 4683, 'canyons': 4684, 'cinema': 4685, 'coffee': 4686, 'withdrawal': 4687, 'leads': 4688, 'painter': 4689, 'powers': 4690, 'appeal': 4691, 'montage': 4692, 'garner': 4693, 'failurebr': 4694, 'mistah': 4695, 'isnt': 4696, 'spits': 4697, 'downward': 4698, 'businessmen': 4699, 'yearning': 4700, 'frequently': 4701, 'amateurish': 4702, 'unrealistic': 4703, 'wore': 4704, 'credit': 4705, 'indian': 4706, 'las': 4707, 'crunching': 4708, 'fame': 4709, 'predictably': 4710, 'dru': 4711, 'gummere': 4712, 'graphics': 4713, 'k': 4714, 'gabriella': 4715, 'swelled': 4716, 'marlene': 4717, 'australian': 4718, 'samanthabut': 4719, 'stewing': 4720, 'abolitionist': 4721, 'pervasive': 4722, 'hr': 4723, 'merrkensen': 4724, 'hitchcockian': 4725, 'lazarus': 4726, 'ashamed': 4727, 'idea': 4728, 'comments': 4729, 'sack': 4730, 'achieving': 4731, 'swayze': 4732, 'genuine': 4733, 'wrecked': 4734, 'bestsellerists': 4735, 'subsequently': 4736, 'gab': 4737, 'drugs': 4738, 'blockbuster': 4739, 'uneventful': 4740, 'nudie': 4741, 'nag': 4742, 'boxers': 4743, 'initially': 4744, 'isabelle': 4745, 'barkers': 4746, 'killed': 4747, 'difficulty': 4748, 'festival': 4749, 'wiry': 4750, 'potentially': 4751, 'courtyard': 4752, 'execute': 4753, 'narratives': 4754, 'partners': 4755, 'snooty': 4756, 'canal': 4757, 'tickles': 4758, 'recognise': 4759, 'tipping': 4760, 'mid70s': 4761, 'fiefdom': 4762, 'maybe': 4763, 'assembled': 4764, 'gentlelooking': 4765, 'book': 4766, 'adorably': 4767, 'cobweb': 4768, 'neve': 4769, 'decorating': 4770, 'overrated': 4771, 'owner': 4772, 'practicable': 4773, '1973': 4774, 'daryl': 4775, 'accomplicebr': 4776, 'rocky': 4777, 'hug': 4778, 'expunker': 4779, 'francoise': 4780, 'numbers': 4781, 'charley': 4782, 'keene': 4783, 'movietoo': 4784, 'function': 4785, 'instrument': 4786, 'berber': 4787, 'reciting': 4788, 'beheading': 4789, 'massacring': 4790, 'traditional': 4791, 'inspiringplus': 4792, 'dirge': 4793, 'carelessbr': 4794, 'vinci': 4795, 'philippines': 4796, 'submitted': 4797, 'patternsbr': 4798, 'michael': 4799, 'cops': 4800, 'fond': 4801, 'weapons': 4802, 'harder': 4803, 'onei': 4804, 'jacuzzibr': 4805, 'waynes': 4806, 'detonation': 4807, 'began': 4808, 'fidani': 4809, 'reins': 4810, 'stairsbr': 4811, 'funnier': 4812, 'muthamittal': 4813, 'madcap': 4814, 'scratching': 4815, 'mishmash': 4816, 'mackeson': 4817, 'dumber': 4818, 'extra': 4819, 'reasons': 4820, 'impetus': 4821, 'beautifully': 4822, 'nameless': 4823, 'valuebr': 4824, 'cutesy': 4825, 'siutung': 4826, 'storybr': 4827, 'theyve': 4828, 'unsatisfactory': 4829, 'established': 4830, 'objections': 4831, 'trolley': 4832, 'carmen': 4833, 'surefire': 4834, 'pretending': 4835, 'rhythms': 4836, 'unimaginative': 4837, 'mistreatment': 4838, 'exciting': 4839, 'admire': 4840, 'scale': 4841, 'beneath': 4842, 'respectable': 4843, 'loud': 4844, 'seen': 4845, 'traded': 4846, 'ages': 4847, 'nonsensical': 4848, 'ailing': 4849, 'bangs': 4850, 'assistantbr': 4851, 'evokes': 4852, 'practically': 4853, 'wrapped': 4854, 'hg': 4855, 'qui': 4856, 'miserably': 4857, 'grasp': 4858, 'lewbert': 4859, 'eventual': 4860, 'adventureoh': 4861, 'stylish': 4862, 'streams': 4863, 'draws': 4864, 'polish': 4865, 'surviving': 4866, 'ripping': 4867, 'closest': 4868, 'held': 4869, 'previewsbr': 4870, 'interviews': 4871, 'violent': 4872, 'mule': 4873, '13th': 4874, 'enlistbr': 4875, 'surprised': 4876, 'err': 4877, 'sequences': 4878, 'borrows': 4879, 'dares': 4880, 'ton': 4881, 'maze': 4882, 'gregg': 4883, 'ustinov': 4884, 'lloyd': 4885, 'educational': 4886, 'duality': 4887, 'contaminate': 4888, 'greatgrandmothers': 4889, 'founding': 4890, 'obsession': 4891, 'vetted': 4892, 'moviemake': 4893, 'persistent': 4894, '3s': 4895, 'fully': 4896, 'lounging': 4897, 'tree': 4898, 'jonathan': 4899, 'aloft': 4900, 'quarters': 4901, 'weighed': 4902, 'fysicaly': 4903, 'forsythe': 4904, 'dishwater': 4905, 'embarrassing': 4906, 'much': 4907, '1996': 4908, 'juliette': 4909, 'lipps': 4910, 'drove': 4911, 'elevating': 4912, 'grateful': 4913, 'dolenz': 4914, 'crybr': 4915, 'ross': 4916, 'repeatedly': 4917, 'slapstick': 4918, 'ok': 4919, 'kuriyami': 4920, 'fabulous': 4921, 'moved': 4922, 'unacceptable': 4923, 'glass': 4924, 'solar': 4925, 'hires': 4926, 'mere': 4927, 'puling': 4928, 'clips': 4929, 'abrupt': 4930, 'reborn': 4931, 'crisi': 4932, 'curdling': 4933, 'hal': 4934, 'yokels': 4935, 'babs': 4936, 'aniston': 4937, 'theme': 4938, 'corruption': 4939, 'liquefying': 4940, 'success': 4941, 'jaja': 4942, 'childbr': 4943, 'systembr': 4944, 'glaad': 4945, 'relief': 4946, 'alden': 4947, 'color': 4948, 'appearing': 4949, 'hallgren': 4950, 'racks': 4951, 'professional': 4952, 'inexperienced': 4953, 'justin': 4954, 'void': 4955, 'wildeyed': 4956, 'dressing': 4957, 'spends': 4958, 'bags': 4959, 'heartbreaking': 4960, 'crafty': 4961, 'hellraiser': 4962, 'marchs': 4963, 'peaked': 4964, 'limp': 4965, 'gdon': 4966, 'prospect': 4967, 'rural': 4968, 'unnerving': 4969, 'angst': 4970, 'alma': 4971, 'defininitive': 4972, 'dysfunctional': 4973, 'expensive': 4974, 'ceiling': 4975, 'despicable': 4976, 'romantically': 4977, 'crisscross': 4978, 'murray': 4979, '60s': 4980, 'theyre': 4981, 'hat': 4982, 'deol': 4983, 'nam': 4984, 'realistic': 4985, 'alibis': 4986, 'decapitated': 4987, 'waning': 4988, 'condition': 4989, 'bury': 4990, 'introduces': 4991, 'maggie': 4992, 'hand': 4993, 'longest': 4994, 'hocken': 4995, 'dialect': 4996, 'helpful': 4997, 'autobiography': 4998, 'daness': 4999, 'barnyard': 5000, 'glc': 5001, 'grows': 5002, 'royston': 5003, 'ryans': 5004, 'recording': 5005, 'twitchfest': 5006, 'pleases': 5007, 'interviewing': 5008, 'candles': 5009, 'interests': 5010, 'histrionics': 5011, 'conclusions': 5012, 'pat': 5013, 'mst3k': 5014, 'dumps': 5015, 'raids': 5016, 'vasilyev': 5017, 'holed': 5018, 'onslow': 5019, 'anticipation': 5020, 'miranda': 5021, 'borrow': 5022, 'unconvincing': 5023, 'frombr': 5024, 'writings': 5025, 'bete': 5026, 'easygoing': 5027, 'tail': 5028, 'desperation': 5029, 'united': 5030, 'paint': 5031, 'portrayed': 5032, 'admires': 5033, 'invent': 5034, 'aluminum': 5035, 'hollywoods': 5036, 'dank': 5037, 'anywaybr': 5038, 'shut': 5039, 'ambition': 5040, 'surfing': 5041, 'customary': 5042, '2hour': 5043, 'bit': 5044, 'firebreather': 5045, 'exemplary': 5046, 'locksmith': 5047, 'shenanigans': 5048, 'du': 5049, 'elmer': 5050, 'possibilities': 5051, 'miles': 5052, 'gets': 5053, 'neat': 5054, 'dimly': 5055, 'pleased': 5056, 'loyal': 5057, 'remembers': 5058, 'sensational': 5059, 'craftsmanship': 5060, 'authenticating': 5061, 'griefand': 5062, 'thingll': 5063, 'judged': 5064, 'alcoholic': 5065, 'outside': 5066, 'onyulo': 5067, 'circus': 5068, 'sheer': 5069, 'skit': 5070, 'hardy': 5071, 'peacemaker': 5072, 'maybury': 5073, 'nobody': 5074, 'berets': 5075, 'committed': 5076, 'horses': 5077, 'using': 5078, 'psychoanalytic': 5079, 'attractive': 5080, 'duo': 5081, 'varod': 5082, 'fades': 5083, 'gunning': 5084, 'dawber': 5085, 'fleischer': 5086, 'universe': 5087, 'jewel': 5088, 'lookedbr': 5089, 'kumar': 5090, 'decisive': 5091, 'disco': 5092, 'slew': 5093, 'trash': 5094, 'hawke': 5095, 'brunos': 5096, 'selfish': 5097, 'gaps': 5098, 'blush': 5099, '10': 5100, 'middle': 5101, 'combat': 5102, 'justifying': 5103, 'sounds': 5104, 'highpitch': 5105, 'gustafssonrole': 5106, 'charles': 5107, 'airline': 5108, 'cautious': 5109, 'mom': 5110, 'northam': 5111, 'whereabouts': 5112, 'matt': 5113, 'sellers': 5114, 'russellbr': 5115, 'hotels': 5116, 'turn': 5117, 'forgivable': 5118, 'lumps': 5119, 'vocabulary': 5120, 'conquest': 5121, 'debut': 5122, 'quaid': 5123, 'emery': 5124, 'trade': 5125, 'babies': 5126, 'spotlessly': 5127, 'wonderawful': 5128, 'rung': 5129, 'jacobi': 5130, 'pitiable': 5131, 'finishbr': 5132, 'itz': 5133, 'jerky': 5134, 'halfcaste': 5135, 'woken': 5136, 'problems': 5137, 'btw': 5138, 'renders': 5139, 'edge2': 5140, 'expect': 5141, 'delve': 5142, 'norm': 5143, 'squirrel': 5144, 'alyn': 5145, 'music': 5146, 'tropes': 5147, 'kempers': 5148, 'ticket': 5149, 'sexuality': 5150, 'everybodys': 5151, 'underwhelmed': 5152, 'unknown': 5153, 'sorcererbr': 5154, 'remarkably': 5155, 'layer': 5156, 'reminding': 5157, 'expense': 5158, 'rats': 5159, 'dove': 5160, 'sleep': 5161, 'overnight': 5162, 'beating': 5163, 'butter': 5164, 'sells': 5165, 'endno': 5166, 'prurient': 5167, 'approval': 5168, 'rubber': 5169, 'orchestrating': 5170, 'logan': 5171, 'unsubtle': 5172, 'americabr': 5173, 'unexpected': 5174, 'expressionless': 5175, 'decent': 5176, 'coats': 5177, 'savouredbr': 5178, 'land': 5179, 'flirts': 5180, 'mission': 5181, 'tudgemen': 5182, 'creators': 5183, 'combine': 5184, 'schell': 5185, 'sims': 5186, 'kurosawa': 5187, 'demises': 5188, 'restaurant': 5189, 'impaled': 5190, 'favourite': 5191, 'porno': 5192, 'drawn': 5193, 'gale': 5194, 'bahamas': 5195, 'flow': 5196, 'hark': 5197, 'chevy': 5198, 'subsequent': 5199, 'advantage': 5200, 'prevalent': 5201, 'conveniences': 5202, 'battles': 5203, 'starting': 5204, 'mental': 5205, 'realising': 5206, 'certain': 5207, 'endure': 5208, 'nietzsche': 5209, 'accentuates': 5210, 'reeks': 5211, 'torture': 5212, 'upstairs': 5213, 'rea': 5214, 'personality': 5215, 'scripting': 5216, 'needles': 5217, 'chick': 5218, 'constantly': 5219, 'steamy': 5220, 'fierce': 5221, 'dussel': 5222, 'ways1': 5223, 'indicate': 5224, 'unartsybr': 5225, 'roped': 5226, 'adams': 5227, 'wannabe': 5228, 'nostril': 5229, 'stacy': 5230, 'ki': 5231, 'pizza': 5232, 'hunt': 5233, 'captivated': 5234, 'mischievous': 5235, 'lapse': 5236, 'either': 5237, 'wellshe': 5238, 'soapdish': 5239, 'moronic': 5240, 'gorgeous': 5241, 'bogey': 5242, 'semiserious': 5243, 'abruptly': 5244, 'illogical': 5245, 'garib': 5246, 'chivalry': 5247, 'conny': 5248, 'cummings': 5249, 'dictator': 5250, 'scalpel': 5251, 'lapd': 5252, 'wisdom': 5253, 'multileveled': 5254, 'reckoned': 5255, 'derangement': 5256, 'sullivan': 5257, 'tiresome': 5258, 'messages': 5259, 'favorites': 5260, 'passengers': 5261, 'rightbr': 5262, '21': 5263, 'spazzboy': 5264, 'trailer': 5265, 'perps': 5266, 'imaginary': 5267, 'alan': 5268, 'humans': 5269, 'pioneer': 5270, 'clanks': 5271, 'harshness': 5272, 'wellwritten': 5273, 'difficult': 5274, 'saturday': 5275, 'skellington': 5276, 'clock': 5277, 'another': 5278, 'atmosphere': 5279, 'effectbr': 5280, 'mentality': 5281, 'dealt': 5282, 'carlito': 5283, 'sjberg': 5284, 'da': 5285, 'buy': 5286, 'crooked': 5287, 'sooo': 5288, 'customers': 5289, 'shelves': 5290, 'molten': 5291, 'worlds': 5292, '70': 5293, 'minimum': 5294, 'rappers': 5295, 'streaks': 5296, 'curtain': 5297, 'landing': 5298, 'unfunnybr': 5299, 'raspberries': 5300, 'fetty': 5301, 'quantrill': 5302, 'im': 5303, 'vitelli': 5304, 'red': 5305, 'hardcore': 5306, 'grin': 5307, 'spanish': 5308, 'admitting': 5309, 'suffer': 5310, 'nearby': 5311, 'illustrations': 5312, 'directors': 5313, 'registers': 5314, 'wendy': 5315, 'literature': 5316, 'extricating': 5317, 'conspiracy': 5318, 'opportunist': 5319, 'feelbr': 5320, 'pursue': 5321, 'ishimoto': 5322, 'perfectly': 5323, 'incomparable': 5324, 'barcrawling': 5325, 'brodie': 5326, 'clouds': 5327, 'filmmaker': 5328, 'stockard': 5329, 'uninteresting': 5330, '1925': 5331, 'genius': 5332, 'sadlyanonymous': 5333, 'rectified': 5334, 'gay': 5335, 'marx': 5336, 'churn': 5337, 'foxhole': 5338, 'levinsons': 5339, 'impetuous': 5340, 'kicks': 5341, 'army': 5342, 'bullock': 5343, 'bachelors': 5344, 'dhupia': 5345, 'flavoured': 5346, 'soft': 5347, 'injustise': 5348, 'demon': 5349, 'interestingbr': 5350, 'misadventures': 5351, 'philip': 5352, 'organically': 5353, 'christie': 5354, 'interestingly': 5355, 'doubting': 5356, 'brush': 5357, 'nba': 5358, 'repeating': 5359, 'simplicity': 5360, 'grace': 5361, 'cw': 5362, 'okay': 5363, 'notable': 5364, 'genuinely': 5365, 'promote': 5366, 'vessels': 5367, 'motions': 5368, 'purposeful': 5369, 'conveyor': 5370, 'melancholy': 5371, 'thoughtfully': 5372, 'forth': 5373, 'kindly': 5374, 'trapped': 5375, 'diet': 5376, 'incidents': 5377, 'ipod': 5378, 'laptop': 5379, 'stephanois': 5380, 'ironies': 5381, 'fifteen': 5382, 'absolutey': 5383, 'mariana': 5384, 'fitness': 5385, 'sorrow': 5386, 'pushed': 5387, 'whacky': 5388, 'towers': 5389, 'famed': 5390, 'food': 5391, 'tame': 5392, 'mentally': 5393, 'mcboy': 5394, 'selection': 5395, 'serve': 5396, 'girlnextdoor': 5397, 'commanding': 5398, 'reloaded': 5399, 'underdeveloped': 5400, 'helped': 5401, 'office': 5402, 'come': 5403, 'strangler': 5404, 'l': 5405, 'chip': 5406, 'landlady': 5407, 'electrifying': 5408, 'underwent': 5409, 'evolvedi': 5410, 'authorities': 5411, 'tonight': 5412, 'doodle': 5413, 'sadly': 5414, 'sacrifice': 5415, 'dealing': 5416, 'additionally': 5417, 'survival': 5418, 'fugitive': 5419, 'electricity': 5420, 'jailbr': 5421, 'select': 5422, 'cable': 5423, 'allbr': 5424, 'entrance': 5425, 'rabbit': 5426, 'seattle': 5427, 'telegraphed': 5428, '399br': 5429, 'goodies': 5430, 'rests': 5431, 'reflects': 5432, 'cremating': 5433, 'mebr': 5434, 'banderas': 5435, 'cast': 5436, 'sixties': 5437, 'stomping': 5438, 'brimstone': 5439, 'demographic': 5440, 'batfan': 5441, 'cyberspacebr': 5442, 'gabriellas': 5443, 'vibrant': 5444, 'holder': 5445, 'doting': 5446, 'lovely': 5447, 'clues': 5448, '8th': 5449, 'triedandtested': 5450, 'natural': 5451, 'quantitybr': 5452, 'vain': 5453, 'bottled': 5454, 'bgrade': 5455, 'plans': 5456, 'blunt': 5457, 'examplepeter': 5458, 'reference': 5459, 'shamelessly': 5460, 'purgers': 5461, 'mustache': 5462, 'teeth': 5463, 'aleksandrov': 5464, 'curiositymake': 5465, 'honey': 5466, 'copsbr': 5467, 'goodness': 5468, 'lom': 5469, 'longer': 5470, 'skeleton': 5471, 'consumptive': 5472, 'johns': 5473, 'revolutionary': 5474, 'leading': 5475, 'questions': 5476, 'pure': 5477, 'eugene': 5478, 'dozen': 5479, 'terry': 5480, 'await': 5481, 'strong': 5482, 'teats': 5483, 'indeed': 5484, 'pflug': 5485, 'machine': 5486, 'millie': 5487, 'familiar': 5488, 'minnelli': 5489, 'lulu': 5490, 'cetera': 5491, 'coe': 5492, 'spooky': 5493, 'clavier': 5494, 'hopeless': 5495, 'distinctly': 5496, 'mothers': 5497, 'conceive': 5498, 'insecurity': 5499, 'tend': 5500, 'virus': 5501, 'straightbr': 5502, 'griffith': 5503, 'flop': 5504, 'basics': 5505, 'smith': 5506, 'feeling': 5507, 'behavior': 5508, 'reacting': 5509, 'thoughbr': 5510, 'homecoming': 5511, 'burning': 5512, 'youtube': 5513, 'asshole': 5514, 'promised': 5515, 'boll': 5516, 'hassling': 5517, 'scheduling': 5518, 'challenged': 5519, 'depicted': 5520, 'redeems': 5521, 'ethics': 5522, 'estranged': 5523, 'adam': 5524, 'outbr': 5525, 'immediate': 5526, 'kazuo': 5527, 'impeded': 5528, 'suburban': 5529, 'election': 5530, 'purveyors': 5531, 'scams': 5532, 'theoretical': 5533, 'contorted': 5534, 'ho': 5535, 'stern': 5536, 'ambiance': 5537, '15': 5538, 'lorre': 5539, 'nymphomaniac': 5540, 'healey': 5541, 'filter': 5542, 'mists': 5543, 'wizard': 5544, 'dollar': 5545, 'teambr': 5546, 'thrown': 5547, 'mixing': 5548, 'queen': 5549, 'tackled': 5550, 'braveheart': 5551, 'bruno': 5552, 'japanese': 5553, 'heed': 5554, 'identifying': 5555, 'good': 5556, 'stewardship': 5557, 'geishasbr': 5558, 'overreaction': 5559, 'walbash': 5560, 'agrees': 5561, 'bainter': 5562, 'paperthin': 5563, 'amazingbr': 5564, 'warbr': 5565, 'heartfelt': 5566, 'reissued': 5567, 'asner': 5568, 'douglas': 5569, 'bashed': 5570, 'useless': 5571, 'rage': 5572, 'fare': 5573, 'degrading': 5574, 'sobering': 5575, '109': 5576, 'nearly': 5577, 'vanishing': 5578, 'coproducer': 5579, 'tautlywritten': 5580, 'lyrics': 5581, 'interconnected': 5582, 'problembr': 5583, 'cushing': 5584, 'editing': 5585, 'dumb': 5586, 'fifth': 5587, 'promises': 5588, 'flaubert': 5589, 'interweaving': 5590, 'inserts': 5591, 'scenario': 5592, 'deeply': 5593, 'brute': 5594, 'repeat': 5595, 'alone': 5596, 'similarity': 5597, 'foul': 5598, '23rd': 5599, 'themselvesbr': 5600, 'osborne': 5601, 'nsa': 5602, 'cuba': 5603, 'omnipotent': 5604, 'showstopper': 5605, 'editorial': 5606, 'hitchcocks': 5607, 'ammunition': 5608, 'erle': 5609, 'henchmen': 5610, 'mitchells': 5611, 'classify': 5612, 'hoffman': 5613, 'unfairly': 5614, 'shallow': 5615, 'typical': 5616, 'brass': 5617, 'writing': 5618, 'punishable': 5619, 'antonio': 5620, 'celebration': 5621, 'green': 5622, 'subculture': 5623, 'nevermind': 5624, 'controversially': 5625, 'invest': 5626, 'semidecent': 5627, 'introducing': 5628, 'contend': 5629, 'roasts': 5630, 'headbr': 5631, 'mariachilevel': 5632, 'letdown': 5633, 'reluctance': 5634, 'literal': 5635, 'positively': 5636, 'reminisced': 5637, 'typcial': 5638, 'mice': 5639, 'revolution': 5640, 'sober': 5641, 'internecine': 5642, 'rewarding': 5643, 'alive': 5644, 'speaks': 5645, 'dispatched': 5646, 'strongly': 5647, 'cruddy': 5648, 'sketchstyle': 5649, 'singlehandedly': 5650, 'mike': 5651, 'recognizes': 5652, 'yimous': 5653, 'importantly': 5654, 'gone': 5655, 'farrell': 5656, 'moderately': 5657, 'geer': 5658, 'demonstrates': 5659, 'deliciously': 5660, 'painful': 5661, 'predecessor': 5662, 'sublimated': 5663, 'philosopher': 5664, 'firmly': 5665, 'firstever': 5666, 'normally': 5667, 'lightweight': 5668, 'omission': 5669, 'credence': 5670, 'gangsterism': 5671, 'thwart': 5672, 'pinpoints': 5673, 'blatantly': 5674, 'termed': 5675, 'roundtree': 5676, 'inconsistency': 5677, 'ironically': 5678, 'alesandr': 5679, 'toni': 5680, 'legality': 5681, 'scratch': 5682, 'hasselhoff': 5683, 'cia': 5684, 'caper': 5685, 'crocodile': 5686, 'mute': 5687, '4th': 5688, 'parasite': 5689, 'post': 5690, 'minimal': 5691, 'fetishes': 5692, 'pointed': 5693, 'kermit': 5694, 'cats': 5695, 'verne': 5696, 'radical': 5697, 'session': 5698, 'drummer': 5699, 'gabbarbr': 5700, 'attaching': 5701, 'bureaus': 5702, 'intersections': 5703, 'tralala': 5704, 'actorsthey': 5705, 'enjoyablebr': 5706, 'twain': 5707, 'stands': 5708, 'feinstone': 5709, 'thats': 5710, 'chess': 5711, 'rain': 5712, 'jo': 5713, 'pumpkins': 5714, 'sandy': 5715, 'memorable': 5716, 'trend': 5717, 'espionage': 5718, 'weathered': 5719, 'sleazefest': 5720, 'hutton': 5721, 'bands': 5722, 'moron': 5723, 'trainbr': 5724, 'equivalent': 5725, 'florence': 5726, 'assumed': 5727, 'peeping': 5728, 'steven': 5729, 'wholebr': 5730, 'hackneyed': 5731, 'mysterious': 5732, 'villain': 5733, 'summer': 5734, 'convoluted': 5735, 'football': 5736, 'displayed': 5737, 'guinness': 5738, 'minor': 5739, 'rushes': 5740, 'wager': 5741, 'wrongheaded': 5742, 'waste': 5743, 'valentina': 5744, 'hour': 5745, 'loring': 5746, 'handsome': 5747, 'tate': 5748, 'calls': 5749, 'versa': 5750, 'depict': 5751, 'questionable': 5752, 'harmonious': 5753, 'lavish': 5754, 'palusky': 5755, 'paxton': 5756, 'hart': 5757, 'aides': 5758, 'homework': 5759, 'manipulating': 5760, 'symbolism': 5761, 'cellar': 5762, 'brad': 5763, 'feel': 5764, 'rollbr': 5765, 'clients': 5766, 'indeedbr': 5767, 'impeccable': 5768, 'uncomfortable': 5769, 'technicolour': 5770, 'beak': 5771, 'defend': 5772, 'een': 5773, '1977s': 5774, 'lot': 5775, 'genres': 5776, 'uniform': 5777, 'observe': 5778, 'horrific': 5779, 'crawl': 5780, 'schildkraut': 5781, 'exploitationcinema': 5782, 'lmerchant': 5783, 'harbor': 5784, 'vibrato': 5785, 'directions': 5786, 'charade': 5787, 'division': 5788, 'tingwei': 5789, 'smithereens': 5790, 'settlement': 5791, 'jeans': 5792, 'banal': 5793, 'sorrier': 5794, 'simultaneous': 5795, 'borges': 5796, 'mystery': 5797, 'ultimately': 5798, 'sikh': 5799, 'nevsy': 5800, 'edwards': 5801, 'armed': 5802, 'snotty': 5803, 'seeing': 5804, 'outrageous': 5805, 'contribute': 5806, 'wherever': 5807, 'recount': 5808, 'donovan': 5809, 'manhole': 5810, 'seuss': 5811, 'everyday': 5812, 'limbless': 5813, 'abundance': 5814, 'masami': 5815, 'bear': 5816, 'graphic': 5817, 'mcallister': 5818, 'rescues': 5819, 'beauty': 5820, 'deception': 5821, 'layout': 5822, 'resembling': 5823, 'placing': 5824, 'weary': 5825, 'separate': 5826, 'camcorders': 5827, 'glimpses': 5828, 'doll': 5829, 'enhances': 5830, 'beery': 5831, 'plight': 5832, 'sodastained': 5833, 'scott': 5834, 'weaponsbr': 5835, 'ensues': 5836, 'carell': 5837, 'manifest': 5838, 'packing': 5839, 'compiled': 5840, 'halt': 5841, 'coppola': 5842, 'wolf': 5843, 'adjectives': 5844, 'kentucky': 5845, 'meryl': 5846, 'steals': 5847, 'rarity': 5848, 'bout': 5849, 'shed': 5850, 'directs': 5851, 'bobby': 5852, 'pages': 5853, 'complaint': 5854, 'copying': 5855, 'graduate': 5856, 'unfolds': 5857, 'hanzo': 5858, 'advertising': 5859, 'replaced': 5860, 'beckinsale': 5861, 'keenly': 5862, 'prostitute': 5863, 'shabana': 5864, 'jimmie': 5865, 'gordo': 5866, 'tendency': 5867, 'humorous': 5868, 'mighty': 5869, 'anesthesia': 5870, 'suitablebr': 5871, 'silliness': 5872, 'mistaken': 5873, 'grandparents': 5874, 'fansbr': 5875, 'shot': 5876, 'troop': 5877, 'demise': 5878, 'searchers': 5879, 'psychedelic': 5880, 'spawned': 5881, 'temperament': 5882, 'envious': 5883, 'occasionally': 5884, 'solemn': 5885, 'jail': 5886, 'wa': 5887, 'final': 5888, 'bitterness': 5889, 'vida': 5890, 'rule': 5891, 'runner': 5892, 'whimper': 5893, 'ambler': 5894, 'familiarone': 5895, 'consists': 5896, 'phoning': 5897, 'shes': 5898, 'dreyfus': 5899, 'stewarts': 5900, 'presents': 5901, 'mallik': 5902, 'nightingale': 5903, 'candidate': 5904, 'effort': 5905, 'seventiesdrag': 5906, 'partbr': 5907, 'warfel': 5908, 'inflected': 5909, 'council': 5910, 'cambridge': 5911, 'tcm': 5912, 'depth': 5913, 'sylvia': 5914, 'wow': 5915, 'weed': 5916, 'depictions': 5917, 'vision': 5918, 'dictionary': 5919, 'thesiger': 5920, 'mettle': 5921, 'contribution': 5922, 'crushed': 5923, 'handled': 5924, 'hbomb': 5925, 'kicked': 5926, 'patients': 5927, 'learning': 5928, 'industrialist': 5929, 'thinkers': 5930, 'maintaining': 5931, 'cheryl': 5932, 'archer': 5933, 'afterbr': 5934, 'osterlich': 5935, '1863': 5936, 'movingly': 5937, 'two': 5938, 'subject': 5939, 'insecurities': 5940, 'hanlons': 5941, 'cheney': 5942, 'categories': 5943, 'unthreatening': 5944, 'dose': 5945, 'leontine': 5946, 'prove': 5947, '1984': 5948, 'batmanbr': 5949, 'confrontation': 5950, 'ultimate': 5951, 'cheers': 5952, 'programming': 5953, 'emotional': 5954, 'grady': 5955, 'immigrants': 5956, 'taxiing': 5957, 'rhysmeyers': 5958, 'protect': 5959, 'ks': 5960, 'realises': 5961, 'gape': 5962, 'unity': 5963, 'holt': 5964, 'tedious': 5965, 'vetoed': 5966, 'inane': 5967, 'doorways': 5968, '13': 5969, 'villager': 5970, 'block': 5971, 'charlies': 5972, 'drain': 5973, 'antiwar': 5974, 'das': 5975, 'ideal': 5976, 'threeway': 5977, 'tight': 5978, 'cheese': 5979, 'official': 5980, 'knef': 5981, 'cross': 5982, 'dunking': 5983, 'astounds': 5984, 'bloodiest': 5985, 'howd': 5986, 'quasislave': 5987, 'strained': 5988, 'round': 5989, 'ocean': 5990, 'barely': 5991, 'gawd': 5992, 'neil': 5993, 'ultrasound': 5994, 'benson': 5995, 'murdering': 5996, 'phenomenally': 5997, 'flicks': 5998, 'neighbor': 5999, 'mindlessly': 6000, 'poorlydirected': 6001, 'bmovie': 6002, 'spotted': 6003, 'brat': 6004, 'boringbr': 6005, 'democracybr': 6006, 'length': 6007, 'crafted': 6008, 'psychologically': 6009, 'metropolis': 6010, 'aint': 6011, 'punishing': 6012, 'eclectic': 6013, 'encourage': 6014, 'represents': 6015, 'mtv': 6016, 'caf': 6017, 'tess': 6018, 'dreams': 6019, 'tunes': 6020, 'begins': 6021, 'womans': 6022, 'snowballs': 6023, 'wouldt': 6024, 'heavyhanded': 6025, 'nitwits': 6026, 'continuation': 6027, 'chapmanbr': 6028, 'clerk': 6029, 'midnight': 6030, 'grahames': 6031, 'privilege': 6032, 'announcer': 6033, 'whala': 6034, 'misplaced': 6035, 'slick': 6036, 'quirk': 6037, 'incidentally': 6038, 'kelly': 6039, 'bully': 6040, 'naivity': 6041, 'degenerates': 6042, 'poorest': 6043, 'bald': 6044, 'ii': 6045, 'rituals': 6046, 'secrecy': 6047, 'tune': 6048, 'ballet': 6049, 'gandolfini': 6050, 'stop': 6051, 'hippies': 6052, 'invitation': 6053, 'unified': 6054, 'wouldnt': 6055, 'honour': 6056, 'yearnot': 6057, 'inconsequential': 6058, 'favor': 6059, 'cook': 6060, 'facial': 6061, 'logically': 6062, 'cooperate': 6063, 'patricyoure': 6064, 'lands': 6065, 'masatoshi': 6066, 'gateway': 6067, 'djinn': 6068, 'civil': 6069, 'hao': 6070, 'cicely': 6071, 'anonymously': 6072, 'addresses': 6073, 'teaching': 6074, 'important': 6075, 'worse': 6076, 'category': 6077, 'bevy': 6078, 'anthem': 6079, 'jellinek': 6080, 'ta': 6081, 'racismbr': 6082, 'committing': 6083, 'barrier': 6084, 'decapitating': 6085, 'terror': 6086, 'cara': 6087, 'want': 6088, 'goof': 6089, 'dropped': 6090, 'album': 6091, 'winters': 6092, 'allow': 6093, 'feud': 6094, 'dee': 6095, 'breathing': 6096, 'passively': 6097, 'justify': 6098, 'sculpture': 6099, 'morning': 6100, 'streeps': 6101, 'motivation': 6102, 'possession': 6103, 'conversation': 6104, 'prejudice': 6105, 'uncharted': 6106, 'virtues': 6107, 'visitor': 6108, 'sandbr': 6109, 'china': 6110, 'needle': 6111, 'shakespeare': 6112, 'seller': 6113, 'foreboding': 6114, 'homage': 6115, 'joystick': 6116, 'shirts': 6117, 'camera': 6118, 'tarantinos': 6119, 'formula': 6120, 'warners': 6121, 'interaction': 6122, 'picture': 6123, 'stan': 6124, 'surgical': 6125, 'strangle': 6126, 'patricidebr': 6127, 'undertake': 6128, 'negotiates': 6129, 'evoke': 6130, 'meld': 6131, 'indulge': 6132, 'kidneys': 6133, 'pool': 6134, 'tormented': 6135, 'bill': 6136, 'surprises': 6137, 'dildos': 6138, 'prestigious': 6139, 'callous': 6140, 'casper': 6141, 'invites': 6142, 'tread': 6143, 'snowcones': 6144, '2nd': 6145, 'kidding': 6146, 'nutjob': 6147, 'h3': 6148, 'convenience': 6149, 'resembled': 6150, 'various': 6151, 'malfunctions': 6152, 'correlation': 6153, 'serge': 6154, 'adequate': 6155, 'seedy': 6156, 'incoherent': 6157, 'shouldve': 6158, 'stayed': 6159, 'jacking': 6160, 'quasidramatizations': 6161, 'viewing': 6162, 'martyr': 6163, 'include': 6164, 'eyecatchers': 6165, 'video': 6166, 'greatest': 6167, 'embracing': 6168, 'discontent': 6169, 'tense': 6170, 'notation': 6171, 'admit': 6172, 'selective': 6173, 'ambassador': 6174, 'boneand': 6175, 'opera': 6176, 'discussing': 6177, 'pride': 6178, '1995s': 6179, 'irrational': 6180, 'wittgenstein': 6181, 'conflict': 6182, 'oneline': 6183, '92': 6184, 'smoothly': 6185, 'soap': 6186, 'timler': 6187, 'marine': 6188, 'peking': 6189, 'marc': 6190, 'lee': 6191, 'ruby': 6192, 'dame': 6193, 'timeless': 6194, 'ar': 6195, 'buster': 6196, 'directorial': 6197, 'lent': 6198, 'never': 6199, 'mix': 6200, 'popping': 6201, 'barn': 6202, 'openers': 6203, 'neverending': 6204, 'played': 6205, 'filtering': 6206, 'fatigue': 6207, 'brave': 6208, 'sweet': 6209, 'deceptively': 6210, 'tarnished': 6211, 'lowell': 6212, 'horace': 6213, 'hopefully': 6214, 'nights': 6215, 'inflicting': 6216, 'brashnessbr': 6217, 'dumbest': 6218, 'summit': 6219, 'frankensteins': 6220, 'recognize': 6221, 'orgiesbr': 6222, 'solution': 6223, 'rendered': 6224, 'greatgrandmother': 6225, 'stuff': 6226, 'odious': 6227, 'reasonsthese': 6228, 'abound': 6229, 'inevitably': 6230, 'works': 6231, 'sports': 6232, 'negotiator': 6233, 'still': 6234, 'devoy': 6235, 'quick': 6236, 'offered': 6237, 'hatton': 6238, 'carrots': 6239, 'conservativeminded': 6240, 'military': 6241, 'sand': 6242, 'chiles': 6243, 'harriet': 6244, 'fantasies': 6245, 'citizens': 6246, 'holes': 6247, 'obtaining': 6248, 'ball': 6249, 'wilderness': 6250, 'passion': 6251, 'pasting': 6252, 'wayne': 6253, 'unspeakably': 6254, 'garment': 6255, 'pakistan': 6256, 'specialistbr': 6257, 'hardly': 6258, 'expert': 6259, 'milk': 6260, 'evening': 6261, 'paganism': 6262, '20s': 6263, 'lake': 6264, 'thomerson': 6265, 'resistible': 6266, 'assemblage': 6267, 'mozart': 6268, 'eccleston': 6269, 'reckon': 6270, 'standardissue': 6271, 'proof': 6272, 'forgettable': 6273, 'headed': 6274, 'baffle': 6275, 'izzard': 6276, 'servers': 6277, 'tracked': 6278, 'lighthearted': 6279, 'brilliance': 6280, 'hybrid': 6281, 'policemen': 6282, 'stringent': 6283, 'foreshadowing': 6284, 'upsidedown': 6285, 'amoral': 6286, 'planet': 6287, 'matured': 6288, 'chest': 6289, 'elderly': 6290, 'python': 6291, 'abu': 6292, 'flatliners': 6293, 'weakest': 6294, 'sequence': 6295, 'himmelen': 6296, 'moreno': 6297, 'bugs': 6298, 'medic': 6299, 'garnered': 6300, 'reincarnation': 6301, 'explore': 6302, 'executive': 6303, 'glued': 6304, 'ninebr': 6305, 'candy': 6306, 'tab': 6307, 'jessica': 6308, 'guessed': 6309, 'wellmeaning': 6310, 'snakes': 6311, 'trumped': 6312, 'lessons': 6313, 'coke': 6314, 'vivienne': 6315, 'expectations': 6316, 'exercises': 6317, 'stories': 6318, 'garys': 6319, 'route': 6320, 'perpetrated': 6321, 'transformation': 6322, 'tastes': 6323, 'poetic': 6324, 'stroke': 6325, 'price': 6326, 'perverts': 6327, 'busta': 6328, 'letter': 6329, 'eventually': 6330, 'obsessively': 6331, 'prefect': 6332, 'caribbean': 6333, 'wet': 6334, 'gamer': 6335, 'questionably': 6336, 'redfield': 6337, 'eat': 6338, 'directori': 6339, 'volition': 6340, 'akshay': 6341, 'liston': 6342, 'fianc': 6343, 'content': 6344, 'ranks': 6345, 'underused': 6346, 'confirm': 6347, 'instead': 6348, 'remade': 6349, 'nukes': 6350, 'oberon': 6351, 'artifacts': 6352, 'mendez': 6353, 'dreamworld': 6354, 'expected': 6355, 'suitably': 6356, 'hartley': 6357, 'respect': 6358, 'components': 6359, 'diologue': 6360, 'triumphs': 6361, 'xrating': 6362, 'landings': 6363, 'interesting': 6364, 'hereim': 6365, 'smiley': 6366, 'mikes': 6367, 'matthews': 6368, 'welcomed': 6369, 'contention': 6370, 'kilgore': 6371, 'halfhearted': 6372, 'whines': 6373, 'seinfeld': 6374, 'burden': 6375, 'confronting': 6376, 'calm': 6377, 'annoy': 6378, 'kidnappers': 6379, 'fantasymonsters': 6380, 'hogan': 6381, 'rental': 6382, 'americas': 6383, 'upset': 6384, 'deathbattleship': 6385, 'maria': 6386, 'conglomeration': 6387, 'dunkbr': 6388, 'shouldnt': 6389, 'shoots': 6390, 'macy': 6391, 'unless': 6392, 'icarly': 6393, 'involves': 6394, 'chunk': 6395, 'timeline': 6396, 'deserved': 6397, 'onedimensionality': 6398, 'analogy': 6399, 'fatebr': 6400, 'scared': 6401, 'iek': 6402, 'cashin': 6403, 'enterprise': 6404, 'moores': 6405, 'brokendown': 6406, 'stalin': 6407, 'global': 6408, 'persuasively': 6409, 'word': 6410, 'andy': 6411, 'distributor': 6412, 'value': 6413, 'exploited': 6414, 'courts': 6415, 'wild': 6416, 'modest': 6417, 'mccalman': 6418, 'staring': 6419, 'criminally': 6420, 'bewitching': 6421, 'slowmoving': 6422, 'pintsized': 6423, 'relied': 6424, 'kids': 6425, 'messiah': 6426, 'costellos': 6427, 'dwellings': 6428, 'ha': 6429, 'beautifulbr': 6430, 'includes': 6431, 'glaring': 6432, 'modernized': 6433, 'ruthlessnes': 6434, 'tens': 6435, 'ackroyds': 6436, 'heavy': 6437, 'tragediesbr': 6438, 'switch': 6439, 'motives': 6440, 'gypsy': 6441, 'blows': 6442, 'daily': 6443, 'muchmaligned': 6444, 'morally': 6445, 'weeks': 6446, 'pipesmoking': 6447, 'hurtbr': 6448, 'retelling': 6449, 'danny': 6450, 'territory': 6451, 't101': 6452, 'depravity': 6453, 'involve': 6454, 'insists': 6455, 'tinge': 6456, 'promos': 6457, 'trance': 6458, 'dingy': 6459, 'moscow': 6460, 'cautionary': 6461, '63': 6462, 'battlespace': 6463, 'upsetting': 6464, 'thrillermasterpiece': 6465, 'charge': 6466, 'kindergarten': 6467, 'trashy': 6468, 'mgm': 6469, 'coverup': 6470, 'yummmmmbr': 6471, 'comical': 6472, 'claire': 6473, 'cracked': 6474, 'nonpal': 6475, 'westerns': 6476, '101': 6477, 'pinup': 6478, 'earth': 6479, 'kubricks': 6480, 'noticing': 6481, 'durga': 6482, 'occur': 6483, 'terence': 6484, 'schism': 6485, 'overwrought': 6486, 'credited': 6487, 'developmentunderscored': 6488, 'pancakes': 6489, 'testament': 6490, 'monk': 6491, 'downbr': 6492, 'nephew': 6493, 'tom': 6494, 'sugarcoat': 6495, 'nonexistent': 6496, 'dances': 6497, 'dammes': 6498, 'warns': 6499, 'radio': 6500, 'dylan': 6501, '90s': 6502, 'outdoors': 6503, 'producer': 6504, 'knuckle': 6505, 'countries': 6506, 'stroud': 6507, 'beat': 6508, 'forddirected': 6509, 'allies': 6510, 'belittles': 6511, 'reignite': 6512, 'chaste': 6513, '1949': 6514, 'era': 6515, 'humble': 6516, 'martin': 6517, 'paraphrase': 6518, 'limit': 6519, 'minded': 6520, 'vault': 6521, 'billy': 6522, 'portraying': 6523, 'unintelligiblebr': 6524, 'rose': 6525, 'utterly': 6526, 'tracie': 6527, 'smouldering': 6528, 'specially': 6529, 'consistency': 6530, 'fairy': 6531, 'correct': 6532, 'virginitybr': 6533, 'ribisis': 6534, 'simplifying': 6535, 'caladan': 6536, 'industrial': 6537, 'sentences': 6538, 'rewritten': 6539, 'receiving': 6540, 'turned': 6541, 'celaschi': 6542, 'pukes': 6543, 'fishburn': 6544, 'julia': 6545, 'receipe': 6546, 'martinez': 6547, 'backgroundbr': 6548, 'christianled': 6549, 'clarkson': 6550, 'liberties': 6551, 'miracle': 6552, 'hint': 6553, 'saddled': 6554, 'producerand': 6555, '64square': 6556, 'workday': 6557, 'widens': 6558, 'levels': 6559, 'stitches': 6560, 'destiny': 6561, 'made': 6562, 'superb': 6563, 'basis': 6564, 'slot': 6565, 'laying': 6566, 'september': 6567, 'extremebr': 6568, 'slaps': 6569, 'fly': 6570, 'warsetting': 6571, 'serum': 6572, 'goal': 6573, 'loo': 6574, 'comedic': 6575, 'clothes': 6576, 'loudly': 6577, 'churchs': 6578, 'bovary': 6579, 'agony': 6580, 'situations': 6581, 'alike': 6582, 'suspend': 6583, 'currently': 6584, 'miami': 6585, 'showcase': 6586, 'phases': 6587, 'lovable': 6588, 'bullying': 6589, 'teenage': 6590, 'hues': 6591, 'stowe': 6592, 'annie': 6593, 'ingenious': 6594, 'bashevis': 6595, 'sawing': 6596, 'skinheads': 6597, 'wrath': 6598, 'recoup': 6599, 'signal': 6600, 'devils': 6601, 'koji': 6602, 'prey': 6603, 'anything': 6604, 'drop': 6605, 'cosmetic': 6606, 'liu': 6607, 'sympathy': 6608, 'friday': 6609, 'magots': 6610, 'possibly': 6611, 'closing': 6612, 'horrible': 6613, 'oldschool': 6614, 'tons': 6615, 'initial': 6616, 'kei': 6617, 'references': 6618, 'nonchalance': 6619, 'someones': 6620, 'guessing': 6621, 'reaffirm': 6622, 'mocks': 6623, 'inserting': 6624, 'resurrect': 6625, 'canary': 6626, 'nathans': 6627, 'scoots': 6628, 'bared': 6629, 'lampoon': 6630, 'liberation': 6631, 'welldone': 6632, 'edgebr': 6633, 'tiedye': 6634, 'lite': 6635, 'basedits': 6636, 'amputated': 6637, 'ransacked': 6638, '1972': 6639, 'adetokumboh': 6640, 'whats': 6641, 'pals': 6642, 'fonda': 6643, 'sfx': 6644, 'pianist': 6645, 'horribly': 6646, '45': 6647, 'amid': 6648, 'majesty': 6649, 'punk': 6650, 'lengthy': 6651, 'antipathetic': 6652, 'walt': 6653, 'capt': 6654, 'f18': 6655, 'jet': 6656, 'kikuno': 6657, 'morals': 6658, 'ginny': 6659, 'scare': 6660, 'yearold': 6661, 'veronica': 6662, 'jawdroppingly': 6663, 'planche': 6664, 'generating': 6665, '51': 6666, 'lanes': 6667, 'ricci': 6668, 'tow': 6669, 'etcyou': 6670, 'correction': 6671, 'violenceasentertainment': 6672, 'auld': 6673, 'germans': 6674, 'manages': 6675, 'transported': 6676, 'sample': 6677, 'landscape': 6678, 'keep': 6679, 'letisha': 6680, 'horrendous': 6681, 'biography': 6682, 'years': 6683, 'greene': 6684, 'crams': 6685, 'aimee': 6686, 'frail': 6687, 'regularly': 6688, 'kneejerk': 6689, 'witnessed': 6690, 'tim': 6691, '2': 6692, 'fingers': 6693, 'nostalgia': 6694, 'related': 6695, 'eyesfinal': 6696, 'consulting': 6697, 'reviews': 6698, 'friendsbr': 6699, 'jolie': 6700, 'venture': 6701, 'stopbr': 6702, 'intrigue': 6703, 'god': 6704, 'onbr': 6705, 'unknowns': 6706, 'widely': 6707, 'satisfaction': 6708, 'racebr': 6709, 'impotent': 6710, 'saintly': 6711, 'guidance': 6712, 'stoners': 6713, 'woolnough': 6714, 'grieving': 6715, 'woefully': 6716, 'court': 6717, 'trap': 6718, 'cowl': 6719, 'object': 6720, 'running': 6721, 'starfleet': 6722, 'attend': 6723, 'nifty': 6724, 'judy': 6725, 'earlier': 6726, 'actress': 6727, 'sacramentos': 6728, 'chenli': 6729, 'afterwards': 6730, 'faster': 6731, 'poisoning': 6732, 'measure': 6733, 'nowit': 6734, 'assisting': 6735, 'harold': 6736, 'sunny': 6737, 'missionary': 6738, 'motifs': 6739, 'connected': 6740, 'dehavillands': 6741, 'que': 6742, 'oceans': 6743, 'tension': 6744, 'fade': 6745, 'absent': 6746, 'lowrie': 6747, 'bottom': 6748, 'compost': 6749, 'maldive': 6750, 'elisha': 6751, 'hints': 6752, 'rightwing': 6753, 'restricted': 6754, 'interviewsbr': 6755, 'incredulous': 6756, 'fan': 6757, 'western': 6758, 'pudgy': 6759, 'disneylike': 6760, 'malik': 6761, 'artifice': 6762, 'converting': 6763, 'intercuts': 6764, 'vitro': 6765, 'husbands': 6766, 'acquaintances': 6767, 'stronger': 6768, 'doubts': 6769, 'thrilled': 6770, 'possible': 6771, 'krige': 6772, 'stranglehold': 6773, 'fay': 6774, 'blob': 6775, 'gibberish': 6776, 'twins': 6777, 'accounts': 6778, 'bud': 6779, 'untrue': 6780, 'hokey': 6781, 'tipoff': 6782, 'grownup': 6783, 'artifact': 6784, 'gaelic': 6785, 'wirework': 6786, 'please': 6787, 'filmed': 6788, 'suspects': 6789, 'blackmailing': 6790, 'shoe': 6791, 'slackjawed': 6792, 'store': 6793, 'grinch': 6794, 'unto': 6795, 'loken': 6796, 'focused': 6797, 'barbs': 6798, 'flickbr': 6799, 'external': 6800, 'playbr': 6801, 'youre': 6802, 'inevitable': 6803, 'worldweariness': 6804, 'joyces': 6805, 'weak': 6806, 'pointing': 6807, 'pa': 6808, 'bermensch': 6809, 'keen': 6810, 'boxing': 6811, 'purporting': 6812, 'viewings': 6813, 'chow': 6814, 'apocryphal': 6815, 'effeminate': 6816, 'conductor': 6817, 'mightve': 6818, 'choir': 6819, 'ensemble': 6820, 'spared': 6821, 'alien': 6822, 'mindnumbing': 6823, 'granduncle': 6824, 'former': 6825, 'relate': 6826, 'supports': 6827, 'heap': 6828, 'tirade': 6829, 'undeveloped': 6830, 'anticipated': 6831, 'layerbr': 6832, 'mormon': 6833, 'clear': 6834, 'instability': 6835, 'bosworth': 6836, 'soppy': 6837, 'bought': 6838, 'jokes': 6839, 'awfuland': 6840, 'dip': 6841, 'pictures': 6842, 'adolescence': 6843, 'inergy': 6844, 'dirtmaster': 6845, 'locked': 6846, 'sexmad': 6847, 'abrasive': 6848, 'seeming': 6849, 'ship': 6850, 'sermon': 6851, 'packed': 6852, 'jackie': 6853, 'production': 6854, 'reconsidered': 6855, 'feared': 6856, 'speed': 6857, 'beef': 6858, 'spring': 6859, 'therere': 6860, 'earn': 6861, 'paced': 6862, 'guilt': 6863, 'comparisons': 6864, 'cubes': 6865, 'simple': 6866, 'clumsiness': 6867, 'culled': 6868, 'garden': 6869, 'roses': 6870, 'blade': 6871, 'elisabeth': 6872, 'plank': 6873, 'drugaddicted': 6874, 'palace': 6875, 'hildegard': 6876, 'pierce': 6877, 'amphitheater': 6878, 'craven': 6879, 'historians': 6880, 'stoic': 6881, 'angus': 6882, 'sunlight': 6883, 'hed': 6884, 'trotted': 6885, 'unaccustomed': 6886, 'bittersweetness': 6887, 'devoted': 6888, 'pop': 6889, 'goer': 6890, 'prior': 6891, 'fracture': 6892, 'tie': 6893, 'trample': 6894, 'revealed': 6895, 'reincarnated': 6896, 'committee': 6897, 'insipidbut': 6898, 'sica': 6899, 'kronos': 6900, 'plant': 6901, 'interestbr': 6902, 'forgetting': 6903, 'budgets': 6904, 'amused': 6905, 'dangled': 6906, 'states': 6907, 'quits': 6908, 'josephine': 6909, 'madre': 6910, 'contest': 6911, 'boppers': 6912, 'dialogues': 6913, 'turtle': 6914, 'company': 6915, 'f': 6916, 'pathetically': 6917, 'reviewer': 6918, 'siv': 6919, 'superior': 6920, 'mic': 6921, 'alternate': 6922, 'shlitz': 6923, 'batcave': 6924, 'quirky': 6925, 'absence': 6926, 'concerned': 6927, 'pointbr': 6928, 'simplistic': 6929, 'clip': 6930, 'chills': 6931, 'professionbr': 6932, 'handling': 6933, 'teens': 6934, 'promise': 6935, 'carlitos': 6936, 'sngbr': 6937, 'community': 6938, 'drunkard': 6939, 'hail': 6940, 'versus': 6941, 'hasnt': 6942, 'duchovny': 6943, 'architects': 6944, 'toss': 6945, 'antifascist': 6946, 'arise': 6947, 'curtiz': 6948, 'ie': 6949, 'save': 6950, 'auto': 6951, 'technical': 6952, 'stomachs': 6953, 'ominously': 6954, 'goodgirl': 6955, 'mechanism': 6956, 'filling': 6957, 'dental': 6958, 'novel': 6959, 'panache': 6960, 'immersed': 6961, 'paris': 6962, 'dgrade': 6963, 'frying': 6964, 'slated': 6965, 'funding': 6966, 'ponder': 6967, 'grave': 6968, 'cleef': 6969, 'elevate': 6970, 'owners': 6971, 'shiver': 6972, 'human': 6973, 'apologist': 6974, 'styles': 6975, 'maneuvers': 6976, 'timothy': 6977, 'pretext': 6978, 'repenting': 6979, 'outrage': 6980, 'rat': 6981, 'slovenian': 6982, 'holly': 6983, 'moviesthis': 6984, 'destroy': 6985, 'marketing': 6986, 'walking': 6987, 'pants': 6988, 'wellif': 6989, 'merchant': 6990, 'creator': 6991, 'wyler': 6992, 'soldat': 6993, 'battle': 6994, 'heavily': 6995, 'trembling': 6996, 'fistful': 6997, 'itll': 6998, 'turner': 6999, 'lets': 7000, 'passenger': 7001, 'tribe': 7002, 'internal': 7003, 'belong': 7004, 'ruin': 7005, 'reflected': 7006, 'dawn': 7007, 'combustible': 7008, 'atmospheric': 7009, 'studies': 7010, 'exist': 7011, 'choice': 7012, 'succeeded': 7013, 'liang': 7014, 'bag': 7015, 'traders': 7016, 'decidedly': 7017, 'deists': 7018, 'pronounce': 7019, 'hotel': 7020, 'miteita': 7021, 'forty': 7022, 'earned': 7023, 'damning': 7024, 'hastily': 7025, 'suspicion': 7026, 'exercise': 7027, 'drama': 7028, '100': 7029, 'bickering': 7030, 'precodes': 7031, 'smile': 7032, 'lonesome': 7033, 'gimmickladen': 7034, 'yep': 7035, 'active': 7036, 'takes': 7037, 'sugarhigh': 7038, 'noirs': 7039, 'sharif': 7040, 'commercialism': 7041, 'mans': 7042, 'primitive': 7043, 'jakes': 7044, 'separated': 7045, 'sucks': 7046, 'bunnydaffy': 7047, 'divisions': 7048, 'jobs': 7049, 'tussle': 7050, 'centers': 7051, 'saccharine': 7052, 'redundancy': 7053, '1990sbr': 7054, 'devastated': 7055, 'brandos': 7056, 'governments': 7057, 'psychiatric': 7058, 'malamuds': 7059, 'jinx': 7060, 'trimmed': 7061, 'subway': 7062, 'pj': 7063, 'charm': 7064, 'dossiers': 7065, 'actions': 7066, 'frost': 7067, 'legal': 7068, 'grow': 7069, 'abused': 7070, 'matrixbr': 7071, 'stopping': 7072, 'painting': 7073, 'applaud': 7074, 'sequels': 7075, 'swirled': 7076, 'gestures': 7077, 'harry': 7078, 'murali': 7079, 'unintentional': 7080, '21st': 7081, 'wellalong': 7082, 'requires': 7083, 'stones': 7084, 'see14': 7085, 'pregnant': 7086, 'night': 7087, 'awara': 7088, 'turbulent': 7089, 'eating': 7090, 'inky': 7091, 'rapierlike': 7092, 'causing': 7093, '199': 7094, 'stephen': 7095, 'wilkinson': 7096, 'talking': 7097, 'comfortable': 7098, 'training': 7099, 'perry': 7100, 'secret': 7101, 'intimately': 7102, 'notoriety': 7103, 'basically': 7104, 'occasional': 7105, 'worries': 7106, 'metal': 7107, 'arms': 7108, 'eyebrows': 7109, 'lies': 7110, 'leaking': 7111, 'craft': 7112, 'tr': 7113, 'utilizing': 7114, 'mouse': 7115, 'corpses': 7116, 'ballesta': 7117, 'unwanted': 7118, 'stonefaced': 7119, 'sacastic': 7120, 'sharply': 7121, 'capturing': 7122, 'hallmark': 7123, 'bettany': 7124, 'letters': 7125, 'difference': 7126, 'ginas': 7127, 'touched': 7128, 'teacher': 7129, 'unseen': 7130, 'killer': 7131, 'devotion': 7132, 'protagonists': 7133, 'chemicals': 7134, 'slow': 7135, 'smacks': 7136, 'proposals': 7137, 'monster': 7138, 'ado': 7139, 'whatbr': 7140, 'masters': 7141, 'guard': 7142, 'chopsocky': 7143, 'happeningbr': 7144, 'latex': 7145, 'von': 7146, 'outcome': 7147, 'climax': 7148, 'sensationalism': 7149, 'puppets': 7150, 'soderbergh': 7151, 'sidesbr': 7152, 'layers': 7153, 'transvestite': 7154, 'murder': 7155, 'issueoftheweek': 7156, 'succumbs': 7157, 'dutifully': 7158, 'cowriter': 7159, 'barkin': 7160, 'independently': 7161, 'slice': 7162, 'saboteur': 7163, 'eyepatch': 7164, 'situationbr': 7165, 'guild': 7166, 'mad': 7167, 'hobart': 7168, '2003': 7169, 'violencebr': 7170, 'strengthening': 7171, 'nastily': 7172, 'requisite': 7173, 'devon': 7174, 'intoxicated': 7175, 'medium': 7176, 'carolinas': 7177, 'offended': 7178, 'wellbr': 7179, 'developing': 7180, 'wordy': 7181, 'hides': 7182, 'bigscreen': 7183, 'ofbr': 7184, 'schumacher': 7185, 'budgetbr': 7186, 'razor': 7187, 'derisively': 7188, 'unpredictable': 7189, 'eons': 7190, 'sitting': 7191, 'field': 7192, 'demanding': 7193, 'caricatures': 7194, 'seasons': 7195, 'cameos': 7196, 'ventura': 7197, 'suns': 7198, 'figured': 7199, 'midteens': 7200, 'nyqvist': 7201, 'condemnationbr': 7202, 'kumai': 7203, 'psychological': 7204, 'freemans': 7205, 'holocaust': 7206, 'boogers': 7207, 'shawn': 7208, 'industrybr': 7209, 'construction': 7210, 'whorebr': 7211, '37': 7212, 'angel': 7213, 'mitchellbr': 7214, 'paulo': 7215, 'slipped': 7216, 'budget': 7217, 'slept': 7218, 'emmas': 7219, 'formed': 7220, 'stunt': 7221, 'gathered': 7222, 'angela': 7223, 'easier': 7224, 'networks': 7225, 'chief': 7226, 'rewatch': 7227, 'otherwise': 7228, 'sexhumor': 7229, 'astonishing': 7230, 'troisbr': 7231, 'stages': 7232, 'raped': 7233, 'formbr': 7234, 'disrespectful': 7235, 'notionally': 7236, 'abovementioned': 7237, 'informs': 7238, 'westerners': 7239, 'collage': 7240, 'giallo': 7241, 'dorkness': 7242, 'clash': 7243, 'caring': 7244, 'ps': 7245, 'beasts': 7246, 'shunned': 7247, 'fellows': 7248, 'benefit': 7249, 'promisingly': 7250, 'nwh': 7251, 'bernard': 7252, 'conventionalism': 7253, 'players': 7254, 'fiasco': 7255, 'impossible': 7256, 'oftquoted': 7257, 'faith': 7258, 'presumption': 7259, 'control': 7260, 'ramon': 7261, 'centered': 7262, 'tribute': 7263, 'movement': 7264, 'whacking': 7265, 'curly': 7266, 'furry': 7267, 'todd': 7268, 'jerry': 7269, 'timberlake': 7270, 'contributed': 7271, 'alain': 7272, 'busey': 7273, 'magazines': 7274, 'directionbr': 7275, 'rififialmostbr': 7276, 'marios': 7277, 'tasks': 7278, 'victimized': 7279, 'bothers': 7280, 'glaringly': 7281, 'deployment': 7282, 'self': 7283, 'crewneed': 7284, 'scientist': 7285, 'millions': 7286, 'quote': 7287, 'anticlimactic': 7288, 'lie': 7289, 'servais': 7290, 'hexagon': 7291, 'endearing': 7292, 'zany': 7293, 'understand': 7294, 'louder': 7295, 'classed': 7296, 'singer': 7297, 'regards': 7298, 'poignantly': 7299, 'hazardous': 7300, 'lynch': 7301, 'maneuver': 7302, 'dave': 7303, 'posey': 7304, 'propel': 7305, 'hip': 7306, 'kinnears': 7307, 'left': 7308, 'skintight': 7309, 'notatallwhatitsoundslike': 7310, 'haunts': 7311, 'unspecified': 7312, 'bergen': 7313, 'fertilization': 7314, 'overprotective': 7315, 'cribbed': 7316, 'voted': 7317, 'springboard': 7318, 'encouraged': 7319, 'banjo': 7320, 'helping': 7321, 'actedbr': 7322, 'tearjerker': 7323, 'truck': 7324, 'czech': 7325, 'inspector': 7326, 'standby': 7327, 'musicals': 7328, 'aldo': 7329, 'slum': 7330, 'patience': 7331, 'fake': 7332, 'sidede': 7333, 'meaningless': 7334, 'baretorsoed': 7335, 'dare': 7336, 'distracted': 7337, 'charities': 7338, 'penetrate': 7339, 'clearbr': 7340, 'earful': 7341, 'searches': 7342, 'surrounded': 7343, 'rhyme': 7344, 'moneysaving': 7345, 'hanzos': 7346, 'mothersonduo': 7347, 'avoid': 7348, 'somehow': 7349, 'vapid': 7350, 'facing': 7351, 'shifts': 7352, 'leetle': 7353, 'marshall': 7354, 'whim': 7355, 'falls': 7356, 'strangebr': 7357, 'contrasts': 7358, 'miike': 7359, 'jungles': 7360, 'highfives': 7361, 'fiction': 7362, 'kim': 7363, 'cure': 7364, 'faceless': 7365, 'lying': 7366, 'continue': 7367, 'matsumuras': 7368, 'sorry': 7369, 'degree': 7370, 'fishburne': 7371, 'clichs': 7372, 'course': 7373, 'mansion': 7374, 'corringa': 7375, 'used': 7376, 'televisions': 7377, 'premise': 7378, 'tingle': 7379, 'ultraslimy': 7380, 'daring': 7381, 'join': 7382, 'presencebr': 7383, 'millers': 7384, 'outback': 7385, 'sees': 7386, 'rampage': 7387, 'cavalry': 7388, 'row': 7389, 'prophetic': 7390, 'offending': 7391, 'brunojust': 7392, 'revealing': 7393, 'condoned': 7394, 'ukraine': 7395, 'grisly': 7396, 'jekyll': 7397, 'overtones': 7398, 'nowhere': 7399, 'commercials': 7400, 'second': 7401, 'cleverly': 7402, 'belligerent': 7403, 'bolin': 7404, 'moralities': 7405, 'coveted': 7406, 'sever': 7407, 'roy': 7408, 'obers': 7409, 'herebr': 7410, 'schneider': 7411, 'wwwhorroryearbookcom': 7412, 'natasha': 7413, 'renbourn': 7414, 'selfreference': 7415, 'rewarded': 7416, 'dropping': 7417, 'driven': 7418, 'butchers': 7419, 'randomly': 7420, 'answerbr': 7421, 'deedsbr': 7422, 'pauses': 7423, 'treatbr': 7424, 'piper': 7425, 'peeks': 7426, 'forbes': 7427, 'cindy': 7428, 'natalia': 7429, 'motionbr': 7430, 'wicked': 7431, 'formal': 7432, 'cherkasov': 7433, 'clutch': 7434, 'henchwoman': 7435, 'hotly': 7436, 'nice': 7437, 'socially': 7438, 'llosa': 7439, 'prime': 7440, 'veldon': 7441, 'catastrophe': 7442, 'clothilde': 7443, 'highlight': 7444, 'jake': 7445, 'dealer': 7446, 'idealistic': 7447, 'fullblown': 7448, 'nagiko': 7449, 'storys': 7450, 'juvenile': 7451, 'barber': 7452, 'exonerate': 7453, 'paynes': 7454, 'warp': 7455, 'air': 7456, 'promo': 7457, 'fightbr': 7458, 'stevie': 7459, 'footage': 7460, 'rhode': 7461, 'astray': 7462, 'sent': 7463, 'occasions': 7464, 'fanny': 7465, 'attendanthe': 7466, 'youbr': 7467, 'establish': 7468, 'onedimensional': 7469, 'sickened': 7470, '19381981': 7471, 'amusingly': 7472, 'climbing': 7473, 'nebbishy': 7474, 'budgeting': 7475, 'leather': 7476, 'aware': 7477, 'porn': 7478, 'freshman': 7479, 'sure': 7480, 'geisha': 7481, 'teorema': 7482, 'stumbling': 7483, 'unfamiliar': 7484, 'cartwright': 7485, 'portrays': 7486, 'overdone': 7487, '64': 7488, 'wedding': 7489, 'escaped': 7490, 'drews': 7491, 'copies': 7492, 'haightashbury': 7493, 'buffoon': 7494, 'enlightenment': 7495, 'drawl': 7496, 'ratings': 7497, 'lifetime': 7498, 'fiedels': 7499, 'criticisms': 7500, 'credible': 7501, 'dvrs': 7502, 'thereby': 7503, 'stepped': 7504, 'fascinated': 7505, 'seriousness': 7506, 'fixated': 7507, 'giancaspro': 7508, 'eastern': 7509, 'already': 7510, 'notoriously': 7511, 'overbr': 7512, 'mata': 7513, 'chore': 7514, 'couldnt': 7515, 'fighters': 7516, 'sea': 7517, 'feature': 7518, 'contradiction': 7519, 'caught': 7520, 'hayden': 7521, 'debased': 7522, 'reading': 7523, 'dared': 7524, 'page': 7525, 'incantation': 7526, 'took': 7527, 'unsuccessfully': 7528, 'taste': 7529, 'cyborgs': 7530, 'resurrection': 7531, 'technicolor': 7532, 'reliably': 7533, 'lively': 7534, 'filing': 7535, 'foil': 7536, 'virginbr': 7537, 'younger': 7538, 'solely': 7539, 'wend': 7540, 'jbs': 7541, 'cream': 7542, 'yarrr': 7543, 'bruce': 7544, 'cued': 7545, 'frustrated': 7546, 'anguishing': 7547, 'seahunt': 7548, 'believablebr': 7549, 'zenlike': 7550, 'decay': 7551, 'marsha': 7552, 'rich': 7553, 'irritates': 7554, 'petes': 7555, 'shahrukh': 7556, 'climaxing': 7557, 'vacations': 7558, 'coproducing': 7559, 'responsibility': 7560, 'sorvino': 7561, 'cleanest': 7562, 'capture': 7563, 'fresh': 7564, 'faired': 7565, 'behalf': 7566, 'budsand': 7567, 'translated': 7568, 'gentle': 7569, 'sharp': 7570, 'underground': 7571, 'intelligently': 7572, 'label': 7573, 'failing': 7574, 'troubled': 7575, 'outsourced': 7576, 'goriest': 7577, 'darkness': 7578, 'boisterous': 7579, 'episode': 7580, 'perverse': 7581, 'dune': 7582, 'films': 7583, 'lemmon': 7584, 'criminal': 7585, 'gorefests': 7586, 'okulthe': 7587, 'move': 7588, 'tautly': 7589, 'effects': 7590, 'write': 7591, 'brutal': 7592, 'menit': 7593, 'hackers': 7594, 'rainbow': 7595, 'search': 7596, 'connects': 7597, 'shaw': 7598, 'robin': 7599, 'corn': 7600, 'tortured': 7601, 'cavalierbr': 7602, 'goldberg': 7603, 'paging': 7604, 'shaken': 7605, 'militarybusiness': 7606, 'ponytail': 7607, 'premiere': 7608, 'ted': 7609, 'recognition': 7610, 'wellintentioned': 7611, 'intended': 7612, 'shouting': 7613, 'examined': 7614, 'inbr': 7615, 'chestnut': 7616, 'giggle': 7617, 'reassurance': 7618, 'etcbr': 7619, 'cultivated': 7620, 'provide': 7621, 'contemporary': 7622, 'wit': 7623, 'sustained': 7624, 'mid': 7625, 'involvement': 7626, 'visions': 7627, 'benevolent': 7628, 'darrell': 7629, 'enthusast': 7630, 'beings': 7631, 'jim': 7632, 'locations': 7633, 'organising': 7634, 'fbistyle': 7635, 'housewife': 7636, 'grazes': 7637, 'heroines': 7638, 'malpractice': 7639, 'crated': 7640, 'evident': 7641, 'someday': 7642, 'battleground': 7643, 'stomach': 7644, 'precede': 7645, 'bruise': 7646, 'pseudooccult': 7647, 'portrayals': 7648, 'entertain': 7649, 'sunday': 7650, 'ramsay': 7651, 'castles': 7652, 'wisecracks': 7653, 'onset': 7654, 'press': 7655, 'gradef': 7656, 'transfer': 7657, 'number': 7658, 'veracity': 7659, 'trails': 7660, 'womanhood': 7661, 'elevatorbr': 7662, 'victoria': 7663, 'perkins': 7664, 'times': 7665, 'floor': 7666, 'hitman': 7667, 'union': 7668, 'type': 7669, 'drafts': 7670, 'jaw': 7671, 'shen': 7672, 'contacts': 7673, 'carnivorous': 7674, 'rot': 7675, 'reputable': 7676, 'cowrote': 7677, 'cam': 7678, 'pretense': 7679, 'credits': 7680, 'roots': 7681, 'labels': 7682, 'nauseating': 7683, 'collect': 7684, 'discord': 7685, 'finn': 7686, 'picked': 7687, 'tanner': 7688, 'transcended': 7689, 'detailsbr': 7690, 'results': 7691, 'randy': 7692, 'cumulative': 7693, 'workers': 7694, 'arrived': 7695, 'bandbr': 7696, 'conceivable': 7697, 'pilots': 7698, 'wins': 7699, 'castoffs': 7700, 'alexander': 7701, 'noir': 7702, 'interiors': 7703, 'outright': 7704, 'samantha': 7705, 'fallbr': 7706, 'prudent': 7707, 'yearbr': 7708, 'phipps': 7709, 'insist': 7710, 'longwinded': 7711, 'concrete': 7712, 'fivetime': 7713, '11': 7714, 'secretary': 7715, 'ohsoout': 7716, 'weird': 7717, 'greats': 7718, 'etienne': 7719, 'shilohs': 7720, 'reminiscent': 7721, 'controversy': 7722, 'accept': 7723, 'kenneth': 7724, 'hatas': 7725, 'wait': 7726, 'vhs': 7727, 'anytownusa': 7728, 'ulrich': 7729, 'unintentionally': 7730, 'everyone': 7731, 'cover': 7732, 'kikou': 7733, 'always': 7734, 'modebr': 7735, 'subtitles': 7736, 'senses': 7737, 'college': 7738, 'godcomplex': 7739, 'sidelines': 7740, 'ameragosa': 7741, 'obligatory': 7742, 'thru': 7743, 'exude': 7744, 'businessman': 7745, 'frightened': 7746, 'daringeven': 7747, 'gettin': 7748, 'physical': 7749, '31': 7750, 'wu': 7751, 'plains': 7752, 'vacationers': 7753, 'obnoxious': 7754, 'outlets': 7755, 'dylans': 7756, 'largely': 7757, 'slovik': 7758, 'declared': 7759, 'since': 7760, 'gainsbourg': 7761, 'security': 7762, 'independent': 7763, 'proxy': 7764, 'stylized': 7765, 'psyche': 7766, 'perversion': 7767, 'strutted': 7768, 'ends': 7769, 'version': 7770, 'delved': 7771, 'amping': 7772, 'readers': 7773, 'aircraft': 7774, 'bucks': 7775, 'safety': 7776, 'salma': 7777, 'chilled': 7778, 'angerbr': 7779, 'hardboiled': 7780, 'radios': 7781, 'aired': 7782, 'remastered': 7783, 'criticizing': 7784, 'virgil': 7785, 'ripe': 7786, 'willaim': 7787, 'scenelike': 7788, 'kill': 7789, 'sumptuous': 7790, 'european': 7791, 'ignoramus': 7792, 'rainbeaux': 7793, 'movies': 7794, 'actorsbr': 7795, 'mcbeth': 7796, 'subzero': 7797, 'travails': 7798, 'inc': 7799, 'adamantly': 7800, 'undoes': 7801, 'spanishamerican': 7802, 'intercourse': 7803, 'hurley': 7804, 'wiserbr': 7805, 'aura': 7806, 'rope': 7807, 'irvin': 7808, 'nits': 7809, 'spy': 7810, 'pieces': 7811, 'delight': 7812, 'explained': 7813, 'horror': 7814, 'stooges': 7815, 'keeley': 7816, 'deranged': 7817, 'provost': 7818, 'fatherfigure': 7819, 'minutesbr': 7820, 'shocked': 7821, 'tops': 7822, 'skinned': 7823, 'kannathil': 7824, 'loft': 7825, 'thin': 7826, 'checking': 7827, 'showing': 7828, 'direct': 7829, 'episodes': 7830, 'moviegoer': 7831, 'shocker': 7832, 'boil': 7833, 'recommend': 7834, 'embarrassingly': 7835, 'mexico': 7836, 'individual': 7837, '1870s': 7838, 'infamous': 7839, 'susan': 7840, 'toughest': 7841, 'classmates': 7842, 'interference': 7843, 'sho': 7844, 'midget': 7845, 'dozens': 7846, 'coach': 7847, 'lucking': 7848, 'nixon': 7849, 'stockholm': 7850, 'gangsters': 7851, 'techno': 7852, 'advantages': 7853, 'images': 7854, 'worth': 7855, 'policewomans': 7856, 'bonny': 7857, 'rips': 7858, 'morty': 7859, 'meg': 7860, 'innocent': 7861, 'pouring': 7862, 'daniel': 7863, 'speech': 7864, 'funbr': 7865, 'sticks': 7866, 'tourdeforce': 7867, 'hilarious': 7868, 'team': 7869, 'anthony': 7870, 'reverts': 7871, 'videos': 7872, 'establishing': 7873, 'takesoff': 7874, 'oneliners': 7875, 'grint': 7876, 'department': 7877, 'elder': 7878, 'gore': 7879, 'mind': 7880, 'qualification': 7881, 'adolescent': 7882, 'insights': 7883, 'emboldened': 7884, 'gackt': 7885, 'spawns': 7886, 'writerdirector': 7887, 'disfunction': 7888, 'seduced': 7889, '1951': 7890, 'say': 7891, 'uniting': 7892, 'counterparts': 7893, 'nudgenudge': 7894, 'cg': 7895, 'jacques': 7896, 'massiveconked': 7897, 'kurosawas': 7898, 'bordered': 7899, 'competing': 7900, 'bruckbuster': 7901, 'throats': 7902, 'shannon': 7903, 'day': 7904, 'weld': 7905, 'staff': 7906, 'equipment': 7907, 'biscuitbr': 7908, 'deadly': 7909, 'fails': 7910, 'pedecarises': 7911, 'qualities': 7912, 'call': 7913, 'wound': 7914, 'killingbr': 7915, 'rest': 7916, 'tamed': 7917, 'gags': 7918, 'thanks': 7919, 'jewish': 7920, 'repair': 7921, 'sparkling': 7922, 'valedictorian': 7923, 'seven': 7924, 'notably': 7925, 'propagandistic': 7926, 'senseless': 7927, 'dreamed': 7928, 'supposed': 7929, 'kansas': 7930, 'colored': 7931, 'make': 7932, 'budapest': 7933, 'profit': 7934, 'goreovision': 7935, 'tearful': 7936, 'somewhere': 7937, 'backpack': 7938, 'reduced': 7939, 'prototypical': 7940, 'gypsys': 7941, 'endeavor': 7942, 'tanya': 7943, 'thisand': 7944, 'basketball': 7945, 'imagination': 7946, 'huston': 7947, 'columnist': 7948, 'discreet': 7949, 'outrageously': 7950, 'grandpa': 7951, 'madness': 7952, 'sacramento': 7953, 'micheal': 7954, 'cocaine': 7955, 'sad': 7956, 'kitchen': 7957, 'judge': 7958, 'tunnel': 7959, 'fortunately': 7960, 'speak': 7961, 'sheen': 7962, 'rated': 7963, 'examplea': 7964, 'diviner': 7965, 'lauren': 7966, 'martians': 7967, 'gunman': 7968, 'orders': 7969, 'families': 7970, 'eloquently': 7971, 'flynns': 7972, 'fictionalizedbr': 7973, 'animal': 7974, 'biggest': 7975, 'breaks': 7976, 'soundtrackbr': 7977, 'mcnabb': 7978, 'perversions': 7979, 'sacrifices': 7980, 'happenedbr': 7981, 'outline': 7982, 'coco': 7983, 'boleslowski': 7984, 'classicera': 7985, 'among': 7986, 'caron': 7987, 'period': 7988, 'sets': 7989, 'homes': 7990, 'carries': 7991, 'doors': 7992, 'threads': 7993, 'miriam': 7994, 'richards': 7995, 'patriarch': 7996, 'tells': 7997, 'touching': 7998, 'pirate': 7999, 'politically': 8000, 'skipping': 8001, 'marketplace': 8002, 'miller': 8003, 'minions': 8004, 'ambitions': 8005, 'promising': 8006, 'casual': 8007, 'shirt': 8008, 'hellbound': 8009, 'speculated': 8010, 'pervert': 8011, 'djvu': 8012, 'turturro': 8013, 'evolutionary': 8014, 'dogme': 8015, 'jellineks': 8016, 'spaces': 8017, 'accordion': 8018, 'ashanti': 8019, 'mutating': 8020, 'caine': 8021, 'warner': 8022, 'vibe': 8023, 'frolic': 8024, 'testify': 8025, 'account': 8026, 'la': 8027, 'vera': 8028, 'antique': 8029, 'pervaded': 8030, 'hendry': 8031, 'review': 8032, 'gadgets': 8033, 'wellknown': 8034, 'produced': 8035, 'layering': 8036, 'illustrate': 8037, 'inseparable': 8038, 'bullied': 8039, 'pedecaris': 8040, 'fulbright': 8041, 'stefanie': 8042, 'glows': 8043, 'juan': 8044, 'shockthroughnameselection': 8045, 'definately': 8046, 'existing': 8047, 'maledominated': 8048, 'knock': 8049, 'gems': 8050, 'glory': 8051, 'hideousness': 8052, 'bigots': 8053, 'holdouts': 8054, 'partner': 8055, 'qualitybr': 8056, 'disappointmentbr': 8057, 'lion': 8058, 'trickery': 8059, 'cinephilia': 8060, 'passes': 8061, 'invisible': 8062, 'q': 8063, 'region': 8064, 'lasted': 8065, 'doctor': 8066, 'lethal': 8067, 'peripheral': 8068, 'yiddish': 8069, 'gallery': 8070, 'youthful': 8071, 'shootout': 8072, 'runway': 8073, 'wasting': 8074, 'refuses': 8075, 'cambodia': 8076, 'annals': 8077, 'orwell': 8078, 'obstruct': 8079, 'werent': 8080, 'lawrenece': 8081, 'ancient': 8082, 'niche': 8083, 'fiendish': 8084, 'affect': 8085, 'crumbs': 8086, 'uninitiated': 8087, 'naturalism': 8088, 'exploits': 8089, 'recall': 8090, 'glances': 8091, 'uhh': 8092, 'parallels': 8093, 'reads': 8094, 'dark': 8095, 'overkillbr': 8096, '8': 8097, 'expectation': 8098, 'roeg': 8099, 'warfare': 8100, 'majors': 8101, 'birds': 8102, 'sidney': 8103, 'lose': 8104, 'consisted': 8105, 'diabolical': 8106, 'debenning': 8107, 'fortunate': 8108, 'funny': 8109, 'represented': 8110, 'ethereal': 8111, 'yarr': 8112, 'hyde': 8113, 'nikolai': 8114, 'commended': 8115, 'plotyeah': 8116, 'humiliating': 8117, 'poem': 8118, 'lifestyle': 8119, 'paper': 8120, 'luckily': 8121, 'creature': 8122, 'merely': 8123, 'mayan': 8124, 'serious': 8125, 'set': 8126, 'warped': 8127, 'flaws': 8128, 'croc': 8129, 'attempting': 8130, 'camerawork': 8131, 'pleasing': 8132, 'vienna': 8133, 'drifting': 8134, 'unamerican': 8135, 'tsang': 8136, 'recently': 8137, 'accumulated': 8138, 'calvin': 8139, 'talks': 8140, 'discussionbr': 8141, 'insult': 8142, 'smack': 8143, 'lawsuits': 8144, 'mentioning': 8145, 'win': 8146, 'alcohol': 8147, 'noroi': 8148, 'azarias': 8149, 'daysbr': 8150, 'task': 8151, 'clyde': 8152, 'pelham': 8153, 'prehistoric': 8154, 'producing': 8155, 'nunn': 8156, 'madge': 8157, 'faithful': 8158, 'promptly': 8159, 'importantbr': 8160, 'messagebr': 8161, 'underscored': 8162, 'doug': 8163, 'understated': 8164, 'elicit': 8165, 'belongs': 8166, 'tommys': 8167, 'completed': 8168, 'spur': 8169, 'horrorvision': 8170, 'metoo': 8171, 'banned': 8172, 'raimis': 8173, 'listen': 8174, 'sterilepeople': 8175, 'cbs': 8176, 'bethlehems': 8177, '58': 8178, 'delivery': 8179, 'upgrade': 8180, 'stunning': 8181, 'dissolve': 8182, 'services': 8183, 'sublime': 8184, 'assassin': 8185, 'titled': 8186, 'gates': 8187, 'glib': 8188, 'pleasure': 8189, 'overpowering': 8190, 'survives': 8191, 'fked': 8192, 'censors': 8193, 'weepy': 8194, 'objectbr': 8195, 'discover': 8196, 'refreshed': 8197, 'lol': 8198, 'neckties': 8199, 'cluster': 8200, 'smoke': 8201, 'benjamin': 8202, 'ebano': 8203, 'behaviour': 8204, 'forces': 8205, 'awards': 8206, 'stick': 8207, 'criticize': 8208, 'labour': 8209, 'featurebr': 8210, 'origin': 8211, 'terrestrial': 8212, 'advancement': 8213, 'herthen': 8214, 'largo': 8215, 'screamed': 8216, 'debt': 8217, 'dashing': 8218, 'slit': 8219, 'darkest': 8220, 'shrink': 8221, 'dreamer': 8222, 'bebr': 8223, 'cartoons': 8224, 'directtovideo': 8225, 'idiots': 8226, 'alabama': 8227, 'postmodernist': 8228, 'masterpiece': 8229, 'jason': 8230, 'away': 8231, 'pleasant': 8232, 'ultraheroic': 8233, 'australia': 8234, 'scanty': 8235, 'paddy': 8236, 'nothing': 8237, 'simulated': 8238, 'responsible': 8239, 'conscious': 8240, 'colors': 8241, 'wakamatsus': 8242, 'participate': 8243, 'repairman': 8244, 'lighting': 8245, 'ridge': 8246, 'reportedly': 8247, 'recommended': 8248, 'italys': 8249, 'enjoyed': 8250, 'sci': 8251, 'consumed': 8252, 'rupert': 8253, 'mistake': 8254, 'became': 8255, 'sorrowfulbr': 8256, 'bonds': 8257, 'costume': 8258, 'noite': 8259, 'bitch': 8260, 'filming': 8261, 'butchering': 8262, 'bayhater': 8263, 'hey': 8264, '76': 8265, 'loop': 8266, 'gonna': 8267, 'arbitrary': 8268, 'neeson': 8269, 'revelation': 8270, 'aussies': 8271, 'canoodling': 8272, 'plenty': 8273, 'ronnie': 8274, 'sickening': 8275, 'resolution': 8276, 'cutest': 8277, 'tanked': 8278, 'goblin': 8279, 'washed': 8280, 'liebman': 8281, 'alec': 8282, 'children': 8283, 'pollak': 8284, 'existential': 8285, 'riot': 8286, 'outwitted': 8287, 'walton': 8288, 'terminate': 8289, 'occasion': 8290, 'middleaged': 8291, 'rings': 8292, 'drake': 8293, 'charactersbr': 8294, 'effect': 8295, 'azmi': 8296, 'basking': 8297, 'madison': 8298, 'takeoff': 8299, 'hunters': 8300, 'photography': 8301, 'grip': 8302, 'sided': 8303, 'favebr': 8304, 'profits': 8305, 'ben': 8306, 'cardboard': 8307, 'mj': 8308, 'concern': 8309, 'pretty': 8310, 'werewolves': 8311, 'codebr': 8312, 'artisticbr': 8313, 'illegal': 8314, 'immature': 8315, 'bernie': 8316, 'disparaging': 8317, 'marchand': 8318, 'fascist': 8319, 'annoyingbr': 8320, 'biggies': 8321, 'cowardice': 8322, 'dynamic': 8323, 'warranted': 8324, 'neighboring': 8325, 'rooming': 8326, 'meby': 8327, 'masses': 8328, 'homophobia': 8329, 'pair': 8330, 'blakely': 8331, 'known': 8332, 'onanyway': 8333, 'fearand': 8334, 'torrid': 8335, 'menbr': 8336, 'loses': 8337, 'believed': 8338, 'fest': 8339, 'excessive': 8340, 'joanne': 8341, 'moff': 8342, 'optically': 8343, 'hooked': 8344, 'regiments': 8345, '56': 8346, 'luck': 8347, 'palmer': 8348, 'hitandrun': 8349, 'profound': 8350, 'eko': 8351, 'roll': 8352, 'soda': 8353, 'madebr': 8354, 'frames': 8355, 'cage': 8356, 'clarksville': 8357, 'emotionless': 8358, 'week': 8359, 'uwe': 8360, 'tempt': 8361, 'incongruent': 8362, 'youth': 8363, 'spending': 8364, 'cart': 8365, 'nursing': 8366, 'think': 8367, 'raisulis': 8368, 'apparently': 8369, 'boobs': 8370, 'zooming': 8371, 'understanding': 8372, 'tagalong': 8373, 'west': 8374, 'treasurebr': 8375, 'siodmak': 8376, 'lower': 8377, 'troops': 8378, 'filmsbr': 8379, '1': 8380, 'documentary': 8381, 'hungry': 8382, 'controller': 8383, 'married': 8384, 'retained': 8385, 'patroni': 8386, 'collection': 8387, 'vertigo': 8388, 'traffic': 8389, 'flames': 8390, 'veteran': 8391, 'horny': 8392, 'uninspired': 8393, 'term': 8394, 'sparse': 8395, 'fu': 8396, 'mug': 8397, 'cringe': 8398, 'criticism': 8399, 'daylight': 8400, 'satire': 8401, 'scriptwriter': 8402, 'nominated': 8403, 'freeman': 8404, 'quentin': 8405, 'cum': 8406, 'believe': 8407, 'tool': 8408, 'makers': 8409, 'distinguish': 8410, 'household': 8411, 'traveling': 8412, 'emanuelle': 8413, 'purchase': 8414, 'enter': 8415, 'oozin': 8416, 'enthusiasts': 8417, 'whitebred': 8418, 'hosts': 8419, 'seemingly': 8420, 'dismissing': 8421, 'endings': 8422, 'squads': 8423, 'olivia': 8424, 'grape': 8425, 'worstsince': 8426, 'nicolas': 8427, 'oscarwinner': 8428, 'rooney': 8429, 'unforgettable': 8430, 'cillian': 8431, 'flashforward': 8432, 'recorder': 8433, 'passesbr': 8434, 'nowbr': 8435, 'shaggy': 8436, 'chong': 8437, 'kinda': 8438, 'hamming': 8439, 'camp': 8440, 'mitchums': 8441, 'championship': 8442, 'referenced': 8443, 'undescribableonimdb': 8444, 'monstrosities': 8445, 'penned': 8446, 'protest': 8447, 'placeespecially': 8448, 'persuades': 8449, 'clay': 8450, 'hired': 8451, 'chemistry': 8452, 'uniquely': 8453, 'quarry': 8454, 'interplay': 8455, 'unfold': 8456, 'rachel': 8457, 'dumbfounded': 8458, 'everdulling': 8459, 'disappears': 8460, 'anyones': 8461, 'allen': 8462, 'immortal': 8463, 'charisma': 8464, 'kardashian': 8465, 'elephant': 8466, 'yamamoto': 8467, 'campus': 8468, 'infinitely': 8469, 'sir': 8470, 'befriending': 8471, 'wildernessbr': 8472, 'picturesque': 8473, 'geez': 8474, 'ugly': 8475, 'belching': 8476, 'suddenly': 8477, 'legendary': 8478, 'howards': 8479, 'olsson': 8480, 'premier': 8481, '0f': 8482, 'toys': 8483, 'classicbr': 8484, 'infection': 8485, 'rocksolid': 8486, 'eroticism': 8487, 'absurdbr': 8488, 'martell': 8489, 'concept': 8490, 'lycanthropy': 8491, 'jorja': 8492, 'exists': 8493, 'plugged': 8494, 'welltodo': 8495, '18th': 8496, 'substitute': 8497, 'craziness': 8498, 'darker': 8499, 'toy': 8500, 'buzzard': 8501, 'ripped': 8502, 'appear': 8503, 'colony': 8504, 'statement': 8505, 'topical': 8506, '2006': 8507, 'cheap': 8508, 'gigolo': 8509, 'yells': 8510, 'brolinbr': 8511, 'maintained': 8512, 'michaelangelos': 8513, 'regret': 8514, 'nightmares': 8515, 'unbelievablebr': 8516, 'glossed': 8517, 'represenative': 8518, 'gremlins': 8519, 'targetshooting': 8520, 'disease': 8521, 'boys': 8522, 'kirstie': 8523, 'disasterbr': 8524, 'delay': 8525, 'split': 8526, 'inspired': 8527, 'expressive': 8528, 'sensibilities': 8529, 'multidimensional': 8530, 'exception': 8531, 'physically': 8532, 'wrongly': 8533, 'panics': 8534, 'kindred': 8535, 'shadowplay': 8536, 'punch': 8537, 'nina': 8538, 'repression': 8539, 'grueling': 8540, 'leap': 8541, 'shadow': 8542, 'padding': 8543, 'farmer': 8544, 'disturbing': 8545, 'misdemeanorsanother': 8546, 'faithfulness': 8547, 'butch': 8548, 'parkor': 8549, 'timelessness': 8550, 'barbarian': 8551, 'shimizu': 8552, 'eggs': 8553, 'fish': 8554, 'deliberately': 8555, 'fort': 8556, 'rex': 8557, 'villagers': 8558, 'marivaux': 8559, 'heather': 8560, 'caste': 8561, 'rammed': 8562, 'fondling': 8563, 'vice': 8564, 'creepsthe': 8565, 'punctuated': 8566, 'custer': 8567, 'none': 8568, 'tourettes': 8569, 'lengths': 8570, 'margheriti': 8571, 'poir': 8572, 'murderer': 8573, 'hostess': 8574, 'claims': 8575, 'surgically': 8576, 'turns': 8577, 'barnes': 8578, 'survived': 8579, '54th': 8580, 'dude': 8581, 'threedimensional': 8582, 'kluznick': 8583, 'ratnam': 8584, 'goodthe': 8585, 'coven': 8586, 'irene': 8587, 'heir': 8588, 'cyclebr': 8589, 'asteroid': 8590, 'seebr': 8591, 'basic': 8592, '1947': 8593, 'shotsbr': 8594, 'boorman': 8595, 'allison': 8596, 'cusak': 8597, 'equals': 8598, 'sky': 8599, 'transfers': 8600, 'increased': 8601, 'rob': 8602, 'methis': 8603, 'chatting': 8604, 'manoeuvres': 8605, 'saywould': 8606, 'moody': 8607, 'inability': 8608, 'coogan': 8609, 'performer': 8610, 'waysbr': 8611, 'rawal': 8612, 'cubbyhouse': 8613, 'aide': 8614, 'pitch': 8615, 'ghunguroo': 8616, 'horrifically': 8617, 'television': 8618, 'policeman': 8619, 'decide': 8620, 'uruguay': 8621, 'voodooinspired': 8622, 'controversial': 8623, 'grays': 8624, 'eden': 8625, 'plate': 8626, 'internetbr': 8627, 'virgins': 8628, 'generally': 8629, 'anonymity': 8630, 'bikumatre': 8631, 'mean': 8632, 'metaphor': 8633, 'operative': 8634, 'scheme': 8635, 'cookie': 8636, 'fray': 8637, 'muchcelebrated': 8638, 'histrionic': 8639, 'priesthood': 8640, 'implies': 8641, 'hatred': 8642, 'wrought': 8643, 'cockpit': 8644, 'fears': 8645, 'installment': 8646, 'monetarily': 8647, 'director': 8648, 'blythe': 8649, 'superman': 8650, 'pinpoint': 8651, 'element': 8652, 'pseudosatanic': 8653, 'steal': 8654, 'anyhow': 8655, 'drivers': 8656, 'idle': 8657, 'convertible': 8658, 'starved': 8659, 'bizarre': 8660, 'onboard': 8661, 'jesse': 8662, 'shiloh': 8663, 'building': 8664, 'zane': 8665, 'penn': 8666, 'cliffhanger': 8667, 'mary': 8668, 'according': 8669, 'wanna': 8670, 'resumes': 8671, 'worldwide': 8672, 'notwithstanding': 8673, 'oliver': 8674, 'parent': 8675, 'calf': 8676, 'weather': 8677, 'phoenix': 8678, 'winger': 8679, 'stalkers': 8680, 'skirmishes': 8681, 'loyalist': 8682, 'spoiling': 8683, 'wee': 8684, 'cruelfaced': 8685, 'wardrobes': 8686, 'pans': 8687, 'satisfactorily': 8688, 'dialogue': 8689, 'sinks': 8690, 'realized': 8691, 'stuntman': 8692, 'illustration': 8693, 'sloppy': 8694, 'oh': 8695, 'incapable': 8696, 'creepers': 8697, 'recurring': 8698, 'merchandise': 8699, 'chandler': 8700, 'farewell': 8701, 'marish': 8702, 'dying': 8703, 'partying': 8704, 'beaker': 8705, 'namesbr': 8706, 'extentions': 8707, 'bachelor': 8708, 'medallion': 8709, 'bronze': 8710, 'outer': 8711, 'remake': 8712, 'throw': 8713, 'frustrating': 8714, 'disregarding': 8715, 'retrospective': 8716, 'theatresbr': 8717, 'scots': 8718, 'adept': 8719, 'honesty': 8720, 'folks': 8721, 'presumably': 8722, 'backs': 8723, 'country': 8724, 'actresses': 8725, 'videogameplaying': 8726, 'reluctant': 8727, 'irritating': 8728, 'facilities': 8729, 'nuns': 8730, 'gloria': 8731, 'spurred': 8732, 'pythons': 8733, 'buildup': 8734, 'obsessive': 8735, 'taped': 8736, 'praise': 8737, 'rolewise': 8738, 'archdeacon': 8739, 'willful': 8740, 'next': 8741, 'satisfactory': 8742, 'heroes': 8743, 'warriors': 8744, 'boxingbr': 8745, 'glanced': 8746, 'ximenes': 8747, 'digger': 8748, 'mid80s': 8749, 'performances': 8750, 'contracts': 8751, 'aid': 8752, 'suits': 8753, '20': 8754, 'throws': 8755, 'sentimentality': 8756, 'altmanthe': 8757, 'branch': 8758, 'versions': 8759, 'falwell': 8760, 'confederate': 8761, 'hazard': 8762, 'pleasantly': 8763, 'artistry': 8764, 'wives': 8765, 'unconscionable': 8766, 'rookie': 8767, 'distraction': 8768, 'intriguing': 8769, 'arc': 8770, 'gushing': 8771, 'z': 8772, 'irreverence': 8773, 'capabilitybr': 8774, 'adversaries': 8775, 'expressed': 8776, 'myth': 8777, 'lowery': 8778, 'futuristic': 8779, 'scifi': 8780, 'refusal': 8781, 'talbots': 8782, '1950': 8783, 'flavored': 8784, 'compilation': 8785, 'filmmakers': 8786, 'mountainous': 8787, 'close': 8788, 'wideshots': 8789, 'hollis': 8790, 'abhors': 8791, 'shape': 8792, 'wannabee': 8793, 'goodbad': 8794, 'aheadbr': 8795, 'magic': 8796, 'vying': 8797, 'emerging': 8798, 'releases': 8799, 'powell': 8800, 'vehicles': 8801, 'awe': 8802, 'gilberto': 8803, 'unfriendly': 8804, 'h': 8805, 'trees': 8806, 'sharking': 8807, 'presenting': 8808, 'nwa': 8809, 'radhas': 8810, 'carrasco': 8811, 'hates': 8812, 'nazi': 8813, 'updated': 8814, 'historically': 8815, 'swept': 8816, 'riveting': 8817, 'ramond': 8818, 'jane': 8819, 'beiser': 8820, 'betterbr': 8821, 'supplied': 8822, 'waters': 8823, 'fantasizebr': 8824, 'financing': 8825, 'redeemed': 8826, 'viewpoints': 8827, 'kikuos': 8828, '1986': 8829, '24': 8830, 'tori': 8831, '1940s': 8832, 'rome': 8833, 'gleefully': 8834, 'females': 8835, 'screens': 8836, 'schubert': 8837, 'player': 8838, 'knights': 8839, 'gopal': 8840, 'artist': 8841, 'built': 8842, 'zschering': 8843, 'narrative': 8844, 'cruel': 8845, 'fascination': 8846, 'corner': 8847, 'peace': 8848, 'rio': 8849, 'costner': 8850, 'spoilers': 8851, 'roberts': 8852, 'opinionsome': 8853, 'sopranos': 8854, 'vast': 8855, 'twisted': 8856, 'challenges': 8857, 'bombs': 8858, 'collar': 8859, 'bits': 8860, '399': 8861, 'xlondon': 8862, 'unsuccessful': 8863, 'association': 8864, 'drops': 8865, 'pussycat': 8866, 'persons': 8867, 'scorethe': 8868, 'extremely': 8869, 'calliber': 8870, 'classified': 8871, 'giggling': 8872, 'crispin': 8873, 'nevksy': 8874, 'instincts': 8875, 'seamlessly': 8876, 'rowland': 8877, 'mugged': 8878, 'hearted': 8879, '1979': 8880, 'rupture': 8881, 'noise': 8882, 'fathom': 8883, 'jettisoned': 8884, 'docu': 8885, 'nielsen': 8886, 'yugoslavia': 8887, 'deaths': 8888, 'eurotrip': 8889, 'chopper': 8890, 'enlists': 8891, 'riddler': 8892, 'cots': 8893, 'robertson': 8894, 'accompanies': 8895, 'flashy': 8896, 'alongbr': 8897, 'bullets': 8898, 'copout': 8899, 'tv': 8900, 'wagner': 8901, 'neutral': 8902, 'fatherbr': 8903, 'eliminating': 8904, 'indelible': 8905, 'demotion': 8906, 'web': 8907, 'shall': 8908, 'gifts': 8909, 'syndrome': 8910, 'bodycount': 8911, 'injury': 8912, 'shaolin': 8913, 'fulfilled': 8914, 'culmination': 8915, 'francis': 8916, '12a': 8917, 'yankee': 8918, 'valerie': 8919, 'screened': 8920, 'shatnerism': 8921, 'sobiesky': 8922, 'carrying': 8923, 'unspeakable': 8924, 'parents': 8925, 'spot': 8926, 'chicks': 8927, 'cuisinart': 8928, 'descriptive': 8929, 'angeles': 8930, 'albumbr': 8931, 'ruth': 8932, 'effortbr': 8933, 'grandmothers': 8934, 'objectively': 8935, 'dawson': 8936, 'fourbr': 8937, 'vcrs': 8938, 'russian': 8939, 'simonella': 8940, 'influences': 8941, 'sacrilege': 8942, 'huntwe': 8943, 'fashion': 8944, 'run': 8945, 'applied': 8946, 'audio': 8947, 'agi': 8948, 'competent': 8949, 'aunty': 8950, 'subtly': 8951, 'samoan': 8952, 'aerial': 8953, 'disappeared': 8954, 'carnage': 8955, 'significance': 8956, 'recent': 8957, 'soldier': 8958, 'campy': 8959, 'marple': 8960, 'jolly': 8961, 'fortune': 8962, 'suited': 8963, 'witchery': 8964, '3000': 8965, 'discrete': 8966, 'pushing': 8967, 'druggie': 8968, 'prayer': 8969, 'pharaohs': 8970, 'borrowed': 8971, 'german': 8972, 'inherits': 8973, 'lyricism': 8974, 'swiping': 8975, 'order': 8976, 'undermine': 8977, 'aging': 8978, 'blondes': 8979, 'symbolic': 8980, 'doableand': 8981, 'ruins': 8982, 'sake': 8983, 'connoisseurship': 8984, 'lovecraftian': 8985, 'nowadays': 8986, 'lengthen': 8987, 'bob': 8988, 'insidiously': 8989, 'separating': 8990, 'maestro': 8991, 'deter': 8992, 'stay': 8993, '68': 8994, 'screams': 8995, 'send': 8996, 'mysteriesbr': 8997, 'mst': 8998, 'gripped': 8999, 'mandy': 9000, 'boyle': 9001, 'linc': 9002, 'conventionally': 9003, 'hunchback': 9004, 'mention': 9005, 'robotic': 9006, 'spain': 9007, 'strangely': 9008, 'thingsbr': 9009, 'formerparticularly': 9010, 'crawling': 9011, 'clue': 9012, 'emmys': 9013, 'titlebr': 9014, 'list': 9015, 'trce': 9016, 'qualifies': 9017, 'david': 9018, 'bomber': 9019, 'pun': 9020, 'deciding': 9021, 'shocks': 9022, 'hoodlums': 9023, 'inventive': 9024, 'stalins': 9025, 'pursued': 9026, 'postapocalyptic': 9027, 'wreckvoiced': 9028, 'pros': 9029, 'victimsbr': 9030, 'peta': 9031, 'noticed': 9032, 'mediaeval': 9033, 'triumphant': 9034, 'archive': 9035, 'motif': 9036, 'lady': 9037, 'combinedbr': 9038, 'cop': 9039, 'nobel': 9040, 'president': 9041, 'women': 9042, 'idyllic': 9043, 'ear': 9044, 'pampered': 9045, 'blink': 9046, 'kissing': 9047, 'foray': 9048, 'sinister': 9049, 'believablethere': 9050, 'medical': 9051, 'parker': 9052, 'bent': 9053, 'sam': 9054, 'chewing': 9055, 'speeches': 9056, 'uncredited': 9057, 'development': 9058, 'northern': 9059, 'burst': 9060, 'sugarcoated': 9061, 'becker': 9062, 'politics': 9063, 'travis': 9064, 'blond': 9065, 'institutions': 9066, 'phillips': 9067, 'skeet': 9068, 'moreover': 9069, 'machines': 9070, 'affiliations': 9071, 'sampled': 9072, 'ironic': 9073, 'nonendings': 9074, 'exile': 9075, 'musical': 9076, 'hit': 9077, 'airwavesbr': 9078, 'seduces': 9079, 'explains': 9080, 'nieces': 9081, 'lambs': 9082, 'traits': 9083, 'ambling': 9084, 'kane': 9085, 'unsmiling': 9086, 'mastery': 9087, 'complicity': 9088, 'hide': 9089, 'reminded': 9090, 'enfilden': 9091, 'reiner': 9092, 'trip': 9093, 'speechless': 9094, 'johnsons': 9095, 'repeated': 9096, 'discuss': 9097, 'aag': 9098, 'dinosaur': 9099, 'jay': 9100, 'balls': 9101, 'disorder': 9102, 'kinnear': 9103, 'religiously': 9104, 'tarzan': 9105, 'mutt': 9106, 'discoveries': 9107, 'scrabble': 9108, 'esther': 9109, 'onebr': 9110, 'fell': 9111, 'steeling': 9112, 'hood': 9113, 'middleman': 9114, 'fitting': 9115, 'subtleties': 9116, 'treasure': 9117, 'silence': 9118, 'tono': 9119, 'carrey': 9120, 'woodhouse': 9121, 'starters': 9122, 'bowl': 9123, 'becoming': 9124, 'tired': 9125, 'culprits': 9126, 'blahwhen': 9127, 'rightful': 9128, 'backgrounds': 9129, 'biblical': 9130, 'scrambling': 9131, 'telling': 9132, 'weirdest': 9133, 'amanda': 9134, 'longterm': 9135, 'ingredients': 9136, 'congratulations': 9137, 'reinedin': 9138, 'decayhe': 9139, 'crazily': 9140, 'punches': 9141, 'futility': 9142, 'mormom': 9143, 'romantics': 9144, 'bach': 9145, 'visually': 9146, 'psychoanalyst': 9147, 'animates': 9148, 'however': 9149, 'beginningbr': 9150, 'vicious': 9151, 'shift': 9152, 'georgia': 9153, 'twinkie': 9154, 'damningly': 9155, 'depardieu': 9156, 'thought': 9157, 'hags': 9158, 'revolved': 9159, 'pursuers': 9160, 'strangers': 9161, 'youd': 9162, 'supposes': 9163, 'english': 9164, 'engagement': 9165, 'sophie': 9166, 'sponsor': 9167, 'bernanos': 9168, 'student': 9169, 'limbs': 9170, 'outdoor': 9171, 'attempts': 9172, 'dry': 9173, 'conception': 9174, 'eliminate': 9175, 'delicious': 9176, 'meet': 9177, 'becomes': 9178, 'ninja': 9179, 'specialty': 9180, 'rides': 9181, 'mainly': 9182, 'ole': 9183, 'brabomb': 9184, 'lowpace': 9185, 'thembr': 9186, 'crumpled': 9187, 'relevant': 9188, 'per': 9189, 'alex': 9190, '11br': 9191, 'strangeness': 9192, 'madbr': 9193, 'nonchalant': 9194, 'unwatched': 9195, 'incident': 9196, 'puncturing': 9197, 'dolores': 9198, 'opened': 9199, 'charismatic': 9200, 'emergence': 9201, 'gen': 9202, 'shrek': 9203, 'hayward': 9204, 'sting': 9205, 'throughoutbr': 9206, 'compromised': 9207, 'shudder': 9208, 'thirdbr': 9209, 'songs': 9210, 'coherence': 9211, 'notice': 9212, 'assistant': 9213, 'assistance': 9214, 'trouble': 9215, 'war': 9216, 'awkwardly': 9217, 'dragged': 9218, 'contrived': 9219, 'judd': 9220, 'connections': 9221, 'interwoven': 9222, 'et': 9223, 'dada': 9224, 'parks': 9225, 'cherry': 9226, 'fullscreen': 9227, 'workaholics': 9228, 'visiteurs': 9229, 'reno': 9230, 'bestiality': 9231, 'evils': 9232, 'sec': 9233, 'damme': 9234, 'sockmonkey': 9235, 'excellentbr': 9236, 'mailed': 9237, '42': 9238, 'steer': 9239, 'joan': 9240, 'albeit': 9241, 'capers': 9242, 'trophies': 9243, 'smoggy': 9244, 'rules': 9245, 'conclude': 9246, 'debate': 9247, 'devastation': 9248, 'vivid': 9249, 'potemkin': 9250, 'narrates': 9251, 'ideologies': 9252, 'shelley': 9253, 'doorway': 9254, 'ambiguous': 9255, 'attacks': 9256, 'john': 9257, 'nonetoobright': 9258, 'itching': 9259, 'dollops': 9260, 'snoozer': 9261, 'nail': 9262, 'mountains': 9263, 'repellent': 9264, 'attraction': 9265, 'bisexual': 9266, 'loss': 9267, 'phase': 9268, 'laser': 9269, 'farscape': 9270, 'tastebr': 9271, 'unfunny': 9272, 'corbetts': 9273, 'gothicflavoured': 9274, 'truman': 9275, 'damato': 9276, 'incredible': 9277, 'somersaults': 9278, 'higher': 9279, 'quirks': 9280, 'getting': 9281, 'wholesome': 9282, 'prelude': 9283, 'swamp': 9284, 'catholics': 9285, 'trusted': 9286, '2009': 9287, 'paradise': 9288, 'creepy': 9289, 'durante': 9290, 'sadistic': 9291, 'cocktail': 9292, 'raised': 9293, 'disciplined': 9294, 'reserve': 9295, 'bestknown': 9296, 'joel': 9297, 'enthusiastically': 9298, 'diplomacy': 9299, 'fiennes': 9300, 'submit': 9301, 'ella': 9302, 'forgotten': 9303, 'smitheebr': 9304, 'stamp': 9305, 'rene': 9306, 'digs': 9307, 'maximum': 9308, 'latent': 9309, 'twists': 9310, 'brawl': 9311, 'wars': 9312, 'watchit': 9313, 'gain': 9314, 'branaghs': 9315, 'justifiablebr': 9316, 'landscapes': 9317, 'hammer': 9318, 'sale': 9319, 'removed': 9320, 'agency': 9321, 'errol': 9322, 'turkeys': 9323, 'mccormack': 9324, 'worldas': 9325, 'itjason': 9326, 'lowbudget': 9327, 'tale': 9328, 'surrender': 9329, 'homicide': 9330, 'unbalanced': 9331, 'knowbr': 9332, 'japan': 9333, 'entity': 9334, 'hunter': 9335, 'expertly': 9336, 'jolt': 9337, 'kenton': 9338, 'delightful': 9339, 'spine': 9340, 'nightmare': 9341, 'stanley': 9342, 'acknowledged': 9343, 'jts': 9344, 'beheadings': 9345, 'wandering': 9346, 'harpo': 9347, 'treacly': 9348, '135': 9349, 'fastest': 9350, 'unpalatable': 9351, 'bushes': 9352, 'december': 9353, 'display': 9354, 'victory': 9355, 'emphasize': 9356, 'cheerfully': 9357, 'thatll': 9358, 'section': 9359, 'debbie': 9360, 'erstwhile': 9361, 'horn': 9362, 'cracking': 9363, 'pathologist': 9364, 'behold': 9365, 'timbers': 9366, 'eyes': 9367, 'distracting': 9368, 'terriblebr': 9369, 'exposition': 9370, 'jacobs': 9371, 'audiences': 9372, 'disbanded': 9373, 'elp': 9374, 'virtual': 9375, 'rubberneck': 9376, 'iowa': 9377, 'damon': 9378, 'nausea': 9379, 'compositions': 9380, 'tackle': 9381, 'moves': 9382, 'digital': 9383, 'powerfully': 9384, 'bunch': 9385, 'canbr': 9386, 'features': 9387, 'lobotomized': 9388, 'marks': 9389, 'concerning': 9390, 'slouch': 9391, 'vortex': 9392, 'gosh': 9393, 'wander': 9394, 'gargantuan': 9395, 'loathed': 9396, 'ideals': 9397, 'choices': 9398, 'handtohand': 9399, 'oblique': 9400, 'africanamericans': 9401, 'stereotyped': 9402, 'outbursts': 9403, 'throat': 9404, 'documents': 9405, 'magically': 9406, 'pounds': 9407, 'work': 9408, 'declare': 9409, 'blindfolded': 9410, 'filler': 9411, 'cheats': 9412, 'trashes': 9413, 'angelique': 9414, 'sacrificed': 9415, 'product': 9416, 'tortuous': 9417, 'inhuman': 9418, 'stuffed': 9419, 'frame': 9420, 'evershattering': 9421, 'beer': 9422, 'atomic': 9423, 'washington': 9424, 'ethical': 9425, 'corny': 9426, 'portray': 9427, 'roosevelts': 9428, 'campbell': 9429, 'remaining': 9430, 'liebermans': 9431, 'mayburys': 9432, 'inserted': 9433, 'girly': 9434, 'billionaire': 9435, 'survivesbr': 9436, 'pleasureseven': 9437, 'unveiled': 9438, 'propaganda': 9439, 'physician': 9440, 'ism': 9441, 'freezes': 9442, 'paranoia': 9443, 'positve': 9444, 'record': 9445, 'died': 9446, 'easybaking': 9447, 'russel': 9448, 'infidelity': 9449, 'dense': 9450, 'curitz': 9451, 'delon': 9452, 'nuisance': 9453, 'creativity': 9454, 'condies': 9455, 'colleagues': 9456, 'yet': 9457, 'ernest': 9458, 'sights': 9459, 'residence': 9460, '1924': 9461, 'echoing': 9462, 'wobble': 9463, 'stalebr': 9464, 'virtually': 9465, 'communicating': 9466, 'cameron': 9467, 'bathosfilled': 9468, 'investigates': 9469, 'simpson': 9470, 'accompany': 9471, 'slickest': 9472, 'cassavetes': 9473, 'fees': 9474, 'torn': 9475, 'rolebr': 9476, 'phone': 9477, 'animatrix': 9478, 'communists': 9479, 'cagney': 9480, 'string': 9481, 'deus': 9482, 'seriouslyits': 9483, 'recital': 9484, 'anisio': 9485, 'writbr': 9486, 'total': 9487, 'grim': 9488, 'nonsenses': 9489, 'improved': 9490, 'emote': 9491, 'car': 9492, 'across': 9493, 'opinions': 9494, 'lead': 9495, 'olga': 9496, 'cliquebr': 9497, 'candlestick': 9498, 'pretentious': 9499, 'pinhead': 9500, '12': 9501, 'fahey': 9502, 'happen': 9503, 'tovarish': 9504, 'nostalgic': 9505, 'solitary': 9506, 'burly': 9507, 'subliminal': 9508, 'lips': 9509, 'sensesbr': 9510, 'legend': 9511, 'taunting': 9512, 'poignant': 9513, 'forwarded': 9514, 'assuming': 9515, 'exconvict': 9516, 'offive': 9517, 'divorce': 9518, 'single': 9519, 'together': 9520, 'homosexuals': 9521, 'inspect': 9522, 'missile': 9523, 'stirring': 9524, 'bats': 9525, 'vacation': 9526, 'gutted': 9527, 'widescreen': 9528, 'wholeheartedly': 9529, 'mortal': 9530, 'porch': 9531, 'whih': 9532, 'relatives': 9533, 'execution': 9534, 'lines': 9535, 'reasonbr': 9536, 'revisionist': 9537, 'ryan': 9538, 'costumes': 9539, 'hickock': 9540, 'confederacy': 9541, 'bar': 9542, 'devotes': 9543, 'pie': 9544, 'muriel': 9545, 'vampire': 9546, 'worked': 9547, 'moving': 9548, 'pounding': 9549, 'brothers': 9550, 'costagavras': 9551, 'mansfield': 9552, 'vampira': 9553, 'warning': 9554, 'dentist': 9555, '70sbr': 9556, 'improvised': 9557, 'stranglerbr': 9558, 'mustve': 9559, 'consent': 9560, 'praying': 9561, 'unthinkable': 9562, 'stray': 9563, 'fuss': 9564, 'hang': 9565, '112': 9566, 'tupamaros': 9567, 'pirates': 9568, 'cary': 9569, 'mustsee': 9570, 'lost': 9571, 'terrifying': 9572, 'tugging': 9573, 'dialogbr': 9574, 'overzealous': 9575, 'colleague': 9576, 'cohost': 9577, 'chico': 9578, 'towns': 9579, 'yawnbr': 9580, 'outdo': 9581, 'struggle': 9582, 'hale': 9583, 'exploding': 9584, 'sprites': 9585, 'constipated': 9586, 'tramp': 9587, 'streisands': 9588, 'secondsbr': 9589, 'cabinet': 9590, 'infects': 9591, 'adjani': 9592, 'satanism': 9593, 'young': 9594, 'euro': 9595, 'voicesbr': 9596, 'vasquezfigueroa': 9597, 'shoes': 9598, 'translate': 9599, 'regardlessbr': 9600, 'hae': 9601, 'taosbr': 9602, 'stella': 9603, 'sandler': 9604, 'entertaining': 9605, 'tenuous': 9606, 'paul': 9607, 'subdued': 9608, 'blended': 9609, 'rizzo': 9610, 'col': 9611, 'unjustified': 9612, 'furnace': 9613, 'funds': 9614, 'tuesday': 9615, 'striped': 9616, 'rathbone': 9617, 'pulsating': 9618, 'ark': 9619, 'newman': 9620, 'passages': 9621, 'laughter': 9622, 'robert': 9623, '265': 9624, 'tall': 9625, 'crow': 9626, 'cinemas': 9627, 'contract': 9628, 'joining': 9629, 'paz': 9630, 'silverhaired': 9631, 'artsy': 9632, 'screen': 9633, 'definitely': 9634, '1910': 9635, 'nishabd': 9636, 'waybr': 9637, 'lara': 9638, 'stops': 9639, 'flaw': 9640, 'financially': 9641, 'complex': 9642, 'soundtrack': 9643, 'kings': 9644, 'vigilante': 9645, 'acuteness': 9646, 'gross': 9647, 'excelled': 9648, 'elizabeth': 9649, 'theres': 9650, 'cry': 9651, 'goings': 9652, 'allens': 9653, 'authoritiesbr': 9654, 'madefor': 9655, 'thirty': 9656, 'renunciation': 9657, 'armybr': 9658, 'observes': 9659, 'become': 9660, 'armstrong': 9661, 'mickey': 9662, 'alba': 9663, 'hilariously': 9664, 'satisfied': 9665, 'fumbling': 9666, 'inferred': 9667, 'crossword': 9668, 'bowers': 9669, 'animated': 9670, 'subjectbr': 9671, 'sutherland': 9672, 'droning': 9673, 'endingbr': 9674, 'designed': 9675, 'boogeyman': 9676, 'phantom': 9677, 'find': 9678, 'arne': 9679, 'judges': 9680, 'keyboard': 9681, 'psychic': 9682, 'endedbr': 9683, 'whining': 9684, 'hauser': 9685, 'abuses': 9686, 'drive': 9687, 'backbr': 9688, 'notionbr': 9689, 'referencing': 9690, 'unexplained': 9691, '1962': 9692, 'crazy': 9693, 'receives': 9694, 'hatebr': 9695, 'stand': 9696, 'experiencedbr': 9697, 'bonnie': 9698, 'servant': 9699, 'tailored': 9700, 'edythe': 9701, 'extensive': 9702, 'guaranteed': 9703, 'munchies': 9704, 'evil': 9705, 'forward': 9706, 'easybr': 9707, 'created': 9708, 'salt': 9709, 'cryptic': 9710, 'document': 9711, 'lowgrade': 9712, 'steady': 9713, 'amuses': 9714, 'daytime': 9715, 'blind': 9716, 'frontal': 9717, 'perking': 9718, 'manipulated': 9719, 'talentless': 9720, 'tbr': 9721, 'originally': 9722, 'malevolent': 9723, 'hitech': 9724, 'see': 9725, 'jarring': 9726, 'yamamotos': 9727, 'tunerberniewith': 9728, 'brangelina': 9729, 'temples': 9730, 'jury': 9731, 'harriosn': 9732, 'language': 9733, 'endbr': 9734, 'lifetimelike': 9735, 'sewn': 9736, 'augustus': 9737, 'disagree': 9738, 'synchronization': 9739, 'serial': 9740, 'novarro': 9741, 'interpretations': 9742, 'immortality': 9743, 'diatribes': 9744, 'computers': 9745, 'p': 9746, 'isaac': 9747, 'landed': 9748, 'inclusion': 9749, 'virginia': 9750, 'rod': 9751, 'suppressed': 9752, 'freaked': 9753, 'recentlybr': 9754, 'makeyoulaugh': 9755, 'boat': 9756, 'handrails': 9757, 'departed': 9758, 'tranquil': 9759, 'alltime': 9760, 'xylophone': 9761, 'darken': 9762, 'tyranny': 9763, 'raoul': 9764, 'lackluster': 9765, 'heroo': 9766, 'novelist': 9767, 'baker': 9768, 'today': 9769, 'reluctantly': 9770, 'deceased': 9771, 'least': 9772, 'insulting': 9773, 'baldy': 9774, 'silent': 9775, 'buffs': 9776, 'dweezil': 9777, 'kirk': 9778, 'patric': 9779, 'finesse': 9780, 'stated': 9781, 'bifff': 9782, 'embraceable': 9783, 'stumbles': 9784, 'satanic': 9785, 'grapes': 9786, 'conrads': 9787, 'implied': 9788, 'backbone': 9789, 'faithfully': 9790, 'liquor': 9791, 'freedoms': 9792, 'dialog': 9793, 'episodic': 9794, 'kellin': 9795, 'swarms': 9796, 'haim': 9797, 'bladder': 9798, 'pass': 9799, 'purest': 9800, 'closes': 9801, 'blew': 9802, 'lain': 9803, 'jfk': 9804, 'nancy': 9805, 'misdeeds': 9806, 'occurrence': 9807, 'tar': 9808, 'icescape': 9809, 'cambell': 9810, 'update': 9811, 'chows': 9812, 'ineligible': 9813, 'slavery': 9814, 'investors': 9815, 'bodybuilding': 9816, 'rafiel': 9817, 'scenesbr': 9818, 'reviewbr': 9819, 'repetitive': 9820, 'linear': 9821, 'moggy': 9822, 'independence': 9823, 'cares': 9824, 'fortyfive': 9825, 'clichd': 9826, 'massacre': 9827, 'future': 9828, 'u': 9829, 'raid': 9830, 'sobr': 9831, 'feed': 9832, 'anderson': 9833, 'true': 9834, 'imminent': 9835, 'counter': 9836, 'perspective': 9837, 'mins': 9838, 'censorship': 9839, 'answers': 9840, 'critical': 9841, 'cactuses': 9842, 'stone': 9843, '20th': 9844, 'chandlers': 9845, 'vacuum': 9846, 'nutcases': 9847, 'coviewer': 9848, 'documented': 9849, 'sullen': 9850, 'necessary': 9851, 'thati': 9852, 'serving': 9853, 'odyssey': 9854, 'merit': 9855, 'corrodes': 9856, 'macmahon': 9857, 'hamilton': 9858, 'march': 9859, 'breaking': 9860, 'hangs': 9861, 'maniac': 9862, 'particular': 9863, 'rivers': 9864, 'lately': 9865, 'nevertheless': 9866, 'detective': 9867, 'thingbr': 9868, 'describes': 9869, 'chalkboard': 9870, 'americans': 9871, 'basehart': 9872, 'shopbr': 9873, 'bennetts': 9874, 'undercover': 9875, 'noble': 9876, 'bushwhackers': 9877, 'miklos': 9878, 'kingsley': 9879, 'alldredge': 9880, 'wellyou': 9881, 'go': 9882, 'pity': 9883, 'policewoman': 9884, 'clubbr': 9885, 'poison': 9886, 'marriedbr': 9887, 'loved': 9888, 'blockbusters': 9889, 'pays': 9890, 'playalso': 9891, 'monsters': 9892, 'fluff': 9893, 'sideswiped': 9894, '10br': 9895, 'proud': 9896, 'fedora': 9897, 'pacific': 9898, 'subjects': 9899, 'adopted': 9900, 'trunk': 9901, 'addict': 9902, 'one': 9903, 'allyson': 9904, 'koreans': 9905, 'machina': 9906, 'celtica': 9907, 'stolen': 9908, 'switches': 9909, 'quotes': 9910, 'dreary': 9911, 'cultured': 9912, 'critically': 9913, 'stereotype': 9914, 'super': 9915, 'radiation': 9916, 'pressing': 9917, 'mowing': 9918, 'practice': 9919, 'hysterical': 9920, 'highspeed': 9921, 'wasbr': 9922, 'brenda': 9923, 'melodies': 9924, 'suicidal': 9925, 'allegedly': 9926, 'safecracker': 9927, 'soapopera': 9928, 'cars': 9929, 'tediously': 9930, 'geniuses': 9931, 'handbag': 9932, 'blast': 9933, 'wool': 9934, 'lamest': 9935, 'welding': 9936, 'protecting': 9937, 'island': 9938, 'policy': 9939, 'venemous': 9940, 'clark': 9941, 'bond': 9942, 'goingson': 9943, 'mars': 9944, 'similarbr': 9945, 'glossy': 9946, 'generic': 9947, 'straightforward': 9948, 'regardless': 9949, 'brooding': 9950, 'road': 9951, 'huge': 9952, 'galley': 9953, 'details': 9954, 'spiderman': 9955, 'marginally': 9956, 'jurassic': 9957, 'detours': 9958, 'shades': 9959, 'thoughafter': 9960, 'sissilyhandsome': 9961, 'pursuit': 9962, 'reviewers': 9963, 'experimental': 9964, 'saturdays': 9965, 'swanson': 9966, 'descendant': 9967, 'coffin': 9968, 'satisfying': 9969, 'hypocrisy': 9970, 'populate': 9971, 'scotlandfar': 9972, 'choreography': 9973, 'discussed': 9974, 'horsetraders': 9975, 'command': 9976, 'runofthemill': 9977, 'gothic': 9978, 'overseas': 9979, 'tribesmenbr': 9980, 'keanu': 9981, 'marriage': 9982, 'vocally': 9983, 'mouthbr': 9984, 'houswives': 9985, 'sleazeinexplicably': 9986, 'survive': 9987, 'scarlett': 9988, 'readings': 9989, 'generalizations': 9990, 'reason': 9991, 'moore': 9992, 'uma': 9993, 'bogus': 9994, 'innermost': 9995, 'katzman': 9996, 'barbara': 9997, 'prominent': 9998, 'channels': 9999, 'minnieapolis': 10000, 'reenact': 10001, 'bending': 10002, 'pianiste': 10003, 'jailhouse': 10004, 'apache': 10005, 'reciprocate': 10006, 'recommendation': 10007, 'notveryfunny': 10008, 'slackbr': 10009, 'marginal': 10010, 'consider': 10011, 'norris': 10012, 'haunting': 10013, 'trader': 10014, 'loosely': 10015, 'designs': 10016, 'reprogrammes': 10017, 'sybilla': 10018, 'unison': 10019, 'hacks': 10020, 'venus': 10021, 'achieve': 10022, 'goddess': 10023, 'enjoyably': 10024, 'edit': 10025, 'stranger': 10026, 'grigori': 10027, 'friend': 10028, 'stagnant': 10029, 'fairness': 10030, 'revengecrazed': 10031, 'holnists': 10032, 'timelinethe': 10033, 'decided': 10034, 'similarly': 10035, '16': 10036, 'wasnt': 10037, 'wisconsin': 10038, 'latrine': 10039, 'larger': 10040, 'bomb': 10041, 'hara': 10042, 'computer': 10043, 'reaction': 10044, 'scarce': 10045, 'underwhelming': 10046, 'rehash': 10047, 'noname': 10048, 'aged': 10049, 'skirts': 10050, 'crimebr': 10051, 'recite': 10052, 'sweaty': 10053, 'pursuer': 10054, 'defect': 10055, 'borders': 10056, 'conceptionless': 10057, 'redundant': 10058, 'til': 10059, 'smattering': 10060, 'unleashing': 10061, 'transmuted': 10062, 'filmfan': 10063, 'brigitte': 10064, 'geishas': 10065, '1978s': 10066, 'saintjohn': 10067, 'deliberation': 10068, 'snider': 10069, 'pork': 10070, 'thematic': 10071, 'harper': 10072, 'peg': 10073, 'albums': 10074, '50': 10075, 'aids': 10076, 'hindi': 10077, 'dan': 10078, 'duration': 10079, 'establishment': 10080, 'jew': 10081, 'hanging': 10082, 'fun': 10083, 'secondarybr': 10084, 'halfday': 10085, 'onceuponatime': 10086, 'claiming': 10087, 'bush': 10088, 'freak': 10089, 'insanity': 10090, 'deal': 10091, 'district': 10092, 'bhai': 10093, 'tacky': 10094, 'ahhemmoving': 10095, 'comprehend': 10096, 'near': 10097, 'bradford': 10098, 'recovered': 10099, 'warrior': 10100, 'positives': 10101, 'aspire': 10102, '48': 10103, 'thalluri': 10104, 'hustons': 10105, 'hawaiian': 10106, 'england': 10107, 'characters': 10108, 'terrorism': 10109, 'vigilantes': 10110, 'flood': 10111, 'iq': 10112, 'brain': 10113, 'saybr': 10114, 'unforgiving': 10115, 'magical': 10116, 'examplesbr': 10117, 'imdbs': 10118, 'overcome': 10119, 'influencebr': 10120, 'austens': 10121, 'britain': 10122, 'imposes': 10123, 'glamorous': 10124, 'doo': 10125, 'pad': 10126, 'picturesbr': 10127, 'reflecting': 10128, 'snoop': 10129, 'ratchets': 10130, 'spook': 10131, 'unwatchable': 10132, 'fires': 10133, 'bankable': 10134, 'principle': 10135, 'atrocious': 10136, 'reception': 10137, 'soggy': 10138, 'twinbrothers': 10139, 'membership': 10140, 'soso': 10141, 'swordfish': 10142, 'ghostbusters': 10143, 'unapologetic': 10144, 'readingbr': 10145, 'yokais': 10146, 'figuratively': 10147, 'jrs': 10148, 'quotations': 10149, 'deftly': 10150, 'fantastically': 10151, 'cheapened': 10152, 'resolved': 10153, 'immense': 10154, 'losing': 10155, 'captivating': 10156, 'blah': 10157, 'tough': 10158, 'depend': 10159, 'commercial': 10160, 'rogers': 10161, 'motorbikes': 10162, 'kep': 10163, 'unanswerable': 10164, 'contemplate': 10165, 'obviousbr': 10166, 'aussie': 10167, 'bulgaria': 10168, 'departure': 10169, 'sorking': 10170, 'flares': 10171, 'elements': 10172, 'reimburse': 10173, '110': 10174, 'isbr': 10175, 'dialogs': 10176, 'shorted': 10177, 'dungs': 10178, 'financed': 10179, 'shocking': 10180, 'okul': 10181, 'bubbleheaded': 10182, 'immensely': 10183, 'breakneck': 10184, 'thus': 10185, 'bloodred': 10186, 'awfulness': 10187, 'slight': 10188, 'venturing': 10189, 'instantly': 10190, 'karate': 10191, 'thankful': 10192, 'star': 10193, 'tucson': 10194, 'eerie': 10195, 'laid': 10196, 'crashed': 10197, 'torturers': 10198, 'boy': 10199, 'anybodys': 10200, 'leadership': 10201, 'gather': 10202, 'motto': 10203, 'hostage': 10204, 'virgilia': 10205, 'dangers': 10206, 'thoughtbr': 10207, 'errant': 10208, 'recommendedthe': 10209, 'captures': 10210, 'explanation': 10211, 'crazed': 10212, 'wrong': 10213, 'capable': 10214, 'allowed': 10215, 'need': 10216, 'appease': 10217, 'backyard': 10218, 'quiet': 10219, 'performace': 10220, 'comforting': 10221, 'covering': 10222, 'cutting': 10223, 'alist': 10224, 'bettors': 10225, 'spotty': 10226, 'profile': 10227, 'blist': 10228, 'cuervo': 10229, 'ban': 10230, 'proves': 10231, 'walter': 10232, 'hairdresser': 10233, 'gamed': 10234, 'prioritized': 10235, '1937': 10236, 'occurred': 10237, 'guys': 10238, 'thespian': 10239, 'practiced': 10240, '3strip': 10241, 'introduction': 10242, 'undetected': 10243, 'discount': 10244, 'columbia': 10245, 'godfather': 10246, 'windsor': 10247, 'limb': 10248, 'fat': 10249, 'willies': 10250, 'furious': 10251, 'entities': 10252, 'enters': 10253, 'governmental': 10254, 'nondescript': 10255, 'strongest': 10256, 'depicts': 10257, 'watered': 10258, 'cyberstalking': 10259, 'elaborately': 10260, 'shorty': 10261, 'madonnas': 10262, 'fact': 10263, 'forced': 10264, 'pov': 10265, 'gillies': 10266, 'nomolos': 10267, 'mark': 10268, 'historybr': 10269, 'balllike': 10270, 'views': 10271, 'minds': 10272, 'kass': 10273, 'adenoid': 10274, 'sought': 10275, '1978': 10276, 'unsuspecting': 10277, 'sorely': 10278, 'obviously': 10279, 'feisty': 10280, 'vocal': 10281, 'tween': 10282, 'touch': 10283, 'maitland': 10284, 'anachronistic': 10285, 'favourites': 10286, 'deaf': 10287, 'hugo': 10288, 'talked': 10289, 'boyer': 10290, 'arts': 10291, 'suck': 10292, 'concur': 10293, 'phoniness': 10294, 'tromaville': 10295, 'samurai': 10296, 'withit': 10297, 'adapter': 10298, 'underage': 10299, 'previous': 10300, 'nonkosher': 10301, 'american': 10302, 'lacking': 10303, 'shortchanged': 10304, 'featuresthat': 10305, 'finlay': 10306, 'shotgun': 10307, 'mcclure': 10308, '1840s': 10309, 'parrot': 10310, 'successes': 10311, 'canadian': 10312, 'viewers': 10313, 'entertainment': 10314, 'tractors': 10315, 'futher': 10316, 'miserable': 10317, 'sartains': 10318, 'pointlessly': 10319, 'kathy': 10320, 'watchover': 10321, 'renamed': 10322, 'max': 10323, 'vanessa': 10324, 'proficiency': 10325, 'conspiring': 10326, 'buzz': 10327, 'mob': 10328, 'strung': 10329, 'required': 10330, 'targeted': 10331, 'manage': 10332, 'surrenders': 10333, 'pickford': 10334, 'timesbr': 10335, 'incisive': 10336, 'hot': 10337, 'woodsbr': 10338, 'riley': 10339, 'whenever': 10340, 'helpless': 10341, 'heard': 10342, 'incompetence': 10343, 'mills': 10344, 'golf': 10345, 'attract': 10346, 'introduced': 10347, 'natives': 10348, 'glenn': 10349, 'apes': 10350, 'puerile': 10351, 'tenyearold': 10352, 'four': 10353, 'extent': 10354, 'poop': 10355, 'reformed': 10356, 'murderbr': 10357, 'kris': 10358, 'feet': 10359, 'voyeur': 10360, 'leave': 10361, 'locke': 10362, 'unmanipulated': 10363, 'dance': 10364, 'kuriyamibr': 10365, 'enumerate': 10366, 'citizen': 10367, 'leopard': 10368, 'tape': 10369, 'eyebrowraising': 10370, 'keis': 10371, 'glorify': 10372, 'ww2': 10373, '11related': 10374, 'wagons': 10375, 'fleetwood': 10376, 'pettigrew': 10377, 'mccrudy': 10378, 'flawless': 10379, 'midler': 10380, 'ohanlon': 10381, 'affected': 10382, 'smell': 10383, 'wales': 10384, 'filmit': 10385, 'peep': 10386, 'done': 10387, 'uncut': 10388, 'entei': 10389, 'illicit': 10390, 'culver': 10391, 'dashed': 10392, 'justice': 10393, 'slasher': 10394, 'business': 10395, 'goods': 10396, 'thirst': 10397, 'pokemon': 10398, 'trappings': 10399, 'trek': 10400, 'ealing': 10401, 'trespass': 10402, 'walked': 10403, 'segregated': 10404, 'inappropriate': 10405, 'secondfiddle': 10406, 'urbaniak': 10407, 'prompts': 10408, 'chiaki': 10409, 'careers': 10410, 'lookin': 10411, 'deserted': 10412, 'pal': 10413, 'tryingbr': 10414, 'homages': 10415, 'exaggerate': 10416, 'steward': 10417, 'mona': 10418, 'embrace': 10419, 'clever': 10420, 'shotbr': 10421, '19771981': 10422, 'arrival': 10423, 'mill': 10424, 'lostbr': 10425, 'antagonists': 10426, 'bon': 10427, 'unique': 10428, 'hedgehog': 10429, 'preparation': 10430, 'bravura': 10431, 'reactions': 10432, 'selfabsorbed': 10433, 'togetherbr': 10434, 'needing': 10435, 'cell': 10436, 'accent': 10437, 'goth': 10438, 'stale': 10439, 'compelled': 10440, 'dien': 10441, 'hammett': 10442, 'pours': 10443, 'screenbr': 10444, 'societys': 10445, 'baby': 10446, 'overstay': 10447, 'pallette': 10448, 'regard': 10449, 'terse': 10450, 'buono': 10451, 'ranking': 10452, 'provocative': 10453, 'predecessors': 10454, 'hillary': 10455, 'unwillingly': 10456, 'spam': 10457, 'stance': 10458, 'outstandingwe': 10459, 'eye': 10460, 'mindless': 10461, 'veered': 10462, 'continues': 10463, 'allstar': 10464, 'happier': 10465, 'muddled': 10466, 'thrillers': 10467, 'goons': 10468, 'demofilo': 10469, 'society': 10470, 'pope': 10471, 'rewatching': 10472, 'disaster': 10473, 'undiscovered': 10474, '164': 10475, 'selfcontained': 10476, 'fart': 10477, 'soulless': 10478, 'trampbr': 10479, 'horns': 10480, 'ropes': 10481, 'jagger': 10482, 'gametheres': 10483, 'gin': 10484, 'roths': 10485, 'elsewhere': 10486, 'frustration': 10487, 'expenses': 10488, 'bay': 10489, 'lovers': 10490, 'immune': 10491, 'mimi': 10492, 'teenagers': 10493, 'lyrical': 10494, 'chapters': 10495, 'demons': 10496, 'conventions': 10497, 'gunfighters': 10498, 'kristofferson': 10499, 'photographer': 10500, 'pitt': 10501, 'hau': 10502, 'devices': 10503, 'tone': 10504, 'compromise': 10505, 'wondering': 10506, 'sticksbr': 10507, 'snapped': 10508, 'aux': 10509, 'vale': 10510, 'sholay': 10511, 'retirement': 10512, 'noshame': 10513, 'duct': 10514, 'damned': 10515, 'dint': 10516, 'redshirts': 10517, 'patton': 10518, 'greenwood': 10519, 'serene': 10520, 'ashes': 10521, 'squander': 10522, 'crudity': 10523, 'university': 10524, 'safer': 10525, 'usual': 10526, 'kp': 10527, 'campers': 10528, 'moneybr': 10529, 'ranch': 10530, 'surreal': 10531, 'console': 10532, 'rickety': 10533, 'danish': 10534, 'desires': 10535, 'russia': 10536, 'event': 10537, 'lincoln': 10538, 'strikes': 10539, 'corpse': 10540, 'wellcrafted': 10541, 'exploit': 10542, 'myron': 10543, 'distinct': 10544, 'analyzing': 10545, 'flowers': 10546, 'tongueincheek': 10547, 'afterward': 10548, 'viennas': 10549, 'sutton': 10550, 'puke': 10551, 'disbelief': 10552, 'vampiresbr': 10553, 'elevator': 10554, 'bethlehem': 10555, 'bombards': 10556, 'incoherence': 10557, 'schwartzman': 10558, 'sherlock': 10559, 'drawnout': 10560, 'figure': 10561, 'priest': 10562, 'sarah': 10563, 'bryant': 10564, 'anybody': 10565, 'sopisticated': 10566, 'thanx': 10567, 'rife': 10568, 'askew': 10569, 'caiden': 10570, 'lays': 10571, 'intensity': 10572, 'folksbr': 10573, 'wrist': 10574, 'meaningful': 10575, 'slowbr': 10576, 'specifics': 10577, 'meat': 10578, 'ancestor': 10579, 'uk': 10580, 'hearts': 10581, 'threeminute': 10582, 'coping': 10583, 'gritty': 10584, 'defeated': 10585, 'sambrell': 10586, 'stain': 10587, 'blacklisted': 10588, 'dominated': 10589, 'jonathon': 10590, 'pins': 10591, 'fulcis': 10592, 'uproariously': 10593, 'originals': 10594, 'inthe': 10595, 'actings': 10596, 'old': 10597, 'rentals': 10598, 'says': 10599, 'imagine': 10600, 'middleton': 10601, 'metaphors': 10602, 'house': 10603, 'spoofing': 10604, 'machts': 10605, 'taking': 10606, 'sheeba': 10607, 'smokes': 10608, 'amazing': 10609, 'hordes': 10610, 'yetbr': 10611, 'unedited': 10612, 'asks': 10613, 'slam': 10614, 'cases': 10615, 'snowman': 10616, 'visual': 10617, 'anger': 10618, 'strengths': 10619, 'duchovney': 10620, 'adjust': 10621, 'understandable': 10622, 'matthew': 10623, 'risky': 10624, 'answered': 10625, 'whelan': 10626, 'logged': 10627, 'holiday': 10628, 'staged': 10629, 'relentlessly': 10630, 'compartments': 10631, 'manor': 10632, 'moment': 10633, 'plummeting': 10634, 'chasing': 10635, 'history': 10636, 'jennette': 10637, 'predicting': 10638, 'michele': 10639, 'warningbr': 10640, 'prototype': 10641, 'clothing': 10642, 'dracula': 10643, 'enclosure': 10644, 'girlish': 10645, 'clanking': 10646, 'bourgeois': 10647, 'discovered': 10648, 'something': 10649, 'crouching': 10650, 'discovers': 10651, 'mitchell': 10652, 'watch': 10653, 'agebr': 10654, 'hamlet': 10655, 'purposeless': 10656, 'willingness': 10657, 'reconstructed': 10658, 'overwhelmingly': 10659, 'salvage': 10660, 'intercept': 10661, 'asininity': 10662, 'voodoo': 10663, 'mistakes': 10664, 'uncover': 10665, 'sensebr': 10666, 'bold': 10667, 'preferred': 10668, 'wakamatsu': 10669, 'questionbr': 10670, 'ups': 10671, 'brooke': 10672, 'likewise': 10673, 'wish': 10674, 'series': 10675, 'clinical': 10676, 'organized': 10677, 'huppert': 10678, 'janus': 10679, 'attitude': 10680, 'sith': 10681, 'spouse': 10682, 'ethically': 10683, 'loaded': 10684, 'glover': 10685, 'efficiency': 10686, 'spells': 10687, 'yokai': 10688, 'drink': 10689, 'late': 10690, '80': 10691, 'speculate': 10692, 'rough': 10693, 'surface': 10694, 'afford': 10695, 'means': 10696, 'wickedness': 10697, 'plants': 10698, 'globe': 10699, '132': 10700, 'catholicism': 10701, 'thirties': 10702, 'hogans': 10703, 'co': 10704, 'grabs': 10705, 'miserables': 10706, 'cosmo': 10707, 'cowards': 10708, 'bucheler': 10709, 'scandal': 10710, 'nonmoving': 10711, 'unrealistically': 10712, 'andrew': 10713, 'compliment': 10714, 'dirtyminded': 10715, 'relies': 10716, 'boom': 10717, 'fog': 10718, 'thumbs': 10719, 'victimize': 10720, 'hopkins': 10721, 'shamebr': 10722, 'synthesizer': 10723, 'neill': 10724, 'opposed': 10725, 'psychiatrist': 10726, 'mentioned': 10727, 'flows': 10728, 'appropriate': 10729, 'kidnaps': 10730, 'voyeuristic': 10731, 'hadnt': 10732, 'mississippi': 10733, 'crooks': 10734, 'humongous': 10735, 'irony': 10736, 'emily': 10737, 'rant': 10738, 'windows': 10739, 'based': 10740, 'beds': 10741, 'subtle': 10742, 'investor': 10743, 'snickerbr': 10744, 'classification': 10745, 'signature': 10746, 'rebar': 10747, 'videotaped': 10748, 'homeless': 10749, 'valid': 10750, 'edits': 10751, 'chosen': 10752, 'kalifornia': 10753, 'swinging': 10754, 'rivette': 10755, 'searched': 10756, 'surrell': 10757, 'turkeyzero': 10758, 'schoolgirl': 10759, 'aok': 10760, 'kanaly': 10761, '1959': 10762, 'psychotic': 10763, 'assessing': 10764, 'pornografic': 10765, 'unsuitable': 10766, 'sparseness': 10767, 'viscous': 10768, 'eistensteins': 10769, 'gerald': 10770, 'patriotic': 10771, 'lift': 10772, 'atrocity': 10773, 'weasely': 10774, 'shijie': 10775, 'planned': 10776, 'romeros': 10777, 'direction': 10778, 'facade': 10779, 'snots': 10780, 'punt': 10781, 'mixture': 10782, 'gift': 10783, 'offering': 10784, 'subpar': 10785, 'ol': 10786, 'expects': 10787, 'prompting': 10788, 'highest': 10789, 'mummybr': 10790, 'knots': 10791, 'unabashedly': 10792, 'predictability': 10793, 'nuclear': 10794, 'infrequent': 10795, 'del': 10796, 'muzak': 10797, 'child': 10798, 'lieberman': 10799, 'wave': 10800, 'moodiness': 10801, 'caines': 10802, 'sons': 10803, 'pearce': 10804, 'waited': 10805, 'finlays': 10806, 'radius': 10807, 'likely': 10808, 'signbr': 10809, 'aspects': 10810, 'creative': 10811, 'armendariz': 10812, 'secondly': 10813, 'fouryearsold': 10814, 'build': 10815, 'rifs': 10816, 'farm': 10817, 'reasonings': 10818, 'bashaws': 10819, 'telly': 10820, 'tragic': 10821, 'ought': 10822, 'sufficient': 10823, 'rubbishbr': 10824, 'fewer': 10825, 'boosts': 10826, 'archetypes': 10827, 'holds': 10828, 'imitations': 10829, 'bus': 10830, 'cinemabr': 10831, 'prefer': 10832, 'wheres': 10833, 'nurse': 10834, 'cities': 10835, 'nicer': 10836, 'julias': 10837, 'maintains': 10838, 'amtrak': 10839, 'icon': 10840, 'clive': 10841, 'tights': 10842, 'nadim': 10843, 'plaguerism': 10844, 'wind': 10845, 'pulp': 10846, 'cuss': 10847, 'barbershop': 10848, 'black': 10849, 'bureau': 10850, 'gotta': 10851, '15ft': 10852, 'clarke': 10853, 'smarter': 10854, 'classes': 10855, 'convenient': 10856, 'tightly': 10857, 'personifies': 10858, 'cravens': 10859, 'theory': 10860, 'allergic': 10861, 'tower': 10862, 'miyazaki': 10863, 'supposedly': 10864, 'guitar': 10865, 'roof': 10866, 'test': 10867, 'magnificently': 10868, 'startupcom': 10869, 'restaurants': 10870, 'lawlessness': 10871, 'tentative': 10872, 'superhot': 10873, 'professionals': 10874, 'linked': 10875, 'shouts': 10876, 'anytime': 10877, 'caspar': 10878, 'maleskewed': 10879, 'woods': 10880, 'monkees': 10881, 'may': 10882, 'marching': 10883, 'grates': 10884, 'injured': 10885, 'decides': 10886, 'terribly': 10887, 'carney': 10888, 'joo': 10889, 'stations': 10890, 'convey': 10891, 'stinkbomb': 10892, 'wellmapped': 10893, 'filmography': 10894, 'drunken': 10895, 'hustler': 10896, 'emotions': 10897, 'crammed': 10898, 'dig': 10899, 'intensely': 10900, 'heavyhandedness': 10901, 'dramatically': 10902, 'clinic': 10903, 'town': 10904, 'insipid': 10905, 'slim': 10906, 'houghton': 10907, 'successive': 10908, 'heavens': 10909, 'longtime': 10910, 'view': 10911, 'samuel': 10912, 'preserves': 10913, 'interest': 10914, 'pitted': 10915, 'electrified': 10916, 'todays': 10917, '1940': 10918, 'seasoning': 10919, 'moodbr': 10920, 'ellen': 10921, 'historical': 10922, 'steinbecks': 10923, 'voyeurism': 10924, 'place': 10925, 'dunk': 10926, 'differs': 10927, 'psychotherapy': 10928, 'christensen': 10929, 'femininity': 10930, 'audiencebr': 10931, 'aice': 10932, 'diamond': 10933, 'making': 10934, 'sincerely': 10935, 'seeking': 10936, 'shadows': 10937, 'honor': 10938, 'critics': 10939, 'ballstothewall': 10940, 'bones': 10941, 'tech': 10942, 'soldiers': 10943, 'prep': 10944, 'wells': 10945, 'controls': 10946, 'seriouslybr': 10947, 'deprive': 10948, 'transfusion': 10949, 'room': 10950, 'gifted': 10951, 'oldfashioned': 10952, 'rawer': 10953, 'casestudy': 10954, 'carreys': 10955, 'heterosexual': 10956, 'trinity': 10957, 'ouspenskaya': 10958, 'lacked': 10959, 'cites': 10960, 'itoh': 10961, 'ugh': 10962, 'repo': 10963, 'personification': 10964, 'effective': 10965, 'encounters': 10966, 'walters': 10967, 'condie': 10968, 'neighbors': 10969, 'heighten': 10970, 'islands': 10971, 'harmed': 10972, 'vinnie': 10973, 'portrait': 10974, 'underplays': 10975, 'five': 10976, 'constant': 10977, 'slackers': 10978, 'unconscious': 10979, 'rhysdavies': 10980, 'voting': 10981, 'overkill': 10982, 'garber': 10983, 'controlled': 10984, 'vargas': 10985, 'extreme': 10986, 'lowest': 10987, 'ripps': 10988, 'spoof': 10989, 'massive': 10990, 'innaccurate': 10991, 'area': 10992, 'sculptures': 10993, 'realities': 10994, 'awarded': 10995, 'coroner': 10996, 'monty': 10997, 'governors': 10998, '911': 10999, 'badass': 11000, 'forwarding': 11001, 'libbybr': 11002, 'towering': 11003, 'pain': 11004, 'linneys': 11005, 'ludicrous': 11006, 'snippets': 11007, 'performed': 11008, 'worn': 11009, 'party': 11010, 'looks': 11011, 'mikkelsen': 11012, 'provided': 11013, 'marsbr': 11014, 'kleenex': 11015, 'poorly': 11016, 'evasive': 11017, 'lineage': 11018, 'described': 11019, 'hollowbr': 11020, 'busy': 11021, 'madeup': 11022, 'website': 11023, 'fairies': 11024, 'sahsa': 11025, 'rightangled': 11026, 'airplane': 11027, 'nightly': 11028, 'nearlyaudible': 11029, 'unnoticed': 11030, 'invaded': 11031, 'xiaolan': 11032, 'sunk': 11033, 'offensive': 11034, 'lurking': 11035, 'transition': 11036, 'cazalet': 11037, 'scattered': 11038, 'starring': 11039, 'count': 11040, 'dahmer': 11041, 'virgin': 11042, 'depp': 11043, 'feeds': 11044, 'ahbut': 11045, 'offspring': 11046, 'nonstop': 11047, 'national': 11048, 'arid': 11049, 'stephan': 11050, '1982': 11051, 'disc': 11052, 'within': 11053, 'catnaps': 11054, 'perilous': 11055, 'rare': 11056, 'random': 11057, 'adolescents': 11058, 'step': 11059, 'numerous': 11060, 'yarn': 11061, 'chocolat': 11062, 'mcduff': 11063, 'matrix': 11064, 'accessible': 11065, 'fraction': 11066, 'grossly': 11067, 'worthless': 11068, 'kiss': 11069, 'hanks': 11070, 'walker': 11071, 'bust': 11072, 'deleted': 11073, 'ensemblebr': 11074, 'lisa': 11075, 'captain': 11076, 'front': 11077, 'several': 11078, 'briggs': 11079, 'mild': 11080, 'louis': 11081, 'monks': 11082, 'hardnosed': 11083, 'hbos': 11084, 'wrote': 11085, 'scripts': 11086, 'rooms': 11087, 'shameful': 11088, 'firefighters': 11089, 'chieftan': 11090, 'brittany': 11091, 'kagutaba': 11092, 'learns': 11093, 'lanterns': 11094, 'marry': 11095, 'thighs': 11096, 'uncertainty': 11097, 'international': 11098, 'gossiper': 11099, 'wipe': 11100, 'telecine': 11101, 'blurt': 11102, 'overshadowed': 11103, 'protects': 11104, 'spots': 11105, 'anywhere': 11106, 'torturing': 11107, 'slamdunk': 11108, 'rosemary': 11109, 'open': 11110, 'knife': 11111, 'gilliam': 11112, 'editingbr': 11113, 'relativehoping': 11114, 'lifestyles': 11115, 'tactics': 11116, 'vegas': 11117, 'grewup': 11118, 'commendable': 11119, 'tho': 11120, 'longs': 11121, 'ramble': 11122, 'fled': 11123, 'nations': 11124, 'lance': 11125, 'mingling': 11126, 'carpenter': 11127, 'elsebr': 11128, 'free': 11129, 'heres': 11130, 'skimpy': 11131, 'projectbr': 11132, 'journalist': 11133, 'academies': 11134, 'tennessee': 11135, 'strawberry': 11136, 'george': 11137, 'exact': 11138, 'illiterate': 11139, 'carsons': 11140, 'harris': 11141, 'raines': 11142, 'puts': 11143, 'mediabr': 11144, 'itches': 11145, 'invoked': 11146, 'mumbling': 11147, 'joyfully': 11148, 'spoonfed': 11149, 'generates': 11150, 'feels': 11151, 'reg': 11152, 'masse': 11153, 'vengeance': 11154, 'pattersons': 11155, 'siegfried': 11156, 'africanamerican': 11157, 'capsule': 11158, 'camps': 11159, 'theatres': 11160, 'satiricon': 11161, 'bonesbr': 11162, 'karaoke': 11163, 'jumps': 11164, 'pakistani': 11165, 'storyeverything': 11166, 'moviebr': 11167, 'erb': 11168, 'visiting': 11169, 'wished': 11170, 'capitalize': 11171, 'hilton': 11172, 'christ': 11173, 'steve': 11174, 'proper': 11175, 'yanking': 11176, 'support': 11177, 'onlike': 11178, 'caustic': 11179, 'harsh': 11180, 'secretly': 11181, 'ranger': 11182, 'tourist': 11183, 'engineered': 11184, 'racist': 11185, 'pee': 11186, 'rightfully': 11187, 'sugarplums': 11188, 'diner': 11189, 'attempt': 11190, 'pacing': 11191, 'encourages': 11192, '50s': 11193, 'intrinsic': 11194, 'expansive': 11195, 'gimli': 11196, 'puppet': 11197, 'affleck': 11198, 'victims': 11199, 'convince': 11200, 'engine': 11201, 'schematic': 11202, 'friendship': 11203, 'chooses': 11204, 'privates': 11205, 'digitally': 11206, 'soak': 11207, 'dimensions': 11208, 'demonstrated': 11209, '1975': 11210, 'complain': 11211, 'hunting': 11212, 'regarded': 11213, 'instruments': 11214, 'linguistic': 11215, 'tbs': 11216, 'castbr': 11217, 'transform': 11218, 'tony': 11219, 'scratches': 11220, 'cronenbergbr': 11221, 'operation': 11222, 'eduardo': 11223, 'wargames': 11224, 'taskbr': 11225, 'teleflick': 11226, 'form': 11227, 'outfit': 11228, 'usage': 11229, 'sometimes': 11230, 'referred': 11231, 'chairman': 11232, 'springs': 11233, 'consideration': 11234, 'liar': 11235, 'resume': 11236, 'bmovies': 11237, 'aboard': 11238, 'firesign': 11239, '1868': 11240, 'dad': 11241, 'internet': 11242, 'tanaka': 11243, 'livesbr': 11244, 'perspectives': 11245, '1990s': 11246, 'coppolas': 11247, 'nomination': 11248, 'crossfire': 11249, 'elmes': 11250, 'motivations': 11251, 'lawyer': 11252, 'carly': 11253, 'descent': 11254, 'audition': 11255, 'siva': 11256, 'person': 11257, 'captioned': 11258, 'poorlittlewhite': 11259, 'fahrenheit': 11260, 'dessertion': 11261, 'willie': 11262, 'unusual': 11263, '24year': 11264, 'hoops': 11265, 'booksbr': 11266, 'weeds': 11267, 'aiken': 11268, 'bigot': 11269, 'achieved': 11270, 'irreproachable': 11271, 'gabbar': 11272, '60': 11273, 'elfriede': 11274, 'stiller': 11275, 'gozu': 11276, 'minisub': 11277, 'insight': 11278, 'describing': 11279, 'grandmama': 11280, 'remains': 11281, 'calcifying': 11282, 'hung': 11283, 'sections': 11284, 'ichi': 11285, 'upbringing': 11286, 'birthday': 11287, 'table': 11288, 'jolting': 11289, 'assassinated': 11290, 'definetely': 11291, 'bombed': 11292, 'screenplay': 11293, 'hero': 11294, 'btk': 11295, 'along': 11296, 'body': 11297, '1948': 11298, 'ill': 11299, 'danes': 11300, 'stargate': 11301, 'vignettes': 11302, 'betty': 11303, 'succeedsbr': 11304, 'dinklepuss': 11305, 'released': 11306, 'resource': 11307, '25': 11308, 'reports': 11309, 'models': 11310, 'civiliansand': 11311, 'hoppers': 11312, 'management': 11313, 'sociopath': 11314, 'endart': 11315, 'members': 11316, 'ave': 11317, 'wordsas': 11318, 'calculating': 11319, 'age': 11320, 'bilal': 11321, 'believer': 11322, 'mercy': 11323, '18yr': 11324, 'unmourned': 11325, 'ragneks': 11326, 'patterns': 11327, 'scary': 11328, 'zappa': 11329, 'deemed': 11330, 'drinks': 11331, 'okuhara': 11332, 'fantasy': 11333, 'agreebr': 11334, 'beack': 11335, 'falk': 11336, 'existence': 11337, 'side': 11338, 'slavoj': 11339, 'agis': 11340, 'terrorists': 11341, 'uncomfortableas': 11342, 'mother': 11343, 'assumption': 11344, 'eddie': 11345, 'clich': 11346, 'cracks': 11347, 'bestseller': 11348, 'suprise': 11349, 'cartoonlike': 11350, 'ee03128': 11351, 'strict': 11352, 'clooney': 11353, 'masquerades': 11354, 'comediesbr': 11355, 'gallows': 11356, 'oncefabulous': 11357, 'ribisi': 11358, 'platinumblonde': 11359, 'stopped': 11360, 'catch': 11361, 'doomed': 11362, 'vicki': 11363, 'naudet': 11364, 'bursts': 11365, 'phony': 11366, 'selling': 11367, 'misdirects': 11368, 'looking': 11369, 'popculture': 11370, 'filmthere': 11371, 'turning': 11372, 'carriers': 11373, 'strike': 11374, 'terrierbr': 11375, 'kindness': 11376, 'deserves': 11377, 'stars': 11378, 'psychopath': 11379, 'whether': 11380, 'sexy': 11381, 'barbra': 11382, 'frederick': 11383, '1970s': 11384, 'deniz': 11385, 'wrap': 11386, 'guybr': 11387, 'symbolizing': 11388, 'abandoned': 11389, 'shake': 11390, 'enjoythe': 11391, 'forrest': 11392, 'porpoise': 11393, 'budgeted': 11394, 'amc': 11395, 'sing': 11396, 'laker': 11397, 'divided': 11398, 'evidently': 11399, 'garrulous': 11400, 'mechanical': 11401, 'coconspirator': 11402, 'abomb': 11403, 'masturbatory': 11404, 'refreshing': 11405, 'lifebr': 11406, 'settled': 11407, 'jules': 11408, 'alfred': 11409, 'mounted': 11410, 'infantryman': 11411, 'peaks': 11412, 'aline': 11413, 'ttsloeb': 11414, 'tested': 11415, 'gordon': 11416, 'mei': 11417, 'spoilersbr': 11418, '05': 11419, 'token': 11420, 'constitutes': 11421, 'concerns': 11422, 'rififibr': 11423, 'led': 11424, 'gayer': 11425, 'life': 11426, 'silhouette': 11427, 'merman': 11428, 'adapted': 11429, 'priscilla': 11430, 'jerome': 11431, 'polishing': 11432, '500': 11433, 'machetewielding': 11434, 'paagal': 11435, 'celebrity': 11436, 'barcelona': 11437, 'weaken': 11438, 'courtbr': 11439, 'yearn': 11440, 'dismissed': 11441, 'untalkative': 11442, 'selfishness': 11443, 'matinee': 11444, 'importance': 11445, 'subspecies': 11446, 'abby': 11447, 'ang': 11448, 'demographics': 11449, 'deities': 11450, 'roar': 11451, 'polished': 11452, 'sonny': 11453, 'deeper': 11454, 'truths': 11455, 'superbly': 11456, 'casino': 11457, 'firebreathing': 11458, 'liking': 11459, 'fried': 11460, 'los': 11461, 'taos': 11462, 'anthology': 11463, 'lowerbudget': 11464, 'experiments': 11465, 'brady': 11466, 'dollop': 11467, 'maternity': 11468, 'rap': 11469, 'lord': 11470, 'christina': 11471, 'foster': 11472, 'man': 11473, 'embedded': 11474, 'nosed': 11475, 'pc': 11476, 'morningbr': 11477, 'treaty': 11478, 'shortcoming': 11479, 'hundred': 11480, 'gungho': 11481, 'drugged': 11482, 'seachd': 11483, 'comrades': 11484, 'impressed': 11485, 'notch': 11486, 'culture': 11487, 'eoes': 11488, 'reenergize': 11489, 'drilling': 11490, 'anansa': 11491, 'mode': 11492, 'hickland': 11493, 'attendants': 11494, 'varma': 11495, 'intuitions': 11496, 'lizzie': 11497, 'mens': 11498, 'embodiment': 11499, 'suspense': 11500, 'builds': 11501, 'criticized': 11502, 'daniely': 11503, 'offcourse': 11504, 'murpy': 11505, 'reunion': 11506, 'crucifixion': 11507, 'programmed': 11508, 'whatsoever': 11509, 'ego': 11510, 'murderers': 11511, 'interruptus': 11512, 'sales': 11513, 'spymovie': 11514, 'objectified': 11515, 'husky': 11516, 'unflattering': 11517, 'license': 11518, 'books': 11519, 'altogether': 11520, 'pertinent': 11521, 'excellent': 11522, 'concorde': 11523, 'marathon': 11524, 'catbr': 11525, 'shone': 11526, 'madchen': 11527, 'downplay': 11528, 'reeked': 11529, 'cartoony': 11530, 'finney': 11531, 'raes': 11532, 'marvelously': 11533, 'efficiently': 11534, 'currie': 11535, 'tycoon': 11536, 'ingela': 11537, 'cynical': 11538, 'barney': 11539, 'straw': 11540, 'gate': 11541, 'keatons': 11542, 'downbeat': 11543, 'obsessed': 11544, 'cord': 11545, 'carribean': 11546, 'confront': 11547, 'kung': 11548, 'foley': 11549, 'montages': 11550, 'stepmother': 11551, 'skye': 11552, 'haneke': 11553, 'flitted': 11554, 'cooper': 11555, 'continued': 11556, 'actual': 11557, 'linden': 11558, 'chteaubr': 11559, 'similar': 11560, 'pleasebr': 11561, 'businesscouple': 11562, 'unexciting': 11563, '1901': 11564, 'sf': 11565, 'alamos': 11566, 'kind': 11567, 'assigned': 11568, 'devolvement': 11569, 'chocolate': 11570, 'tnt': 11571, '499': 11572, 'werebr': 11573, 'substance': 11574, 'varied': 11575, 'fatale': 11576, 'suicide': 11577, 'distribution': 11578, 'onlybr': 11579, 'hes': 11580, 'flair': 11581, 'accustomed': 11582, 'trivialise': 11583, 'suffice': 11584, 'spouting': 11585, 'bless': 11586, 'oz': 11587, 'dummyrobotavenger': 11588, 'sensibility': 11589, 'prominently': 11590, 'kevin': 11591, 'weaknesses': 11592, '1980s': 11593, 'secondary': 11594, 'topic': 11595, 'burns': 11596, 'uncivil': 11597, 'callan': 11598, 'spin': 11599, 'subjected': 11600, 'castaway': 11601, 'ching': 11602, 'startbr': 11603, 'odds': 11604, 'ponderous': 11605, 'delayed': 11606, 'placebo': 11607, 'remainder': 11608, 'doomsday': 11609, 'ice': 11610, 'kerrigans': 11611, 'chaevsky': 11612, 'amaze': 11613, 'nose': 11614, 'crewmates': 11615, 'hyperrealistic': 11616, 'sequelbr': 11617, 'hundreds': 11618, 'nobr': 11619, 'prepared': 11620, 'majority': 11621, 'decades': 11622, 'engaging': 11623, 'iwalkedinduringthemiddleofaboringconversation': 11624, 'ada': 11625, 'frozen': 11626, 'dicebr': 11627, 'tokyos': 11628, 'interested': 11629, 'ending': 11630, 'suppress': 11631, 'headlines': 11632, 'drawings': 11633, 'doctors': 11634, 'occurs': 11635, 'badbr': 11636, 'muppets': 11637, 'naf': 11638, 'fantastic': 11639, 'alltacticsoftoiletseat': 11640, 'activity': 11641, 'warm': 11642, 'blustering': 11643, '75': 11644, 'directly': 11645, 'nominates': 11646, 'morris': 11647, 'packs': 11648, 'trail': 11649, 'bachchan': 11650, 'aftereffects': 11651, 'luna': 11652, 'even': 11653, 'martial': 11654, 'raving': 11655, 'expatriate': 11656, 'losers': 11657, 'glenda': 11658, 'entertained': 11659, 'stereo': 11660, 'forgone': 11661, 'freaks': 11662, 'new': 11663, 'wholly': 11664, '1842br': 11665, 'jamie': 11666, 'losch': 11667, 'scotsman': 11668, 'biographies': 11669, 'heartbreak': 11670, 'legacy': 11671, 'captured': 11672, 'appeared': 11673, 'grade': 11674, 'overlook': 11675, 'daydream': 11676, 'fastforwardslow': 11677, 'silouhettes': 11678, 'create': 11679, 'existentialist': 11680, 'ah': 11681, 'cozy': 11682, 'slide': 11683, 'axed': 11684, 'frolicking': 11685, 'pearls': 11686, 'newton': 11687, 'harbinger': 11688, 'scarfs': 11689, 'noel': 11690, 'dummy': 11691, 'ann': 11692, 'science': 11693, 'hurting': 11694, 'beijing': 11695, 'agents': 11696, 'noah': 11697, 'andrews': 11698, 'freddies': 11699, 'leers': 11700, 'selfloathing': 11701, 'overstuffed': 11702, 'conflicts': 11703, 'excused': 11704, 'loan': 11705, 'slashers': 11706, 'polarization': 11707, 'amitabh': 11708, 'intends': 11709, 'meanest': 11710, 'shuddery': 11711, 'exyugoslavia': 11712, 'screwy': 11713, 'flashbacks': 11714, 'nuts': 11715, 'reached': 11716, '23': 11717, 'positions': 11718, 'kate': 11719, 'gentlemanly': 11720, 'travellers': 11721, 'disgusted': 11722, 'manicure': 11723, 'skin': 11724, 'disclose': 11725, 'enhance': 11726, 'dungeons': 11727, 'resnais': 11728, 'lary': 11729, 'holnistsbr': 11730, 'christmas': 11731, 'wise': 11732, 'wing': 11733, 'ferry': 11734, 'games': 11735, 'nandita': 11736, 'el': 11737, 'ilva': 11738, 'hearing': 11739, 'collectors': 11740, 'closeups': 11741, 'persuaded': 11742, 'citybr': 11743, 'coups': 11744, 'correctly': 11745, 'queirs': 11746, 'guided': 11747, 'woodwork': 11748, 'graves': 11749, 'crying': 11750, 'olivier': 11751, 'specific': 11752, 'hacktor': 11753, 'retailer': 11754, 'expressions': 11755, 'bythebook': 11756, 'koreanamerican': 11757, 'lowpoint': 11758, 'friendly': 11759, 'permitted': 11760, 'underneath': 11761, 'temperatures': 11762, 'byron': 11763, 'bigoted': 11764, 'innocence': 11765, 'titles': 11766, 'bobs': 11767, 'kitamuras': 11768, 'receive': 11769, 'whodunit': 11770, 'chelsea': 11771, 'stores': 11772, 'probability': 11773, 'stretched': 11774, 'jerks': 11775, 'overacts': 11776, 'heartbr': 11777, 'meanings': 11778, 'situational': 11779, 'anguish': 11780, 'gang': 11781, 'dutchess': 11782, 'pick': 11783, 'reliefbr': 11784, 'heaven': 11785, 'grandfathers': 11786, 'feedback': 11787, 'south': 11788, 'roles': 11789, 'lonely': 11790, 'spark': 11791, 'labor': 11792, 'clarify': 11793, 'keeping': 11794, 'bonuses': 11795, 'amateur': 11796, 'videostore': 11797, 'hay': 11798, 'health': 11799, 'things': 11800, 'identified': 11801, 'lesson': 11802, 'wonderfully': 11803, 'properly': 11804, 'photograph': 11805, 'print': 11806, '2010': 11807, 'molester': 11808, 'morphs': 11809, 'tricky': 11810, 'thoroughly': 11811, 'via': 11812, 'floyd': 11813, 'hopes': 11814, 'buyer': 11815, 'preserving': 11816, 'mnage': 11817, 'style': 11818, 'spedup': 11819, 'outburst': 11820, 'rip': 11821, 'dentisthe': 11822, 'talented': 11823, 'favorite': 11824, 'oooh': 11825, 'discourse': 11826, 'retract': 11827, 'seats': 11828, 'uncomfortably': 11829, 'simply': 11830, 'tailspin': 11831, 'hoot': 11832, 'agree': 11833, 'pointofviewbr': 11834, 'deem': 11835, 'byington': 11836, 'dandy': 11837, 'sins': 11838, 'alexandre': 11839, 'commonality': 11840, 'pare': 11841, 'didia': 11842, 'supportive': 11843, 'loyalty': 11844, 'insulted': 11845, 'stalker': 11846, 'chapter': 11847, 'scruples': 11848, 'loach': 11849, 'cheering': 11850, 'airport': 11851, 'evidence': 11852, 'quaint': 11853, 'rocker': 11854, 'behaves': 11855, 'overused': 11856, 'atoll': 11857, 'webb': 11858, 'commend': 11859, 'crosseyed': 11860, 'consolation': 11861, 'booth': 11862, 'schumachers': 11863, 'uncanny': 11864, 'gregor': 11865, 'dictators': 11866, 'larry': 11867, 'careless': 11868, 'disconnected': 11869, 'brownie': 11870, 'scene': 11871, 'smart': 11872, 'courageous': 11873, 'godards': 11874, 'change': 11875, 'bombedout': 11876, 'battleship': 11877, 'adventures': 11878, 'paramount': 11879, 'fisher': 11880, 'creep': 11881, 'accurate': 11882, 'overrided': 11883, 'friedhofer': 11884, 'brooks': 11885, 'hushed': 11886, 'stage': 11887, 'casting': 11888, 'remember': 11889, 'postwar': 11890, 'check': 11891, 'eaten': 11892, 'broken': 11893, 'milliondegree': 11894, 'prine': 11895, 'beresford': 11896, 'horroryearbook': 11897, 'intentions': 11898, 'mimic': 11899, 'ravesthat': 11900, 'pulling': 11901, 'stare': 11902, 'popcornchewing': 11903, 'bernsen': 11904, 'sign': 11905, 'oklahoma': 11906, 'disappearing': 11907, 'philosophy': 11908, 'theyu': 11909, 'typhoon': 11910, 'report': 11911, 'underestimated': 11912, 'enough': 11913, 'pushes': 11914, 'blend': 11915, 'bodices': 11916, 'rights': 11917, 'deadon': 11918, 'todaybr': 11919, 'vase': 11920, 'dumbeddown': 11921, 'sound': 11922, 'wide': 11923, 'hobbled': 11924, 'desperate': 11925, 'honeymoon': 11926, 'minutes': 11927, 'static': 11928, 'mervyn': 11929, 'dirt': 11930, 'multiple': 11931, 'everythingbr': 11932, 'humanbr': 11933, 'june': 11934, 'confusing': 11935, 'sux': 11936, 'capote': 11937, 'hick': 11938, 'stunkbr': 11939, 'romance': 11940, 'cult': 11941, 'colonel': 11942, 'hugh': 11943, 'wyoming': 11944, 'georges': 11945, 'carried': 11946, 'commenting': 11947, '6': 11948, 'pseudointellectual': 11949, 'boss': 11950, 'heidi': 11951, 'tyson': 11952, 'heart': 11953, 'dispiriting': 11954, 'maintain': 11955, 'musicians': 11956, 'jodie': 11957, 'rebel': 11958, 'helicopter': 11959, 'denies': 11960, 'rififi': 11961, 'due': 11962, 'dripping': 11963, 'gold': 11964, 'polly': 11965, 'lavventura': 11966, 'crucifix': 11967, 'tender': 11968, 'updates': 11969, 'entails': 11970, 'visible': 11971, 'roosevelt': 11972, '4': 11973, 'plot': 11974, 'collided': 11975, 'absorb': 11976, 'foibles': 11977, 'ruffalo': 11978, 'perhaps': 11979, 'tammy': 11980, '1952': 11981, 'ravine': 11982, 'incompetent': 11983, 'relationships': 11984, 'rahm': 11985, 'blamed': 11986, 'shawl': 11987, 'taboo': 11988, 'income': 11989, 'madame': 11990, 'forge': 11991, 'hallucinatory': 11992, 'ourselvesbr': 11993, 'stool': 11994, 'madman': 11995, 'square': 11996, 'fad': 11997, 'jimi': 11998, 'granted': 11999, 'balaguer': 12000, 'bostwicks': 12001, 'heapbr': 12002, '1961': 12003, 'romantic': 12004, 'snog': 12005, 'revel': 12006, '19': 12007, 'vladek': 12008, 'ambiguity': 12009, 'debuted': 12010, 'slash': 12011, 'original': 12012, 'magazine': 12013, 'minute': 12014, 'adrenalinepumping': 12015, 'befriends': 12016, 'cruelty': 12017, 'daisy': 12018, 'pleasuring': 12019, 'different': 12020, 'joseph': 12021, 'agreed': 12022, 'thrived': 12023, 'hold': 12024, 'amazed': 12025, 'levant': 12026, 'happily': 12027, 'olde': 12028, 'nearest': 12029, 'casesbr': 12030, 'memory': 12031, 'holmfrid': 12032, 'treated': 12033, 'manufacturer': 12034, 'itthe': 12035, '3rd': 12036, 'playedthe': 12037, '14': 12038, 'edmund': 12039, 'curtiss': 12040, 'raiders': 12041, 'reviewing': 12042, 'negative': 12043, 'promoted': 12044, 'auric': 12045, 'cheesiness': 12046, 'pack': 12047, 'coincidental': 12048, 'pigs': 12049, 'bestbr': 12050, 'third': 12051, 'charity': 12052, 'redeem': 12053, 'shea': 12054, 'brazil': 12055, 'collaboration': 12056, 'ya': 12057, 'kristen': 12058, 'rhymes': 12059, 'apocalyptic': 12060, 'thrilling': 12061, 'joking': 12062, 'awesomebr': 12063, 'itv': 12064, 'goffen': 12065, 'bradley': 12066, 'setbr': 12067, 'truthful': 12068, 'intact': 12069, 'hera': 12070, 'diversity': 12071, 'jennettes': 12072, 'swift': 12073, 'amusing': 12074, 'coyote': 12075, 'porsche': 12076, 'brando': 12077, 'akin': 12078, 'adult': 12079, 'caesar': 12080, 'thespians': 12081, 'right': 12082, 'sequelworse': 12083, 'absurd': 12084, 'lamp': 12085, 'lynne': 12086, 'ounce': 12087, 'phrase': 12088, 'plots': 12089, 'attack': 12090, 'playboy': 12091, 'lovingly': 12092, 'fasinating': 12093, 'sandra': 12094, 'interacted': 12095, 'lookout': 12096, 'bashaw': 12097, 'garter': 12098, 'continentwide': 12099, '30s': 12100, 'pub': 12101, 'northerners': 12102, 'dehavilland': 12103, 'identical': 12104, 'singletons': 12105, 'believable': 12106, 'korean': 12107, 'bottle': 12108, 'emotionally': 12109, 'ineffectively': 12110, 'speaking': 12111, 'broadly': 12112, 'respectful': 12113, 'markbr': 12114, 'akira': 12115, 'colleen': 12116, 'copy': 12117, 'appalling': 12118, 'pray': 12119, 'completists': 12120, 'shamelesslyvillainous': 12121, 'spahn': 12122, 'mistress': 12123, 'stunned': 12124, 'aboriginal': 12125, 'rapist': 12126, '60yr': 12127, 'koontz': 12128, 'shitted': 12129, 'catholic': 12130, 'dog': 12131, 'ballads': 12132, 'belly': 12133, 'hitchhiking': 12134, 'competitive': 12135, 'undoubtedly': 12136, 'lurch': 12137, 'genteel': 12138, 'swimming': 12139, 'spoiled': 12140, 'repulsive': 12141, 'aiming': 12142, 'didnt': 12143, 'martian': 12144, 'deborah': 12145, '216': 12146, 'jealous': 12147, 'attacking': 12148, 'assign': 12149, 'suggest': 12150, 'isabella': 12151, 'suspicious': 12152, 'uncontaminated': 12153, 'discovering': 12154, 'alterego': 12155, 'withbr': 12156, 'fetched': 12157, 'lf': 12158, '3': 12159, 'butthead': 12160, 'antisemitism': 12161, 'darwell': 12162, 'purpose': 12163, 'documentarystyle': 12164, 'masks': 12165, 'picks': 12166, 'ala': 12167, 'channel': 12168, 'sis': 12169, 'murdered': 12170, 'mcguire': 12171, 'multilayered': 12172, 'clunkerbr': 12173, 'july': 12174, 'kidnapped': 12175, 'somethings': 12176, 'conventionality': 12177, 'di': 12178, 'looked': 12179, 'failure': 12180, 'changed': 12181, 'carry': 12182, 'kudos': 12183, 'abilities': 12184, 'mansalva': 12185, 'initiated': 12186, 'author': 12187, 'scaring': 12188, 'fench': 12189, 'societybr': 12190, 'hayek': 12191, 'sargeant': 12192, 'chased': 12193, 'copilot': 12194, 'frances': 12195, 'joke': 12196, 'cliche': 12197, 'given': 12198, 'objects': 12199, 'picking': 12200, 'foreign': 12201, 'jamaican': 12202, 'tossed': 12203, 'comment': 12204, 'aka': 12205, 'pause': 12206, 'inner': 12207, 'relatedbr': 12208, 'quarter': 12209, 'eighty': 12210, 'ploy': 12211, 'sequel': 12212, 'barbie': 12213, 'sums': 12214, 'playingbr': 12215, 'faded': 12216, 'antideath': 12217, 'nonlinear': 12218, 'lacans': 12219, 'thinks': 12220, 'larkin': 12221, 'desertsbr': 12222, 'talkamericanet': 12223, '69': 12224, 'emphasis': 12225, 'shugoro': 12226, 'remained': 12227, 'east': 12228, 'describei': 12229, 'dreamy': 12230, 'advice': 12231, 'doubt': 12232, 'teamwork': 12233, 'musically': 12234, 'ass': 12235, 'scientists': 12236, 'phenomenon': 12237, 'apocalypse': 12238, 'stig': 12239, 'predator': 12240, 'furdion': 12241, 'tad': 12242, 'openminded': 12243, 'cost': 12244, 'conquered': 12245, 'fords': 12246, 'betters': 12247, 'splashy': 12248, 'southern': 12249, 'bandit': 12250, 'traci': 12251, 'cycles': 12252, 'gloriously': 12253, 'unimpressive': 12254, 'buddy': 12255, 'hauntingly': 12256, 'palatial': 12257, 'rif': 12258, 'tranceinducing': 12259, 'redgrave': 12260, 'hole': 12261, 'hosted': 12262, 'briefly': 12263, 'balanced': 12264, 'code': 12265, 'driverless': 12266, 'depicting': 12267, 'sheila': 12268, 'haskell': 12269, 'optimistic': 12270, 'teachers': 12271, 'supermodel': 12272, 'billbr': 12273, 'blackmail': 12274, 'betray': 12275, 'timesthe': 12276, 'sketch': 12277, 'roasted': 12278, 'plus': 12279, 'nonetheless': 12280, 'otherbr': 12281, 'groove': 12282, 'empty': 12283, 'sink': 12284, '1968': 12285, 'kasdan': 12286, 'gymnasium': 12287, 'karma': 12288, 'dignified': 12289, 'sheenbr': 12290, 'lousy': 12291, 'carlsons': 12292, 'curve': 12293, 'nearing': 12294, 'lkhubble2': 12295, 'eyesbr': 12296, 'peddler': 12297, 'shrill': 12298, 'macabre': 12299, 'cinematography': 12300, 'mira': 12301, 'testing': 12302, 'ramgopal': 12303, 'dangerous': 12304, 'limited': 12305, 'practicality': 12306, 'laundry': 12307, 'sentence': 12308, 'halfpeeled': 12309, 'nicholson': 12310, 'wasps': 12311, 'register': 12312, 'recognizable': 12313, 'boiled': 12314, 'published': 12315, 'appearthats': 12316, 'mayfields': 12317, 'although': 12318, 'viet': 12319, 'majidi': 12320, 'responds': 12321, '1950s': 12322, 'pithy': 12323, 'notwhen': 12324, 'girlfriend': 12325, 'weight': 12326, 'unfortunate': 12327, 'synopsis': 12328, 'warming': 12329, 'school': 12330, 'ghastly': 12331, 'false': 12332, 'reign': 12333, 'mccaid': 12334, 'phocion': 12335, 'exiled': 12336, 'arguing': 12337, 'etcs': 12338, 'lifes': 12339, 'complicated': 12340, 'greed': 12341, 'snuck': 12342, 'renegade': 12343, 'name': 12344, 'artistic': 12345, 'jimmy': 12346, 'matches': 12347, 'halloween': 12348, 'studied': 12349, 'fooled': 12350, 'enriching': 12351, 'operates': 12352, 'leprosy': 12353, 'forever': 12354, 'ashs': 12355, 'dazed': 12356, 'snipers': 12357, 'relaxed': 12358, 'wiser': 12359, 'jenson': 12360, 'pheri': 12361, 'relative': 12362, 'way': 12363, 'hbo': 12364, 'haims': 12365, 'melody': 12366, 'taxi': 12367, 'sinking': 12368, 'hawk': 12369, 'interrupted': 12370, 'mouthing': 12371, 'chuck': 12372, 'brit': 12373, 'freire': 12374, 'depreciation': 12375, 'itbr': 12376, 'toilets': 12377, 'foot': 12378, 'serials': 12379, 'staying': 12380, 'plaything': 12381, 'inspiring': 12382, 'height': 12383, 'thriller': 12384, 'drippy': 12385, 'articulate': 12386, 'agenda': 12387, 'necessarily': 12388, 'varsity': 12389, 'tied': 12390, 'tierney': 12391, 'stretch': 12392, 'disassociate': 12393, 'double': 12394, 'wake': 12395, 'aladdin': 12396, 'sidesplitting': 12397, 'differences': 12398, 'unnamed': 12399, 'posthumously': 12400, 'doubtful': 12401, 'adorable': 12402, 'wrongdoer': 12403, 'oversexed': 12404, 'customs': 12405, 'latimer': 12406, 'vaction': 12407, 'cow': 12408, 'conceiving': 12409, 'fk': 12410, 'eg': 12411, 'stepping': 12412, 'grotesque': 12413, 'bizarreso': 12414, 'ruff': 12415, 'matters': 12416, 'monstrous': 12417, 'hype': 12418, 'contrivance': 12419, 'prosecuting': 12420, 'flav': 12421, 't3': 12422, 'vampires': 12423, 'meplease': 12424, 'magnificent': 12425, 'lover': 12426, 'puffy': 12427, 'unappealing': 12428, 'tats': 12429, 'spock': 12430, 'top': 12431, 'revived': 12432, 'theyll': 12433, 'herman': 12434, 'realism': 12435, 'parcel': 12436, 'giggled': 12437, 'fringe': 12438, 'moralizing': 12439, 'cabin': 12440, 'gray': 12441, 'marisa': 12442, 'swansong': 12443, 'ignorant': 12444, 'cash': 12445, 'uniformly': 12446, 'spandex': 12447, 'parkey': 12448, 'fasterbr': 12449, 'ankh': 12450, 'option': 12451, 'tell': 12452, 'noirbr': 12453, 'canyon': 12454, 'lycanthrope': 12455, 'notebook': 12456, 'nod': 12457, 'melodramatic': 12458, 'map': 12459, 'orphan': 12460, 'earths': 12461, 'exclusion': 12462, 'temps': 12463, 'metamorphosis': 12464, 'brick': 12465, 'goliath': 12466, 'entry': 12467, 'painfully': 12468, 'item': 12469, 'laurie': 12470, 'nichols': 12471, 'surname': 12472, 'singing': 12473, 'facets': 12474, 'undergoes': 12475, 'mannerisms': 12476, 'powells': 12477, 'kayle': 12478, 'enforcement': 12479, 'media': 12480, 'constructive': 12481, 'gotten': 12482, 'mariesa': 12483, 'allegory': 12484, 'flying': 12485, 'preface': 12486, 'obispo': 12487, 'dubbed': 12488, 'al': 12489, 'giants': 12490, 'plunged': 12491, 'goes': 12492, 'brandy': 12493, 'stalked': 12494, 'award': 12495, 'cool': 12496, 'setpieces': 12497, 'girardot': 12498, 'elliott': 12499, 'lifeless': 12500, 'spikyhaired': 12501, 'carson': 12502, 'rafelson': 12503, 'stairs': 12504, 'debs': 12505, 'afoul': 12506, '2inch': 12507, 'charmless': 12508, 'myspacecom': 12509, 'idiotic': 12510, 'curtis': 12511, 'breakdown': 12512, 'funk': 12513, 'messbr': 12514, 'horsemanship': 12515, 'synchronized': 12516, 'stratton': 12517, 'coolness': 12518, 'anl3': 12519, 'comprehending': 12520, 'bennett': 12521, 'instance': 12522, 'calamitybr': 12523, 'partake': 12524, 'inger': 12525, 'happened': 12526, 'replace': 12527, 'filmschool': 12528, 'lineal': 12529, 'researching': 12530, 'thunders': 12531, 'listened': 12532, 'ewan': 12533, 'blunders': 12534, 'trailers': 12535, 'nowadaysbr': 12536, 'frown': 12537, 'deodato': 12538, 'unsightly': 12539, 'robbins': 12540, 'mid40s': 12541, 'dreamlike': 12542, 'gershwins': 12543, 'revolve': 12544, 'faults': 12545, 'watches': 12546, 'nephews': 12547, 'spellbinding': 12548, 'talbot': 12549, 'matamoros': 12550, 'streisand': 12551, 'banks': 12552, 'astronauts': 12553, 'adventurer': 12554, 'generaleffortless': 12555, 'empathy': 12556, 'strapped': 12557, 'makes': 12558, 'vilify': 12559, 'wilfred': 12560, 'boxer': 12561, 'contestants': 12562, 'desired': 12563, 'gwyneth': 12564, 'inch': 12565, 'dust': 12566, 'birth': 12567, 'religion': 12568, 'refuges': 12569, 'force': 12570, 'ditched': 12571, 'whoa': 12572, 'pathetic': 12573, 'baffled': 12574, 'reality': 12575, 'pioneers': 12576, 'raw': 12577, 'conflicting': 12578, 'loveda': 12579, 'kearn': 12580, 'tying': 12581, 'clarence': 12582, 'alright': 12583, 'simultaneously': 12584, 'intending': 12585, 'picturing': 12586, 'immediacy': 12587, 'blasphemouslittlegirlwhotakesashinetotheheroes': 12588, 'delibr': 12589, 'spears': 12590, 'erotic': 12591, 'shorts': 12592, 'harrison': 12593, '18': 12594, 'duly': 12595, 'rhetoric': 12596, 'superpower': 12597, 'demornay': 12598, 'rhys': 12599, 'unoriginal': 12600, 'colossal': 12601, 'cinematographer': 12602, 'breast': 12603, 'averagely': 12604, 'duvall': 12605, 'everywherebr': 12606, 'endless': 12607, 'quite': 12608, 'blow': 12609, 'overbright': 12610, 'stereotypes': 12611, 'royal': 12612, 'political': 12613, 'dublin': 12614, 'swigging': 12615, 'shortened': 12616, 'large': 12617, 'chairs': 12618, 'mcraney': 12619, 'bobbys': 12620, 'truth': 12621, 'scream': 12622, 'confuses': 12623, 'characteristics': 12624, 'intervention': 12625, 'century': 12626, 'gaybashing': 12627, 'fangirls': 12628, 'sally': 12629, 'bridges': 12630, 'flitters': 12631, 'traditions': 12632, 'gag': 12633, 'soccer': 12634, 'friendships': 12635, 'significantly': 12636, 'primary': 12637, 'cameraman': 12638, 'badly': 12639, 'revolutionized': 12640, 'enemy': 12641, 'filtered': 12642, 'aspect': 12643, 'alberto': 12644, 'clubs': 12645, 'fleming': 12646, 'travelling': 12647, 'dripped': 12648, 'intertwining': 12649, 'grimm': 12650, 'flat': 12651, 'bashing': 12652, 'bikers': 12653, 'composed': 12654, 'waynot': 12655, 'wed': 12656, 'krause': 12657, 'gave': 12658, 'simplicities': 12659, 'sweden': 12660, 'vivian': 12661, 'herzog': 12662, '7': 12663, 'cleaning': 12664, 'fundamental': 12665, 'pinchots': 12666, 'month': 12667, 'echoes': 12668, 'destruction': 12669, 'allot': 12670, 'anglesbr': 12671, 'doc': 12672, 'profanity': 12673, 'jeffries': 12674, 'california': 12675, 'petty': 12676, 'starsbr': 12677, 'indians': 12678, 'impaling': 12679, 'analyse': 12680, 'taken': 12681, 'stays': 12682, 'unconsummated': 12683, 'paid': 12684, 'depressed': 12685, 'announcement': 12686, 'lange': 12687, 'employment': 12688, 'luis': 12689, 'ran': 12690, 'accidental': 12691, 'reckless': 12692, 'irked': 12693, 'junk': 12694, 'blonde': 12695, 'damn': 12696, 'jealousy': 12697, 'presentation': 12698, 'monitored': 12699, 'supervisor': 12700, 'cons': 12701, 'politicalphilosophyspouting': 12702, 'crowhurst': 12703, 'proved': 12704, 'passionate': 12705, 'akkaya': 12706, 'ox': 12707, '11th': 12708, 'bewlidered': 12709, 'starter': 12710, 'tilly': 12711, 'abetted': 12712, 'mustering': 12713, 'acts': 12714, 'wont': 12715, 'saving': 12716, 'atreides': 12717, 'weapon': 12718, 'begs': 12719, 'newest': 12720, 'subgenres': 12721, 'allowing': 12722, 'daniels': 12723, 'parting': 12724, 'factor': 12725, 'cared': 12726, 'thankfully': 12727, 'factory': 12728, 'seriesbr': 12729, '180degree': 12730, 'davis': 12731, 'restless': 12732, 'links': 12733, 'kick': 12734, 'network': 12735, 'halfway': 12736, 'plodding': 12737, 'kristy': 12738, 'managing': 12739, 'lizard': 12740, 'gory': 12741, 'thunder': 12742, 'janette': 12743, 'huh': 12744, 'sodom': 12745, 'approached': 12746, 'cursed': 12747, 'vances': 12748, 'frontier': 12749, 'movie': 12750, 'intention': 12751, 'grossbr': 12752, 'jews': 12753, 'searing': 12754, 'antrax': 12755, 'emerged': 12756, 'mechanic': 12757, 'gangster': 12758, 'brother': 12759, 'throwing': 12760, 'buddies': 12761, 'fuller': 12762, 'terrible': 12763, 'walshs': 12764, 'fruit': 12765, 'weekend': 12766, 'sierra': 12767, 'horrendously': 12768, 'animation': 12769, 'julie': 12770, 'cpl': 12771, 'irving': 12772, 'thiswellwow': 12773, 'rubbish': 12774, 'wacky': 12775, 'tore': 12776, 'repressed': 12777, 'domestic': 12778, 'studios': 12779, 'groucho': 12780, '1992': 12781, 'prince': 12782, 'park': 12783, 'martha': 12784, 'nine': 12785, 'central': 12786, 'bette': 12787, 'rewatched': 12788, 'centerpiece': 12789, 'investigate': 12790, 'deewana': 12791, 'steamboat': 12792, 'stuart': 12793, 'actorand': 12794, 'outnumbered': 12795, 'twaddlebr': 12796, 'wanting': 12797, 'starbr': 12798, 'letterboxed': 12799, 'videobr': 12800, 'rolls': 12801, 'cockroaches': 12802, 'intersect': 12803, 'ceremonial': 12804, 'arrest': 12805, 'placebr': 12806, 'returned': 12807, 'defeat': 12808, 'sheens': 12809, 'malaise': 12810, 'bare': 12811, 'abcd': 12812, 'librarians': 12813, 'mum': 12814, 'sara': 12815, 'wider': 12816, 'thug': 12817, 'keira': 12818, 'impressionists': 12819, 'beastly': 12820, 'servicemen': 12821, 'resemblance': 12822, 'dorn': 12823, 'veiled': 12824, 'mysteries': 12825, 'pale': 12826, 'proposal': 12827, 'biker': 12828, 'disgusting': 12829, 'agatha': 12830, 'charming': 12831, 'terrorizer': 12832, 'libby': 12833, 'steam': 12834, 'sartre': 12835, 'suspected': 12836, 'batmans': 12837, 'filmi': 12838, 'thurston': 12839, 'cows': 12840, 'darus': 12841, 'surely': 12842, 'documentation': 12843, 'abusing': 12844, 'putting': 12845, 'attached': 12846, 'hope': 12847, 'deer': 12848, 'framework': 12849, 'unforgivablebr': 12850, 'traveled': 12851, 'avoiding': 12852, 'female': 12853, 'vote': 12854, 'meaning': 12855, 'dreaming': 12856, 'read': 12857, 'boeing': 12858, 'scouted': 12859, 'lingering': 12860, 'fine': 12861, 'superficial': 12862, 'lesleyanne': 12863, 'freddie': 12864, 'describe': 12865, 'scores': 12866, 'forgiven': 12867, 'faintest': 12868, 'vehicleinspired': 12869, 'stupidly': 12870, 'schlocky': 12871, 'transporter': 12872, 'spies': 12873, 'farnsworth': 12874, 'attracted': 12875, 'goals': 12876, 'freudian': 12877, 'survivor': 12878, 'surprise': 12879, 'deviates': 12880, 'buff': 12881, 'junkie': 12882, 'coworker': 12883, 'sharman': 12884, 'respective': 12885, 'effervescent': 12886, 'deschanel': 12887, 'splendid': 12888, 'curiously': 12889, 'dwells': 12890, 'neha': 12891, 'scoobydoo': 12892, 'calms': 12893, 'valleri': 12894, 'secretive': 12895, 'inside': 12896, 'amick': 12897, 'crucial': 12898, 'aristocats': 12899, 'granting': 12900, 'stark': 12901, 'prudes': 12902, 'lovell': 12903, 'costs': 12904, 'epoch': 12905, 'law': 12906, 'oregon': 12907, 'sienna': 12908, 'elaine': 12909, 'truthfully': 12910, 'myc': 12911, 'victor': 12912, 'demeanor': 12913, 'clancy': 12914, 'top5': 12915, 'target': 12916, 'twelfth': 12917, 'mentallychallenged': 12918, 'min': 12919, 'million': 12920, 'unusually': 12921, 'cheerleader': 12922, 'added': 12923, 'aunt': 12924, 'precarious': 12925, 'remembering': 12926, 'donor': 12927, 'marooned': 12928, 'note': 12929, 'year': 12930, 'regulars': 12931, 'sexsarved': 12932, 'ex': 12933, 'actsbr': 12934, 'suleiman': 12935, 'convaluted': 12936, 'barbary': 12937, 'hangar': 12938, 'vega': 12939, 'perils': 12940, 'barrons': 12941, 'attention': 12942, 'family': 12943, 'relations': 12944, 'austen': 12945, 'blood': 12946, 'beatty': 12947, 'mcgraw': 12948, 'ignored': 12949, 'voice': 12950, 'jen': 12951, 'decorate': 12952, 'blandick': 12953, 'sympathetic': 12954, 'screening': 12955, 'prostituting': 12956, 'horrid': 12957, 'persecuted': 12958, 'diver': 12959, 'blank': 12960, 'yellow': 12961, 'arrogant': 12962, 'believability': 12963, 'lerner': 12964, 'nightcap': 12965, 'reflective': 12966, 'studio': 12967, 'tenney': 12968, 'oaf': 12969, 'conquering': 12970, 'grutter': 12971, 'rubin': 12972, 'cole': 12973, 'mid1980s': 12974, '1997': 12975, 'delightfully': 12976, 'weekly': 12977, 'possess': 12978, 'variant': 12979, 'imbue': 12980, 'gooding': 12981, 'focal': 12982, 'magnani': 12983, 'average': 12984, 'believing': 12985, 'dreamteam': 12986, 'aesthetic': 12987, 'hunger': 12988, 'airliners': 12989, 'tics': 12990, 'fascism': 12991, 'arizona': 12992, 'diamonds': 12993, 'meanstreak': 12994, 'mr': 12995, 'sell': 12996, 'paresh': 12997, 'thomas': 12998, 'claimed': 12999, 'seaboard': 13000, 'muslims': 13001, 'pioneering': 13002, 'antisemitismbr': 13003, 'smashed': 13004, 'positive': 13005, 'stevens': 13006, 'constitute': 13007, 'data': 13008, 'shaft': 13009, 'tools': 13010, 'especially': 13011, 'bryan': 13012, 'likes': 13013, 'beams': 13014, 'continuously': 13015, 'home': 13016, 'witches': 13017, 'regular': 13018, 'mick': 13019, 'sunshine': 13020, 'wrecking': 13021, 'irrelevant': 13022, 'rented': 13023, 'casebr': 13024, 'thrill': 13025, 'removing': 13026, 'sucked': 13027, 'enlisted': 13028, 'spencer': 13029, 'anesthesiologist': 13030, 'raybert': 13031, 'storytelling': 13032, 'sounded': 13033, 'lebrock': 13034, 'gentlemans': 13035, 'originated': 13036, 'lennart': 13037, 'sewer': 13038, 'providing': 13039, 'tempting': 13040, 'stealing': 13041, 'magnetic': 13042, 'ticks': 13043, 'rants': 13044, 'professor': 13045, 'eggnog': 13046, 'languidly': 13047, 'unconditionally': 13048, 'predominates': 13049, 'daze': 13050, 'kerry': 13051, 'sleeper': 13052, 'christopher': 13053, 'gawk': 13054, 'flip': 13055, 'overall': 13056, 'nazism': 13057, 'diminishing': 13058, 'oldest': 13059, 'almost': 13060, 'comedian': 13061, 'portugal': 13062, 'format': 13063, 'graveyards': 13064, 'fictionalized': 13065, 'dryers': 13066, 'sappy': 13067, 'tiger': 13068, 'exgirlfriend': 13069, 'cannot': 13070, 'inadequacies': 13071, 'whilst': 13072, 'regarding': 13073, 'prideful': 13074, 'snakesbr': 13075, 'churches': 13076, 'finale': 13077, 'axes': 13078, 'presenters': 13079, 'dried': 13080, 'travel': 13081, 'spoil': 13082, 'unwed': 13083, 'sword': 13084, 'fit': 13085, 'equal': 13086, 'shock': 13087, 'fearless': 13088, 'starts': 13089, 'abr': 13090, 'temple': 13091, 'colorbr': 13092, 'explaining': 13093, 'apple': 13094, 'nouvelle': 13095, 'chewed': 13096, 'feller': 13097, 'factorybr': 13098, 'heroin': 13099, 'ooh': 13100, 'son': 13101, 'lifeboat': 13102, 'depression': 13103, 'chance': 13104, 'would': 13105, 'abraham': 13106, 'address': 13107, 'script': 13108, 'pickup': 13109, 'protested': 13110, 'rapid': 13111, 'revolves': 13112, 'events': 13113, 'daan': 13114, 'indicates': 13115, 'laughing': 13116, 'runbr': 13117, 'indescribable': 13118, 'stood': 13119, 'mindbender': 13120, '1987': 13121, 'tire': 13122, 'hear': 13123, 'marchthe': 13124, 'prom': 13125, 'manners': 13126, 'cd': 13127, 'homesteads': 13128, 'caress': 13129, 'cells': 13130, 'weekyou': 13131, 'affectionately': 13132, 'conversing': 13133, 'relating': 13134, 'merged': 13135, 'unfaltering': 13136, 'hefty': 13137, 'terribleinitially': 13138, 'st': 13139, 'dictatorshipsbr': 13140, 'bothered': 13141, 'freakhaving': 13142, 'sanctimonious': 13143, 'meets': 13144, 'loose': 13145, 'interior': 13146, 'covered': 13147, 'diesbr': 13148, 'liberty': 13149, 'grated': 13150, 'rationality': 13151, 'cause': 13152, 'nagase': 13153, 'though': 13154, 'returning': 13155, 'fizzing': 13156, 'requiring': 13157, 'owns': 13158, 'er': 13159, 'complexities': 13160, 'homestead': 13161, 'mouth': 13162, 'offense': 13163, 'identifies': 13164, 'nookie': 13165, 'resentment': 13166, 'nomercy': 13167, 'comeback': 13168, 'grating': 13169, 'unborn': 13170, 'papiermache': 13171, 'conservative': 13172, 'enjoys': 13173, 'rolling': 13174, 'warriorsbr': 13175, 'walkenlike': 13176, 'textile': 13177, 'assists': 13178, 'screenings': 13179, 'snake': 13180, 'device': 13181, 'brand': 13182, 'secondtime': 13183, 'exteriors': 13184, 'mondo': 13185, 'manbr': 13186, 'without': 13187, 'producers': 13188, 'dime': 13189, 'intensify': 13190, 'motivating': 13191, 'revelations': 13192, 'french': 13193, 'youngsters': 13194, 'desire': 13195, 'closely': 13196, 'biased': 13197, 'crosssection': 13198, 'joint': 13199, 'energy': 13200, 'knowledge': 13201, 'ash': 13202, 'reasonable': 13203, 'underscores': 13204, 'show': 13205, 'targets': 13206, 'master': 13207, 'ideological': 13208, 'paraso': 13209, 'malle': 13210, 'investigative': 13211, 'webber': 13212, 'thank': 13213, 'humane': 13214, 'bcomedy': 13215, 'chou': 13216, 'miraculously': 13217, 'thinkbr': 13218, 'moon': 13219, 'start': 13220, 'capitalizes': 13221, 'sprawling': 13222, 'communities': 13223, 'cringeworthy': 13224, 'rue': 13225, 'package': 13226, 'hindu': 13227, 'joss': 13228, 'petrons': 13229, 'bossbr': 13230, 'unwatchably': 13231, 'fays': 13232, 'aimbr': 13233, 'lights': 13234, 'cockeyed': 13235, 'vocals': 13236, 'smiled': 13237, 'unable': 13238, 'smug': 13239, 'materialistic': 13240, 'forgot': 13241, 'flick': 13242, 'anxietybr': 13243, 'bland': 13244, 'foreshadows': 13245, 'link': 13246, 'psdespite': 13247, 'grammar': 13248, 'access': 13249, 'money': 13250, 'major': 13251, 'kumars': 13252, 'damaging': 13253, 'laugh': 13254, 'desperately': 13255, 'podium': 13256, 'admirable': 13257, 'falling': 13258, 'hidden': 13259, 'yentl': 13260, 'sustain': 13261, 'unbelievable': 13262, 'behave': 13263, 'stocky': 13264, 'dictated': 13265, 'caution': 13266, 'twenty': 13267, 'experienced': 13268, 'suburbs': 13269, 'plottwists': 13270, 'condone': 13271, 'ward': 13272, 'girlbr': 13273, 'twinkling': 13274, 'phillip': 13275, 'teach': 13276, 'native': 13277, 'nerves': 13278, 'wordless': 13279, 'spit': 13280, 'tweed': 13281, 'sued': 13282, 'essence': 13283, 'worldclass': 13284, 'mayberry': 13285, 'homesteading': 13286, 'peter': 13287, 'workings': 13288, 'butt': 13289, 'meltbr': 13290, 'playing': 13291, 'vinyl': 13292, 'movingbr': 13293, 'socks': 13294, 'spontaneous': 13295, 'dancers': 13296, 'pontificating': 13297, 'fruitiest': 13298, 'candice': 13299, 'hulchul': 13300, 'logic': 13301, 'raisuli': 13302, 'irish': 13303, 'inept': 13304, 'lugosi': 13305, 'popcorn': 13306, 'holnist': 13307, 'viewer': 13308, 'almighty': 13309, 'bookbr': 13310, 'brought': 13311, 'band': 13312, 'meek': 13313, 'maker': 13314, 'hiding': 13315, 'usses': 13316, 'exterior': 13317, 'amit': 13318, 'aubrey': 13319, 'scenes': 13320, 'looping': 13321, 'assume': 13322, 'wellmade': 13323, 'mccalmans': 13324, 'followbr': 13325, 'pretentiousbr': 13326, 'successful': 13327, 'happy': 13328, 'grab': 13329, 'somethingbr': 13330, 'summed': 13331, 'humphrey': 13332, 'intruded': 13333, 'trannies': 13334, 'maronna': 13335, 'caffeine': 13336, 'cowrestler': 13337, 'hammy': 13338, 'sadism': 13339, 'someone': 13340, 'leiveva': 13341, 'tobey': 13342, 'kilt': 13343, 'autobiographical': 13344, 'authentically': 13345, 'zombi': 13346, 'assailant': 13347, 'suffering': 13348, 'osiris': 13349, 'morphosynthesis': 13350, 'reorient': 13351, 'manos': 13352, 'plausible': 13353, 'ideas': 13354, 'imagebr': 13355, 'demornays': 13356, 'part': 13357, '79': 13358, 'pet': 13359, 'featured': 13360, 'pitiful': 13361, 'loretta': 13362, 'itputting': 13363, 'masterful': 13364, 'confident': 13365, 'threat': 13366, 'angry': 13367, 'pap': 13368, 'resulting': 13369, 'slowmotion': 13370, 'prison': 13371, 'contender': 13372, 'found': 13373, 'basterds': 13374, 'prc': 13375, 'preserved': 13376, 'specialbr': 13377, 'thrust': 13378, 'fertility': 13379, 'backdrop': 13380, 'enchanting': 13381, 'omen': 13382, 'generation': 13383, 'thump': 13384, 'judgments': 13385, 'rhetorically': 13386, 'blue': 13387, 'combs': 13388, 'everbr': 13389, 'lisle': 13390, 'warn': 13391, 'sneaks': 13392, 'totally': 13393, 'hacienda': 13394, 'commitment': 13395, 'makeup': 13396, 'sacrificing': 13397, 'climactic': 13398, 'alley': 13399, 'host': 13400, 'announce': 13401, 'miniseries': 13402, 'combomoves': 13403, 'hardesty': 13404, 'dismay': 13405, 'anatomically': 13406, 'genresbr': 13407, 'exorcist': 13408, 'cottonmouthed': 13409, 'weaselly': 13410, 'tribesmen': 13411, 'voter': 13412, 'net': 13413, 'zone': 13414, 'bloodsucking': 13415, 'seas': 13416, 'aided': 13417, 'losses': 13418, 'cultures': 13419, 'wilson': 13420, 'spurs': 13421, 'chronicles': 13422, 'exasperating': 13423, 'overtly': 13424, 'winner': 13425, 'offerings': 13426, 'indulging': 13427, 'distributed': 13428, 'intro': 13429, 'unexpectedly': 13430, 'mining': 13431, 'fault': 13432, 'trained': 13433, 'wood': 13434, 'delinquents': 13435, 'league': 13436, 'babban': 13437, 'kadar': 13438, 'broadway': 13439, 'androgynous': 13440, 'regional': 13441, 'vince': 13442, 'motion': 13443, 'introduce': 13444, 'transformations': 13445, 'maturity': 13446, 'lunch': 13447, 'yearsbr': 13448, 'seti': 13449, 'seymour': 13450, 'madsen': 13451, 'r': 13452, 'actuality': 13453, 'interpretation': 13454, 'hammiest': 13455, 'fans': 13456, 'purposely': 13457, 'pam': 13458, 'paycheck': 13459, 'brutality': 13460, 'carol': 13461, 'arent': 13462, 'genre': 13463, 'sits': 13464, 'clayton': 13465, 'youngs': 13466, 'trainor': 13467, 'campaign': 13468, 'pinheadbr': 13469, 'redux': 13470, 'koko': 13471, 'seasoned': 13472, 'rick': 13473, 'ordinary': 13474, 'factorbr': 13475, 'edge': 13476, 'fatalism': 13477, 'morocco': 13478, 'scooby': 13479, 'zebras': 13480, '1930s': 13481, 'changing': 13482, 'dupe': 13483, 'reinterpretation': 13484, 'rundown': 13485, 'whiny': 13486, 'viceversabr': 13487, 'met': 13488, 'crackle': 13489, 'weaving': 13490, 'parentchild': 13491, 'resort': 13492, 'effectively': 13493, 'look': 13494, 'walk': 13495, 'watchbr': 13496, 'kills': 13497, 'marco': 13498, 'listed': 13499, 'stereotyping': 13500, 'alexis': 13501, 'jill': 13502, 'josh': 13503, 'authoritarian': 13504, 'special': 13505, 'oblivious': 13506, 'economy': 13507, 'womens': 13508, 'humor': 13509, 'delete': 13510, 'tonys': 13511, 'whove': 13512, 'dorothy': 13513, 'killedbr': 13514, 'hodge': 13515, 'severing': 13516, 'underactingbr': 13517, 'corral': 13518, 'play': 13519, 'example': 13520, 'frightening': 13521, 'vague': 13522, 'exorcism': 13523, 'displaying': 13524, 'far': 13525, 'centsbr': 13526, 'date': 13527, 'anna': 13528, 'deliberate': 13529, 'slope': 13530, 'israel': 13531, 'ever': 13532, 'chen': 13533, 'appearances': 13534, 'impostor': 13535, 'perception': 13536, 'necks': 13537, 'quip': 13538, 'gratitous': 13539, 'arkin': 13540, 'recognises': 13541, 'prevents': 13542, 'forget': 13543, 'bravo': 13544, 'raj': 13545, 'moviei': 13546, 'bulk': 13547, 'impose': 13548, 'mayhem': 13549, 'lsdtinged': 13550, 'heck': 13551, 'koop': 13552, 'killing': 13553, 'fire': 13554, 'dive': 13555, 'dreadlocks': 13556, 'kiddies': 13557, 'lords': 13558, 'volumes': 13559, 'names': 13560, 'margarita': 13561, 'squeeze': 13562, 'hoff': 13563, 'notbr': 13564, 'cohesive': 13565, 'unfortunatly': 13566, 'turkish': 13567, 'mod': 13568, 'praised': 13569, 'taylor': 13570, 'nervous': 13571, 'poor': 13572, 'infamy': 13573, 'plausibility': 13574, 'shining': 13575, 'paths': 13576, 'bird': 13577, 'mandatory': 13578, 'disemboweled': 13579, 'shutting': 13580, 'fellow': 13581, 'words': 13582, 'stereotypicallyits': 13583, 'betraying': 13584, 'represent': 13585, 'head': 13586, 'carrier': 13587, 'humming': 13588, 'sob': 13589, 'buttons': 13590, 'dealbr': 13591, 'mired': 13592, 'interrelated': 13593, 'jewboy': 13594, 'stanton': 13595, 'poppy': 13596, 'long': 13597, 'grounded': 13598, 'confrontations': 13599, 'villages': 13600, 'coin': 13601, 'masterpieces': 13602, 'countrybr': 13603, 'ieks': 13604, 'bafoonery': 13605, 'notre': 13606, 'lynn': 13607, 'abjectly': 13608, 'gripping': 13609, 'sailing': 13610, 'raise': 13611, 'justboringand': 13612, 'enervating': 13613, 'sweat': 13614, 'eulogized': 13615, 'supporting': 13616, 'hurls': 13617, 'dutchroll': 13618, 'looker': 13619, 'overcomplicated': 13620, 'catch22': 13621, 'donald': 13622, 'pining': 13623, 'resist': 13624, 'levieva': 13625, 'nowicki': 13626, 'exited': 13627, 'frieda': 13628, 'se': 13629, 'winning': 13630, 'emperor': 13631, 'toilet': 13632, 'principal': 13633, 'stinker': 13634, 'sichuan': 13635, 'nia': 13636, 'annoysbr': 13637, 'narsisistic': 13638, 'parallel': 13639, 'embarking': 13640, 'realisticbr': 13641, 'calculated': 13642, 'knows': 13643, 'longeri': 13644, 'swearing': 13645, 'margaret': 13646, 'bonnet': 13647, 'heroic': 13648, 'retellings': 13649, 'machismobr': 13650, 'gene': 13651, 'ww': 13652, 'pacino': 13653, 'preposterous': 13654, 'rollercoaster': 13655, 'smallest': 13656, 'anyone': 13657, 'macon': 13658, 'lesserknown': 13659, 'freakish': 13660, 'vaguely': 13661, 'founder': 13662, 'siddons': 13663, 'hammered': 13664, 'continuous': 13665, 'eisenstein': 13666, 'batches': 13667, 'lucille': 13668, 'hadntbr': 13669, 'helo': 13670, 'remarkable': 13671, 'rainss': 13672, 'panic': 13673, 'honesttogoodness': 13674, 'listing': 13675, 'pinchot': 13676, 'cherish': 13677, 'bores': 13678, 'acquit': 13679, 'going': 13680, 'ruthless': 13681, 'india': 13682, 'mummy': 13683, 'bedroom': 13684, 'collapses': 13685, 'amounts': 13686, 'ability': 13687, 'waltz': 13688, 'lunk': 13689, 'else': 13690, 'hoopers': 13691, 'qt': 13692, 'sold': 13693, 'fireplaces': 13694, 'sequal': 13695, 'distributing': 13696, 'estate': 13697, 'wicca': 13698, 'surgeries': 13699, 'romanticist': 13700, 'carlin': 13701, 'aaron': 13702, 'crowd': 13703, 'checked': 13704, 'hillsborough': 13705, 'tacked': 13706, 'golden': 13707, '1800s': 13708, 'againi': 13709, 'enjoying': 13710, 'beats': 13711, 'talk': 13712, 'modern': 13713, 'badbadmovies': 13714, 'collapsing': 13715, 'bates': 13716, 'merging': 13717, 'bettie': 13718, 'chickens': 13719, 'heffner': 13720, '1980': 13721, 'mediocrity': 13722, 'parties': 13723, 'sexslave': 13724, 'mentor': 13725, 'snorefest': 13726, 'image': 13727, 'dailyif': 13728, 'thoughtful': 13729, 'concert': 13730, 'personal': 13731, 'rounded': 13732, 'elam': 13733, 'predators': 13734, 'underdog': 13735, 'boarder': 13736, 'orry': 13737, 'popeilbr': 13738, 'rainy': 13739, 'available': 13740, 'wanted': 13741, 'drunk': 13742, 'vehicle': 13743, '1985': 13744, 'shows': 13745, 'oscar': 13746, 'sincere': 13747, 'suspect': 13748, 'process': 13749, 'stuffbut': 13750, 'preaching': 13751, 'raising': 13752, 'small': 13753, 'makersbr': 13754, 'guess': 13755, 'warmth': 13756, 'vasey': 13757, 'dont': 13758, 'complete': 13759, 'placed': 13760, '25th': 13761, 'forbids': 13762, 'hell': 13763, 'prisoner': 13764, 'braindead': 13765, 'flies': 13766, 'butler': 13767, 'detailed': 13768, 'pains': 13769, 'friends': 13770, 'premature': 13771, '130': 13772, 'breathtaking': 13773, 'disappoint': 13774, 'supernatural': 13775, 'cathy': 13776, 'types': 13777, 'purse': 13778, 'rahman': 13779, 'demolition': 13780, 'madeleine': 13781, 'fools': 13782, 'hence': 13783, 'noted': 13784, 'lewis': 13785, 'deed': 13786, 'robbbins': 13787, 'insignificant': 13788, 'veras': 13789, 'ing': 13790, 'intently': 13791, 'acceptable': 13792, 'jip': 13793, 'insurmountable': 13794, 'remaking': 13795, '2008': 13796, 'bradbury': 13797, 'strains': 13798, 'tasty': 13799, 'tradition': 13800, 'dmytryks': 13801, 'earns': 13802, 'probation': 13803, 'jennifers': 13804, 'internalized': 13805, 'designer': 13806, 'us': 13807, 'braddock': 13808, 'commanded': 13809, 'emergency': 13810, 'bivouacked': 13811, 'relationship': 13812, 'sciencefiction': 13813, 'perfectthe': 13814, 'poker': 13815, 'arrangers': 13816, 'defensive': 13817, 'cliches': 13818, 'venessa': 13819, 'herr': 13820, 'unnerved': 13821, 'reinforce': 13822, 'rosselini': 13823, 'counsell': 13824, 'surprisingly': 13825, 'uses': 13826, 'heat': 13827, 'dominis': 13828, 'kicker': 13829, 'bertrams': 13830, 'sub': 13831, 'foch': 13832, 'wanderer': 13833, 'apartment': 13834, 'tub': 13835, 'viewpoint': 13836, 'abuse': 13837, 'animals': 13838, 'universal': 13839, 'sun': 13840, 'deliveries': 13841, 'motherhood': 13842, 'chicken': 13843, 'implants': 13844, 'tomanian': 13845, 'hose': 13846, 'commissioner': 13847, 'tried': 13848, 'goeshuman': 13849, 'platoon': 13850, 'deliver': 13851, 'guest': 13852, 'explicitly': 13853, 'drill': 13854, 'utility': 13855, 'alice': 13856, 'dontwatch': 13857, 'hitler': 13858, 'solid': 13859, 'fear': 13860, 'subcharacters': 13861, 'desert': 13862, 'notches': 13863, 'utah': 13864, 'refrigerator': 13865, 'pairing': 13866, 'neighbours': 13867, 'wart': 13868, 'unbearable': 13869, 'strictest': 13870, 'three': 13871, 'quinn': 13872, 'lumet': 13873, 'dress': 13874, 'breakout': 13875, 'wash': 13876, 'extended': 13877, 'codes': 13878, 'welletched': 13879, 'ease': 13880, 'manure': 13881, 'existed': 13882, 'numbingly': 13883, 'aimlessly': 13884, 'throatbr': 13885, 'reel': 13886, 'breakdownbr': 13887, 'bin': 13888, 'fry': 13889, 'lexington': 13890, 'sawalha': 13891}\n"
          ],
          "name": "stdout"
        }
      ]
    },
    {
      "cell_type": "markdown",
      "metadata": {
        "id": "3pUTYnmcFQct"
      },
      "source": [
        "### **Save the vocabulary**\n",
        "\n",
        "Generally speaking, it is a good idea to save the dictionary in clear format. In this way you can quickly check for errors or useful words.\n",
        "\n",
        "In this case, we will save the vocabulary dictionary in JSON format."
      ]
    },
    {
      "cell_type": "code",
      "metadata": {
        "id": "mg41avgpFlFJ",
        "outputId": "7ce21846-a7a9-4b80-8318-e5130ec04006",
        "colab": {
          "base_uri": "https://localhost:8080/"
        }
      },
      "source": [
        "!pip install simplejson\n",
        "import simplejson as sj\n",
        "\n",
        "vocab_path = os.path.join(os.getcwd(), 'Datasets', dataset_name, 'vocab.json')\n",
        "\n",
        "print(\"Saving vocabulary to {}\".format(vocab_path))\n",
        "with open(vocab_path, mode='w') as f:\n",
        "    sj.dump(word_to_idx, f, indent=4)\n",
        "print(\"Saving completed!\")"
      ],
      "execution_count": 8,
      "outputs": [
        {
          "output_type": "stream",
          "text": [
            "Requirement already satisfied: simplejson in /usr/local/lib/python3.6/dist-packages (3.17.2)\n",
            "Saving vocabulary to /content/Datasets/aclImdb/vocab.json\n",
            "Saving completed!\n"
          ],
          "name": "stdout"
        }
      ]
    },
    {
      "cell_type": "markdown",
      "metadata": {
        "id": "WrWb80lyY629"
      },
      "source": [
        "## Building the Co-occurence Matrix\n",
        "\n",
        "As we said at the beginning, embedding methods are based on the principle that similar words will be used in similar contexts. Thus, context information is crucial to determine the meaning of a word.\n",
        "\n",
        "One basic approach, which falls under the category of sparse representations, is the **co-occurrence matrix**: for each word in the vocabulary we count the number of times each other word appears within the same context window. A simple example is given by image below.\n",
        "\n",
        "![](https://drive.google.com/uc?export=view&id=1UknGoYvIBBA7ytkSlqm1NhF_lHt0iOwT)\n",
        "\n",
        "In particular, the context window defines our notion of word context. Consider the following example:\n",
        "\n",
        "<h3><center> The cat is on the table </center></h3>\n",
        "\n",
        "We have to consider each word in the sentence and for each we have count words within the context window. Suppose a window of size 2, then we have for the word 'cat':\n",
        "\n",
        "Current word: cat\n",
        "\n",
        "Context words: [the, is, on]\n",
        "\n",
        "Notice how we consider $W$ words back and ahead of current word, where $W$ is the window size.\n",
        "\n",
        "\n",
        "\n",
        "\n",
        "Let's define the simplest version of a **co-occurrence matrix** based on word counting.\n",
        "\n",
        "---\n",
        "\n",
        "**Small dataset case**: If you selected a small slice of the dataset, you should have a vocabulary size that we can afford in terms of memory demand. Thus, you can easily instantiate the co-occurrence matrix and populate it iteratively.\n",
        "\n",
        "---\n",
        "\n",
        "**Large dataset case**: We have to work with sparse matrices due to the high vocabulary size and to the low amount of non-zero word counts. To this end, the [Scipy package](https://docs.scipy.org/doc/scipy/reference/sparse.html) allows us to easily define sparse matrices that can be converted ot numpy arrays (if we can).\n",
        "\n",
        "**Suggestion**: The simplest way to build the co-occurrence matrix is via an incremental approach: we loop through dataset sentences, split into words and then count co-occurrences within the given window frame. Generally, combining this approach with sparse matrices is not so efficient (yet possible). However, Scipy offers [$\\texttt{lil_matrix}$](https://docs.scipy.org/doc/scipy/reference/generated/scipy.sparse.lil_matrix.html#scipy.sparse.lil_matrix) sparse format that is suitable to this case. Anyway, check out other sparse formats, such as [$\\texttt{csr_matrix}$](https://docs.scipy.org/doc/scipy/reference/generated/scipy.sparse.csr_matrix.html#scipy.sparse.csr_matrix), and the corresponding building methods.\n",
        "\n",
        "Working with $\\texttt{lil_matrix}$ might take $\\sim 1h$ of time to build the whole dataset co-occurrence matrix. It is also possibile to work with $\\texttt{csr_matrix}$ but the approach is more complex (check the last example of the corresponding documentation page).\n"
      ]
    },
    {
      "cell_type": "code",
      "metadata": {
        "id": "OS5H65sh52b9",
        "outputId": "7f94121b-5a82-4fc5-ce24-8191b19c6eba",
        "colab": {
          "base_uri": "https://localhost:8080/"
        }
      },
      "source": [
        "import scipy.sparse    # defines several types of efficient sparse matrices\n",
        "import zipfile\n",
        "import gc\n",
        "import requests\n",
        "import time\n",
        "\n",
        "# Function definition\n",
        "\n",
        "def co_occurrence_count(df, idx_to_word, word_to_idx, window_size=4):\n",
        "    \"\"\"\n",
        "    Builds word-word co-occurrence matrix based on word counts.\n",
        "\n",
        "    :param df: pre-processed dataset (pandas.DataFrame)\n",
        "    :param idx_to_word: vocabulary map (index -> word) (dict)\n",
        "    :param word_to_idx: vocabulary map (word -> index) (dict)\n",
        "\n",
        "    :return\n",
        "      - co_occurrence symmetric matrix of size |V| x |V| (|V| = vocabulary size)\n",
        "    \"\"\"\n",
        "\n",
        "    ### YOUR CODE HERE ###\n",
        "\n",
        "    co_occurrence_matrix = np.zeros((len(idx_to_word), len(idx_to_word)), np.float64)\n",
        "    #using findall method of strings to split the text into alphanumeric words\n",
        "    corpus_words = df['text'].str.lower().str.findall(\"\\w+\")\n",
        "    '''\n",
        "    Function token_to_id: translate each row of the corpus into index, id\n",
        "    Remember that the index refers to the word's position in the row meanwhile\n",
        "    the id refers to the unique position in the vocabulary.\n",
        "    Then, the below analysis was made considering only numbers instead strings\n",
        "    ''' \n",
        "    def token_to_id(tokens):\n",
        "      for index, token in enumerate(tokens):\n",
        "          id = word_to_idx[token] \n",
        "          yield index, id\n",
        "    \n",
        "    for row in corpus_words:\n",
        "      for idx, id in token_to_id(row):\n",
        "        for w_idx, w_id in token_to_id(row):\n",
        "          if abs(w_idx - idx) <= window_size and id != w_id:\n",
        "            co_occurrence_matrix[id, w_id] += 1\n",
        "            #Uncomment to evaluate the words selected\n",
        "            #print(\"Word, index: {},{} -> Window word, index: {}, {}\".format(idx_to_word[id], idx,idx_to_word[w_id], w_idx ) )\n",
        "    return co_occurrence_matrix\n",
        "\n",
        "# Testing\n",
        "window_size = 4\n",
        "\n",
        "# Clean RAM before re-running this code snippet to avoid session crash\n",
        "if 'co_occurrence_matrix' in globals():\n",
        "    del co_occurrence_matrix\n",
        "    gc.collect()\n",
        "    time.sleep(10.)\n",
        "\n",
        "print(\"Building co-occurrence count matrix... (it may take a while...)\")\n",
        "co_occurrence_matrix = co_occurrence_count(df, idx_to_word, word_to_idx, window_size)\n",
        "print(\"Building completed!\")\n",
        "\n",
        "# Evaluation\n",
        "\n",
        "def save_response_content(response, destination):\n",
        "    CHUNK_SIZE = 32768\n",
        "\n",
        "    with open(destination, \"wb\") as f:\n",
        "        for chunk in response.iter_content(CHUNK_SIZE):\n",
        "            if chunk: # filter out keep-alive new chunks\n",
        "                f.write(chunk)\n",
        "\n",
        "def download_toy_data(benchmark_path):\n",
        "    toy_data_path = os.path.join(benchmark_path, 'co-occurrence_count_benchmark.zip')\n",
        "    toy_data_url_id = \"1z8qp034utvW7kv-9Q_TACJv3_sdCzkZg\"\n",
        "    toy_url = \"https://docs.google.com/uc?export=download\"\n",
        "\n",
        "    if not os.path.exists(benchmark_path):\n",
        "        os.makedirs(benchmark_path)\n",
        "\n",
        "    if not os.path.exists(toy_data_path):\n",
        "        print(\"Downloading co-occurrence count matrix benchmark data...\")\n",
        "        with requests.Session() as current_session:\n",
        "            response = current_session.get(toy_url,\n",
        "                                   params={'id': toy_data_url_id},\n",
        "                                   stream=True)\n",
        "        save_response_content(response, toy_data_path)\n",
        "        print(\"Download complete!\")\n",
        "\n",
        "        print(\"Extracting dataset...\")\n",
        "        with zipfile.ZipFile(toy_data_path) as loaded_zip:\n",
        "            loaded_zip.extractall(benchmark_path)\n",
        "        print(\"Extraction complete!\")\n",
        "\n",
        "def evaluate_co_occurrence_matrix(matrix):\n",
        "    is_sparse = False\n",
        "\n",
        "    if hasattr(scipy.sparse, type(matrix).__name__):\n",
        "        print(\"Detected sparse co-occurrence matrix!\")\n",
        "        is_sparse = True\n",
        "\n",
        "    # Check symmetry\n",
        "    print(\"[Co-occurrence count matrix Evaluation] Symmetry checking...\")\n",
        "    if is_sparse:\n",
        "        assert (matrix != matrix.transpose()).nnz == 0\n",
        "    else:\n",
        "        assert np.equal(matrix, matrix.transpose()).all()\n",
        "\n",
        "    # Check toy example\n",
        "    print(\"[Co-occurrence count matrix Evaluation] Toy example checking...\")\n",
        "    toy_df = pd.DataFrame.from_dict({\n",
        "        'text': [\"all that glitters is not gold\",\n",
        "                 \"all in all i like this assignment\"],\n",
        "    })\n",
        "    benchmark_path = os.path.join(os.getcwd(), 'Benchmark')\n",
        "    toy_path = os.path.join(benchmark_path, 'co-occurrence_count_benchmark')\n",
        "    download_toy_data(benchmark_path)\n",
        "\n",
        "    toy_idx_to_word = np.load(os.path.join(toy_path, 'toy_idx_to_word.npy'), allow_pickle=True).item()\n",
        "    toy_word_to_idx = np.load(os.path.join(toy_path, 'toy_word_to_idx.npy'), allow_pickle=True).item()\n",
        "\n",
        "    toy_matrix = co_occurrence_count(toy_df, toy_idx_to_word, toy_word_to_idx, window_size=1)\n",
        "    toy_valid_matrix = np.load(os.path.join(toy_path, 'toy_co_occurrence_matrix_count.npy'))\n",
        "\n",
        "    if is_sparse:\n",
        "        assert np.equal(toy_matrix.todense(), toy_valid_matrix).all()\n",
        "    else:\n",
        "        assert np.equal(toy_matrix, toy_valid_matrix).all()\n",
        "\n",
        "\n",
        "print(\"Evaluating co-occurrence matrix\")\n",
        "evaluate_co_occurrence_matrix(co_occurrence_matrix)\n",
        "print(\"Evaluation completed!\")\n",
        "print(\"The coccur matrix's shape: {}\".format(co_occurrence_matrix.shape))"
      ],
      "execution_count": 9,
      "outputs": [
        {
          "output_type": "stream",
          "text": [
            "Building co-occurrence count matrix... (it may take a while...)\n",
            "Building completed!\n",
            "Evaluating co-occurrence matrix\n",
            "[Co-occurrence count matrix Evaluation] Symmetry checking...\n",
            "[Co-occurrence count matrix Evaluation] Toy example checking...\n",
            "Evaluation completed!\n",
            "The coccur matrix's shape: (13892, 13892)\n"
          ],
          "name": "stdout"
        }
      ]
    },
    {
      "cell_type": "markdown",
      "metadata": {
        "id": "So0i7CWy-fAW"
      },
      "source": [
        "### **Got Stuck?**\n",
        "\n",
        "If you are stuck, but still want to try out following sections, you can experiment with a valid co-occurrence matrix provided by us as follows"
      ]
    },
    {
      "cell_type": "code",
      "metadata": {
        "id": "pJWDWacd-vrG"
      },
      "source": [
        "benchmark_path = os.path.join(os.getcwd(), 'Benchmark')\n",
        "valid_data_benchmark_path = os.path.join(benchmark_path, 'co-occurrence_count_benchmark', \"{}.npy\")\n",
        "\n",
        "download_toy_data(benchmark_path)\n",
        "\n",
        "co_occurrence_matrix = np.load(valid_data_benchmark_path.format('valid_co-occurrence_matrix_count'))\n",
        "idx_to_word = np.load(valid_data_benchmark_path.format('valid_idx_to_word'), allow_pickle=True).item()\n",
        "word_to_idx = np.load(valid_data_benchmark_path.format('valid_word_to_idx'), allow_pickle=True).item()\n",
        "word_listing = np.load(valid_data_benchmark_path.format('valid_word_listing'))\n",
        "\n",
        "print('Co-occurrence matrix shape: ', co_occurrence_matrix.shape)\n",
        "print('Index -> word vocabulary size: ', len(idx_to_word))\n",
        "print('Word -> index vocabulary size: ', len(word_to_idx))\n",
        "print('Word listing size: ', len(word_listing))"
      ],
      "execution_count": null,
      "outputs": []
    },
    {
      "cell_type": "markdown",
      "metadata": {
        "id": "H10Eqj5-CyZv"
      },
      "source": [
        "## Embedding Visualization\n",
        "\n",
        "The next step is to visualize our sparse word embeddings in a lower dimensional space (2D) in order to have an idea of the meaning attributed to each word.\n",
        "\n",
        "**How?** Well, there are some dimensionality reduction techniques that we might employ. We will explore SVD and t-SNE methods, without delving into technical details since they are not arguments of this NLP course.\n",
        "\n",
        "**SVD Memo**: SVD stands for **Singular Value Decomposition** and is a kind of generalized **Principal Components Analysis** (PCA) and focuses on selecting the top **k** principal components. For more info, [here](https://davetang.org/file/Singular_Value_Decomposition_Tutorial.pdf) you can find a brief tutorial.\n",
        "\n",
        "**t-SNE Memo**: t-SNE stands for **t-Distributed Stochastic Neighbour Embedding** and is an unsupervised non-linear technique. The non-linearity is one major point of difference with PCA. Additionally, it preserves small pairwise distance (or local similarities), whereas PCA aims to preserve large pairwise distances in order to maximize variance. The basic idea of t-SNE is to compute a similarity measure between a pair of instances both at high and low dimensional space and optimize these two similarities via a cost function. Properly using t-SNE is a bit tricky, a well recommended reading is one of the [author's blog](https://lvdmaaten.github.io/tsne/).\n",
        "\n",
        "**Note**: We strongly suggest you to play with the window size and check if there are some notable differences. Generally, a small window size reflects syntactic properties, while a large window size captures semantic ones."
      ]
    },
    {
      "cell_type": "code",
      "metadata": {
        "id": "qNzFd1-4JBvS"
      },
      "source": [
        "from sklearn.manifold import TSNE\n",
        "from sklearn.decomposition import TruncatedSVD\n",
        "import matplotlib.pyplot as plt\n",
        "\n",
        "# Function definition\n",
        "\n",
        "def visualize_embeddings(embeddings, word_annotations=None, word_to_idx=None):\n",
        "    \"\"\"\n",
        "    Plots given reduce word embeddings (2D).\n",
        "    Users can highlight specific words (word_annotations list) in order to better\n",
        "    analyse the effectiveness of the embedding method.\n",
        "\n",
        "    :param embeddings: word embedding matrix of shape (words, 2) retrieved via a\n",
        "                       dimensionality reduction technique.\n",
        "    :param word_annotations: list of words to be annotated.\n",
        "    :param word_to_idx: vocabulary map (word -> index) (dict)\n",
        "    \"\"\"\n",
        "\n",
        "    fig, ax = plt.subplots(1, 1, figsize=(15, 12))\n",
        "\n",
        "    if word_annotations:\n",
        "        print(\"Annotating words: {}\".format(word_annotations))\n",
        "\n",
        "        word_indexes = []\n",
        "        for word in word_annotations:\n",
        "            word_index = word_to_idx[word]\n",
        "            word_indexes.append(word_index)\n",
        "\n",
        "        word_indexes = np.array(word_indexes)\n",
        "\n",
        "        other_embeddings = embeddings[np.setdiff1d(np.arange(embeddings.shape[0]), word_indexes)]\n",
        "        target_embeddings = embeddings[word_indexes]\n",
        "\n",
        "        ax.scatter(other_embeddings[:, 0], other_embeddings[:, 1], alpha=0.1, c='blue')\n",
        "        ax.scatter(target_embeddings[:, 0], target_embeddings[:, 1], alpha=1.0, c='red')\n",
        "        ax.scatter(target_embeddings[:, 0], target_embeddings[:, 1], alpha=1, facecolors='none', edgecolors='r', s=1000)\n",
        "\n",
        "        for word, word_index in zip(word_annotations, word_indexes):\n",
        "            word_x, word_y = embeddings[word_index, 0], embeddings[word_index, 1]\n",
        "            ax.annotate(word, xy=(word_x, word_y))\n",
        "\n",
        "    else:\n",
        "        ax.scatter(embeddings[:, 0], embeddings[:, 1], alpha=0.1, c='blue')\n",
        "\n",
        "    # Set proper axis limit range\n",
        "    # We avoid outliers ruining the visualization if they are quite far away\n",
        "    xmin_quantile = np.quantile(embeddings[:, 0], q=0.01)\n",
        "    xmax_quantile = np.quantile(embeddings[:, 0], q=0.99)\n",
        "\n",
        "    ymin_quantile = np.quantile(embeddings[:, 1], q=0.01)\n",
        "    ymax_quantile = np.quantile(embeddings[:, 1], q=0.99)\n",
        "\n",
        "    ax.set_xlim(xmin_quantile, xmax_quantile)\n",
        "    ax.set_ylim(ymin_quantile, ymax_quantile)\n",
        "\n",
        "\n",
        "def reduce_SVD(embeddings):\n",
        "    \"\"\"\n",
        "    Applies SVD dimensionality reduction.\n",
        "\n",
        "    :param embeddings: word embedding matrix of shape (words, dim). In the case\n",
        "                       of a word-word co-occurrence matrix the matrix shape would\n",
        "                       be (words, words).\n",
        "\n",
        "    :return\n",
        "        - 2-dimensional word embedding matrix of shape (words, 2)\n",
        "    \"\"\"\n",
        "  \n",
        "    print(\"Running SVD reduction method...\")\n",
        "    svd = TruncatedSVD(n_components=2, n_iter=10, random_state=42)\n",
        "    reduced = svd.fit_transform(embeddings)\n",
        "    print(\"SVD reduction completed!\")\n",
        "\n",
        "    return reduced\n",
        "\n",
        "# Note: this method may take a while\n",
        "def reduce_tSNE(embeddings):\n",
        "    \"\"\"\n",
        "    Applies t-SNE dimensionality reduction.\n",
        "\n",
        "    :param embeddings: word embedding matrix of shape (words, dim). In the case\n",
        "                       of a word-word co-occurrence matrix the matrix shape would\n",
        "                       be (words, words).\n",
        "\n",
        "    :return\n",
        "        - 2-dimensional word embedding matrix of shape (words, 2)\n",
        "    \"\"\"\n",
        "\n",
        "    print(\"Running t-SNE reduction method... (it may take a while...)\")\n",
        "    tsne = TSNE(n_components=2, random_state=42, n_iter=1000, metric='cosine', n_jobs=2)\n",
        "    reduced = tsne.fit_transform(embeddings)\n",
        "    print(\"t-SNE reduction completed!\")\n",
        "    print(reduced.shape)\n",
        "\n",
        "    return reduced\n",
        "\n",
        "# Testing\n",
        "\n",
        "# Feel free to play with word_annotations argument!\n",
        "# Some suggestions: stopwords (if not removed), nouns, adjectives\n",
        "# Check the saved dictionary!\n",
        "\n",
        "# SVD\n",
        "reduced_SVD = reduce_SVD(co_occurrence_matrix)\n",
        "visualize_embeddings(reduced_SVD, ['good', 'love', 'beautiful'], word_to_idx)\n",
        "\n",
        "# t-SNE\n",
        "# Note: this method may take a while (just relax :-))\n",
        "reduced_tSNE = reduce_tSNE(co_occurrence_matrix)\n",
        "visualize_embeddings(reduced_tSNE, ['good', 'love', 'beautiful'], word_to_idx)\n",
        "\n",
        "plt.show()\n",
        "\n",
        "\n"
      ],
      "execution_count": null,
      "outputs": []
    },
    {
      "cell_type": "markdown",
      "metadata": {
        "id": "OjI9eByS8AKa"
      },
      "source": [
        "Feel free to play with visualization!"
      ]
    },
    {
      "cell_type": "code",
      "metadata": {
        "id": "NfmB19Bu8C_H"
      },
      "source": [
        "### YOUR CODE HERE ###\n",
        "import random\n",
        "words = []\n",
        "for i in range(5):\n",
        "  word, idx =  random.choice(list(word_to_idx.items()))\n",
        "  words. append(word)\n",
        "print(\"The words picked are: {}\".format(words))\n",
        "#visualize_embeddings(reduced_SVD, ['good', 'love', 'beautiful'], word_to_idx)\n",
        "visualize_embeddings(reduced_tSNE, words, word_to_idx)"
      ],
      "execution_count": null,
      "outputs": []
    },
    {
      "cell_type": "markdown",
      "metadata": {
        "id": "jxPTZE_U4qUk"
      },
      "source": [
        "### Embedding properties\n",
        "\n",
        "Visualization can give us a rough idea of how word embeddings are organized and if some semantic properties are reflected in the numerical dimensional space. For example, are synonyms close together? Ideally, if the dataset is big enough, we should see similar vector embeddings since synonyms usually have similar contexts.\n",
        "\n",
        "**How to do that?** We could highlight target words in the visualization step and check if our expectations are met. For instance, synonyms should be close together. However, this method is rather inaccurate and time-consuming (dimensionality reduction is not a perfect mapping). Thus, we need some sort of similarity metric that is independent of the vector dimensionality."
      ]
    },
    {
      "cell_type": "markdown",
      "metadata": {
        "id": "ZrhbF-lEESyW"
      },
      "source": [
        "#### **Cosine Similarity**\n",
        "\n",
        "Let us now consider again the matrix obtained using <code>co_occurrence_count</code>. \n",
        "Since we want to meaure how two word vectors are far apart, a naive solution would involve computing the dot product of the two vectors. However, this metric will give higher similarity either to longer vectors or to vectors that have higher counts.\n",
        "\n",
        "A better metric is **cosine similarity** which is just a normalized dot product.\n",
        "\n",
        "$s(p, q) = \\frac{p \\, \\cdot \\, q}{||p|| \\, \\cdot \\, ||q||}$\n",
        "\n",
        "where $s(p, q) \\in [-1, 1] $, since it computes the cosine of the angle between the two vectors. Intuitively, we are bringing vectors down to the d-dimensional unit sphere (d is the vocab size) and then computing their distance (in 2D space we will have a circle).\n",
        "\n",
        "Now, write down the cosine similarity formula so that we can proceed testing word embedding properties!\n",
        "\n",
        "**NOTE**: Since we are working with matrices, we will ask you to define a cosine similarity function that works with matrices. Extending to matrices is quite easy if you think them as lists of vectors.\n",
        "\n",
        "**NOTE**: It is permitted to use functions of existing packages (e.g. sci-kit learn). This is mainly for efficiency motivation. We are not going to discriminate between such solutions and the ones that manually implement the cosine similarity metric (since it is not the main objective of the assignment).\n",
        "\n",
        "**WHAT YOU HAVE TO DO**: First of all, try to manually define the cosine similarity operation. If your implementation is correct but not so efficient, you can define a separate cosine similarity function that leverages implementations of existing packages like sci-kit learn. Here we want to verify if you understand the metric, but at the same time we don't want to penalize you if you are not as efficient as possible (although it is one factor that it is important to not forget when coding in general)."
      ]
    },
    {
      "cell_type": "code",
      "metadata": {
        "id": "wufaiAs78E1E",
        "outputId": "12c0d566-d4b3-44f2-b2fa-7b3f7cf49a36",
        "colab": {
          "base_uri": "https://localhost:8080/"
        }
      },
      "source": [
        "# Function definition\n",
        "from scipy.sparse import csr_matrix\n",
        "from scipy.sparse.linalg import norm\n",
        "import timeit\n",
        "\n",
        "def cosine_similarity(p, q, transpose_p=False, transpose_q=False, csr=True):\n",
        "    \"\"\"\n",
        "    Computes the cosine similarity of two d-dimensional matrices\n",
        "\n",
        "    :param p: d-dimensional vector (np.ndarray) of shape (p_samples, d)\n",
        "    :param q: d-dimensional vector (np.ndarray) of shape (q_samples, d)\n",
        "    :param transpose_p: whether to transpose p or not\n",
        "    :param transpose_q: whether to transpose q or not\n",
        "    :param csr: added to work with sparse matrixes if is True\n",
        "\n",
        "    :return\n",
        "        - cosine similarity matrix S of shape (p_samples, q_samples)\n",
        "          where S[i, j] = s(p[i], q[j])\n",
        "    \"\"\"\n",
        "    #start = timeit.default_timer()\n",
        "    # If it is a vector, consider it as a single sample matrix\n",
        "    if len(p.shape) == 1:\n",
        "        p = p.reshape(1, -1)\n",
        "    if len(q.shape) == 1:\n",
        "        q = q.reshape(1, -1)\n",
        "\n",
        "    if transpose_p:\n",
        "      p = p.T\n",
        "    if transpose_q:\n",
        "      q = q.T\n",
        "    if csr:\n",
        "      #print(\"Working with Sparse matrix\")\n",
        "      # Since  most of the elements in the matrix are zero, better to use a sparse representation\n",
        "      sp_p = csr_matrix(p)\n",
        "      sp_q = csr_matrix(q) if not (np.all(p == q)) else sp_p\n",
        "      #Cosine similarity\n",
        "      p_norm = scipy.sparse.linalg.norm(sp_p, axis=1).reshape(-1,1)\n",
        "      q_norm = scipy.sparse.linalg.norm(sp_q, axis=0).reshape(-1,1)\n",
        "      norm = p_norm.dot(q_norm.T)\n",
        "      dot = sp_p.dot(sp_q)\n",
        "      out = dot/norm\n",
        "      #print(\"Cosine Similarity with sparse matrixes executed in: {} s'\".format(timeit.default_timer() - start))\n",
        "      return np.asarray(out)\n",
        "    else:\n",
        "      #print(\"Working with Dense matrix\")\n",
        "      out = np.dot(p,q) / (np.linalg.norm(p, axis = 1).reshape(-1,1) * (np.linalg.norm(q, axis = 0).reshape(-1,1)).T ) \n",
        "      #print(\"Cosine Similarity with dense matrixes executed in: {} s'\".format(timeit.default_timer() - start))\n",
        "      return out\n",
        " \n",
        "# Testing\n",
        "\n",
        "print(\"Computing similarity matrix...\")\n",
        "similarity_matrix = cosine_similarity(co_occurrence_matrix,\n",
        "                                      co_occurrence_matrix,\n",
        "                                      transpose_q=True)\n",
        "print(\"Similarity completed!\")\n",
        "\n",
        "# Evaluation\n",
        "\n",
        "def sparse_allclose(a, b, rtol=1e-5, atol = 1e-8):\n",
        "    c = np.abs(np.abs(a - b) - rtol * np.abs(b))\n",
        "    return c.max() <= atol\n",
        "\n",
        "def evaluate_cosine_similarity(similarity_matrix):\n",
        "\n",
        "    # Vector similarity\n",
        "    print('[Cosine similarity Evaluation] Vector similarity check...')\n",
        "\n",
        "    p = np.array([5., 6., 0.3, 1.])\n",
        "    q = np.array([50., 6., 0., 0.])\n",
        "    assert np.allclose([[0.72074324]], cosine_similarity(p, q, transpose_q=True))\n",
        "\n",
        "    # Matrix similarity\n",
        "    print('[Cosine similarity Evaluation] Matrix similarity check...')\n",
        "\n",
        "    toy_matrix = np.array([5., 6., 0.3, 1.,\n",
        "                           50., 6., 0., 0.,\n",
        "                           0., 100., 20., 4.]).reshape(3, 4)\n",
        "    true_matrix = np.array([1., 0.72074324, 0.75852259,\n",
        "                            0.72074324, 1., 0.11674173,\n",
        "                            0.75852259, 0.11674173, 1.]).reshape(3, 3)\n",
        "    proposed_matrix = cosine_similarity(toy_matrix, toy_matrix, transpose_q=True)\n",
        "    \n",
        "    assert np.allclose(proposed_matrix, true_matrix)\n",
        "\n",
        "    # There might be some numerical error that invalidates the np.equal check\n",
        "    assert np.allclose(proposed_matrix, proposed_matrix.transpose())\n",
        "\n",
        "    # Check symmetry\n",
        "    print(\"[Cosine similarity Evaluation] Symmetry checking...\")\n",
        "\n",
        "    is_sparse = False\n",
        "\n",
        "    if hasattr(scipy.sparse, type(similarity_matrix).__name__):\n",
        "        print(\"Detected sparse cosine similarity matrix!\")\n",
        "        is_sparse = True\n",
        "\n",
        "    if is_sparse:\n",
        "        try:\n",
        "            assert (similarity_matrix != similarity_matrix.transpose()).nnz == 0\n",
        "        except AssertionError:\n",
        "            assert sparse_allclose(similarity_matrix, similarity_matrix.transpose())\n",
        "    else:\n",
        "        # There might be some numerical error that invalidates the np.equal check\n",
        "        assert np.allclose(similarity_matrix, similarity_matrix.transpose())\n",
        "\n",
        "print('Evaluating cosine similarity...')\n",
        "evaluate_cosine_similarity(similarity_matrix)\n",
        "print('Evaluation completed!')"
      ],
      "execution_count": 11,
      "outputs": [
        {
          "output_type": "stream",
          "text": [
            "Computing similarity matrix...\n",
            "Similarity completed!\n",
            "Evaluating cosine similarity...\n",
            "[Cosine similarity Evaluation] Vector similarity check...\n",
            "[Cosine similarity Evaluation] Matrix similarity check...\n",
            "[Cosine similarity Evaluation] Symmetry checking...\n"
          ],
          "name": "stdout"
        },
        {
          "output_type": "stream",
          "text": [
            "/usr/local/lib/python3.6/dist-packages/ipykernel_launcher.py:35: DeprecationWarning: elementwise comparison failed; this will raise an error in the future.\n"
          ],
          "name": "stderr"
        },
        {
          "output_type": "stream",
          "text": [
            "Evaluation completed!\n"
          ],
          "name": "stdout"
        }
      ]
    },
    {
      "cell_type": "markdown",
      "metadata": {
        "id": "JPnB9NrHETC8"
      },
      "source": [
        "#### **[Let's play!] Synonyms and Antonyms**\n",
        "\n",
        "Look for some words and provide a possible explanation of achieved results according to cosine similarity metric (you can also refer to previous visualization step).\n",
        "\n",
        "* Synonym pair: (w1, w2) such that w1 and w2 are synonyms\n",
        "* Antonyms pair: (w1, w2) such that w1 and w2 are antonyms\n",
        "* Synonym-Antonym triplet: (w1, w2, w3) such that w1 and w2 are synonyms and w1 and w3 are antonyms\n",
        "\n",
        "You can also support your answer by checking word contexts of selected words."
      ]
    },
    {
      "cell_type": "code",
      "metadata": {
        "id": "3UvgENf2FsO5"
      },
      "source": [
        "### YOUR CODE HERE ###\n",
        "##############################\n",
        "#    SYNONYMS\n",
        "##############################\n",
        "import random \n",
        "'''\n",
        "function get_synonym_tokens\n",
        "param tokens: if null will return the synonyms of random words, otherwise the tokens's synonyms\n",
        "param n: to adjust the qty of words to analyze if tokens is null\n",
        "'''\n",
        "\n",
        "def visualize_words(kind, similarity_matrix, wordList, word_to_idx):\n",
        "  reduced_tSNE = reduce_tSNE(similarity_matrix)\n",
        "  for word in wordList:\n",
        "    tokens = wordList[word]\n",
        "    print(\"Type of the tokens {}\".format(type(tokens)))\n",
        "    print(\"The Word {} and its {}: \\n\".format(word, kind))\n",
        "    for t, c in get_cosine_sim(similarity_matrix, word_to_idx, word, tokens):\n",
        "      print(\"{} with cosine similarity = {}\".format(t, c))   \n",
        "    visualize_embeddings(reduced_tSNE, tokens, word_to_idx)\n",
        "    plt.show()\n",
        "\n",
        "def get_cosine_sim(similarity_matrix, word_to_idx, word, tokens):\n",
        "  '''\n",
        "  At the beginning I got the cosine similarity calculating for each pair if vector to be analyzed, but then I realized that \n",
        "  the indexes of the cosine similarity indicate the words, the results were obtained faster with this approach.\n",
        "  Below commented the way how I obtained the cosine similarity.\n",
        "\n",
        "  w1= 'woman'\n",
        "  w2 = 'lady'\n",
        "  #indexes = np.array([word_to_idx[word] for word in w1])\n",
        "  #candidate_vectors = co_occurrence_matrix[valid_indexes]\n",
        "  candidate_similarities = cosine_similarity(co_occurrence_matrix[word_to_idx[w1], : ], co_occurrence_matrix[word_to_idx[w2], : ], transpose_q=True)\n",
        "  print(candidate_similarities)\n",
        "\n",
        "  '''\n",
        "  cosines= []\n",
        "  if tokens: \n",
        "    for t in tokens:\n",
        "      yield t, similarity_matrix[word_to_idx[word], word_to_idx[t] ] \n",
        "\n",
        "# The dict below was created looking for some words in the vocab and consulting existing synonyms\n",
        "wordList_synonym = {\n",
        "              'woman':['girl', 'female', 'lady', 'miss' ]\n",
        "            , 'man':['guy','male','boy']\n",
        "            , 'good':['pleasurable','awesome','amazing', 'exceptional']\n",
        "            , 'beautiful':['lovely','pretty','gorgeous','cute']\n",
        "            , 'fierce':['savage', 'violent', 'powerful', 'angry']\n",
        "}\n",
        "\n",
        "\n",
        "'''\n",
        "Function: visualize_words\n",
        "wordList_antonyms: dictionary key: word, Values: List of synonyms\n",
        "'''\n",
        "visualize_words('Synonyms', similarity_matrix, wordList_synonym, word_to_idx)\n",
        "\n"
      ],
      "execution_count": null,
      "outputs": []
    },
    {
      "cell_type": "code",
      "metadata": {
        "id": "KWOKfrKHpxsz"
      },
      "source": [
        "### YOUR CODE HERE ###\n",
        "##############################\n",
        "#    ANTONYMS\n",
        "##############################\n",
        "\n",
        "# The dict below was created looking for some words in the vocab and consulting existing antonyms\n",
        "wordList_antonyms = {\n",
        "             'good':['unacceptable','unsatisfactory','unsuitable', 'incompetent']\n",
        "            , 'beautiful':['horrible','ugly','disgusting','grotesque']\n",
        "            , 'fierce':['calm', 'gentle', 'quiet', 'pleasant']\n",
        "}\n",
        "\n",
        "'''\n",
        "wordList_antonyms: dictionary key: word, Values: List of antonyms\n",
        "'''\n",
        "visualize_words('Antonyms', similarity_matrix, wordList_antonyms, word_to_idx)\n",
        "\n"
      ],
      "execution_count": null,
      "outputs": []
    },
    {
      "cell_type": "code",
      "metadata": {
        "id": "n7dZDCvMt6vq"
      },
      "source": [
        "### YOUR CODE HERE ###\n",
        "##############################\n",
        "#    SYNONYM, ANTONYMS\n",
        "##############################\n",
        "\n",
        "# The dict below was created looking for some words in the vocab and consulting existing synonyms - antonyms\n",
        "wordList_syn_antonyms = [\n",
        "             ['good', 'pleasurable', 'unacceptable']\n",
        "             , ['good', 'pleasurable', 'unsatisfactory']\n",
        "             , ['good', 'awesome', 'unsuitable']\n",
        "             , ['beautiful', 'lovely', 'horrible']\n",
        "             , ['beautiful', 'pretty', 'ugly']\n",
        "             , ['beautiful', 'cute', 'disgusting']\n",
        "             , ['fierce', 'angry', 'calm']\n",
        "             , ['fierce', 'violent', 'quiet']\n",
        "             , ['fierce', 'savage', 'pleasant']\n",
        "]\n",
        "\n",
        "'''\n",
        "wordList_syn_antonyms: List of Lists\n",
        "w1,w2,w3: w1 -w2 -> synonyms, w1-w3 -> antonyms\n",
        "'''\n",
        "visualize_words('Antonyms', similarity_matrix, wordList_syn_antonyms, word_to_idx)\n"
      ],
      "execution_count": null,
      "outputs": []
    },
    {
      "cell_type": "markdown",
      "metadata": {
        "id": "Hu38-5ZmFvMg"
      },
      "source": [
        "** **HOW DO YOU EXPLAIN THE RESULTS OBTAINED IN YOUR EXPERIMENTS? DISCUSS HERE** **\n",
        "\n",
        "Explanation:\n",
        "I created a dictionary with common words of the vocabulary, this step was done manually, iterating the vocaublary, finding synonyms and then only using the synonyms that appeared in the vocabulary, It is worth to say that the same procees was applied to the task of antonyms. For visualizing the results I used the embedding direct applied to the similarity matrix.\n",
        "Synonyms: I could see how close look the words in the graphic, there is 1 or 2 exceptions where it does not hold, one of the reason can be the window size used for creating the co occurence matrix or also the context of the words are different since one word can have several different meanings according to a specific context.\n",
        "\n",
        "Antonyms: On the other hand, can say that the visualizations of the antonyms chosen is such a good output. The words look distant each other how I expected. It is worth to say that here I could get words with cosine similarity = 0, meaning that they are compleally ortogonal/ opposite meangin how a good pair of antonyms should be."
      ]
    },
    {
      "cell_type": "markdown",
      "metadata": {
        "id": "mM5e-2kXF4XI"
      },
      "source": [
        "#### **[Let's play!] Analogies**\n",
        "\n",
        "\n",
        "Another useful property to check is analogy resolution via word vectors. In particular, we might want to check if analogies such \"man : king == woman : x\" bring results like \"x = queen\".\n",
        "\n",
        "In order to do so, we first need to define a ranking function that returns the top $K$ most similar words of a given word vector. We might not want to be too much restrctive and play with $K \\ge 1$."
      ]
    },
    {
      "cell_type": "code",
      "metadata": {
        "id": "xnoQdP-lGkzK"
      },
      "source": [
        "def get_top_K_indexes(data, K):\n",
        "    \"\"\"\n",
        "    Returns the top K indexes of a 1-dimensional array (descending order)\n",
        "    Example:\n",
        "        data = [0, 7, 2, 1]\n",
        "        best_indexes:\n",
        "        K = 1 -> [1] (data[1] = 7)\n",
        "        K = 2 -> [1, 2]\n",
        "        K = 3 -> [1, 2, 3]\n",
        "        K = 4 -> [1, 2, 3, 4]\n",
        "\n",
        "    :param data: 1-d dimensional array\n",
        "    :param K: number of highest value elements to consider\n",
        "\n",
        "    :return\n",
        "        - array of indexes corresponding to elements of highest value\n",
        "    \"\"\"\n",
        "    best_indexes = np.argsort(data, axis=0)[::-1]\n",
        "    best_indexes = best_indexes[:K]\n",
        "\n",
        "    return best_indexes\n",
        "\n",
        "def get_top_K_word_ranking(embedding_matrix, idx_to_word, word_to_idx,\n",
        "                           positive_listing, negative_listing, K):\n",
        "    \"\"\"\n",
        "    Finds the top K most similar words following this reasoning:\n",
        "        1. words that have highest similarity to words in positive_listing\n",
        "        2. words that have highest distance to words in negative_listing\n",
        "    \n",
        "    Positive and negative listing can be defined accordingly to a given analogy\n",
        "    Example:\n",
        "        \n",
        "        man : king :: woman : x\n",
        "    \n",
        "    positive_listing = ['king', 'woman']\n",
        "    negative_listing = ['man']\n",
        "\n",
        "    This is equivalent to: compute king - man + woman, and then find the\n",
        "    most similar candidate.\n",
        "    \n",
        "    :param embedding_matrix: embedding matrix of shape (words, embedding dimension).\n",
        "    Note that in the case of a co-occurrence matrix, the shape is (words, words).\n",
        "    :param idx_to_word: vocabulary map (index -> word) (dict)\n",
        "    :param word_to_idx: vocabulary map (word -> index) (dict)\n",
        "    :param positive_listing: list of words that should have high similarity with\n",
        "                             top K retrieved ones.\n",
        "    :param negative_listing: list of words that should have high distance to\n",
        "                             top K retrieved ones.\n",
        "    :param K: number of best word matches to consider\n",
        "\n",
        "    :return\n",
        "        - top K word matches according to aforementioned criterium\n",
        "        - similarity values of top K word matches according to aforementioned\n",
        "          criterium\n",
        "    \"\"\"\n",
        "\n",
        "\n",
        "\n",
        "    # Positive words (similarity)\n",
        "    positive_indexes = np.array([word_to_idx[word] for word in positive_listing])\n",
        "    word_positive_vector = np.sum(embedding_matrix[positive_indexes, :], axis=0)\n",
        "\n",
        "    # Negative words (distance)\n",
        "    negative_indexes = np.array([word_to_idx[word] for word in negative_listing])\n",
        "    word_negative_vector = np.sum(embedding_matrix[negative_indexes, :], axis=0)\n",
        "\n",
        "    # Find candidate words\n",
        "    target_vector = (word_positive_vector - word_negative_vector) / (len(positive_listing) + len(negative_listing))\n",
        "    total_indexes = np.concatenate((positive_indexes, negative_indexes))\n",
        "    valid_indexes = np.setdiff1d(np.arange(similarity_matrix.shape[0]), total_indexes)\n",
        "    candidate_vectors = embedding_matrix[valid_indexes]\n",
        "\n",
        "    candidate_similarities = cosine_similarity(candidate_vectors, target_vector, transpose_q=True)\n",
        "    candidate_similarities = candidate_similarities.ravel()\n",
        "\n",
        "    relative_indexes = get_top_K_indexes(candidate_similarities, K)\n",
        "    top_K_indexes = valid_indexes[relative_indexes]\n",
        "    top_K_words = [idx_to_word[idx] for idx in top_K_indexes]\n",
        "\n",
        "    return top_K_words, candidate_similarities[relative_indexes]\n"
      ],
      "execution_count": 27,
      "outputs": []
    },
    {
      "cell_type": "markdown",
      "metadata": {
        "id": "5V4c-mOpNem7"
      },
      "source": [
        "Now do it yourself! Find some examples of analogies that hold and other that do not. Remember to give a proper explanation concerning obtained results.\n",
        "\n",
        "**Note**: 1-2 examples are sufficient. This exercies is just another way to inspect word embeddings."
      ]
    },
    {
      "cell_type": "code",
      "metadata": {
        "id": "vva-_bylNxIE",
        "outputId": "db074d18-c07f-4d91-fcef-8ed19618cd82",
        "colab": {
          "base_uri": "https://localhost:8080/"
        }
      },
      "source": [
        "### MODIFY THIS ###\n",
        "K = 5\n",
        "\n",
        "# Example analogy: tv : episodes :: film : x\n",
        "# positive listing -> [episodes, film]\n",
        "# negative listing ->  [tv]\n",
        "# masterpiece : superb :: x : tragic\n",
        "'''\n",
        "Crating a dictionary with some analogies to proceed to analize them\n",
        "Key: negative list\n",
        "Values: Positive list\n",
        "'''\n",
        "words= {\n",
        "        'hummer': ['nail', 'hair']\n",
        "        ,'white' : ['black', 'good']\n",
        "        ,'like' : ['love', 'dislike']\n",
        "        ,'ice': ['cold', 'hot']\n",
        "        ,'radio': ['listen', 'tv']\n",
        "}\n",
        "\n",
        "for neg in words:\n",
        "  l = []\n",
        "  l.append(neg)\n",
        "  top_K_words, top_K_values = get_top_K_word_ranking(co_occurrence_matrix,\n",
        "                                                    idx_to_word,\n",
        "                                                    word_to_idx,\n",
        "                                                    words[neg],\n",
        "                                                    l,\n",
        "                                                    K)\n",
        "  print('\\n {} is a {} like {} to :'.format(l, words[neg][0], words[neg][1]))\n",
        "  print('Top K words: ', top_K_words)\n",
        "  print('Top K values: ', top_K_values)"
      ],
      "execution_count": null,
      "outputs": [
        {
          "output_type": "stream",
          "text": [
            "Working with Sparse matrix\n"
          ],
          "name": "stdout"
        },
        {
          "output_type": "stream",
          "text": [
            "/usr/local/lib/python3.6/dist-packages/ipykernel_launcher.py:35: DeprecationWarning: elementwise comparison failed; this will raise an error in the future.\n"
          ],
          "name": "stderr"
        },
        {
          "output_type": "stream",
          "text": [
            "Cosine Similarity with sparse matrixes executed in: 1.6509829679998802 s'\n",
            "\n",
            " ['hummer'] is a nail like hair to :\n",
            "Top K words:  ['curler', 'tub', 'electric', 'amazed', 'fasterbr']\n",
            "Top K values:  [0.43465914 0.34641016 0.34641016 0.26295029 0.25298221]\n",
            "Working with Sparse matrix\n"
          ],
          "name": "stdout"
        },
        {
          "output_type": "stream",
          "text": [
            "/usr/local/lib/python3.6/dist-packages/ipykernel_launcher.py:35: DeprecationWarning: elementwise comparison failed; this will raise an error in the future.\n"
          ],
          "name": "stderr"
        },
        {
          "output_type": "stream",
          "text": [
            "Cosine Similarity with sparse matrixes executed in: 1.6440265710007225 s'\n",
            "\n",
            " ['white'] is a black like good to :\n",
            "Top K words:  ['great', 'bad', 'well', 'made', 'like']\n",
            "Top K values:  [0.75961759 0.74805389 0.74103298 0.74053669 0.73793715]\n",
            "Working with Sparse matrix\n"
          ],
          "name": "stdout"
        },
        {
          "output_type": "stream",
          "text": [
            "/usr/local/lib/python3.6/dist-packages/ipykernel_launcher.py:35: DeprecationWarning: elementwise comparison failed; this will raise an error in the future.\n"
          ],
          "name": "stderr"
        },
        {
          "output_type": "stream",
          "text": [
            "Cosine Similarity with sparse matrixes executed in: 1.6512926270006574 s'\n",
            "\n",
            " ['like'] is a love like dislike to :\n",
            "Top K words:  ['dans', 'needles', 'qualification', 'bradbury', 'emmas']\n",
            "Top K values:  [0.05009466 0.0404826  0.03798054 0.03718564 0.0357819 ]\n",
            "Working with Sparse matrix\n"
          ],
          "name": "stdout"
        },
        {
          "output_type": "stream",
          "text": [
            "/usr/local/lib/python3.6/dist-packages/ipykernel_launcher.py:35: DeprecationWarning: elementwise comparison failed; this will raise an error in the future.\n"
          ],
          "name": "stderr"
        },
        {
          "output_type": "stream",
          "text": [
            "Cosine Similarity with sparse matrixes executed in: 1.6356238309999753 s'\n",
            "\n",
            " ['ice'] is a cold like hot to :\n",
            "Top K words:  ['film', 'movie', 'moviein', 'focal', 'like']\n",
            "Top K values:  [0.24116338 0.24112474 0.22522131 0.22522131 0.22100521]\n",
            "Working with Sparse matrix\n",
            "Cosine Similarity with sparse matrixes executed in: 1.636682316999213 s'\n",
            "\n",
            " ['radio'] is a listen like tv to :\n",
            "Top K words:  ['think', 'made', 'br', 'really', 'people']\n",
            "Top K values:  [0.61653048 0.61399577 0.60959493 0.6067594  0.59723414]\n"
          ],
          "name": "stdout"
        },
        {
          "output_type": "stream",
          "text": [
            "/usr/local/lib/python3.6/dist-packages/ipykernel_launcher.py:35: DeprecationWarning: elementwise comparison failed; this will raise an error in the future.\n"
          ],
          "name": "stderr"
        }
      ]
    },
    {
      "cell_type": "markdown",
      "metadata": {
        "id": "D2jJPJHbN3hR"
      },
      "source": [
        "** **HOW DO YOU EXPLAIN THE RESULTS OBTAINED IN YOUR EXPERIMENTS? DISCUSS HERE** **\n",
        "\n",
        "Honestly this part was not super successful =s. The analogies that I found were a bit weird, for sure the rol of the words and each different context affected the results. "
      ]
    },
    {
      "cell_type": "markdown",
      "metadata": {
        "id": "AxGPC1CC7mYn"
      },
      "source": [
        "#### **[Let's play!] Bias**\n",
        "\n",
        "When we talk about societies we are usually aware of their related biases (gender, race, sexual orientation, etc..). Indeed, this fact is reflected at textual level. For example, when we consider the word 'doctor' we usually think of a 'man', whereas when we consider the word 'nurse' we usually think of a 'woman'.\n",
        "\n",
        "Let's see if word embeddings reflect such harmful biases. Find an example of bias by following the analogy approach."
      ]
    },
    {
      "cell_type": "code",
      "metadata": {
        "id": "dkuKPZsJUPgH",
        "outputId": "2471fe79-60ff-42f0-a2ef-e5a5cb9037f6",
        "colab": {
          "base_uri": "https://localhost:8080/"
        }
      },
      "source": [
        "### YOUR CODE HERE ###\n",
        "\n",
        "'''\n",
        "Function get_similarity_vector\n",
        "Gets the cosine similarity beatween 2 vectors\n",
        "wordlist: List of strings to be analized\n",
        "vref: base vector to look for the similarities ex gender vector\n",
        "'''\n",
        "def get_similarity_vector(wordlist, vref):\n",
        "  for w in wordlist:\n",
        "    print(\"{} is related with: {}\".format(w, cosine_similarity( co_occurrence_matrix[word_to_idx[w], :] \n",
        "                                                                                     , vref ,transpose_q=True) ))\n",
        "'''\n",
        "Function get_words_do_appear\n",
        "Receives a list of words and return a new list only with the words that appear in the vocabulary\n",
        "word_listing: dictionary of words ( vocabulary)\n",
        "nlist: list to be analized\n",
        "'''\n",
        "def get_words_do_appear(nlist, word_listing):\n",
        "  l = []\n",
        "  for w in nlist:\n",
        "    if(w in word_listing):\n",
        "      l.append(w)\n",
        "  return l\n",
        "\n",
        "prof_list = []\n",
        "name_list = ['anna', 'olivia', 'sophia', 'emma', 'isabella', 'charlotte', 'mia'\n",
        "            'liam', 'noah', 'benjamin', 'mason', 'logan', 'james', 'oliver', 'michael'\n",
        "            ]\n",
        "name_list = get_words_do_appear(name_list, word_listing)\n",
        "rand_list = ['makeup', 'nails', 'boots', 'gun', 'videogames', 'technology', 'fashion', 'hair' \n",
        "             ,'intelligent', 'smart', 'music', 'creative', 'mother', 'mom', 'king', 'queen'\n",
        "             , 'doctor', 'nurse'\n",
        "            ]\n",
        "rand_list = get_words_do_appear(rand_list, word_listing)\n",
        "# Creating the vector of gender with a pair of representative general words: woman and man\n",
        "vw = co_occurrence_matrix[word_to_idx['woman'], :]\n",
        "vm = co_occurrence_matrix[word_to_idx['man'], :]\n",
        "print(\"Relationship Names - Gender: \\n\")\n",
        "get_similarity_vector( name_list, vw-vm)\n",
        "print(\"\\n Relationship Random Words - Gender: \\n\")\n",
        "get_similarity_vector( rand_list, vw-vm)"
      ],
      "execution_count": null,
      "outputs": [
        {
          "output_type": "stream",
          "text": [
            "Relationship Names - Gender: \n",
            "\n",
            "anna is related with: [[-0.04272106]]\n",
            "olivia is related with: [[-0.08791923]]\n",
            "emma is related with: [[-0.04374533]]\n",
            "isabella is related with: [[-0.06904767]]\n",
            "noah is related with: [[-0.01830903]]\n",
            "benjamin is related with: [[-0.04308835]]\n",
            "logan is related with: [[-0.01726192]]\n",
            "james is related with: [[-0.09251429]]\n",
            "oliver is related with: [[0.04603178]]\n",
            "michael is related with: [[-0.14127622]]\n",
            "\n",
            " Relationship Random Words - Gender: \n",
            "\n",
            "makeup is related with: [[-0.03690753]]\n",
            "boots is related with: [[-0.04983086]]\n",
            "gun is related with: [[-0.10811045]]\n",
            "technology is related with: [[-0.0640366]]\n",
            "fashion is related with: [[-0.09629249]]\n",
            "hair is related with: [[-0.09476704]]\n",
            "intelligent is related with: [[-0.04507371]]\n",
            "smart is related with: [[-0.10170165]]\n",
            "music is related with: [[-0.14238676]]\n",
            "creative is related with: [[-0.05624749]]\n",
            "mother is related with: [[-0.13095486]]\n",
            "mom is related with: [[-0.07323611]]\n",
            "king is related with: [[-0.11096947]]\n",
            "queen is related with: [[-0.06591765]]\n",
            "doctor is related with: [[-0.02270273]]\n",
            "nurse is related with: [[-0.11539647]]\n"
          ],
          "name": "stdout"
        }
      ]
    },
    {
      "cell_type": "markdown",
      "metadata": {
        "id": "twScPzVqUSmt"
      },
      "source": [
        "** **HOW DO YOU EXPLAIN THE RESULTS OBTAINED IN YOUR EXPERIMENTS? DISCUSS HERE** **\n",
        "\n",
        "Explanation: As similar as the analogies, the results obtained here are bad, adding to the previous explanation of the window size used for the encoding, the lack of semantic relationship between the words and also the small qunatity of samples might influence"
      ]
    },
    {
      "cell_type": "markdown",
      "metadata": {
        "id": "Y6cyDMwtLWQ4"
      },
      "source": [
        "## Better sparse word embeddings\n",
        "\n",
        "Until now we've played with the most basic type of word encoding, that is count-based co-occurrence matrix. However, there are better ways to encode words.\n",
        "\n",
        "In particular, we will explore positive pointwise mutual information (PPMI) weighting technique."
      ]
    },
    {
      "cell_type": "markdown",
      "metadata": {
        "id": "tvsS4nY6LjOm"
      },
      "source": [
        "### PPMI\n",
        "\n",
        "Pointwise mutual information (PMI) is a weighting technique, just like tf-dif, that gives more weight to word pairs based on how often they occur within the same context window that we would have expected them to appear by chance.\n",
        "\n",
        "$PMI(w1, w2) = \\log_2 \\frac{P(w1, w2)}{P(w1)P(w2)}$\n",
        "\n",
        "PMI value range is $[-\\infty, \\infty]$, but negative values are a bit tricky, unless we have a very big corpus. Thus, it is more common to replace all negative PMI values with zero.\n",
        "\n",
        "$PPMI(w1, w2) = \\max(\\log_2 \\frac{P(w1, w2)}{P(w1)P(w2)}, 0)$\n",
        "\n",
        "Now, it's your turn to weight the count-based co-occurrence matrix with PPMI technique.\n",
        "\n",
        "**PPMI Memo**: \n",
        "Given a co-occurrence matrix C of shape (N, M), we can turn it into a PPMI matrix as follows:\n",
        "\n",
        "$p_{i,j} = \\frac{C_{i, j}}{\\sum_{i=1}^N \\sum_{j=1}^M C_{i,j}}$\n",
        "\n",
        "$p_{i,*} = \\frac{\\sum_{j=1}^M C_{i, j}}{\\sum_{i=1}^N \\sum_{j=1}^M C_{i,j}}$\n",
        "\n",
        "$p_{*,j} = \\frac{\\sum_{i=1}^N C_{i, j}}{\\sum_{i=1}^N \\sum_{j=1}^M C_{i,j}}$\n",
        "\n",
        "$PPMI_{i, j} = \\max(\\log_2 \\frac{p_{i, j}}{p_{i, *} \\, p_{*, j}}, 0)$"
      ]
    },
    {
      "cell_type": "code",
      "metadata": {
        "id": "8DcQJ1dvmCY2",
        "outputId": "4b2611fd-b793-4a2b-ff3a-1bcb8bde99cf",
        "colab": {
          "base_uri": "https://localhost:8080/"
        }
      },
      "source": [
        "# Function definition\n",
        "\n",
        "def convert_ppmi(co_occurrence_matrix):\n",
        "    \"\"\"\n",
        "    Converts a count-based co-occurrence matrix to a PPMI matrix\n",
        "    :param co_occurrence_matrix: count based co-occurrence matrix of shape (|V|, |V|)\n",
        "    :return\n",
        "        - PPMI co-occurrence matrix of shape (|V|, |V|)\n",
        "    \"\"\"\n",
        "\n",
        "    ### YOUR CODE HERE ###\n",
        "    #if not hasattr(scipy.sparse, type(co_occurrence_matrix).__name__):\n",
        "    C = co_occurrence_matrix\n",
        "    ct = C.sum(axis=0)\n",
        "    total = ct.sum()\n",
        "    rt = C.sum(axis=1)\n",
        "    expected = np.outer(rt, ct) / total\n",
        "    C = C / expected\n",
        "    pmi = np.log2(C)\n",
        "    ppmi = np.maximum(0, pmi)  # take positive only\n",
        "    return ppmi\n",
        "\n",
        "# Testing\n",
        "\n",
        "print(\"Computing PPMI co-occurrence matrix...\")\n",
        "ppmi_occurrence_matrix = convert_ppmi(co_occurrence_matrix)\n",
        "print(\"Shape is {}\".format(ppmi_occurrence_matrix.shape))\n",
        "print(\"PPMI completed!\")\n",
        "\n",
        "# Evaluation\n",
        "\n",
        "def evaluate_ppmi_matrix(matrix):\n",
        "    is_sparse = False\n",
        "\n",
        "    if hasattr(scipy.sparse, type(matrix).__name__):\n",
        "        print(\"Detected sparse PPMI co-occurrence matrix!\")\n",
        "        is_sparse = True\n",
        "\n",
        "    print(\"Value of Is Sparse variable: {}\".format(is_sparse))\n",
        "    # Check symmetry\n",
        "    print(\"[Co-occurrence PPMI matrix Evaluation] Symmetry checking...\")\n",
        "    if is_sparse:\n",
        "        try:\n",
        "            assert (matrix != matrix.transpose()).nnz == 0\n",
        "        except AssertionError:\n",
        "            assert sparse_allclose(matrix, matrix.transpose())\n",
        "    else:\n",
        "        try:\n",
        "            assert np.equal(matrix, matrix.transpose()).all()\n",
        "        except AssertionError:\n",
        "            assert np.allclose(matrix, matrix.transpose())\n",
        "\n",
        "    # A very simple example\n",
        "    print(\"[Co-occurrence PPMI matrix Evaluation] Toy example checking...\")\n",
        "\n",
        "    toy_df = pd.DataFrame.from_dict({\n",
        "        'sentence_1': [\"All that glitters is not gold\"],\n",
        "        'sentence_2': [\"All in all I like this assignment\"]\n",
        "    })\n",
        "\n",
        "    # We should already have download co-occurrence benchmark data\n",
        "    benchmark_path = os.path.join(os.getcwd(), 'Benchmark')\n",
        "    toy_path = os.path.join(benchmark_path, 'co-occurrence_count_benchmark')\n",
        "    toy_idx_to_word = np.load(os.path.join(toy_path, 'toy_idx_to_word.npy'), allow_pickle=True).item()\n",
        "    toy_word_to_idx = np.load(os.path.join(toy_path, 'toy_word_to_idx.npy'), allow_pickle=True).item()\n",
        "    toy_valid_matrix = np.load(os.path.join(toy_path, 'toy_co_occurrence_matrix_count.npy'))\n",
        "\n",
        "    toy_ppmi_matrix = convert_ppmi(toy_valid_matrix)\n",
        "    toy_valid_ppmi_matrix = np.load(os.path.join(toy_path, 'toy_co_occurrence_matrix_ppmi.npy'))\n",
        "\n",
        "    print(\"1st: {}\".format(toy_ppmi_matrix))\n",
        "    print(\"2nd: {}\".format(toy_valid_ppmi_matrix))\n",
        "\n",
        "    if is_sparse:\n",
        "        try:\n",
        "            assert (toy_ppmi_matrix != toy_valid_ppmi_matrix).nnz == 0\n",
        "        except AssertionError:\n",
        "            assert sparse_allclose(toy_ppmi_matrix, toy_valid_ppmi_matrix)\n",
        "    else:\n",
        "        try:\n",
        "            assert np.equal(toy_ppmi_matrix, toy_valid_ppmi_matrix).all()\n",
        "        except AssertionError:\n",
        "            assert np.allclose(toy_ppmi_matrix, toy_valid_ppmi_matrix)\n",
        "\n",
        "print('Evaluating PPMi matrix conversion...')\n",
        "evaluate_ppmi_matrix(ppmi_occurrence_matrix)\n",
        "print('Evaluation completed!')\n"
      ],
      "execution_count": 12,
      "outputs": [
        {
          "output_type": "stream",
          "text": [
            "Computing PPMI co-occurrence matrix...\n"
          ],
          "name": "stdout"
        },
        {
          "output_type": "stream",
          "text": [
            "/usr/local/lib/python3.6/dist-packages/ipykernel_launcher.py:19: RuntimeWarning: divide by zero encountered in log2\n"
          ],
          "name": "stderr"
        },
        {
          "output_type": "stream",
          "text": [
            "Shape is (13892, 13892)\n",
            "PPMI completed!\n",
            "Evaluating PPMi matrix conversion...\n",
            "Value of Is Sparse variable: False\n",
            "[Co-occurrence PPMI matrix Evaluation] Symmetry checking...\n",
            "[Co-occurrence PPMI matrix Evaluation] Toy example checking...\n",
            "1st: [[0.        1.4594316 0.        0.        0.        0.        2.4594316\n",
            "  1.4594316 0.        0.        0.       ]\n",
            " [1.4594316 0.        2.4594316 0.        0.        0.        0.\n",
            "  0.        0.        0.        0.       ]\n",
            " [0.        2.4594316 0.        2.4594316 0.        0.        0.\n",
            "  0.        0.        0.        0.       ]\n",
            " [0.        0.        2.4594316 0.        2.4594316 0.        0.\n",
            "  0.        0.        0.        0.       ]\n",
            " [0.        0.        0.        2.4594316 0.        3.4594316 0.\n",
            "  0.        0.        0.        0.       ]\n",
            " [0.        0.        0.        0.        3.4594316 0.        0.\n",
            "  0.        0.        0.        0.       ]\n",
            " [2.4594316 0.        0.        0.        0.        0.        0.\n",
            "  0.        0.        0.        0.       ]\n",
            " [1.4594316 0.        0.        0.        0.        0.        0.\n",
            "  0.        2.4594316 0.        0.       ]\n",
            " [0.        0.        0.        0.        0.        0.        0.\n",
            "  2.4594316 0.        2.4594316 0.       ]\n",
            " [0.        0.        0.        0.        0.        0.        0.\n",
            "  0.        2.4594316 0.        3.4594316]\n",
            " [0.        0.        0.        0.        0.        0.        0.\n",
            "  0.        0.        3.4594316 0.       ]]\n",
            "2nd: [[0.        1.4594316 0.        0.        0.        0.        2.4594316\n",
            "  1.4594316 0.        0.        0.       ]\n",
            " [1.4594316 0.        2.4594316 0.        0.        0.        0.\n",
            "  0.        0.        0.        0.       ]\n",
            " [0.        2.4594316 0.        2.4594316 0.        0.        0.\n",
            "  0.        0.        0.        0.       ]\n",
            " [0.        0.        2.4594316 0.        2.4594316 0.        0.\n",
            "  0.        0.        0.        0.       ]\n",
            " [0.        0.        0.        2.4594316 0.        3.4594316 0.\n",
            "  0.        0.        0.        0.       ]\n",
            " [0.        0.        0.        0.        3.4594316 0.        0.\n",
            "  0.        0.        0.        0.       ]\n",
            " [2.4594316 0.        0.        0.        0.        0.        0.\n",
            "  0.        0.        0.        0.       ]\n",
            " [1.4594316 0.        0.        0.        0.        0.        0.\n",
            "  0.        2.4594316 0.        0.       ]\n",
            " [0.        0.        0.        0.        0.        0.        0.\n",
            "  2.4594316 0.        2.4594316 0.       ]\n",
            " [0.        0.        0.        0.        0.        0.        0.\n",
            "  0.        2.4594316 0.        3.4594316]\n",
            " [0.        0.        0.        0.        0.        0.        0.\n",
            "  0.        0.        3.4594316 0.       ]]\n",
            "Evaluation completed!\n"
          ],
          "name": "stdout"
        }
      ]
    },
    {
      "cell_type": "markdown",
      "metadata": {
        "id": "JQwP1ee1_NPV"
      },
      "source": [
        "### **Got Stuck?**\n",
        "\n",
        "If you are stuck, but still want to try out following sections, you can experiment with a valid PPMI co-occurrence matrix provided by us as follows"
      ]
    },
    {
      "cell_type": "code",
      "metadata": {
        "id": "EdRRGT6Z_QSE",
        "outputId": "3e67e1ae-fdf5-46e0-fe5e-bd9e6c8b787b",
        "colab": {
          "base_uri": "https://localhost:8080/"
        }
      },
      "source": [
        "benchmark_path = os.path.join(os.getcwd(), 'Benchmark')\n",
        "valid_data_benchmark_path = os.path.join(benchmark_path, 'co-occurrence_count_benchmark', \"{}.npy\")\n",
        "\n",
        "ppmi_occurrence_matrix = np.load(valid_data_benchmark_path.format('valid_co-occurrence_matrix_ppmi'))\n",
        "\n",
        "print('PPMI Co-occurrence matrix shape: ', ppmi_occurrence_matrix.shape)"
      ],
      "execution_count": 18,
      "outputs": [
        {
          "output_type": "stream",
          "text": [
            "PPMI Co-occurrence matrix shape:  (14244, 14244)\n"
          ],
          "name": "stdout"
        }
      ]
    },
    {
      "cell_type": "markdown",
      "metadata": {
        "id": "lQOx7ZtLyJTn"
      },
      "source": [
        "### Visualization (cont'd)\n",
        "\n",
        "Let's see if these weighting techniques have brought some change at visualization level!\n",
        "\n",
        "Pick a dimensionality reduction technique and explore the new embedding space."
      ]
    },
    {
      "cell_type": "code",
      "metadata": {
        "id": "sa2E6yWDyb39"
      },
      "source": [
        "### YOUR CODE HERE ###\n",
        "\n",
        "reduced_tSNE = reduce_tSNE(ppmi_occurrence_matrix)\n",
        "visualize_embeddings(reduced_tSNE, ['woman','girl', 'female', 'lady', 'miss'], word_to_idx)"
      ],
      "execution_count": null,
      "outputs": []
    },
    {
      "cell_type": "markdown",
      "metadata": {
        "id": "E7Ud--aA8Jlw"
      },
      "source": [
        "Feel free to play with visualization!"
      ]
    },
    {
      "cell_type": "code",
      "metadata": {
        "id": "AvyDUtKM8LXf"
      },
      "source": [
        "### YOUR CODE HERE ###\n",
        "\n",
        "import random\n",
        "words = []\n",
        "for i in range(5):\n",
        "  word, idx =  random.choice(list(word_to_idx.items()))\n",
        "  words. append(word)\n",
        "print(\"The words picked are: {}\".format(words))\n",
        "#visualize_embeddings(reduced_SVD, ['good', 'love', 'beautiful'], word_to_idx)\n",
        "visualize_embeddings(reduced_tSNE, words, word_to_idx)"
      ],
      "execution_count": null,
      "outputs": []
    },
    {
      "cell_type": "markdown",
      "metadata": {
        "id": "ZY70qU-53rFy"
      },
      "source": [
        "### [Let's play!] Embedding properties (cont'd)\n",
        "\n",
        "Choose a word embedding property to analyse (synonyms, analogies, bias) and either select and describe a new example or pick an old one and compare previously achieved results with current ones!"
      ]
    },
    {
      "cell_type": "code",
      "metadata": {
        "id": "qGvEcMrs4Yvq",
        "outputId": "62d2ebfa-dc8d-4e97-d5de-15b2ab3cd6f8",
        "colab": {
          "base_uri": "https://localhost:8080/",
          "height": 415
        }
      },
      "source": [
        "### YOUR CODE HERE  ###\n",
        "\n",
        "wordList_synonym = {\n",
        "              'woman':['girl', 'female', 'lady', 'miss' ]\n",
        "            , 'man':['guy','male','boy']\n",
        "}\n",
        "\n",
        "# Old embedding and new one\n",
        "reduced_tSNE_co = reduce_tSNE(co_occurrence_matrix)\n",
        "for w in wordList_synonym:\n",
        "  tokens = wordList[word]\n",
        "  for t in tokens:\n",
        "    cos_co  = cosine_similarity(co_occurrence_matrix[word_to_idx[w], :] \n",
        "                                , co_occurrence_matrix[word_to_idx[t], :] ,transpose_q=True) \n",
        "    print(\"The Word {} and its synonyms: \\n\".format(w))\n",
        "    print(\"{} with cosine similarity using Co occurrence: {}  \".format(t, cos_co)) \n",
        "  print(\"Co Occurrence Embedding\")\n",
        "  visualize_embeddings(reduced_tSNE_co, tokens, word_to_idx)\n",
        "  plt.show()\n",
        "\n"
      ],
      "execution_count": 18,
      "outputs": [
        {
          "output_type": "stream",
          "text": [
            "Running t-SNE reduction method... (it may take a while...)\n"
          ],
          "name": "stdout"
        },
        {
          "output_type": "error",
          "ename": "KeyboardInterrupt",
          "evalue": "ignored",
          "traceback": [
            "\u001b[0;31m---------------------------------------------------------------------------\u001b[0m",
            "\u001b[0;31mKeyboardInterrupt\u001b[0m                         Traceback (most recent call last)",
            "\u001b[0;32m<ipython-input-18-646918305327>\u001b[0m in \u001b[0;36m<module>\u001b[0;34m()\u001b[0m\n\u001b[1;32m      7\u001b[0m \u001b[0;34m\u001b[0m\u001b[0m\n\u001b[1;32m      8\u001b[0m \u001b[0;31m# Old embedding and new one\u001b[0m\u001b[0;34m\u001b[0m\u001b[0;34m\u001b[0m\u001b[0;34m\u001b[0m\u001b[0m\n\u001b[0;32m----> 9\u001b[0;31m \u001b[0mreduced_tSNE_co\u001b[0m \u001b[0;34m=\u001b[0m \u001b[0mreduce_tSNE\u001b[0m\u001b[0;34m(\u001b[0m\u001b[0mco_occurrence_matrix\u001b[0m\u001b[0;34m)\u001b[0m\u001b[0;34m\u001b[0m\u001b[0;34m\u001b[0m\u001b[0m\n\u001b[0m\u001b[1;32m     10\u001b[0m \u001b[0;32mfor\u001b[0m \u001b[0mw\u001b[0m \u001b[0;32min\u001b[0m \u001b[0mwordList_synonym\u001b[0m\u001b[0;34m:\u001b[0m\u001b[0;34m\u001b[0m\u001b[0;34m\u001b[0m\u001b[0m\n\u001b[1;32m     11\u001b[0m   \u001b[0mtokens\u001b[0m \u001b[0;34m=\u001b[0m \u001b[0mwordList\u001b[0m\u001b[0;34m[\u001b[0m\u001b[0mword\u001b[0m\u001b[0;34m]\u001b[0m\u001b[0;34m\u001b[0m\u001b[0;34m\u001b[0m\u001b[0m\n",
            "\u001b[0;32m<ipython-input-10-0aa9c5be5d91>\u001b[0m in \u001b[0;36mreduce_tSNE\u001b[0;34m(embeddings)\u001b[0m\n\u001b[1;32m     89\u001b[0m     \u001b[0mprint\u001b[0m\u001b[0;34m(\u001b[0m\u001b[0;34m\"Running t-SNE reduction method... (it may take a while...)\"\u001b[0m\u001b[0;34m)\u001b[0m\u001b[0;34m\u001b[0m\u001b[0;34m\u001b[0m\u001b[0m\n\u001b[1;32m     90\u001b[0m     \u001b[0mtsne\u001b[0m \u001b[0;34m=\u001b[0m \u001b[0mTSNE\u001b[0m\u001b[0;34m(\u001b[0m\u001b[0mn_components\u001b[0m\u001b[0;34m=\u001b[0m\u001b[0;36m2\u001b[0m\u001b[0;34m,\u001b[0m \u001b[0mrandom_state\u001b[0m\u001b[0;34m=\u001b[0m\u001b[0;36m42\u001b[0m\u001b[0;34m,\u001b[0m \u001b[0mn_iter\u001b[0m\u001b[0;34m=\u001b[0m\u001b[0;36m1000\u001b[0m\u001b[0;34m,\u001b[0m \u001b[0mmetric\u001b[0m\u001b[0;34m=\u001b[0m\u001b[0;34m'cosine'\u001b[0m\u001b[0;34m,\u001b[0m \u001b[0mn_jobs\u001b[0m\u001b[0;34m=\u001b[0m\u001b[0;36m2\u001b[0m\u001b[0;34m)\u001b[0m\u001b[0;34m\u001b[0m\u001b[0;34m\u001b[0m\u001b[0m\n\u001b[0;32m---> 91\u001b[0;31m     \u001b[0mreduced\u001b[0m \u001b[0;34m=\u001b[0m \u001b[0mtsne\u001b[0m\u001b[0;34m.\u001b[0m\u001b[0mfit_transform\u001b[0m\u001b[0;34m(\u001b[0m\u001b[0membeddings\u001b[0m\u001b[0;34m)\u001b[0m\u001b[0;34m\u001b[0m\u001b[0;34m\u001b[0m\u001b[0m\n\u001b[0m\u001b[1;32m     92\u001b[0m     \u001b[0mprint\u001b[0m\u001b[0;34m(\u001b[0m\u001b[0;34m\"t-SNE reduction completed!\"\u001b[0m\u001b[0;34m)\u001b[0m\u001b[0;34m\u001b[0m\u001b[0;34m\u001b[0m\u001b[0m\n\u001b[1;32m     93\u001b[0m     \u001b[0mprint\u001b[0m\u001b[0;34m(\u001b[0m\u001b[0mreduced\u001b[0m\u001b[0;34m.\u001b[0m\u001b[0mshape\u001b[0m\u001b[0;34m)\u001b[0m\u001b[0;34m\u001b[0m\u001b[0;34m\u001b[0m\u001b[0m\n",
            "\u001b[0;32m/usr/local/lib/python3.6/dist-packages/sklearn/manifold/_t_sne.py\u001b[0m in \u001b[0;36mfit_transform\u001b[0;34m(self, X, y)\u001b[0m\n\u001b[1;32m    884\u001b[0m             \u001b[0mEmbedding\u001b[0m \u001b[0mof\u001b[0m \u001b[0mthe\u001b[0m \u001b[0mtraining\u001b[0m \u001b[0mdata\u001b[0m \u001b[0;32min\u001b[0m \u001b[0mlow\u001b[0m\u001b[0;34m-\u001b[0m\u001b[0mdimensional\u001b[0m \u001b[0mspace\u001b[0m\u001b[0;34m.\u001b[0m\u001b[0;34m\u001b[0m\u001b[0;34m\u001b[0m\u001b[0m\n\u001b[1;32m    885\u001b[0m         \"\"\"\n\u001b[0;32m--> 886\u001b[0;31m         \u001b[0membedding\u001b[0m \u001b[0;34m=\u001b[0m \u001b[0mself\u001b[0m\u001b[0;34m.\u001b[0m\u001b[0m_fit\u001b[0m\u001b[0;34m(\u001b[0m\u001b[0mX\u001b[0m\u001b[0;34m)\u001b[0m\u001b[0;34m\u001b[0m\u001b[0;34m\u001b[0m\u001b[0m\n\u001b[0m\u001b[1;32m    887\u001b[0m         \u001b[0mself\u001b[0m\u001b[0;34m.\u001b[0m\u001b[0membedding_\u001b[0m \u001b[0;34m=\u001b[0m \u001b[0membedding\u001b[0m\u001b[0;34m\u001b[0m\u001b[0;34m\u001b[0m\u001b[0m\n\u001b[1;32m    888\u001b[0m         \u001b[0;32mreturn\u001b[0m \u001b[0mself\u001b[0m\u001b[0;34m.\u001b[0m\u001b[0membedding_\u001b[0m\u001b[0;34m\u001b[0m\u001b[0;34m\u001b[0m\u001b[0m\n",
            "\u001b[0;32m/usr/local/lib/python3.6/dist-packages/sklearn/manifold/_t_sne.py\u001b[0m in \u001b[0;36m_fit\u001b[0;34m(self, X, skip_num_points)\u001b[0m\n\u001b[1;32m    796\u001b[0m                           \u001b[0mX_embedded\u001b[0m\u001b[0;34m=\u001b[0m\u001b[0mX_embedded\u001b[0m\u001b[0;34m,\u001b[0m\u001b[0;34m\u001b[0m\u001b[0;34m\u001b[0m\u001b[0m\n\u001b[1;32m    797\u001b[0m                           \u001b[0mneighbors\u001b[0m\u001b[0;34m=\u001b[0m\u001b[0mneighbors_nn\u001b[0m\u001b[0;34m,\u001b[0m\u001b[0;34m\u001b[0m\u001b[0;34m\u001b[0m\u001b[0m\n\u001b[0;32m--> 798\u001b[0;31m                           skip_num_points=skip_num_points)\n\u001b[0m\u001b[1;32m    799\u001b[0m \u001b[0;34m\u001b[0m\u001b[0m\n\u001b[1;32m    800\u001b[0m     def _tsne(self, P, degrees_of_freedom, n_samples, X_embedded,\n",
            "\u001b[0;32m/usr/local/lib/python3.6/dist-packages/sklearn/manifold/_t_sne.py\u001b[0m in \u001b[0;36m_tsne\u001b[0;34m(self, P, degrees_of_freedom, n_samples, X_embedded, neighbors, skip_num_points)\u001b[0m\n\u001b[1;32m    850\u001b[0m             \u001b[0mopt_args\u001b[0m\u001b[0;34m[\u001b[0m\u001b[0;34m'n_iter_without_progress'\u001b[0m\u001b[0;34m]\u001b[0m \u001b[0;34m=\u001b[0m \u001b[0mself\u001b[0m\u001b[0;34m.\u001b[0m\u001b[0mn_iter_without_progress\u001b[0m\u001b[0;34m\u001b[0m\u001b[0;34m\u001b[0m\u001b[0m\n\u001b[1;32m    851\u001b[0m             params, kl_divergence, it = _gradient_descent(obj_func, params,\n\u001b[0;32m--> 852\u001b[0;31m                                                           **opt_args)\n\u001b[0m\u001b[1;32m    853\u001b[0m \u001b[0;34m\u001b[0m\u001b[0m\n\u001b[1;32m    854\u001b[0m         \u001b[0;31m# Save the final number of iterations\u001b[0m\u001b[0;34m\u001b[0m\u001b[0;34m\u001b[0m\u001b[0;34m\u001b[0m\u001b[0m\n",
            "\u001b[0;32m/usr/local/lib/python3.6/dist-packages/sklearn/manifold/_t_sne.py\u001b[0m in \u001b[0;36m_gradient_descent\u001b[0;34m(objective, p0, it, n_iter, n_iter_check, n_iter_without_progress, momentum, learning_rate, min_gain, min_grad_norm, verbose, args, kwargs)\u001b[0m\n\u001b[1;32m    356\u001b[0m         \u001b[0mkwargs\u001b[0m\u001b[0;34m[\u001b[0m\u001b[0;34m'compute_error'\u001b[0m\u001b[0;34m]\u001b[0m \u001b[0;34m=\u001b[0m \u001b[0mcheck_convergence\u001b[0m \u001b[0;32mor\u001b[0m \u001b[0mi\u001b[0m \u001b[0;34m==\u001b[0m \u001b[0mn_iter\u001b[0m \u001b[0;34m-\u001b[0m \u001b[0;36m1\u001b[0m\u001b[0;34m\u001b[0m\u001b[0;34m\u001b[0m\u001b[0m\n\u001b[1;32m    357\u001b[0m \u001b[0;34m\u001b[0m\u001b[0m\n\u001b[0;32m--> 358\u001b[0;31m         \u001b[0merror\u001b[0m\u001b[0;34m,\u001b[0m \u001b[0mgrad\u001b[0m \u001b[0;34m=\u001b[0m \u001b[0mobjective\u001b[0m\u001b[0;34m(\u001b[0m\u001b[0mp\u001b[0m\u001b[0;34m,\u001b[0m \u001b[0;34m*\u001b[0m\u001b[0margs\u001b[0m\u001b[0;34m,\u001b[0m \u001b[0;34m**\u001b[0m\u001b[0mkwargs\u001b[0m\u001b[0;34m)\u001b[0m\u001b[0;34m\u001b[0m\u001b[0;34m\u001b[0m\u001b[0m\n\u001b[0m\u001b[1;32m    359\u001b[0m         \u001b[0mgrad_norm\u001b[0m \u001b[0;34m=\u001b[0m \u001b[0mlinalg\u001b[0m\u001b[0;34m.\u001b[0m\u001b[0mnorm\u001b[0m\u001b[0;34m(\u001b[0m\u001b[0mgrad\u001b[0m\u001b[0;34m)\u001b[0m\u001b[0;34m\u001b[0m\u001b[0;34m\u001b[0m\u001b[0m\n\u001b[1;32m    360\u001b[0m \u001b[0;34m\u001b[0m\u001b[0m\n",
            "\u001b[0;32m/usr/local/lib/python3.6/dist-packages/sklearn/manifold/_t_sne.py\u001b[0m in \u001b[0;36m_kl_divergence_bh\u001b[0;34m(params, P, degrees_of_freedom, n_samples, n_components, angle, skip_num_points, verbose, compute_error, num_threads)\u001b[0m\n\u001b[1;32m    260\u001b[0m                                       \u001b[0mdof\u001b[0m\u001b[0;34m=\u001b[0m\u001b[0mdegrees_of_freedom\u001b[0m\u001b[0;34m,\u001b[0m\u001b[0;34m\u001b[0m\u001b[0;34m\u001b[0m\u001b[0m\n\u001b[1;32m    261\u001b[0m                                       \u001b[0mcompute_error\u001b[0m\u001b[0;34m=\u001b[0m\u001b[0mcompute_error\u001b[0m\u001b[0;34m,\u001b[0m\u001b[0;34m\u001b[0m\u001b[0;34m\u001b[0m\u001b[0m\n\u001b[0;32m--> 262\u001b[0;31m                                       num_threads=num_threads)\n\u001b[0m\u001b[1;32m    263\u001b[0m     \u001b[0mc\u001b[0m \u001b[0;34m=\u001b[0m \u001b[0;36m2.0\u001b[0m \u001b[0;34m*\u001b[0m \u001b[0;34m(\u001b[0m\u001b[0mdegrees_of_freedom\u001b[0m \u001b[0;34m+\u001b[0m \u001b[0;36m1.0\u001b[0m\u001b[0;34m)\u001b[0m \u001b[0;34m/\u001b[0m \u001b[0mdegrees_of_freedom\u001b[0m\u001b[0;34m\u001b[0m\u001b[0;34m\u001b[0m\u001b[0m\n\u001b[1;32m    264\u001b[0m     \u001b[0mgrad\u001b[0m \u001b[0;34m=\u001b[0m \u001b[0mgrad\u001b[0m\u001b[0;34m.\u001b[0m\u001b[0mravel\u001b[0m\u001b[0;34m(\u001b[0m\u001b[0;34m)\u001b[0m\u001b[0;34m\u001b[0m\u001b[0;34m\u001b[0m\u001b[0m\n",
            "\u001b[0;31mKeyboardInterrupt\u001b[0m: "
          ]
        }
      ]
    },
    {
      "cell_type": "code",
      "metadata": {
        "id": "bvYTDQ_h9ljS"
      },
      "source": [
        "for w in wordList_synonym:\n",
        "  tokens = wordList[word]\n",
        "  for t in tokens:\n",
        "    cos_ppmi = cosine_similarity(ppmi_occurrence_matrix[word_to_idx[w], :] \n",
        "                                 , co_occurrence_matrix[word_to_idx[t], :] ,transpose_q=True) \n",
        "    print(\"The Word {} and its synonyms: \\n\".format(w))\n",
        "    print(\"{} with cosine similarity using PPMI: {} \".format(t, cos_ppmi)) \n",
        "  print(\"PPMI Embedding\")\n",
        "  visualize_embeddings(reduced_tSNE_ppmi, tokens, word_to_idx)\n",
        "  plt.show()"
      ],
      "execution_count": null,
      "outputs": []
    },
    {
      "cell_type": "markdown",
      "metadata": {
        "id": "tc4YevLsx3xY"
      },
      "source": [
        "# [Part II] Dense embeddings\n",
        "\n",
        "Until now we've worked with sparse embedding methods, which lead to high dimensional word embeddings (dimension equal to |V|). The main drawback of such approach is that words belong to separate dimensions. Thus, in order to check if two words have similar contexts we need to have a large corpus available.\n",
        "\n",
        "To this end, we might prefer a dense embedding technique, such that all words are encoded to high dimensional space, much smaller than |V| (generally up to $\\sim$ 1000). A dense representation is also convenient from a machine learning point of view: we have fewer parameters to learn and, thus, models are less prone to overfitting. Moreover, words do not belong to separate dimensions anymore and semantic relationships are easily modelled.\n",
        "\n",
        "In this section, we will experiment with pre-trained dense embedding models and compare them to previously described sparse methods."
      ]
    },
    {
      "cell_type": "markdown",
      "metadata": {
        "id": "4i_gxgZK5VGM"
      },
      "source": [
        "## Working with a pre-trained model\n",
        "\n",
        "The first step consists in choosing and downloading a pre-trained embedding model. For the purpose of this assignment, we limit to classic models, such as Word2Vec and GloVe.\n",
        "\n",
        "Furthermore, some pre-trained embedding model versions may be quite resource demanding, depending on the embedding dimension and on the vocabulary size. We recommend sticking to low dimensional spaces (50, 100, 200) to avoid being stuck waiting for too much time."
      ]
    },
    {
      "cell_type": "markdown",
      "metadata": {
        "id": "zoU1fqAs5XxI"
      },
      "source": [
        "### Download embedding model\n",
        "\n",
        "Downloading a pre-trained embedding model is quite simple to due existing ad hoc wrappers. In particular, we will use [Gensim](https://radimrehurek.com/gensim/) library for both embedding models as follows."
      ]
    },
    {
      "cell_type": "code",
      "metadata": {
        "id": "LV0RQIFT-Sd3"
      },
      "source": [
        "import gensim\n",
        "import gensim.downloader as gloader\n",
        "\n",
        "def load_embedding_model(model_type, embedding_dimension=50):\n",
        "    \"\"\"\n",
        "    Loads a pre-trained word embedding model via gensim library.\n",
        "\n",
        "    :param model_type: name of the word embedding model to load.\n",
        "    :param embedding_dimension: size of the embedding space to consider\n",
        "\n",
        "    :return\n",
        "        - pre-trained word embedding model (gensim KeyedVectors object)\n",
        "    \"\"\"\n",
        "\n",
        "    download_path = \"\"\n",
        "\n",
        "    # Find the correct embedding model name\n",
        "    if model_type.strip().lower() == 'word2vec':\n",
        "        download_path = \"word2vec-google-news-300\"\n",
        "\n",
        "    elif model_type.strip().lower() == 'glove':\n",
        "        download_path = \"glove-wiki-gigaword-{}\".format(embedding_dimension)\n",
        "\n",
        "    else:\n",
        "        raise AttributeError(\"Unsupported embedding model type! Available ones: word2vec, glove\")\n",
        "\n",
        "    # Check download\n",
        "    try:\n",
        "        emb_model = gloader.load(download_path)\n",
        "    except ValueError as e:\n",
        "        print(\"Invalid embedding model name! Check the embedding dimension:\")\n",
        "        print(\"Word2Vec: 300\")\n",
        "        print(\"Glove: 50, 100, 200, 300\")\n",
        "        raise e\n",
        "\n",
        "    return emb_model\n",
        "\n",
        "\n",
        "# Modify these variables as you wish!\n",
        "# Glove -> 50, 100, 200, 300\n",
        "# Word2Vec -> 300\n",
        "embedding_model_type = \"glove\"\n",
        "embedding_dimension = 50\n",
        "\n",
        "embedding_model = load_embedding_model(embedding_model_type, embedding_dimension)\n",
        "        "
      ],
      "execution_count": 20,
      "outputs": []
    },
    {
      "cell_type": "code",
      "metadata": {
        "id": "_wiXdS2EJj3L",
        "outputId": "59b376ab-fc68-4f74-ac5a-a838f7c87063",
        "colab": {
          "base_uri": "https://localhost:8080/"
        }
      },
      "source": [
        "# Playing a bit with the embedding_model\n",
        "'''\n",
        "Analogies look better now\n",
        "'''\n",
        "\n",
        "words= {\n",
        "        'man': ['woman', 'king']\n",
        "        ,'hummer': ['nail', 'hair']\n",
        "        ,'white' : ['black', 'good']\n",
        "        ,'like' : ['love', 'dislike']\n",
        "        ,'ice': ['cold', 'hot']\n",
        "        ,'radio': ['listen', 'tv']\n",
        "}\n",
        "\n",
        "def get_result(positive, negative):\n",
        "  result = embedding_model.most_similar(positive, negative)\n",
        "  most_similar_key, similarity = result[0:2]  # look at the first matches\n",
        "  return most_similar_key, similarity\n",
        "\n",
        "for neg in words:\n",
        "  l = []\n",
        "  l.append(neg)\n",
        "  most_similar_key, similarity = get_result(words[neg], l)\n",
        "  print('\\n {} is to {} like {} to :'.format(l, words[neg][0], words[neg][1]))\n",
        "  print('The word: ', most_similar_key)\n",
        "  print('Similarity: ', similarity)"
      ],
      "execution_count": 21,
      "outputs": [
        {
          "output_type": "stream",
          "text": [
            "\n",
            " ['man'] is to woman like king to :\n",
            "The word:  ('queen', 0.8523603677749634)\n",
            "Similarity:  ('throne', 0.7664334177970886)\n",
            "\n",
            " ['hummer'] is to nail like hair to :\n",
            "The word:  ('teeth', 0.7665037512779236)\n",
            "Similarity:  ('nails', 0.7352726459503174)\n",
            "\n",
            " ['white'] is to black like good to :\n",
            "The word:  ('best', 0.8662230372428894)\n",
            "Similarity:  ('better', 0.8611860275268555)\n",
            "\n",
            " ['like'] is to love like dislike to :\n",
            "The word:  ('affection', 0.811957836151123)\n",
            "Similarity:  ('feelings', 0.7873814702033997)\n",
            "\n",
            " ['ice'] is to cold like hot to :\n",
            "The word:  ('cool', 0.8033987283706665)\n",
            "Similarity:  ('warm', 0.6970363259315491)\n",
            "\n",
            " ['radio'] is to listen like tv to :\n",
            "The word:  ('tell', 0.8308888673782349)\n",
            "Similarity:  ('you', 0.81687331199646)\n"
          ],
          "name": "stdout"
        },
        {
          "output_type": "stream",
          "text": [
            "/usr/local/lib/python3.6/dist-packages/gensim/matutils.py:737: FutureWarning: Conversion of the second argument of issubdtype from `int` to `np.signedinteger` is deprecated. In future, it will be treated as `np.int64 == np.dtype(int).type`.\n",
            "  if np.issubdtype(vec.dtype, np.int):\n"
          ],
          "name": "stderr"
        }
      ]
    },
    {
      "cell_type": "markdown",
      "metadata": {
        "id": "AEL3Hrjl5dfs"
      },
      "source": [
        "### Out of vocabulary (OOV) words\n",
        "\n",
        "Before evaluating pre-trained dense word embeddings, it is good practice to check if the model is consistent with our dataset. To do so, we check the number of out-of-vocabulary (OOV) terms.\n",
        "\n",
        "If the OOV amount is negligible, we can just keep going. On the other hand, we might want to handle OOV terms by assigning them a specific word vector.\n",
        "\n",
        "**Which one?** One common practice is to assign a random vector, since the embedding model will be part of a deep learning model and, thus, word vectors might be trained during the learning process. Even if that is the case, we can assign an embedding that is more meaningful rather than a random one: for example, we can identify the word embedding of an OOV term as the mean of its neighbour word embeddings.\n",
        "\n",
        "Check out OOV terms and assign a meaningful word embedding. Then, at the visualization step, check if this strategy reflects words semantic properties."
      ]
    },
    {
      "cell_type": "code",
      "metadata": {
        "id": "k_L_ewVPH7VQ",
        "outputId": "eb7ed6cc-417a-43e9-aded-81d497aa45ec",
        "colab": {
          "base_uri": "https://localhost:8080/"
        }
      },
      "source": [
        "# Function definition\n",
        "\n",
        "def check_OOV_terms(embedding_model, word_listing):\n",
        "  ovv_list = []\n",
        "  for w in word_listing:\n",
        "    if w not in embedding_model:\n",
        "      ovv_list.append(w)\n",
        "  return ovv_list\n",
        "\n",
        "oov_terms = check_OOV_terms(embedding_model, word_listing)\n",
        "\n",
        "print(\"Total OOV terms: {0} ({1:.2f}%)\".format(len(oov_terms), float(len(oov_terms)) / len(word_listing)))\n",
        "\n",
        "print(\"The OOVS are: {}\".format(oov_terms))"
      ],
      "execution_count": 22,
      "outputs": [
        {
          "output_type": "stream",
          "text": [
            "Total OOV terms: 1816 (0.13%)\n",
            "The OOVS are: ['airbr', 'oneonone', 'everyones', 'outbr', 'centurys', 'welldressed', 'filmschool', 'girlnextdoor', 'killingbr', 'wellshe', 'amlia', 'shopbr', 'nwh', 'orgiesbr', 'ribisis', 'fouryearsold', 'signbr', 'bashaws', 'muchmaligned', 'mid70s', 'suitablebr', 'whih', 'sleazeinexplicably', 'gommorah', 'tovarish', 'yoman', 'grossbr', 'welllets', 'makersbr', 'halfday', 'seventiesdrag', 'dumbeddown', 'hustons', 'chopsocky', 'spikyhaired', 'wwiistyle', 'tribesmenbr', 'hotelbr', 'upsidedown', 'genrehorror', 'recomend', 'wreckvoiced', 'arghh', 'hiltonbr', 'moviesbr', 'sonofgodish', 'huntwe', 'meplease', 'colorbr', 'thinksbr', 'antrax', 'spocks', 'surrell', 'ripps', 'spedup', 'rafiel', 'dotrices', 'informationan', 'undisneylike', 'teleflick', 'grotesquehighly', 'insipidbut', 'timler', 'afterbr', 'poorlittlewhite', 'multileveled', 'madefortv', 'satanicworshippersrunamok', 'shitted', 'foldes', 'hanzos', 'lifetimelike', 'chirin', 'guinnesss', 'accuratebr', 'huntif', 'zoeys', 'backgroundbr', 'jiah', 'relatedbr', 'sniffmus', 'finlays', 'chaplins', 'ensemblebr', 'imdbs', 'evrybody', 'policemanbr', 'oldfashioned', 'roedel', 'warbr', 'swiri', 'disappointmentbr', 'massiveconked', 'valuesorientated', 'sickingly', 'duchovney', 'endingbr', 'levinsons', 'goodbad', 'fench', 'problembr', 'gorefests', 'actsbr', 'surein', 'hitchcocks', 'patroni', 'numbersbr', 'outsidebr', 'goingson', 'seebr', 'noirbr', 'bostwicks', 'sexslave', 'materialbr', 'excon', 'angerbr', 'carethe', 'godbr', 'fruitiest', 'professionbr', 'picturesbr', 'stranglerbr', 'attendanthe', 'kurasawas', 'faheys', 'onei', 'sensesbr', '1994br', 'parkey', 'tenyearold', 'smartmouthed', 'violenceasentertainment', 'wellmeaning', 'madbr', 'murderbr', 'parkor', 'notveryfunny', 'drugaddicted', 'waybr', 'lesserknown', 'earthexcept', 'marriedbr', 'selfpunishing', 'actorsthey', 'ideabr', 'cicra', 'caprios', 'halfpeeled', 'audiencebr', 'schwarzeneggerbr', 'spanishamerican', 'coachs', 'worstsince', 'laughsespecially', 'opinionsome', 'kinnears', 'babban', 'continuebr', 'clichridden', 'fourbr', 'snakesbr', 'bmovies', 'unimaginablebr', 'straightbr', 'backbr', 'edgebr', 'wideshots', 'everywherebr', 'pintsized', 'prescence', 'thisand', 'partbr', 'specialistbr', 'worksbr', 'thingsbr', 'finishbr', 'passesbr', 'miriams', 'foreverbr', 'failurebr', 'attentiongrabbing', 'mid1980s', 'bythebook', 'fullfledged', 'durantes', 'canbr', 'ramgopalvarma', 'wannabee', 'mormom', 'waysbr', 'offcourse', 'injustise', 'tromas', 'icescape', 'bgirl', 'ultraterrible', 'sheybal', 'moviemake', 'goeshuman', 'shotbr', 't101', 'kerrigans', 'haims', 'soundtrackbr', 'genrebr', 'itputting', 'blackbr', '_absurdism', 'eyecatchers', 'shilohs', 'shijies', 'clubbr', 'militarybusiness', 'djvu', 'nighteyes', 'wildeyed', 'badbr', 'startbr', 'secondtime', 'unartsybr', 'namesbr', 'mindbr', 'kanaly', 'cclock', 'oblivionbr', 'applesbr', 'gaptoothed', 'toodark', 'getgo', 'mid80s', 'hairbr', 'dessertion', 'logicbr', 'begonebr', 'vances', 'effectbr', 'categorybr', 'oddsbr', 'ameragosa', 'absurdbr', 'mentallychallenged', 'sacramentos', 'maronna', 'againi', 'familys', 'pianobr', 'tingwei', 'moviein', 'familiarone', 'snots', 'pulasky', 'mid40s', 'lowpaced', 'loveda', 'early1980s', 'fiedels', 'genious', 'gratitous', 'werebr', 'unwarily', 'comember', 'tryingbr', 'fantasymonsters', 'featurelong', 'treatmentbr', 'asianstyled', 'halfhour', 'nudgenudge', 'nonebr', 'clearbr', 'twobr', 'questionbr', 'nowadaysbr', '20ish', 'helpbr', 'hanekes', 'endurebr', 'everdulling', 'rififialmostbr', 'weeksbr', 'messbr', 'brandos', 'notablebr', 'machts', 'carsons', 'matrixbr', 'ninebr', 'littleknown', 'fullyfledged', 'dictatorshipsbr', 'dobr', 'weaponsbr', 'conceptionless', 'streeps', 'oldschool', 'marsbr', 'youbr', 'directtovideo', 'notsogood', 'fangirls', 'armybr', 'miiki', 'linderby', 'twodimensional', 'annoyingbr', 'ackroyds', 'us10', 'drawnout', 'pedecarises', 'positivebr', 'virginitybr', 'reinedin', 'actedbr', 'rififibr', 'poetryasgame', 'turkeyzero', 'godcomplex', 'bayhater', 'oscarnominated', 'merrkensen', 'euroflicks', 'perfecti', 'trampbr', 'holmfrid', 'creepsthe', 'ormondroyd', 'brunos', 'bandbr', 'dailyif', 'hardhitting', 'unbelievablebr', '1970br', 'oxfordeducated', 'pompousness', 'okuhara', 'sequencebr', 'meby', 'bruckbuster', 'maledominated', 'morphosynthesis', 'absolutey', 'renditionbr', 'videobr', 'extentions', 'blueeyed', 'producerdirector', 'secondsbr', 'mondaybr', 'ahhemmoving', 'documentarybr', 'wasbr', 'goodbr', 'heartbr', 'mormoms', 'ragneks', 'subjectbr', 'agreebr', 'cyclebr', 'interressting', 'reliefbr', 'popculture', 'thatll', 'fortiesbr', 'patientscorbin', 'fivetime', 'boxingbr', 'mnage', 'bookstorebr', 'guybr', 'enjoythe', 'rollbr', 'hydewhite', 'goreovision', 'greatgrandmothers', 'missingbr', 'tearsbr', 'gwoemul', 'doableand', 'madefor', 'dummyrobotavenger', 'chenli', 'enemywhere', 'shuddery', 'togetherbr', 'goodthe', 'nearlyaudible', 'recommendedthe', 'axcepted', 'siutung', 'pleasureseven', 'nonrefined', 'soundeffected', 'unintelligiblebr', 'clichfest', 'chteaubr', '250000', 'happenedjason', 'thoughafter', 'moviei', 'excellant', 'anansa', 'intrested', 'linesbr', '2003s', 'booksbr', 'serialbr', 'kinear', 'recognizedbr', 'itthe', 'memorablebr', 'okulthe', 'oconnors', '399br', 'filmbr', 'snowcone', 'brabomb', 'pornografic', 'nishabd', 'beack', 'funnybr', 'kubricks', 'murpy', 'africanamericans', '64square', 'nabakovs', 'blackcomic', 'caiden', 'thirdbr', 'bertrams', 'blahwhen', 'selfdeclared', 'therere', '80ish', 'hulchul', 'raybert', 'overrided', 'ribaldary', 'freakhaving', 'catch22', 'restaraunt', 'untalkative', 'slowmotion', 'overthetopbr', 'gearin', 'monthsbr', 'umbopa', 'detailsbr', 'boleslowski', 'actorand', 'brocksmith', 'horrorvision', 'troisbr', 'shouldnt', 'miikes', 'marish', 'libbybr', 'funbr', 'elevatorbr', 'deathbattleship', 'crisi', 'bookbr', 'semiinteresting', 'corringa', 'mouthbr', 'zschering', 'manatarms', 'girlbr', 'interviewsbr', 'bcomedy', 'bodycount', 'jennettes', 'interestbr', 'himbr', 'russellbr', 'slamdunk', 'stairsbr', 'interestingbr', 'tiedye', 'muchcelebrated', 'historybr', 'mccrudy', 'wholebr', 'enthusast', 'ludicrousbr', 'batouch', 'readingbr', 'airplanebr', 'vehicleinspired', 'anisio', 'ravesthat', 'alltacticsoftoiletseat', 'bestknown', 'butthey', 'popeilbr', 'centsbr', 'collettebr', 'whala', 'situationbr', 'bikumatre', 'beginningbr', 'abomb', 'sketchstyle', 'examplepeter', 'top5', 'morningbut', 'heartstopping', 'videostore', 'cinemabr', 'tagalong', 'keatons', 'thinkbr', 'crumplefaced', 'revengecrazed', 'boneand', 'mateys', 'adetokumboh', 'ramblingsbr', 'layerbr', 'skullnumbing', 'warfel', 'qualitybr', 'sahsa', 'waynot', 'ttsloeb', 'milliondegree', 'splattery', 'mindnumbing', 'wordsas', 'amitabhz', '19661968', 'pedecariss', 'twoandahalf', 'curiositymake', 'teambr', 'sorrentinos', 'actings', 'vasquezfigueroa', 'rainss', 'presencebut', 'throughoutbr', 'lowgrade', 'rapierlike', 'languagebr', 'rainbeaux', 'tunerberniewith', 'rollerboys', 'letisha', 'slowmoving', 'stalins', 'psdespite', 'eastbr', 'terriblebr', 'whorebr', 'yummmmmbr', 'rwtd', 'extremebr', 'matsumuras', 'impressedeverything', 'straightup', 'slowpaced', 'savagebr', 'accomplicebr', 'presencebr', 'storyeverything', 'yamamotos', 'bittersweetness', 'disasterbr', 'societybr', 'tvmovie', 'parentchild', 'vantages', 'mariesa', 'lapbr', 'featurebr', 'worldweariness', 'smarttech', 'theyll', 'baretorsoed', 'weasely', 'grewup', 'secondfiddle', 'alesandr', 'etcbr', 'sidesbr', 'privka', 'tommys', 'expunker', 'welletched', 'hammiest', 'happenedbr', 'himmelen', 'sixtyish', 'servillo', 'thoughtprovoking', 'dvdbr', 'awesomebr', 'situationsbr', 'factorys', 'ginas', 'evolvedi', 'fantasizebr', 'celaschi', 'mistrys', 'castbr', 'wastedbr', 'meanstreak', 'societys', 'woodsbr', 'giancaspro', 'classicera', 'firstever', 'bannedbr', 'obwat', 'nonsenses', 'guntoting', 'aphrodesiacs', 'respectbr', 'warsetting', 'oxenburg', 'seahunt', 'seriesbr', 'muthamittal', 'downonhisluck', 'deliverbr', 'werent', 'demornay', 'threedimensional', 'scoobydoo', '19381981', 'nevershouldhavemadeit', 'regardlessbr', 'alist', 'withbr', 'sciencefiction', 'snickerbr', 'casestudy', 'diologue', 'shamebr', 'walshs', 'wholeheartedlybr', 'specialbr', 'endno', 'oneofakind', 'mentalitybr', 'unfortunatly', 'entei', 'coviewer', 'sjberg', 'goffen', 'raisulis', 'shootem', 'mcboy', 'mistakebr', 'whove', 'youve', 'thoughbr', 'gentlemans', 'patricidebr', 'sheenbr', 'bunnydaffy', 'risqu', 'levieva', 'storylinebr', 'liquidised', 'typcial', 'hurtbr', 'definetely', 'exgirlfriend', 'receipe', 'nineteenthcentury', 'thingll', 'cleefs', 'everythingmessrs', 'cruelfaced', 'hatas', 'yetbr', 'changedbr', 'dunkbr', 'purgers', 'sleazefest', 'lacans', 'plottwists', 'appelagate', 'caladan', 'myspacecom', 'editingbr', 'antartic', 'gametheres', 'gustafssonrole', 'influencebr', 'terribleinitially', 'jawdroppingly', 'sg1', 'samanthabut', 'leetle', 'dirtyminded', 'teorema', 'inventivebr', 'humanbr', 'yearold', 'agebr', 'experiencedbr', 'holnistsbr', 'aheadbr', 'mansalva', 'tremendouslybr', 'bmovie', 'honesttogoodness', 'primitiveskillingexploitativewesterners', 'heinously', 'antideath', 'abusebr', 'snowcones', 'mustve', 'cronenbergs', 'kayle', 'linesan', 'nonpal', 'raisuli', 'scarybr', 'tautlywritten', 'fictionalizedbr', 'dmytryks', 'rivalforhomecomings', 'furdion', 'hickland', 'sexhumor', 'popcornchewing', 'greatbr', 'succeedsbr', 'moviesso', 'maratonci', 'fullydeveloped', 'mindspace', 'misdirects', 'stopmotionbr', 'ieks', 'justifiablebr', 'wonderawful', 'buildingbr', 'cleggses', 'miragefilled', 'metoo', 'madeup', 'tarantinos', 'glorybr', 'narsisistic', 'exgi', 'aroundbr', 'weakwilled', 'christianled', 'throatbr', 'onebr', 'toobr', 'devolvement', 'disneylike', 'blebs', 'asiabr', 'wonderous', 'lowbudget', 'sopisticated', 'inbr', 'quantitybr', 'moviesthis', 'hadnt', '19771981', 'knightleys', 'placeespecially', 'movieor', 'dreamteam', 'convaluted', 'antisemitismbr', 'rifs', 'kitamuras', 'friendzone', 'fullblown', 'starsbr', 'dentisthe', 'exsoldier', 'thati', 'warningbr', 'kuriyami', 'virginbr', 'cadillacloving', 'askbr', 'householdbr', 'stalebr', 'stopandgo', 'paperthin', 'timefilling', 'nobr', 'mongomerybr', 'gothicflavoured', 'tobr', 'slackjawed', 'elinore', 'illadvised', 'miliuss', 'hitandrun', 'unscary', 'sicerely', 'undescribableonimdb', 'antonionis', 'allbr', 'titlebr', 'dinklepuss', 'anyones', 'forbr', 'cmon', 'bestlooking', 'actorsbr', 'smitheebr', 'budgetbr', 'itbr', 'thanx', 'cringeworthy', 'sparrings', 'exwife', 'followbr', 'batmanbr', 'examplea', 'choicesbr', 'democracybr', 'screenbr', 'reasonbr', 'linneys', 'billbr', 'stinkbomb', 'wellalong', 'downbr', 'lkhubble2', 'firebreather', 'jailbr', 'selfevident', 'unmanipulated', 'standardissue', 'mckennabr', 'bermensch', 'internetbr', 'cleverbr', 'selfloathing', 'doeswith', 'daringeven', 'riddicks', 'artisticbr', 'blist', 'lookedbr', 'slackbr', 'middleaged', 'painfulbr', 'ruthlessnes', 'pinchots', 'completist', 'youand', 'voicesbr', 'viceversabr', 'incontrollable', 'sequelsthis', 'sequelworse', 'unsuspectingbr', 'somethingbr', 'ramrodder', 'aidbr', 'fysicaly', 'funnythe', 'elsebr', 'everbr', 'whatbr', 'movietoo', '80something', 'oneline', 'mitchums', 'startupcom', 'oldsoul', 'spymovie', 'deedsbr', 'wiserbr', 'calliber', 'gdon', 'armwaving', 'almostcomic', 'lifebr', 'pickfordbr', 'classicbr', 'featuredbr', 'yarrr', 'sugarhigh', 'haightashbury', 'poorlydirected', 'mothersonduo', 'sobiesky', 'yokais', '1990sbr', 'assistantbr', 'sux', 'jeniffer', 'liangs', 'playedthe', 'miteita', 'formerparticularly', 'veldon', 'betterbr', 'geishasbr', '11related', 'vortexbr', 'beforebr', 'timelist', 'semiserious', 'warriorsbr', 'awardwinning', 'glossybr', 'unrealisticbr', 'watereddown', 'fakebr', 'dullbr', 'sequal', 'perfectthe', 'happeningbr', 'crosssection', 'filmsespecially', '3dimensional', 'theatresbr', 'menit', 'somebodys', 'openminded', 'welldone', 'selfcontained', 'fearand', 'playbr', 'decayhe', 'headbr', 'gorehounds', 'orrys', 'yearbr', 'justboringand', 'noirean', 'fastmoving', 'tunnelvision', 'endbr', 'sullivanbr', 'overkillbr', 'rosselini', 'relativehoping', 'herthen', 'ohsoout', 'bathosfilled', 'wildernessbr', 'arebr', 'himand', 'spoilersbr', 'torks', 'semidecent', 'playingbr', 'taskbr', 'wwwhorroryearbookcom', 'batfan', 'gradef', 'selfabsorbed', 'outpostbr', 'dammes', 'bhavtakur', 'bearablebr', 'hereim', 'flashbackbr', 'easybr', 'morebr', 'fallbr', 'makeyoulaugh', 'cinephilia', 'timelinethe', '1995s', 'oozin', 'storiesbr', 'batmans', 'badbadmovies', 'xrating', 'notbr', 'mccaid', 'kluznick', 'guyyardleyrees', 'exyugoslavia', 'boringbr', 'steinbecks', 'cubbyhouse', 'selfhate', 'pointbr', 'clunkerbr', 'viennas', 'diesbr', 'electrocutedbr', 'bonesbr', 'superfluously', 'bombedout', 'fantasticbr', 'timepasser', 'bigscreen', 'lmerchant', 'fatherfigure', 'morningbr', 'streisands', 'kearn', 'shockthroughnameselection', 'guetary', 'otherbr', 'capotes', 'fansbr', 'slapstickbr', 'sidede', 'yourselfbr', 'reddishorange', 'writtenmessy', 'vaugier', 'lsdtinged', 'ashs', '10br', 'pseudosatanic', 'kikuno', 'countrybr', 'wellif', 'valuebr', 'osterlich', 'bewlidered', 'fidani', 'jhurst', 'gungho', 'fightbr', 'oncefabulous', 'bestsellerists', 'conservativeminded', 'marplebr', 'myselfbr', 'dgrade', 'leadingman', 'generalbr', 'nevksy', 'firstrate', 'nongershwin', '18yr', 'describei', 'nonnormal', 'africanamerican', 'tragediesbr', 'savouredbr', 'tourdeforce', 'rightbr', 'firebreathing', 'positve', '15ft', 'hyperrealistic', 'greasebr', 'brashnessbr', 'genresbr', 'immagrants', 'codebr', 'olivabr', 'nutjob', 'demornays', '1842br', 'observationbr', 'wwiibr', 'dealbr', 'hilariousbr', 'rolebr', 'sticksbr', 'comparisonand', 'brunojust', 'schwarzeneggers', 'moodbr', 'oshins', 'blasphemouslittlegirlwhotakesashinetotheheroes', 'spazzboy', 'harriosn', 'anxietybr', 'adrenalinepumping', 'thiswellwow', 'crewneed', 'peoplebr', 'unfunnybr', 'endedbr', 'authoritiesbr', 'lavventura', 'filmthere', 'ityoull', 'costners', 'donutshaped', 'onedimensionality', 'decadebr', 'scriptless', 'enlistbr', 'thoughboth', 'farcicalbr', 'overbright', 'climaxbr', 'terrierbr', 'donnagios', 'boardbr', 'heroz', 'pointofviewbr', 'runbr', 'fatherbr', 'tranceinducing', 'saybr', 'goodgirl', 'tillys', 'sniders', 'hadbr', 'fortyfive', 'anl3', 'noshame', 'rolewise', 'michaelangelos', 'miriad', 'heroismbr', 'indeedbr', 'blandick', 'eyesfinal', 'friendsbr', 'oneliners', 'eliots', 'sngbr', 'platinumblonde', 'chapmanbr', 'wolfy', 'eyesbr', 'feelingsbr', 'developmentunderscored', 'crybr', 'crosseyed', 'sobr', 'eventbr', 'kikou', 'forddirected', 'moviewe', 'scorethe', 'bunniesbr', 'onedimensional', 'purebr', 'bloodred', 'thumbsup', 'onbr', 'favebr', 'bgrade', 'usses', 'prebabs', 'pseudointellectual', 'cliquebr', 'oohsoscary', 'eistensteins', '60yr', 'throughbr', 'pinheadbr', 'everybodys', 'tomanian', 'fked', 'cyberspacebr', 'directionbr', 'businesscouple', 'halfdecent', 'togel', 'thatbr', 'gabbarbr', 'scenesbr', 'impotencebr', 'howd', 'curitz', 'wellmapped', 'jeanpierre', 'capabilitybr', 'herebr', 'valleri', 'kannathil', 'starbr', 'rocksolid', 'originatedbr', 'splitsecond', 'friedhofer', 'rejseholdet', 'sartains', 'fbistyle', 'excommungated', 'comediesbr', 'standins', 'endart', 'todaybr', 'seachd', 'fetty', 'costellos', 'pretentiousbr', 'walbash', 'producerand', 'writbr', 'moggy', 'killedbr', 'weekyou', 'sensebr', 'adventureoh', 'himfreakinself', 'gailard', 'devicebr', 'calamitybr', 'oscarworthy', 'answerbr', 'twitchfest', 'cottonmouthed', 'charactersbr', 'isbr', 'slowbr', 'trainbr', 'contentbr', 'quato', 'onlybr', 'factorbr', 'facadething', 'bafoonery', 'garys', 'wellintentioned', 'chockfull', 'filmfan', 'debenning', 'silouhettes', 'zerosum', 'followingbr', 'scenelike', 'fedmy', 'movingbr', 'kutchek', 'pianiste', 'victimsbr', 'sequelbr', 'sorking', 'courtbr', 'bubbleheaded', 'choicebr', 'machetewielding', 'brokendown', 'wellcrafted', 'kanebr', 'kuriyamibr', 'ouspenskaya', 'oscarwinner', 'theyu', 'biscuitbr', 'previewsbr', 'basedits', 'importantbr', 'alongbr', 'asininity', 'sabbato', 'simonella', 'thisbr', 'morejulies', 'mayburys', 'patternsbr', 'notatallwhatitsoundslike', 'placebr', 'wellpaced', 'ginnys', 'horroryearbook', 'selfreference', 'trannies', 'breaksbr', 'griefand', 'anybodys', 'bifff', 'fartjokes', 'civiliansand', 'unionbr', 'modebr', 'straighttovideo', 'introbr', 'gutsplittingly', 'taosbr', 'novaks', 'alahani', 'palusky', 'fulllength', 'anytownusa', 'chaevsky', 'hidebr', 'plotbr', 'exconvict', 'nomercy', 'casebr', 'julias', 'wellwritten', 'cronenbergbr', 'manbr', 'dontwatch', 'delibr', 'triedandtested', 'mccalmans', 'stereotypicallyits', 'racebr', 'petrons', 'othersbr', 'hacktor', 'oftpresent', 'whinging', 'hollowbr', 'fasinating', 'holnists', 'effortbr', 'outstandingwe', 'beautifulbr', 'pfetten', 'nomolos', 'feelbr', 'nevsy', 'robbbins', 'tromaville', 'pocasni', 'onanyway', 'nowbr', 'dutchroll', 'committedbr', 'bebr', 'secondgrader', 'withinbr', 'unoffending', 'sexsarved', 'ofbr', 'cosgrovehall', 'seriouslyits', 'gaybashing', 'undetectedbr', 'artistrybr', 'estevo', 'jacuzzibr', 'treatbr', 'malamuds', 'discussionbr', 'singlehanders', 'scriptbr', 'leiveva', 'anglesbr', 'intrudingscore', 'offkilter', 'reallybr', 'itjason', 'drillbr', 'semicheesy', 'examplesbr', 'shouldve', 'ultraheroic', 'wordsbr', 'topshape', 'giantbr', 'moviebr', 'speakbr', 'talkamericanet', 'mebr', 'minisub', 'momentsbr', 'hatebr', 'cavalierbr', 'nutcases', 'inergy', 'tongueincheek', 'highfives', 'antieye', 'pointofview', 'horsetraders', 'uncomfortableas', 'couldve', 'ee03128', 'policewomans', 'mightve', 'yawnbr', 'documentarystyle', 'amazingbr', 'emotionbr', 'rhysmeyers', 'featuresthat', 'freedombr', 'offive', 'misdemeanorsanother', 'minnieapolis', 'precodes', 'sexmad', 'tudgemen', 'onlike', 'subcharacters', 'airwavesbr', 'carefullynow', 'pleasebr', 'europeanbut', 'kendis', 'realisticbr', 'balllike', 'innaccurate', 'therebr', 'wouldve', 'carlys', 'saintjohn', 'condemnationbr', '11br', 'heartpounding', 'yearsbr', '70sbr', 'carreys', 'appearthats', 'stephanois', 'codirected', 'disappointedbr', 'hadntbr', 'setbr', 'writerbr', 'shamelesslyvillainous', 'secondarybr', 'heapbr', 'jennifers', 'lesleyanne', 'stunkbr', 'herbr', 'cusak', 'hbomb', 'gamebr', 'reviewbr', 'wirework', '1978s', 'caitlins', 'systembr', 'pottymouthed', 'amenalthough', 'americabr', 'alterego', 'takesoff', 'catharticbr', 'beliefsbr', 'emmas', 'quasidramatizations', 'futurebr', 'threeminute', 'stonewashed', 'tokyos', 'xlondon', 'thembr', 'feinstone', 'forif', 'proam', 'inspiringplus', 'itll', 'halfcaste', 'mariachilevel', 'meltbr', 'austens', 'candleshoebr', 'grahames', 'pedecaris', 'fastpaced', 'ideashmmmm', 'mustsees', 'withit', 'coppolas', 'watchbr', 'mempstead', 'sorcererbr', 'stripperbr', 'changeofpace', 'reasonsthese', 'peopleso', 'shugoro', 'sacrificebr', 'threeway', '24year', 'scenebr', 'timesthe', 'duhbr', 'walkon', 'yarr', 'eightbr', 'shotsbr', 'hynkel', 'ohanlon', 'yearnot', 'see14', 'insightsbr', 'winkwink', 'thalluri', 'poolsuddenly', 'branaghs', 'nocould', 'maleskewed', 'dadbr', 'happensbr', 'wayanss', 'seriouslythe', 'filmsbr', 'ebano', 'breakdownbr', 'startedbr', 'watchover', 'paagal', 'bizarrebr', 'handtohand', 'wellmade', 'imagebr', 'thoughtbr', 'coproducing', 'mediabr', 'awfuland', 'concepti', 'ways1', 'moneybr', 'truebr', 'bucheler', 'voodooinspired', 'bizarreso', 'hulces', 'childbr', 'cyborgsrobots', 'jhkel', 'fatebr', 'hanlons', '1977s', 'lowerbudget', 'etcyou', 'underactingbr', 'fantasising', 'unowns', 'kikuos', 'gimmickladen', 'patricyoure', 'oftquoted', 'excitied', 'silverhaired', 'puling', 'watchit', 'brolinbr', 'filmit', 'reprogrammes', 'bloodlinebr', 'longlegged', 'albumbr', 'edge2', 'extrodinaire', 'carboncopy', 'crowhursts', 'treasurebr', 'wellproduced', 'freddies', 'inappreciable', 'naivity', 'rhysdavies', 'imaginebr', 'twinbrothers', 'daniely', 'highpitch', 'machismobr', 'lowpace', 'fulcis', 'thrillermasterpiece', 'quasislave', 'godards', 'notwhen', 'onyulo', 'combinedbr', 'wastebr', 'nonendings', 'proudbr', 'demofilo', 'cablebr', 'dirtmaster', 'desertsbr', 'rewatching', 'projectbr', 'seventiesbr', 'barcrawling', 'nonamerican', 'walkenlike', 'wouldt', 'lawrenece', 'tralala', '8yearold', 'combomoves', 'annoysbr', 'daybr', 'bestbr', 'clichs', 'crimebr', 'worldas', 'copsbr', 'believablethere', 'cheezy', 'wounderfull', 'enjoyablebr', 'plaguerism', 'clichd', 'pregps', 'lovebr', 'sequelsbr', 'alldredge', 'heroo', 'markbr', 'nonmoving', 'survivalbr', 'hipspeak', 'holnist', 'serialkiller', 'theyve', 'stillers', 'wellbr', 'soapopera', 'citybr', 'wellyou', 'storybr', 'behaviourbr', 'venemous', 'mayfields', 'snorefest', 'plotyeah', 'writingbr', 'vhsquality', 'ultraslimy', 'bondesque', 'beamings', 'everythingbr', 'onceuponatime', 'altmanthe', 'strangebr', 'yimous', '3strip', 'condies', 'ahbut', 'itselfbr', 'radhas', 'dicebr', 'welltodo', 'timebr', 'sadlyanonymous', 'tastebr', 'spectacularbr', 'casesbr', 'overbr', 'rodential', 'greatgrandmother', 'koreanamerican', 'sissilyhandsome', 'eyebrowraising', 'saywould', 'obers', 'industrybr', 'nonetoobright', 'recentlybr', 'evershattering', 'fishburnes', 'worldclass', 'generaleffortless', 'raimis', 'queirs', 'dorkness', '2inch', 'paraso', 'mummybr', 'stopmotion', 'motionbr', 'bethlehems', 'frombr', 'rubbishbr', 'adaptionbr', 'momentbr', 'candlelitgothichousescene', 'sambrell', 'obviousbr', 'goodlooking', 'minutesbr', 'directori', 'flitters', 'propertys', 'fastforwardslow', 'trce', 'shlitz', 'againbr', 'messagebr', 'sockmonkey', 'daness', 'hynkels', 'changesbr', 'mummys', 'ohwhere', 'enfilden', 'talkingboring', 'jellineks', 'wakamatsus', 'playalso', 'anywaybr', 'evidencebr', 'exploitationcinema', 'pseudooccult', 'varod', 'formbr', 'reenforces', 'eoes', 'believablebr', 'stopbr', 'oscarlevel', 'gentlelooking', 'dialogbr', 'mustsee', 'issueoftheweek', 'runofthemill', 'gabriellas', 'knowbr', 'politicalphilosophyspouting', 'itelf', 'upbr', 'daimlerbr', 'objectbr', 'sjholm', 'ecchhhh', 'vaction', 'seriouslybr', 'characterbr', 'queaseinducing', 'thingbr', 'punchups', 'historicitybr', 'menbr', 'heavyhandedness', 'seenbr', 'shatnerism', 'cowrestler', 'melodramaticbr', 'fasterbr', 'engagingsometimes', 'ramghad', '180degree', 'margheritis', 'scotlandfar', 'whaaa', 'definatly', 'kagutaba', 'watchedbr', 'factorybr', 'catbr', 'defininitive', 'flickbr', 'overthetop', 'satiricon', 'lotbr', 'whitebred', 'longeri', 'welldrawn', 'violencebr', 'folksbr', 'kurosawas', 'easybaking', '11stars', 'ballstothewall', 'vampiresbr', 'marchthe', 'twaddlebr', 'substory', 'sorrowfulbr', 'similarbr', 'themselvesbr', 'doublecrossing', 'ourselvesbr', 'poir', 'lessquality', 'nowit', 'costagavras', 'sacastic', 'protg', 'betebr', 'writerdirector', 'noname', '60s70s', 'lewbert', 'aimbr', 'survivesbr', 'dungs', 'noroi', 'dehavillands', 'munchiebr', 'tvseries', 'stuffbut', 'iwalkedinduringthemiddleofaboringconversation', '2hour', 'sterilepeople', 'sandbr', 'livesbr', 'marchs', 'timesbr', 'truecrime', 'houswives', 'methis', 'bossbr', 'lostbr', 'housebr', 'daysbr', 'rightangled', 'budsand', 'racismbr', 'targetshooting', 'rewatched', 'papiermache', 'videogameplaying', 'sodastained', 'notionbr', 'mysteriesbr', 'kohuts', 'mitchellbr', 'carelessbr', 'ghunguroo', 'pipesmoking', 'madebr', 'excellentbr', 'precode', 'willaim', 'unforgivablebr', 'unwatchably', 'alonebr', 'centerers', 'deadon', 'sizebr']\n"
          ],
          "name": "stdout"
        }
      ]
    },
    {
      "cell_type": "markdown",
      "metadata": {
        "id": "CjNoxZb--5O-"
      },
      "source": [
        "### Handling OOV words\n",
        "\n",
        "Now we proceed on building the embedding matrix, while handling OOV terms at the same time. \n",
        "\n",
        "Experiment with/without the OOV custom encoding strategy.\n",
        "\n",
        "**NOTE**: Here we ask you to implement both OOV strategies! Feel free to either write two separate functions or modify the given function signature."
      ]
    },
    {
      "cell_type": "code",
      "metadata": {
        "id": "XC1F_44lJUDF",
        "outputId": "55ada122-30e9-4968-e654-c7195604b019",
        "colab": {
          "base_uri": "https://localhost:8080/"
        }
      },
      "source": [
        "# Function definition\n",
        "\n",
        "import random\n",
        "\n",
        "def build_embedding_matrix(embedding_model, embedding_dimension, word_to_idx, oov_terms, co_occurrence_count_matrix):\n",
        "    \"\"\"\n",
        "    Builds the embedding matrix of a specific dataset given a pre-trained word embedding model\n",
        "\n",
        "    :param embedding_model: pre-trained word embedding model (gensim wrapper)\n",
        "    :param word_to_idx: vocabulary map (word -> index) (dict)\n",
        "    :param oov_terms: list of OOV terms (list)\n",
        "    :param co_occorruence_count_matrix: the co-occurrence count matrix of the given dataset (window size 1)\n",
        "\n",
        "    :return\n",
        "        - embedding matrix that assigns a high dimensional vector to each word in the dataset specific vocabulary (shape |V| x d)\n",
        "    \"\"\"\n",
        "\n",
        "    ### YOUR CODE HERE ###\n",
        "    # FIlling the matrix with the vocabulary but excluding the OOVs \n",
        "    matrix = np.zeros((len(word_to_idx), embedding_dimension), np.float64)\n",
        "    non_oov_list = []\n",
        "    for w in word_to_idx:\n",
        "      if w not in oov_terms:\n",
        "        non_oov_list.append(w) # FIlling a list with Non OOVs \n",
        "        matrix[word_to_idx[w]] = embedding_model[w]\n",
        "    # Assigning vectors to the OOvs based on the closest word in the co_occurence matrix  \n",
        "\n",
        "    for w in oov_terms:\n",
        "      matrix[word_to_idx[w]] = embedding_model[random.choice(non_oov_list)]\n",
        "    return matrix\n",
        "\n",
        "# Testing\n",
        "\n",
        "embedding_matrix = build_embedding_matrix(embedding_model, embedding_dimension, word_to_idx, oov_terms, co_occurrence_matrix)\n",
        "print(\"Embedding matrix shape: {}\".format(embedding_matrix.shape))\n"
      ],
      "execution_count": 23,
      "outputs": [
        {
          "output_type": "stream",
          "text": [
            "Embedding matrix shape: (13892, 50)\n"
          ],
          "name": "stdout"
        }
      ]
    },
    {
      "cell_type": "markdown",
      "metadata": {
        "id": "hirKvw8x5kd4"
      },
      "source": [
        "## Embedding visualization (cont'd)\n",
        "\n",
        "We are now ready to visualize pre-trained word embeddings!"
      ]
    },
    {
      "cell_type": "code",
      "metadata": {
        "id": "ccE5hxlARz4X"
      },
      "source": [
        "### YOUR CODE HERE ###\n",
        "reduced_tSNE = reduce_tSNE(embedding_matrix)\n",
        "visualize_embeddings(reduced_tSNE, ['woman','girl', 'female', 'lady', 'miss'], word_to_idx)"
      ],
      "execution_count": null,
      "outputs": []
    },
    {
      "cell_type": "markdown",
      "metadata": {
        "id": "AApBQmfC8STB"
      },
      "source": [
        "Feel free to play with visualization!"
      ]
    },
    {
      "cell_type": "code",
      "metadata": {
        "id": "dZU-LQSo8UIh"
      },
      "source": [
        "### YOUR CODE HERE ###\n",
        "visualize_embeddings(reduced_tSNE, ['pleasurable','awesome','amazing', 'exceptional'], word_to_idx)"
      ],
      "execution_count": null,
      "outputs": []
    },
    {
      "cell_type": "markdown",
      "metadata": {
        "id": "MxVC_fOo5oqQ"
      },
      "source": [
        "## [Let's play!] Embedding properties (cont'd)\n",
        "\n",
        "Choose a word embedding property to analyse (synonyms, analogies, bias) and either select and describe a new example or pick an old one and compare previously achieved results with current ones!"
      ]
    },
    {
      "cell_type": "code",
      "metadata": {
        "id": "82Fjuqg9SJIO"
      },
      "source": [
        "### YOUR CODE HERE  ###\n",
        "# SYNONYMS\n",
        "syn = [['woman', 'girl', 'female', 'lady', 'miss' ]\n",
        ", ['man', 'guy','male','boy']\n",
        ", ['good', 'pleasurable','awesome','amazing', 'exceptional']\n",
        "            , ['beautiful', 'lovely','pretty','gorgeous','cute']\n",
        "            , ['fierce', 'savage', 'violent', 'powerful', 'angry'] ]\n",
        "\n",
        "for s in syn:\n",
        "  visualize_embeddings(reduced_tSNE, s, word_to_idx)"
      ],
      "execution_count": null,
      "outputs": []
    },
    {
      "cell_type": "code",
      "metadata": {
        "id": "rPd9OcqoAmfY"
      },
      "source": [
        "### YOUR CODE HERE  ###\n",
        "# ANTONYMS\n",
        "\n",
        "ant = [ ['good','unacceptable','unsatisfactory','unsuitable', 'incompetent']\n",
        "            , ['beautiful', 'horrible','ugly','disgusting','grotesque']\n",
        "            , ['fierce', 'calm', 'gentle', 'quiet', 'pleasant']\n",
        "       ]\n",
        "\n",
        "for s in ant:\n",
        "  visualize_embeddings(reduced_tSNE, s, word_to_idx)"
      ],
      "execution_count": null,
      "outputs": []
    },
    {
      "cell_type": "code",
      "metadata": {
        "id": "25PuD3KNAn4z",
        "outputId": "f21cc549-7f26-44b3-bdd9-e7576c622958",
        "colab": {
          "base_uri": "https://localhost:8080/"
        }
      },
      "source": [
        "### YOUR CODE HERE  ###\n",
        "# ANALOGIES\n",
        "K =5\n",
        "words= {\n",
        "        'hummer': ['nail', 'hair']\n",
        "        ,'white' : ['black', 'good']\n",
        "        ,'like' : ['love', 'dislike']\n",
        "        ,'ice': ['cold', 'hot']\n",
        "        ,'radio': ['listen', 'tv']\n",
        "}\n",
        "\n",
        "for neg in words:\n",
        "  l = []\n",
        "  l.append(neg)\n",
        "  top_K_words, top_K_values = get_top_K_word_ranking(embedding_matrix,\n",
        "                                                    idx_to_word,\n",
        "                                                    word_to_idx,\n",
        "                                                    words[neg],\n",
        "                                                    l,\n",
        "                                                    K)\n",
        "  print('\\n {} is a {} like {} to :'.format(l, words[neg][0], words[neg][1]))\n",
        "  print('Top K words: ', top_K_words)\n",
        "  print('Top K values: ', top_K_values)"
      ],
      "execution_count": 29,
      "outputs": [
        {
          "output_type": "stream",
          "text": [
            "/usr/local/lib/python3.6/dist-packages/ipykernel_launcher.py:35: DeprecationWarning: elementwise comparison failed; this will raise an error in the future.\n",
            "/usr/local/lib/python3.6/dist-packages/ipykernel_launcher.py:35: DeprecationWarning: elementwise comparison failed; this will raise an error in the future.\n",
            "/usr/local/lib/python3.6/dist-packages/ipykernel_launcher.py:35: DeprecationWarning: elementwise comparison failed; this will raise an error in the future.\n"
          ],
          "name": "stderr"
        },
        {
          "output_type": "stream",
          "text": [
            "\n",
            " ['hummer'] is a nail like hair to :\n",
            "Top K words:  ['teeth', 'skin', 'tooth', 'throat', 'blackcomic']\n",
            "Top K values:  [0.7700307  0.73377281 0.72896989 0.72883139 0.72883139]\n",
            "\n",
            " ['white'] is a black like good to :\n",
            "Top K words:  ['best', 'cusak', 'better', 'really', 'always']\n",
            "Top K values:  [0.86482531 0.86482531 0.85972312 0.85692891 0.83981909]\n",
            "\n",
            " ['like'] is a love like dislike to :\n",
            "Top K words:  ['murderbr', 'affection', 'feelings', 'desires', 'pity']\n",
            "Top K values:  [0.79548317 0.79548317 0.76730828 0.73335827 0.72811733]\n",
            "\n",
            " ['ice'] is a cold like hot to :\n",
            "Top K words:  ['cool', 'hitchcocks', 'warm', 'nasty', 'unusually']\n",
            "Top K values:  [0.80029508 0.7775882  0.69377895 0.68170315 0.67952152]\n",
            "\n",
            " ['radio'] is a listen like tv to :\n",
            "Top K words:  ['tell', 'imagine', 'wonder', 'everybody', 'everyone']\n",
            "Top K values:  [0.80980565 0.79666143 0.78589031 0.77692008 0.77034286]\n"
          ],
          "name": "stdout"
        },
        {
          "output_type": "stream",
          "text": [
            "/usr/local/lib/python3.6/dist-packages/ipykernel_launcher.py:35: DeprecationWarning: elementwise comparison failed; this will raise an error in the future.\n",
            "/usr/local/lib/python3.6/dist-packages/ipykernel_launcher.py:35: DeprecationWarning: elementwise comparison failed; this will raise an error in the future.\n"
          ],
          "name": "stderr"
        }
      ]
    },
    {
      "cell_type": "markdown",
      "metadata": {
        "id": "SyPDNB56UhmM"
      },
      "source": [
        "# Contact\n",
        "\n",
        "For any doubt, question, issue or help, you can always contact us at the following email addresses:\n",
        "\n",
        "Teaching Assistants:\n",
        "\n",
        "* Andrea Galassi -> a.galassi@unibo.it\n",
        "* Federico Ruggeri -> federico.ruggeri6@unibo.it\n",
        "\n",
        "Professor:\n",
        "\n",
        "* Paolo Torroni -> p.torroni@unibo.it\n",
        "\n",
        "Don't forget that your feedback is very important! Your suggestions help us improving course material."
      ]
    },
    {
      "cell_type": "markdown",
      "metadata": {
        "id": "wNXyqKePNbth"
      },
      "source": [
        "# FAQ\n",
        "\n",
        "---\n",
        "\n",
        "**Q: Is it ok if I work with a small slice of the dataset?**\n",
        "\n",
        "**A:** Yes, it is perfectly ok! The aim of this assignment is to look at word embedding methods and assess semantic properties. Large datasets usually imply large vocabularies and efficient sparse encoding methods have to be considered. Since such methods (see scipy documentation) might be complex to handle (especially under a colab session), you are free to work with small corpora.\n",
        "\n",
        "---\n",
        "\n",
        "**Q: Do I have to use both dimensionality reduction methods?**\n",
        "\n",
        "**A:** Just one is fine! We suggest to try both of them at least once!\n",
        "\n",
        "---\n",
        "\n",
        "**Q: I'm struggling find good examples for analogies, bias and other scenarios!**\n",
        "\n",
        "**A:** It is perfectly fine, this is just a simple example where we want you to look at\n",
        "different encoding methods. Try to find at least one example that sounds good to you and motivate obtained results. Most probably, you won't find a perfect corrispondence of your expectations, but for us what's important is that you develop a critic approach, baring in mind that data has to explored before anything else.\n",
        "\n",
        "---\n",
        "\n",
        "**Q: Isn't stopwords removal excessive?**\n",
        "\n",
        "**A:** Indeed, removing all stopwords might alter sentence meaning! However, they also alter co-occurrence matrices due to their high frequency. Not ignoring them leads to poor results when considering semantic properties. It's up to you whether removing or keeping stopwords! (remember to comment the corresponding method under [Some Cleaning](https://colab.research.google.com/drive/1UkGz0vdhPXh9NeApG7mYtY6e-jRcR3if#scrollTo=2TLTu0-2JQwi&line=3&uniqifier=1) section.\n",
        "\n",
        "---\n",
        "\n",
        "**Q: Can we modify functions signature?**\n",
        "\n",
        "**A:** Functions that you have to complete can be modified as you please! Current functions definition should consider all required inputs in most cases.\n",
        "\n",
        "---\n",
        "\n",
        "**Q: Can we modify the dataset slicing step**\n",
        "\n",
        "**A:** Yes, of course! The current slicing is just one possibility.\n",
        "\n",
        "---\n"
      ]
    }
  ]
}